{
 "cells": [
  {
   "cell_type": "markdown",
   "metadata": {},
   "source": [
    "# Categorización de Variables"
   ]
  },
  {
   "cell_type": "code",
   "execution_count": 900,
   "metadata": {},
   "outputs": [],
   "source": [
    "import pandas as pd\n",
    "import numpy as np\n",
    "import matplotlib.pyplot as plt\n",
    "import funpymodeling.exploratory as fp"
   ]
  },
  {
   "cell_type": "code",
   "execution_count": 901,
   "metadata": {},
   "outputs": [
    {
     "data": {
      "text/html": [
       "<div>\n",
       "<style scoped>\n",
       "    .dataframe tbody tr th:only-of-type {\n",
       "        vertical-align: middle;\n",
       "    }\n",
       "\n",
       "    .dataframe tbody tr th {\n",
       "        vertical-align: top;\n",
       "    }\n",
       "\n",
       "    .dataframe thead th {\n",
       "        text-align: right;\n",
       "    }\n",
       "</style>\n",
       "<table border=\"1\" class=\"dataframe\">\n",
       "  <thead>\n",
       "    <tr style=\"text-align: right;\">\n",
       "      <th></th>\n",
       "      <th>id</th>\n",
       "      <th>host_id</th>\n",
       "      <th>source</th>\n",
       "      <th>name</th>\n",
       "      <th>description</th>\n",
       "      <th>neighborhood_overview</th>\n",
       "      <th>host_name</th>\n",
       "      <th>host_since</th>\n",
       "      <th>host_location</th>\n",
       "      <th>host_about</th>\n",
       "      <th>...</th>\n",
       "      <th>number_of_reviews_ltm</th>\n",
       "      <th>number_of_reviews_l30d</th>\n",
       "      <th>review_scores_rating</th>\n",
       "      <th>review_scores_accuracy</th>\n",
       "      <th>review_scores_cleanliness</th>\n",
       "      <th>review_scores_checkin</th>\n",
       "      <th>review_scores_communication</th>\n",
       "      <th>review_scores_location</th>\n",
       "      <th>review_scores_value</th>\n",
       "      <th>reviews_per_month</th>\n",
       "    </tr>\n",
       "  </thead>\n",
       "  <tbody>\n",
       "    <tr>\n",
       "      <th>0</th>\n",
       "      <td>31840</td>\n",
       "      <td>380378</td>\n",
       "      <td>previous scrape</td>\n",
       "      <td>A Residenza Martin  Classic room</td>\n",
       "      <td>Nice, private and quiet double room, classic s...</td>\n",
       "      <td>S/D</td>\n",
       "      <td>Officina 360</td>\n",
       "      <td>2011-02-07</td>\n",
       "      <td>Florence, Italy</td>\n",
       "      <td>360 Rentals has been offering fully furnished ...</td>\n",
       "      <td>...</td>\n",
       "      <td>5.0</td>\n",
       "      <td>0.0</td>\n",
       "      <td>4.66</td>\n",
       "      <td>4.73</td>\n",
       "      <td>4.87</td>\n",
       "      <td>4.86</td>\n",
       "      <td>4.91</td>\n",
       "      <td>4.91</td>\n",
       "      <td>4.70</td>\n",
       "      <td>0.77</td>\n",
       "    </tr>\n",
       "    <tr>\n",
       "      <th>1</th>\n",
       "      <td>32120</td>\n",
       "      <td>99235</td>\n",
       "      <td>city scrape</td>\n",
       "      <td>Welcome at Corte Verde in Florence</td>\n",
       "      <td>Apartment at a 30 minute walk from Ponte Vecch...</td>\n",
       "      <td>S/D</td>\n",
       "      <td>Lucia</td>\n",
       "      <td>2010-03-26</td>\n",
       "      <td>Florence, Italy</td>\n",
       "      <td>I was born and raised in the beautiful Florenc...</td>\n",
       "      <td>...</td>\n",
       "      <td>1.0</td>\n",
       "      <td>0.0</td>\n",
       "      <td>4.88</td>\n",
       "      <td>4.88</td>\n",
       "      <td>4.88</td>\n",
       "      <td>4.84</td>\n",
       "      <td>4.96</td>\n",
       "      <td>4.63</td>\n",
       "      <td>4.63</td>\n",
       "      <td>0.15</td>\n",
       "    </tr>\n",
       "    <tr>\n",
       "      <th>2</th>\n",
       "      <td>32180</td>\n",
       "      <td>13925330</td>\n",
       "      <td>city scrape</td>\n",
       "      <td>Charming Gem - Oltrarno City centre</td>\n",
       "      <td>.</td>\n",
       "      <td>S/D</td>\n",
       "      <td>Cesare</td>\n",
       "      <td>2014-04-05</td>\n",
       "      <td>Florence, Italy</td>\n",
       "      <td>.</td>\n",
       "      <td>...</td>\n",
       "      <td>4.0</td>\n",
       "      <td>0.0</td>\n",
       "      <td>4.74</td>\n",
       "      <td>4.79</td>\n",
       "      <td>4.85</td>\n",
       "      <td>4.79</td>\n",
       "      <td>4.70</td>\n",
       "      <td>4.82</td>\n",
       "      <td>4.85</td>\n",
       "      <td>0.21</td>\n",
       "    </tr>\n",
       "    <tr>\n",
       "      <th>3</th>\n",
       "      <td>39115</td>\n",
       "      <td>167739</td>\n",
       "      <td>city scrape</td>\n",
       "      <td>Central Double Shared Bathroom</td>\n",
       "      <td>Double (or Twin) Room Shared Bathroom: comfort...</td>\n",
       "      <td>San Lorenzo Church, the market and Cappelle Me...</td>\n",
       "      <td>Lorenzo</td>\n",
       "      <td>2010-07-15</td>\n",
       "      <td>Florence, Italy</td>\n",
       "      <td>Casa Billi, now renewed, is centrally located ...</td>\n",
       "      <td>...</td>\n",
       "      <td>8.0</td>\n",
       "      <td>0.0</td>\n",
       "      <td>4.53</td>\n",
       "      <td>4.68</td>\n",
       "      <td>4.60</td>\n",
       "      <td>4.81</td>\n",
       "      <td>4.74</td>\n",
       "      <td>4.90</td>\n",
       "      <td>4.55</td>\n",
       "      <td>0.46</td>\n",
       "    </tr>\n",
       "    <tr>\n",
       "      <th>4</th>\n",
       "      <td>39165</td>\n",
       "      <td>167739</td>\n",
       "      <td>previous scrape</td>\n",
       "      <td>Florence Central Double Private Bathroom</td>\n",
       "      <td>Double room private bathroom: comfortable, lar...</td>\n",
       "      <td>San Lorenzo Church, the market and Cappelle Me...</td>\n",
       "      <td>Lorenzo</td>\n",
       "      <td>2010-07-15</td>\n",
       "      <td>Florence, Italy</td>\n",
       "      <td>Casa Billi, now renewed, is centrally located ...</td>\n",
       "      <td>...</td>\n",
       "      <td>2.0</td>\n",
       "      <td>0.0</td>\n",
       "      <td>4.32</td>\n",
       "      <td>4.21</td>\n",
       "      <td>4.58</td>\n",
       "      <td>4.68</td>\n",
       "      <td>4.63</td>\n",
       "      <td>4.95</td>\n",
       "      <td>4.32</td>\n",
       "      <td>0.13</td>\n",
       "    </tr>\n",
       "  </tbody>\n",
       "</table>\n",
       "<p>5 rows × 50 columns</p>\n",
       "</div>"
      ],
      "text/plain": [
       "      id   host_id           source                                      name  \\\n",
       "0  31840    380378  previous scrape          A Residenza Martin  Classic room   \n",
       "1  32120     99235      city scrape        Welcome at Corte Verde in Florence   \n",
       "2  32180  13925330      city scrape       Charming Gem - Oltrarno City centre   \n",
       "3  39115    167739      city scrape            Central Double Shared Bathroom   \n",
       "4  39165    167739  previous scrape  Florence Central Double Private Bathroom   \n",
       "\n",
       "                                         description  \\\n",
       "0  Nice, private and quiet double room, classic s...   \n",
       "1  Apartment at a 30 minute walk from Ponte Vecch...   \n",
       "2                                                  .   \n",
       "3  Double (or Twin) Room Shared Bathroom: comfort...   \n",
       "4  Double room private bathroom: comfortable, lar...   \n",
       "\n",
       "                               neighborhood_overview     host_name  \\\n",
       "0                                                S/D  Officina 360   \n",
       "1                                                S/D         Lucia   \n",
       "2                                                S/D        Cesare   \n",
       "3  San Lorenzo Church, the market and Cappelle Me...       Lorenzo   \n",
       "4  San Lorenzo Church, the market and Cappelle Me...       Lorenzo   \n",
       "\n",
       "   host_since    host_location  \\\n",
       "0  2011-02-07  Florence, Italy   \n",
       "1  2010-03-26  Florence, Italy   \n",
       "2  2014-04-05  Florence, Italy   \n",
       "3  2010-07-15  Florence, Italy   \n",
       "4  2010-07-15  Florence, Italy   \n",
       "\n",
       "                                          host_about  ...  \\\n",
       "0  360 Rentals has been offering fully furnished ...  ...   \n",
       "1  I was born and raised in the beautiful Florenc...  ...   \n",
       "2                                                  .  ...   \n",
       "3  Casa Billi, now renewed, is centrally located ...  ...   \n",
       "4  Casa Billi, now renewed, is centrally located ...  ...   \n",
       "\n",
       "  number_of_reviews_ltm number_of_reviews_l30d review_scores_rating  \\\n",
       "0                   5.0                    0.0                 4.66   \n",
       "1                   1.0                    0.0                 4.88   \n",
       "2                   4.0                    0.0                 4.74   \n",
       "3                   8.0                    0.0                 4.53   \n",
       "4                   2.0                    0.0                 4.32   \n",
       "\n",
       "  review_scores_accuracy review_scores_cleanliness review_scores_checkin  \\\n",
       "0                   4.73                      4.87                  4.86   \n",
       "1                   4.88                      4.88                  4.84   \n",
       "2                   4.79                      4.85                  4.79   \n",
       "3                   4.68                      4.60                  4.81   \n",
       "4                   4.21                      4.58                  4.68   \n",
       "\n",
       "  review_scores_communication review_scores_location review_scores_value  \\\n",
       "0                        4.91                   4.91                4.70   \n",
       "1                        4.96                   4.63                4.63   \n",
       "2                        4.70                   4.82                4.85   \n",
       "3                        4.74                   4.90                4.55   \n",
       "4                        4.63                   4.95                4.32   \n",
       "\n",
       "  reviews_per_month  \n",
       "0              0.77  \n",
       "1              0.15  \n",
       "2              0.21  \n",
       "3              0.46  \n",
       "4              0.13  \n",
       "\n",
       "[5 rows x 50 columns]"
      ]
     },
     "execution_count": 901,
     "metadata": {},
     "output_type": "execute_result"
    }
   ],
   "source": [
    "dataset = pd.read_csv('listings - Florencia_Clean.csv')\n",
    "dataset.head()"
   ]
  },
  {
   "cell_type": "code",
   "execution_count": 902,
   "metadata": {},
   "outputs": [
    {
     "name": "stdout",
     "output_type": "stream",
     "text": [
      "<class 'pandas.core.frame.DataFrame'>\n",
      "RangeIndex: 12722 entries, 0 to 12721\n",
      "Data columns (total 50 columns):\n",
      " #   Column                       Non-Null Count  Dtype  \n",
      "---  ------                       --------------  -----  \n",
      " 0   id                           12722 non-null  int64  \n",
      " 1   host_id                      12722 non-null  int64  \n",
      " 2   source                       12722 non-null  object \n",
      " 3   name                         12722 non-null  object \n",
      " 4   description                  12722 non-null  object \n",
      " 5   neighborhood_overview        12722 non-null  object \n",
      " 6   host_name                    12722 non-null  object \n",
      " 7   host_since                   12722 non-null  object \n",
      " 8   host_location                12722 non-null  object \n",
      " 9   host_about                   12722 non-null  object \n",
      " 10  host_response_time           12722 non-null  object \n",
      " 11  host_response_rate           12722 non-null  object \n",
      " 12  host_acceptance_rate         12722 non-null  object \n",
      " 13  host_is_superhost            12722 non-null  object \n",
      " 14  host_verifications           12722 non-null  object \n",
      " 15  host_identity_verified       12722 non-null  object \n",
      " 16  neighbourhood_cleansed       12722 non-null  object \n",
      " 17  property_type                12722 non-null  object \n",
      " 18  room_type                    12722 non-null  object \n",
      " 19  bathrooms_text               12722 non-null  object \n",
      " 20  amenities                    12722 non-null  object \n",
      " 21  has_availability             12722 non-null  object \n",
      " 22  first_review                 12722 non-null  object \n",
      " 23  last_review                  12722 non-null  object \n",
      " 24  instant_bookable             12722 non-null  object \n",
      " 25  host_listings_count          12722 non-null  float64\n",
      " 26  host_total_listings_count    12722 non-null  float64\n",
      " 27  latitude                     12722 non-null  float64\n",
      " 28  longitude                    12722 non-null  float64\n",
      " 29  accommodates                 12722 non-null  float64\n",
      " 30  bedrooms                     12722 non-null  float64\n",
      " 31  beds                         12722 non-null  float64\n",
      " 32  price                        12722 non-null  float64\n",
      " 33  minimum_nights               12722 non-null  float64\n",
      " 34  maximum_nights               12722 non-null  float64\n",
      " 35  availability_30              12722 non-null  float64\n",
      " 36  availability_60              12722 non-null  int64  \n",
      " 37  availability_90              12722 non-null  int64  \n",
      " 38  availability_365             12722 non-null  int64  \n",
      " 39  number_of_reviews            12722 non-null  float64\n",
      " 40  number_of_reviews_ltm        12722 non-null  float64\n",
      " 41  number_of_reviews_l30d       12722 non-null  float64\n",
      " 42  review_scores_rating         12722 non-null  float64\n",
      " 43  review_scores_accuracy       12722 non-null  float64\n",
      " 44  review_scores_cleanliness    12722 non-null  float64\n",
      " 45  review_scores_checkin        12722 non-null  float64\n",
      " 46  review_scores_communication  12722 non-null  float64\n",
      " 47  review_scores_location       12722 non-null  float64\n",
      " 48  review_scores_value          12722 non-null  float64\n",
      " 49  reviews_per_month            12722 non-null  float64\n",
      "dtypes: float64(22), int64(5), object(23)\n",
      "memory usage: 4.9+ MB\n"
     ]
    }
   ],
   "source": [
    "# calculamos el numero total de la población \"n\" del dataset\n",
    "dataset.info()\n",
    "n = 12722"
   ]
  },
  {
   "cell_type": "code",
   "execution_count": 903,
   "metadata": {},
   "outputs": [
    {
     "name": "stdout",
     "output_type": "stream",
     "text": [
      "            source  frequency  percentage  cumulative_perc\n",
      "0      city scrape      11884     0.93413          0.93413\n",
      "1  previous scrape        838     0.06587          1.00000\n",
      "\n",
      "----------------------------------------------------------------\n",
      "\n",
      "                                                    name  frequency  \\\n",
      "0                               In the heart of Florence         14   \n",
      "1                               Camera con bagno privato          7   \n",
      "2                                Santo Spirito Apartment          6   \n",
      "3                            Ampia Camera Centro Storico          5   \n",
      "4      Vivaldi Suite～Intimate & Luxurious Florence Ce...          5   \n",
      "...                                                  ...        ...   \n",
      "12488  HOLA APARTMENT (with 3 bedrooms) close citycenter          1   \n",
      "12489       Grazioso appartamento in centro con terrazza          1   \n",
      "12490              Room 45. Rent Room in Florence. Room1          1   \n",
      "12491  Private ROOM HAPPY just 8min by tram to cityce...          1   \n",
      "12492                                 Casa degli Aliotti          1   \n",
      "\n",
      "       percentage  cumulative_perc  \n",
      "0        0.001100         0.001100  \n",
      "1        0.000550         0.001651  \n",
      "2        0.000472         0.002122  \n",
      "3        0.000393         0.002515  \n",
      "4        0.000393         0.002908  \n",
      "...           ...              ...  \n",
      "12488    0.000079         0.999686  \n",
      "12489    0.000079         0.999764  \n",
      "12490    0.000079         0.999843  \n",
      "12491    0.000079         0.999921  \n",
      "12492    0.000079         1.000000  \n",
      "\n",
      "[12493 rows x 4 columns]\n",
      "\n",
      "----------------------------------------------------------------\n",
      "\n",
      "                                             description  frequency  \\\n",
      "0                                                    S/D        365   \n",
      "1       Enjoy a stylish vacation in this downtown space.         22   \n",
      "2      Relax in this peaceful and centrally-located p...         20   \n",
      "3       Relax in this quiet space in a central location.         15   \n",
      "4      The rooms are completely renovated with care, ...         12   \n",
      "...                                                  ...        ...   \n",
      "11696  The apartment was designed by a well known '90...          1   \n",
      "11697  Two-bedroom apartment en-suite bathrooms renov...          1   \n",
      "11698  Apartment located in the heart of the historic...          1   \n",
      "11699  Charming and stylish, the Executive Room is ap...          1   \n",
      "11700  Casa degli Aliotti is an apartment on the firs...          1   \n",
      "\n",
      "       percentage  cumulative_perc  \n",
      "0        0.028690         0.028690  \n",
      "1        0.001729         0.030420  \n",
      "2        0.001572         0.031992  \n",
      "3        0.001179         0.033171  \n",
      "4        0.000943         0.034114  \n",
      "...           ...              ...  \n",
      "11696    0.000079         0.999686  \n",
      "11697    0.000079         0.999764  \n",
      "11698    0.000079         0.999843  \n",
      "11699    0.000079         0.999921  \n",
      "11700    0.000079         1.000000  \n",
      "\n",
      "[11701 rows x 4 columns]\n",
      "\n",
      "----------------------------------------------------------------\n",
      "\n",
      "                                  neighborhood_overview  frequency  \\\n",
      "0                                                   S/D       5307   \n",
      "1     We have an ideal location, in the heart of the...         11   \n",
      "2     The tower is set on Via Tornabuoni, one of Flo...         10   \n",
      "3     San Lorenzo Church, the market and Cappelle Me...         10   \n",
      "4     Located in Florence's historic heart at 12 via...         10   \n",
      "...                                                 ...        ...   \n",
      "6452  All major points of interest in the city are w...          1   \n",
      "6453  The neighborhood looks good for families and/o...          1   \n",
      "6454  It is in the heart of the hystorical centre of...          1   \n",
      "6455  This property is ideally located: a short nice...          1   \n",
      "6456  Borgo Pinti is a charming neighborhood in Flor...          1   \n",
      "\n",
      "      percentage  cumulative_perc  \n",
      "0       0.417151         0.417151  \n",
      "1       0.000865         0.418016  \n",
      "2       0.000786         0.418802  \n",
      "3       0.000786         0.419588  \n",
      "4       0.000786         0.420374  \n",
      "...          ...              ...  \n",
      "6452    0.000079         0.999686  \n",
      "6453    0.000079         0.999764  \n",
      "6454    0.000079         0.999843  \n",
      "6455    0.000079         0.999921  \n",
      "6456    0.000079         1.000000  \n",
      "\n",
      "[6457 rows x 4 columns]\n",
      "\n",
      "----------------------------------------------------------------\n",
      "\n",
      "                host_name  frequency  percentage  cumulative_perc\n",
      "0                 Lorenzo        346    0.027197         0.027197\n",
      "1                 Edoardo        307    0.024131         0.051328\n",
      "2               Francesco        278    0.021852         0.073180\n",
      "3                  Andrea        243    0.019101         0.092281\n",
      "4              Alessandro        208    0.016350         0.108631\n",
      "...                   ...        ...         ...              ...\n",
      "1780     Marco E Patrizia          1    0.000079         0.999686\n",
      "1781  Mariasole & Filippo          1    0.000079         0.999764\n",
      "1782                Santa          1    0.000079         0.999843\n",
      "1783                   행자          1    0.000079         0.999921\n",
      "1784             Laurence          1    0.000079         1.000000\n",
      "\n",
      "[1785 rows x 4 columns]\n",
      "\n",
      "----------------------------------------------------------------\n",
      "\n",
      "      host_since  frequency  percentage  cumulative_perc\n",
      "0     2014-11-18        254    0.019965         0.019965\n",
      "1     2015-01-29        158    0.012419         0.032385\n",
      "2     2015-09-28        135    0.010612         0.042996\n",
      "3     2016-09-21        122    0.009590         0.052586\n",
      "4     2016-06-08         98    0.007703         0.060289\n",
      "...          ...        ...         ...              ...\n",
      "3213  2012-11-14          1    0.000079         0.999686\n",
      "3214  2022-02-22          1    0.000079         0.999764\n",
      "3215  2013-09-25          1    0.000079         0.999843\n",
      "3216  2022-02-18          1    0.000079         0.999921\n",
      "3217  2024-09-14          1    0.000079         1.000000\n",
      "\n",
      "[3218 rows x 4 columns]\n",
      "\n",
      "----------------------------------------------------------------\n",
      "\n",
      "              host_location  frequency  percentage  cumulative_perc\n",
      "0           Florence, Italy       8751    0.687864         0.687864\n",
      "1                     Italy       2488    0.195567         0.883430\n",
      "2              Milan, Italy        227    0.017843         0.901273\n",
      "3            Tuscany, Italy         93    0.007310         0.908584\n",
      "4              Prato, Italy         77    0.006053         0.914636\n",
      "..                      ...        ...         ...              ...\n",
      "259  Baugé-en-Anjou, France          1    0.000079         0.999686\n",
      "260        Vimodrone, Italy          1    0.000079         0.999764\n",
      "261          Comeana, Italy          1    0.000079         0.999843\n",
      "262      Guayaquil, Ecuador          1    0.000079         0.999921\n",
      "263  The Hague, Netherlands          1    0.000079         1.000000\n",
      "\n",
      "[264 rows x 4 columns]\n",
      "\n",
      "----------------------------------------------------------------\n",
      "\n",
      "                                             host_about  frequency  \\\n",
      "0                                                   S/D       5249   \n",
      "1     MMega Homes & Villas è un agenzia specializzat...        254   \n",
      "2     Our apartments are located exclusively in the ...        131   \n",
      "3     Welcome fellow Airbnb travellers to our apartm...        121   \n",
      "4     Benvenuti a Firenze! \\nDal 2007 offriamo una v...         85   \n",
      "...                                                 ...        ...   \n",
      "2800  Ciao! Siamo due sorelle, THE TWINS. Facciamo l...          1   \n",
      "2801  Sono Vittorio e con mia moglie Gianna affittia...          1   \n",
      "2802  Ciao, siamo Julieta e Chiara. Il turismo e l'a...          1   \n",
      "2803  Sono una moglie e mamma di due bambine,lavoro ...          1   \n",
      "2804          più animali entrano più persone si vedono          1   \n",
      "\n",
      "      percentage  cumulative_perc  \n",
      "0       0.412592         0.412592  \n",
      "1       0.019965         0.432558  \n",
      "2       0.010297         0.442855  \n",
      "3       0.009511         0.452366  \n",
      "4       0.006681         0.459047  \n",
      "...          ...              ...  \n",
      "2800    0.000079         0.999686  \n",
      "2801    0.000079         0.999764  \n",
      "2802    0.000079         0.999843  \n",
      "2803    0.000079         0.999921  \n",
      "2804    0.000079         1.000000  \n",
      "\n",
      "[2805 rows x 4 columns]\n",
      "\n",
      "----------------------------------------------------------------\n",
      "\n",
      "   host_response_time  frequency  percentage  cumulative_perc\n",
      "0      within an hour      10063    0.790992         0.790992\n",
      "1        within a day       1554    0.122151         0.913143\n",
      "2  within a few hours        901    0.070822         0.983965\n",
      "3  a few days or more        204    0.016035         1.000000\n",
      "\n",
      "----------------------------------------------------------------\n",
      "\n",
      "   host_response_rate  frequency  percentage  cumulative_perc\n",
      "0                100%       9010    0.708222         0.708222\n",
      "1                 S/D       1134    0.089137         0.797359\n",
      "2                 99%        574    0.045119         0.842478\n",
      "3                 97%        414    0.032542         0.875020\n",
      "4                 98%        323    0.025389         0.900409\n",
      "5                 90%        190    0.014935         0.915343\n",
      "6                 94%        117    0.009197         0.924540\n",
      "7                 96%        117    0.009197         0.933737\n",
      "8                 95%        115    0.009039         0.942776\n",
      "9                  0%        104    0.008175         0.950951\n",
      "10                80%         71    0.005581         0.956532\n",
      "11                93%         52    0.004087         0.960619\n",
      "12                50%         48    0.003773         0.964392\n",
      "13                75%         41    0.003223         0.967615\n",
      "14                83%         40    0.003144         0.970759\n",
      "15                70%         34    0.002673         0.973432\n",
      "16                89%         32    0.002515         0.975947\n",
      "17                92%         30    0.002358         0.978305\n",
      "18                88%         28    0.002201         0.980506\n",
      "19                87%         27    0.002122         0.982629\n",
      "20                60%         18    0.001415         0.984043\n",
      "21                67%         16    0.001258         0.985301\n",
      "22                86%         16    0.001258         0.986559\n",
      "23                33%         16    0.001258         0.987816\n",
      "24                85%         14    0.001100         0.988917\n",
      "25                25%         13    0.001022         0.989939\n",
      "26                61%         12    0.000943         0.990882\n",
      "27                71%         11    0.000865         0.991747\n",
      "28                79%         10    0.000786         0.992533\n",
      "29                40%          9    0.000707         0.993240\n",
      "30                78%          8    0.000629         0.993869\n",
      "31                91%          8    0.000629         0.994498\n",
      "32                27%          7    0.000550         0.995048\n",
      "33                43%          6    0.000472         0.995520\n",
      "34                18%          6    0.000472         0.995991\n",
      "35                29%          5    0.000393         0.996384\n",
      "36                84%          5    0.000393         0.996777\n",
      "37                57%          4    0.000314         0.997092\n",
      "38                82%          4    0.000314         0.997406\n",
      "39                20%          4    0.000314         0.997720\n",
      "40                39%          4    0.000314         0.998035\n",
      "41                26%          4    0.000314         0.998349\n",
      "42                17%          3    0.000236         0.998585\n",
      "43                30%          3    0.000236         0.998821\n",
      "44                76%          2    0.000157         0.998978\n",
      "45                 7%          2    0.000157         0.999135\n",
      "46                10%          2    0.000157         0.999293\n",
      "47                69%          2    0.000157         0.999450\n",
      "48                52%          1    0.000079         0.999528\n",
      "49                54%          1    0.000079         0.999607\n",
      "50                38%          1    0.000079         0.999686\n",
      "51                11%          1    0.000079         0.999764\n",
      "52                62%          1    0.000079         0.999843\n",
      "53                13%          1    0.000079         0.999921\n",
      "54                36%          1    0.000079         1.000000\n",
      "\n",
      "----------------------------------------------------------------\n",
      "\n",
      "   host_acceptance_rate  frequency  percentage  cumulative_perc\n",
      "0                  100%       7756    0.609653         0.609653\n",
      "1                   99%       1246    0.097941         0.707593\n",
      "2                   S/D        587    0.046141         0.753734\n",
      "3                   98%        424    0.033328         0.787062\n",
      "4                   97%        293    0.023031         0.810093\n",
      "..                  ...        ...         ...              ...\n",
      "89                  19%          1    0.000079         0.999686\n",
      "90                  22%          1    0.000079         0.999764\n",
      "91                   5%          1    0.000079         0.999843\n",
      "92                   3%          1    0.000079         0.999921\n",
      "93                  31%          1    0.000079         1.000000\n",
      "\n",
      "[94 rows x 4 columns]\n",
      "\n",
      "----------------------------------------------------------------\n",
      "\n",
      "  host_is_superhost  frequency  percentage  cumulative_perc\n",
      "0                 f       7613    0.598412         0.598412\n",
      "1                 t       5109    0.401588         1.000000\n",
      "\n",
      "----------------------------------------------------------------\n",
      "\n",
      "                 host_verifications  frequency  percentage  cumulative_perc\n",
      "0                ['email', 'phone']      10126    0.795944         0.795944\n",
      "1  ['email', 'phone', 'work_email']       1643    0.129146         0.925090\n",
      "2                         ['phone']        652    0.051250         0.976340\n",
      "3           ['phone', 'work_email']        289    0.022717         0.999057\n",
      "4                         ['email']         12    0.000943         1.000000\n",
      "\n",
      "----------------------------------------------------------------\n",
      "\n",
      "  host_identity_verified  frequency  percentage  cumulative_perc\n",
      "0                      t      12244    0.962427         0.962427\n",
      "1                      f        478    0.037573         1.000000\n",
      "\n",
      "----------------------------------------------------------------\n",
      "\n",
      "  neighbourhood_cleansed  frequency  percentage  cumulative_perc\n",
      "0         Centro Storico       9284    0.729759         0.729759\n",
      "1         Campo di Marte       1341    0.105408         0.835167\n",
      "2                Rifredi       1079    0.084814         0.919981\n",
      "3       Isolotto Legnaia        556    0.043704         0.963685\n",
      "4      Gavinana Galluzzo        462    0.036315         1.000000\n",
      "\n",
      "----------------------------------------------------------------\n",
      "\n",
      "                         property_type  frequency  percentage  cumulative_perc\n",
      "0                   Entire rental unit       7104    0.558403         0.558403\n",
      "1                         Entire condo       2483    0.195174         0.753576\n",
      "2          Private room in rental unit        799    0.062805         0.816381\n",
      "3    Private room in bed and breakfast        378    0.029712         0.846093\n",
      "4                          Entire home        354    0.027826         0.873919\n",
      "5                Private room in condo        293    0.023031         0.896950\n",
      "6                          Entire loft        264    0.020751         0.917702\n",
      "7               Room in boutique hotel        157    0.012341         0.930042\n",
      "8                        Room in hotel        154    0.012105         0.942147\n",
      "9                 Private room in home        135    0.010612         0.952759\n",
      "10                Entire vacation home        105    0.008253         0.961012\n",
      "11           Entire serviced apartment         90    0.007074         0.968087\n",
      "12                        Entire villa         44    0.003459         0.971545\n",
      "13           Room in bed and breakfast         33    0.002594         0.974139\n",
      "14                           Tiny home         28    0.002201         0.976340\n",
      "15  Private room in serviced apartment         26    0.002044         0.978384\n",
      "16                    Entire townhouse         25    0.001965         0.980349\n",
      "17       Private room in vacation home         22    0.001729         0.982078\n",
      "18           Private room in townhouse         16    0.001258         0.983336\n",
      "19                        Private room         15    0.001179         0.984515\n",
      "20                  Entire guest suite         15    0.001179         0.985694\n",
      "21     Private room in casa particular         15    0.001179         0.986873\n",
      "22          Room in serviced apartment         15    0.001179         0.988052\n",
      "23         Private room in guest suite         14    0.001100         0.989153\n",
      "24               Private room in villa         12    0.000943         0.990096\n",
      "25          Private room in guesthouse         11    0.000865         0.990961\n",
      "26                  Room in aparthotel         11    0.000865         0.991825\n",
      "27               Shared room in hostel         10    0.000786         0.992611\n",
      "28                 Shared room in home          9    0.000707         0.993319\n",
      "29                      Entire cottage          9    0.000707         0.994026\n",
      "30                        Entire place          9    0.000707         0.994734\n",
      "31                Private room in loft          8    0.000629         0.995362\n",
      "32                Shared room in condo          7    0.000550         0.995913\n",
      "33                           Farm stay          7    0.000550         0.996463\n",
      "34                     Entire home/apt          7    0.000550         0.997013\n",
      "35              Private room in hostel          6    0.000472         0.997485\n",
      "36          Shared room in rental unit          4    0.000314         0.997799\n",
      "37                   Entire guesthouse          4    0.000314         0.998114\n",
      "38                     Casa particular          3    0.000236         0.998349\n",
      "39                           Camper/RV          3    0.000236         0.998585\n",
      "40            Entire bed and breakfast          2    0.000157         0.998742\n",
      "41                               Tower          2    0.000157         0.998900\n",
      "42                                Boat          1    0.000079         0.998978\n",
      "43                Shared room in cabin          1    0.000079         0.999057\n",
      "44                                Barn          1    0.000079         0.999135\n",
      "45         Shared room in earthen home          1    0.000079         0.999214\n",
      "46      Private room in shepherd's hut          1    0.000079         0.999293\n",
      "47                                Tent          1    0.000079         0.999371\n",
      "48                              Castle          1    0.000079         0.999450\n",
      "49        Private room in earthen home          1    0.000079         0.999528\n",
      "50           Private room in tiny home          1    0.000079         0.999607\n",
      "51   Shared room in serviced apartment          1    0.000079         0.999686\n",
      "52                     Entire bungalow          1    0.000079         0.999764\n",
      "53                        Entire cabin          1    0.000079         0.999843\n",
      "54    Shared room in bed and breakfast          1    0.000079         0.999921\n",
      "55           Shared room in guesthouse          1    0.000079         1.000000\n",
      "\n",
      "----------------------------------------------------------------\n",
      "\n",
      "         room_type  frequency  percentage  cumulative_perc\n",
      "0  Entire home/apt      10566    0.830530         0.830530\n",
      "1     Private room       2035    0.159959         0.990489\n",
      "2       Hotel room         86    0.006760         0.997249\n",
      "3      Shared room         35    0.002751         1.000000\n",
      "\n",
      "----------------------------------------------------------------\n",
      "\n",
      "       bathrooms_text  frequency  percentage  cumulative_perc\n",
      "0              1 bath       7398    0.581512         0.581512\n",
      "1             2 baths       2350    0.184719         0.766232\n",
      "2      1 private bath       1086    0.085364         0.851596\n",
      "3           1.5 baths        497    0.039066         0.890662\n",
      "4       1 shared bath        480    0.037730         0.928392\n",
      "5             3 baths        381    0.029948         0.958340\n",
      "6           2.5 baths        136    0.010690         0.969030\n",
      "7             4 baths         99    0.007782         0.976812\n",
      "8      2 shared baths         91    0.007153         0.983965\n",
      "9           3.5 baths         42    0.003301         0.987266\n",
      "10   1.5 shared baths         27    0.002122         0.989388\n",
      "11            5 baths         26    0.002044         0.991432\n",
      "12            6 baths         20    0.001572         0.993004\n",
      "13            0 baths         19    0.001493         0.994498\n",
      "14          Half-bath         15    0.001179         0.995677\n",
      "15          4.5 baths         14    0.001100         0.996777\n",
      "16   Shared half-bath          8    0.000629         0.997406\n",
      "17     0 shared baths          7    0.000550         0.997956\n",
      "18          5.5 baths          7    0.000550         0.998507\n",
      "19          6.5 baths          3    0.000236         0.998742\n",
      "20  Private half-bath          3    0.000236         0.998978\n",
      "21     3 shared baths          2    0.000157         0.999135\n",
      "22            9 baths          2    0.000157         0.999293\n",
      "23            8 baths          2    0.000157         0.999450\n",
      "24          8.5 baths          1    0.000079         0.999528\n",
      "25            7 baths          1    0.000079         0.999607\n",
      "26           13 baths          1    0.000079         0.999686\n",
      "27   2.5 shared baths          1    0.000079         0.999764\n",
      "28         13.5 baths          1    0.000079         0.999843\n",
      "29     4 shared baths          1    0.000079         0.999921\n",
      "30           12 baths          1    0.000079         1.000000\n",
      "\n",
      "----------------------------------------------------------------\n",
      "\n",
      "                                               amenities  frequency  \\\n",
      "0      [\"Wifi\", \"TV\", \"Kitchen\", \"Washer\", \"Air condi...         14   \n",
      "1                                                     []         12   \n",
      "2      [\"Wifi\", \"Air conditioning\", \"Kitchen\", \"Washer\"]         12   \n",
      "3      [\"Wifi\", \"TV\", \"Kitchen\", \"Washer\", \"Air condi...         10   \n",
      "4      [\"Kitchen\", \"High chair\", \"Crib\", \"Hangers\", \"...          9   \n",
      "...                                                  ...        ...   \n",
      "12219  [\"Central heating\", \"Free street parking\", \"Ex...          1   \n",
      "12220  [\"Pets allowed\", \"Hot water kettle\", \"Paid par...          1   \n",
      "12221  [\"Central heating\", \"Extra pillows and blanket...          1   \n",
      "12222  [\"Kitchen\", \"Bed linens\", \"Hangers\", \"Hot wate...          1   \n",
      "12223  [\"Hot water kettle\", \"Extra pillows and blanke...          1   \n",
      "\n",
      "       percentage  cumulative_perc  \n",
      "0        0.001100         0.001100  \n",
      "1        0.000943         0.002044  \n",
      "2        0.000943         0.002987  \n",
      "3        0.000786         0.003773  \n",
      "4        0.000707         0.004480  \n",
      "...           ...              ...  \n",
      "12219    0.000079         0.999686  \n",
      "12220    0.000079         0.999764  \n",
      "12221    0.000079         0.999843  \n",
      "12222    0.000079         0.999921  \n",
      "12223    0.000079         1.000000  \n",
      "\n",
      "[12224 rows x 4 columns]\n",
      "\n",
      "----------------------------------------------------------------\n",
      "\n",
      "  has_availability  frequency  percentage  cumulative_perc\n",
      "0                t      12683    0.996934         0.996934\n",
      "1                f         39    0.003066         1.000000\n",
      "\n",
      "----------------------------------------------------------------\n",
      "\n",
      "     first_review  frequency  percentage  cumulative_perc\n",
      "0             S/D       1381    0.108552         0.108552\n",
      "1      2024-04-01         48    0.003773         0.112325\n",
      "2      2024-03-31         44    0.003459         0.115784\n",
      "3      2024-01-01         43    0.003380         0.119164\n",
      "4      2024-04-28         39    0.003066         0.122229\n",
      "...           ...        ...         ...              ...\n",
      "3033   2017-07-27          1    0.000079         0.999686\n",
      "3034   2017-08-05          1    0.000079         0.999764\n",
      "3035   2018-03-01          1    0.000079         0.999843\n",
      "3036   2017-06-07          1    0.000079         0.999921\n",
      "3037   2024-08-24          1    0.000079         1.000000\n",
      "\n",
      "[3038 rows x 4 columns]\n",
      "\n",
      "----------------------------------------------------------------\n",
      "\n",
      "     last_review  frequency  percentage  cumulative_perc\n",
      "0            S/D       1381    0.108552         0.108552\n",
      "1     2024-09-15        514    0.040402         0.148955\n",
      "2     2024-09-14        497    0.039066         0.188021\n",
      "3     2024-09-13        452    0.035529         0.223550\n",
      "4     2024-09-12        394    0.030970         0.254520\n",
      "...          ...        ...         ...              ...\n",
      "1019  2021-12-24          1    0.000079         0.999686\n",
      "1020  2022-07-16          1    0.000079         0.999764\n",
      "1021  2020-01-10          1    0.000079         0.999843\n",
      "1022  2017-08-14          1    0.000079         0.999921\n",
      "1023  2024-04-24          1    0.000079         1.000000\n",
      "\n",
      "[1024 rows x 4 columns]\n",
      "\n",
      "----------------------------------------------------------------\n",
      "\n",
      "  instant_bookable  frequency  percentage  cumulative_perc\n",
      "0                t       7767    0.610517         0.610517\n",
      "1                f       4955    0.389483         1.000000\n",
      "\n",
      "----------------------------------------------------------------\n",
      "\n"
     ]
    }
   ],
   "source": [
    "# realizamos un analisis univariado de las variables categoricas\n",
    "fp.freq_tbl(dataset)"
   ]
  },
  {
   "cell_type": "markdown",
   "metadata": {},
   "source": [
    "# Determinacion de Clases Para Datos Agrupados"
   ]
  },
  {
   "cell_type": "code",
   "execution_count": 904,
   "metadata": {},
   "outputs": [
    {
     "data": {
      "text/plain": [
       "id                             0\n",
       "host_id                        0\n",
       "source                         0\n",
       "name                           0\n",
       "description                    0\n",
       "neighborhood_overview          0\n",
       "host_name                      0\n",
       "host_since                     0\n",
       "host_location                  0\n",
       "host_about                     0\n",
       "host_response_time             0\n",
       "host_response_rate             0\n",
       "host_acceptance_rate           0\n",
       "host_is_superhost              0\n",
       "host_verifications             0\n",
       "host_identity_verified         0\n",
       "neighbourhood_cleansed         0\n",
       "property_type                  0\n",
       "room_type                      0\n",
       "bathrooms_text                 0\n",
       "amenities                      0\n",
       "has_availability               0\n",
       "first_review                   0\n",
       "last_review                    0\n",
       "instant_bookable               0\n",
       "host_listings_count            0\n",
       "host_total_listings_count      0\n",
       "latitude                       0\n",
       "longitude                      0\n",
       "accommodates                   0\n",
       "bedrooms                       0\n",
       "beds                           0\n",
       "price                          0\n",
       "minimum_nights                 0\n",
       "maximum_nights                 0\n",
       "availability_30                0\n",
       "availability_60                0\n",
       "availability_90                0\n",
       "availability_365               0\n",
       "number_of_reviews              0\n",
       "number_of_reviews_ltm          0\n",
       "number_of_reviews_l30d         0\n",
       "review_scores_rating           0\n",
       "review_scores_accuracy         0\n",
       "review_scores_cleanliness      0\n",
       "review_scores_checkin          0\n",
       "review_scores_communication    0\n",
       "review_scores_location         0\n",
       "review_scores_value            0\n",
       "reviews_per_month              0\n",
       "dtype: int64"
      ]
     },
     "execution_count": 904,
     "metadata": {},
     "output_type": "execute_result"
    }
   ],
   "source": [
    "# corroboramos los valores nulos\n",
    "nulos = dataset.isnull().sum()\n",
    "nulos"
   ]
  },
  {
   "cell_type": "code",
   "execution_count": null,
   "metadata": {},
   "outputs": [],
   "source": []
  },
  {
   "cell_type": "markdown",
   "metadata": {},
   "source": [
    "### Variable ”host_response_rate”"
   ]
  },
  {
   "cell_type": "code",
   "execution_count": 905,
   "metadata": {},
   "outputs": [
    {
     "name": "stdout",
     "output_type": "stream",
     "text": [
      "<class 'pandas.core.series.Series'>\n",
      "RangeIndex: 12722 entries, 0 to 12721\n",
      "Series name: host_response_rate\n",
      "Non-Null Count  Dtype \n",
      "--------------  ----- \n",
      "12722 non-null  object\n",
      "dtypes: object(1)\n",
      "memory usage: 99.5+ KB\n"
     ]
    }
   ],
   "source": [
    "# calculamos el numero total de la poblacion \"n\"\n",
    "dataset['host_response_rate'].info()\n",
    "n = 12722"
   ]
  },
  {
   "cell_type": "code",
   "execution_count": 906,
   "metadata": {},
   "outputs": [],
   "source": [
    "# Elimina el '%' y convierte a float\n",
    "dataset['host_response_rate_num'] = (\n",
    "    dataset['host_response_rate']\n",
    "        .replace('S/D', np.nan, regex=True)\n",
    "        .str.strip()                   # elimina espacios al inicio/fin\n",
    "        .str.replace('%', '', regex=True)\n",
    "        .astype(float)\n",
    ")"
   ]
  },
  {
   "cell_type": "code",
   "execution_count": 907,
   "metadata": {},
   "outputs": [
    {
     "data": {
      "text/plain": [
       "0        100.0\n",
       "1        100.0\n",
       "2        100.0\n",
       "3        100.0\n",
       "4        100.0\n",
       "         ...  \n",
       "12717    100.0\n",
       "12718      NaN\n",
       "12719      NaN\n",
       "12720    100.0\n",
       "12721    100.0\n",
       "Name: host_response_rate_num, Length: 12722, dtype: float64"
      ]
     },
     "execution_count": 907,
     "metadata": {},
     "output_type": "execute_result"
    }
   ],
   "source": [
    "dataset['host_response_rate_num']\n",
    "#dataset['host_response_rate_num'].describe()"
   ]
  },
  {
   "cell_type": "code",
   "execution_count": 908,
   "metadata": {},
   "outputs": [
    {
     "data": {
      "text/plain": [
       "[0.0, 100.0]"
      ]
     },
     "execution_count": 908,
     "metadata": {},
     "output_type": "execute_result"
    }
   ],
   "source": [
    "# obtenemos el limite superior y el límite inferior de la columna objetivo\n",
    "Max = dataset['host_response_rate_num'].max()\n",
    "Min = dataset['host_response_rate_num'].min()\n",
    "Limites = [Min, Max]\n",
    "Limites"
   ]
  },
  {
   "cell_type": "code",
   "execution_count": 909,
   "metadata": {},
   "outputs": [
    {
     "data": {
      "text/plain": [
       "100.0"
      ]
     },
     "execution_count": 909,
     "metadata": {},
     "output_type": "execute_result"
    }
   ],
   "source": [
    "# calculamos el rango r\n",
    "R = Max - Min\n",
    "R"
   ]
  },
  {
   "cell_type": "code",
   "execution_count": 910,
   "metadata": {},
   "outputs": [
    {
     "data": {
      "text/plain": [
       "14.627123898918503"
      ]
     },
     "execution_count": 910,
     "metadata": {},
     "output_type": "execute_result"
    }
   ],
   "source": [
    "# calculamos el número de intervalos de clase \"ni\", aplocando la regla de Sturges\n",
    "ni = 1+3.32*np.log10(n)\n",
    "ni"
   ]
  },
  {
   "cell_type": "code",
   "execution_count": 911,
   "metadata": {},
   "outputs": [
    {
     "data": {
      "text/plain": [
       "6.8366139981485885"
      ]
     },
     "execution_count": 911,
     "metadata": {},
     "output_type": "execute_result"
    }
   ],
   "source": [
    "# calculamos el ancho del intervalo \"i\"\n",
    "i = R/ni\n",
    "i"
   ]
  },
  {
   "cell_type": "code",
   "execution_count": 912,
   "metadata": {},
   "outputs": [],
   "source": [
    "categorias = [\"categoria_\" + str(i) for i in range(1, len(intervalos))]"
   ]
  },
  {
   "cell_type": "code",
   "execution_count": 913,
   "metadata": {},
   "outputs": [
    {
     "data": {
      "text/plain": [
       "array([  0.        ,   7.14285714,  14.28571429,  21.42857143,\n",
       "        28.57142857,  35.71428571,  42.85714286,  50.        ,\n",
       "        57.14285714,  64.28571429,  71.42857143,  78.57142857,\n",
       "        85.71428571,  92.85714286, 100.        ])"
      ]
     },
     "execution_count": 913,
     "metadata": {},
     "output_type": "execute_result"
    }
   ],
   "source": [
    "# categorizacion de variables\n",
    "#intervalos = np.linspace(Min, Max, ni + 1)\n",
    "intervalos = np.linspace(0.0, 100.0, 15)\n",
    "intervalos"
   ]
  },
  {
   "cell_type": "code",
   "execution_count": 914,
   "metadata": {},
   "outputs": [],
   "source": [
    "# creamos las etiquetas para los intervalos\n",
    "categorias = [\"categoria_\" + str(i) for i in range(1, len(intervalos))]\n",
    "#categorias = [\"categoria1\", \"categoria2\", \"categoria3\", \"categoria4\", \"categoria5\", \"categoria6\", \"categoria7\", \"categoria8\", \"categoria9\", \"categoria10\", \"categoria11\", \"categoria12\", \"categoria13\", \"categoria14\"]\n"
   ]
  },
  {
   "cell_type": "code",
   "execution_count": 915,
   "metadata": {},
   "outputs": [
    {
     "data": {
      "text/plain": [
       "0        NaN\n",
       "1        NaN\n",
       "2        NaN\n",
       "3        NaN\n",
       "4        NaN\n",
       "        ... \n",
       "12717    NaN\n",
       "12718    NaN\n",
       "12719    NaN\n",
       "12720    NaN\n",
       "12721    NaN\n",
       "Name: host_response_rate_num, Length: 12722, dtype: category\n",
       "Categories (14, object): ['categoria_1' < 'categoria_2' < 'categoria_3' < 'categoria_4' ... 'categoria_11' < 'categoria_12' < 'categoria_13' < 'categoria_14']"
      ]
     },
     "execution_count": 915,
     "metadata": {},
     "output_type": "execute_result"
    }
   ],
   "source": [
    "# finalmente creamos las categorias en la columna numerica\n",
    "dataset['host_response_rate_num'] = pd.cut(dataset['host_response_rate_num'], bins=intervalos, labels=categorias, right=False)\n",
    "dataset['host_response_rate_num']\n"
   ]
  },
  {
   "cell_type": "code",
   "execution_count": null,
   "metadata": {},
   "outputs": [],
   "source": []
  },
  {
   "cell_type": "markdown",
   "metadata": {},
   "source": [
    "### Variable \"host_acceptance_rate\""
   ]
  },
  {
   "cell_type": "code",
   "execution_count": 916,
   "metadata": {},
   "outputs": [
    {
     "data": {
      "text/plain": [
       "0        100%\n",
       "1         25%\n",
       "2         65%\n",
       "3         71%\n",
       "4         71%\n",
       "         ... \n",
       "12717    100%\n",
       "12718    100%\n",
       "12719     S/D\n",
       "12720     97%\n",
       "12721    100%\n",
       "Name: host_acceptance_rate, Length: 12722, dtype: object"
      ]
     },
     "execution_count": 916,
     "metadata": {},
     "output_type": "execute_result"
    }
   ],
   "source": [
    "dataset['host_acceptance_rate']"
   ]
  },
  {
   "cell_type": "markdown",
   "metadata": {},
   "source": [
    "### Variable “host_total_listings_count”"
   ]
  },
  {
   "cell_type": "code",
   "execution_count": 917,
   "metadata": {},
   "outputs": [
    {
     "data": {
      "text/plain": [
       "0        41.0\n",
       "1         1.0\n",
       "2         1.0\n",
       "3        12.0\n",
       "4        12.0\n",
       "         ... \n",
       "12717     4.0\n",
       "12718     1.0\n",
       "12719     1.0\n",
       "12720     2.0\n",
       "12721    13.0\n",
       "Name: host_total_listings_count, Length: 12722, dtype: float64"
      ]
     },
     "execution_count": 917,
     "metadata": {},
     "output_type": "execute_result"
    }
   ],
   "source": [
    "dataset['host_total_listings_count']"
   ]
  },
  {
   "cell_type": "code",
   "execution_count": 918,
   "metadata": {},
   "outputs": [
    {
     "data": {
      "text/plain": [
       "[1.0, 42.0]"
      ]
     },
     "execution_count": 918,
     "metadata": {},
     "output_type": "execute_result"
    }
   ],
   "source": [
    "# obtenemos el limite superior y el límite inferior de la columna objetivo\n",
    "Max = dataset['host_total_listings_count'].max()\n",
    "Min = dataset['host_total_listings_count'].min()\n",
    "Limites = [Min, Max]\n",
    "Limites"
   ]
  },
  {
   "cell_type": "code",
   "execution_count": 919,
   "metadata": {},
   "outputs": [
    {
     "data": {
      "text/plain": [
       "41.0"
      ]
     },
     "execution_count": 919,
     "metadata": {},
     "output_type": "execute_result"
    }
   ],
   "source": [
    "# calculamos el rango r\n",
    "R = Max - Min\n",
    "R"
   ]
  },
  {
   "cell_type": "code",
   "execution_count": 920,
   "metadata": {},
   "outputs": [
    {
     "data": {
      "text/plain": [
       "14.627123898918503"
      ]
     },
     "execution_count": 920,
     "metadata": {},
     "output_type": "execute_result"
    }
   ],
   "source": [
    "# calculamos el número de intervalos de clase \"ni\", aplocando la regla de Sturges\n",
    "ni = 1+3.32*np.log10(n)\n",
    "ni"
   ]
  },
  {
   "cell_type": "code",
   "execution_count": 921,
   "metadata": {},
   "outputs": [
    {
     "data": {
      "text/plain": [
       "2.8030117392409215"
      ]
     },
     "execution_count": 921,
     "metadata": {},
     "output_type": "execute_result"
    }
   ],
   "source": [
    "# calculamos el ancho del intervalo \"i\"\n",
    "i = R/ni\n",
    "i"
   ]
  },
  {
   "cell_type": "markdown",
   "metadata": {},
   "source": [
    "#### Creación de Categorias a Partir de Clases"
   ]
  },
  {
   "cell_type": "code",
   "execution_count": 922,
   "metadata": {},
   "outputs": [
    {
     "data": {
      "text/plain": [
       "array([ 1.        ,  3.92857143,  6.85714286,  9.78571429, 12.71428571,\n",
       "       15.64285714, 18.57142857, 21.5       , 24.42857143, 27.35714286,\n",
       "       30.28571429, 33.21428571, 36.14285714, 39.07142857, 42.        ])"
      ]
     },
     "execution_count": 922,
     "metadata": {},
     "output_type": "execute_result"
    }
   ],
   "source": [
    "# categorizacion de variables\n",
    "intervalos = np.linspace(1.0, 42.0, 15)\n",
    "intervalos"
   ]
  },
  {
   "cell_type": "code",
   "execution_count": 923,
   "metadata": {},
   "outputs": [
    {
     "data": {
      "text/plain": [
       "['categoria_1',\n",
       " 'categoria_2',\n",
       " 'categoria_3',\n",
       " 'categoria_4',\n",
       " 'categoria_5',\n",
       " 'categoria_6',\n",
       " 'categoria_7',\n",
       " 'categoria_8',\n",
       " 'categoria_9',\n",
       " 'categoria_10',\n",
       " 'categoria_11',\n",
       " 'categoria_12',\n",
       " 'categoria_13',\n",
       " 'categoria_14']"
      ]
     },
     "execution_count": 923,
     "metadata": {},
     "output_type": "execute_result"
    }
   ],
   "source": [
    "categorias = [\"categoria_\" + str(i) for i in range(1, len(intervalos))]\n",
    "categorias"
   ]
  },
  {
   "cell_type": "code",
   "execution_count": 924,
   "metadata": {},
   "outputs": [
    {
     "data": {
      "text/plain": [
       "0        categoria_14\n",
       "1         categoria_1\n",
       "2         categoria_1\n",
       "3         categoria_4\n",
       "4         categoria_4\n",
       "             ...     \n",
       "12717     categoria_2\n",
       "12718     categoria_1\n",
       "12719     categoria_1\n",
       "12720     categoria_1\n",
       "12721     categoria_5\n",
       "Name: host_total_listings_count, Length: 12722, dtype: category\n",
       "Categories (14, object): ['categoria_1' < 'categoria_2' < 'categoria_3' < 'categoria_4' ... 'categoria_11' < 'categoria_12' < 'categoria_13' < 'categoria_14']"
      ]
     },
     "execution_count": 924,
     "metadata": {},
     "output_type": "execute_result"
    }
   ],
   "source": [
    "# finalmente creamos las categorias en la columna numerica\n",
    "dataset['host_total_listings_count'] = pd.cut(dataset['host_total_listings_count'], bins=intervalos, labels=categorias, right=False)\n",
    "dataset['host_total_listings_count']"
   ]
  },
  {
   "cell_type": "markdown",
   "metadata": {},
   "source": [
    "### Variable “accommodates”"
   ]
  },
  {
   "cell_type": "code",
   "execution_count": 925,
   "metadata": {},
   "outputs": [
    {
     "data": {
      "text/plain": [
       "0        2.0\n",
       "1        2.0\n",
       "2        4.0\n",
       "3        2.0\n",
       "4        2.0\n",
       "        ... \n",
       "12717    3.6\n",
       "12718    6.0\n",
       "12719    4.0\n",
       "12720    4.0\n",
       "12721    4.0\n",
       "Name: accommodates, Length: 12722, dtype: float64"
      ]
     },
     "execution_count": 925,
     "metadata": {},
     "output_type": "execute_result"
    }
   ],
   "source": [
    "dataset['accommodates']"
   ]
  },
  {
   "cell_type": "code",
   "execution_count": 926,
   "metadata": {},
   "outputs": [
    {
     "data": {
      "text/plain": [
       "[1.0, 7.0]"
      ]
     },
     "execution_count": 926,
     "metadata": {},
     "output_type": "execute_result"
    }
   ],
   "source": [
    "# obtenemos el limite superior y el límite inferior de la columna objetivo\n",
    "Max = dataset['accommodates'].max()\n",
    "Min = dataset['accommodates'].min()\n",
    "Limites = [Min, Max]\n",
    "Limites"
   ]
  },
  {
   "cell_type": "code",
   "execution_count": 927,
   "metadata": {},
   "outputs": [
    {
     "data": {
      "text/plain": [
       "6.0"
      ]
     },
     "execution_count": 927,
     "metadata": {},
     "output_type": "execute_result"
    }
   ],
   "source": [
    "# calculamos el rango r\n",
    "R = Max - Min\n",
    "R"
   ]
  },
  {
   "cell_type": "code",
   "execution_count": 928,
   "metadata": {},
   "outputs": [
    {
     "data": {
      "text/plain": [
       "0.4101968398889153"
      ]
     },
     "execution_count": 928,
     "metadata": {},
     "output_type": "execute_result"
    }
   ],
   "source": [
    "# calculamos el ancho del intervalo \"i\"\n",
    "i = R/ni\n",
    "i"
   ]
  },
  {
   "cell_type": "code",
   "execution_count": 929,
   "metadata": {},
   "outputs": [
    {
     "data": {
      "text/plain": [
       "14.627123898918503"
      ]
     },
     "execution_count": 929,
     "metadata": {},
     "output_type": "execute_result"
    }
   ],
   "source": [
    "# calculamos el número de intervalos de clase \"ni\", aplicando la regla de Sturges\n",
    "ni = 1+3.32*np.log10(n)\n",
    "ni"
   ]
  },
  {
   "cell_type": "markdown",
   "metadata": {},
   "source": [
    "#### Creación de Categorias a Partir de Clases"
   ]
  },
  {
   "cell_type": "code",
   "execution_count": 930,
   "metadata": {},
   "outputs": [
    {
     "data": {
      "text/plain": [
       "array([1.        , 1.42857143, 1.85714286, 2.28571429, 2.71428571,\n",
       "       3.14285714, 3.57142857, 4.        , 4.42857143, 4.85714286,\n",
       "       5.28571429, 5.71428571, 6.14285714, 6.57142857, 7.        ])"
      ]
     },
     "execution_count": 930,
     "metadata": {},
     "output_type": "execute_result"
    }
   ],
   "source": [
    "# categorizacion de variables\n",
    "intervalos = np.linspace(1.0, 7.0, 15)\n",
    "intervalos"
   ]
  },
  {
   "cell_type": "code",
   "execution_count": 931,
   "metadata": {},
   "outputs": [
    {
     "data": {
      "text/plain": [
       "['categoria_1',\n",
       " 'categoria_2',\n",
       " 'categoria_3',\n",
       " 'categoria_4',\n",
       " 'categoria_5',\n",
       " 'categoria_6',\n",
       " 'categoria_7',\n",
       " 'categoria_8',\n",
       " 'categoria_9',\n",
       " 'categoria_10',\n",
       " 'categoria_11',\n",
       " 'categoria_12',\n",
       " 'categoria_13',\n",
       " 'categoria_14']"
      ]
     },
     "execution_count": 931,
     "metadata": {},
     "output_type": "execute_result"
    }
   ],
   "source": [
    "# creamos las etiquetas para los intervalos\n",
    "categorias = [\"categoria_\" + str(i) for i in range(1, len(intervalos))]\n",
    "categorias"
   ]
  },
  {
   "cell_type": "code",
   "execution_count": 932,
   "metadata": {},
   "outputs": [
    {
     "data": {
      "text/plain": [
       "0         categoria_3\n",
       "1         categoria_3\n",
       "2         categoria_8\n",
       "3         categoria_3\n",
       "4         categoria_3\n",
       "             ...     \n",
       "12717     categoria_7\n",
       "12718    categoria_12\n",
       "12719     categoria_8\n",
       "12720     categoria_8\n",
       "12721     categoria_8\n",
       "Name: accommodates, Length: 12722, dtype: category\n",
       "Categories (14, object): ['categoria_1' < 'categoria_2' < 'categoria_3' < 'categoria_4' ... 'categoria_11' < 'categoria_12' < 'categoria_13' < 'categoria_14']"
      ]
     },
     "execution_count": 932,
     "metadata": {},
     "output_type": "execute_result"
    }
   ],
   "source": [
    "# finalmente creamos las categorias en la columna numerica\n",
    "dataset['accommodates'] = pd.cut(dataset['accommodates'], bins=intervalos, labels=categorias, right=False)\n",
    "dataset['accommodates']"
   ]
  },
  {
   "cell_type": "markdown",
   "metadata": {},
   "source": [
    "### Variable “bathrooms_text”"
   ]
  },
  {
   "cell_type": "code",
   "execution_count": 933,
   "metadata": {},
   "outputs": [
    {
     "data": {
      "text/plain": [
       "0        1 private bath\n",
       "1                1 bath\n",
       "2               2 baths\n",
       "3               0 baths\n",
       "4        1 private bath\n",
       "              ...      \n",
       "12717           4 baths\n",
       "12718            1 bath\n",
       "12719            1 bath\n",
       "12720            1 bath\n",
       "12721            1 bath\n",
       "Name: bathrooms_text, Length: 12722, dtype: object"
      ]
     },
     "execution_count": 933,
     "metadata": {},
     "output_type": "execute_result"
    }
   ],
   "source": [
    "dataset['bathrooms_text']"
   ]
  },
  {
   "cell_type": "code",
   "execution_count": null,
   "metadata": {},
   "outputs": [],
   "source": []
  },
  {
   "cell_type": "markdown",
   "metadata": {},
   "source": [
    "#### Creación de Categorias a Partir de Clases"
   ]
  },
  {
   "cell_type": "markdown",
   "metadata": {},
   "source": [
    "### Variable “beds”"
   ]
  },
  {
   "cell_type": "code",
   "execution_count": 934,
   "metadata": {},
   "outputs": [
    {
     "data": {
      "text/plain": [
       "0        1.0\n",
       "1        1.0\n",
       "2        4.0\n",
       "3        1.0\n",
       "4        1.0\n",
       "        ... \n",
       "12717    4.0\n",
       "12718    3.0\n",
       "12719    3.0\n",
       "12720    2.0\n",
       "12721    2.0\n",
       "Name: beds, Length: 12722, dtype: float64"
      ]
     },
     "execution_count": 934,
     "metadata": {},
     "output_type": "execute_result"
    }
   ],
   "source": [
    "dataset['beds']"
   ]
  },
  {
   "cell_type": "code",
   "execution_count": 935,
   "metadata": {},
   "outputs": [
    {
     "data": {
      "text/plain": [
       "[0.0, 6.0]"
      ]
     },
     "execution_count": 935,
     "metadata": {},
     "output_type": "execute_result"
    }
   ],
   "source": [
    "# obtenemos el limite superior y el límite inferior de la columna objetivo\n",
    "Max = dataset['beds'].max()\n",
    "Min = dataset['beds'].min()\n",
    "Limites = [Min, Max]\n",
    "Limites"
   ]
  },
  {
   "cell_type": "code",
   "execution_count": 936,
   "metadata": {},
   "outputs": [
    {
     "data": {
      "text/plain": [
       "6.0"
      ]
     },
     "execution_count": 936,
     "metadata": {},
     "output_type": "execute_result"
    }
   ],
   "source": [
    "# calculamos el rango r\n",
    "R = Max - Min\n",
    "R"
   ]
  },
  {
   "cell_type": "code",
   "execution_count": 937,
   "metadata": {},
   "outputs": [
    {
     "data": {
      "text/plain": [
       "14.627123898918503"
      ]
     },
     "execution_count": 937,
     "metadata": {},
     "output_type": "execute_result"
    }
   ],
   "source": [
    "# calculamos el número de intervalos de clase \"ni\", aplocando la regla de Sturges\n",
    "ni = 1+3.32*np.log10(n)\n",
    "ni"
   ]
  },
  {
   "cell_type": "code",
   "execution_count": 938,
   "metadata": {},
   "outputs": [
    {
     "data": {
      "text/plain": [
       "0.4101968398889153"
      ]
     },
     "execution_count": 938,
     "metadata": {},
     "output_type": "execute_result"
    }
   ],
   "source": [
    "# calculamos el ancho del intervalo \"i\"\n",
    "i = R/ni\n",
    "i"
   ]
  },
  {
   "cell_type": "markdown",
   "metadata": {},
   "source": [
    "#### Creación de Categorias a Partir de Clases"
   ]
  },
  {
   "cell_type": "code",
   "execution_count": 939,
   "metadata": {},
   "outputs": [
    {
     "data": {
      "text/plain": [
       "array([0.        , 0.42857143, 0.85714286, 1.28571429, 1.71428571,\n",
       "       2.14285714, 2.57142857, 3.        , 3.42857143, 3.85714286,\n",
       "       4.28571429, 4.71428571, 5.14285714, 5.57142857, 6.        ])"
      ]
     },
     "execution_count": 939,
     "metadata": {},
     "output_type": "execute_result"
    }
   ],
   "source": [
    "# categorizacion de variables\n",
    "intervalos = np.linspace(0.0, 6.0, 15)\n",
    "intervalos"
   ]
  },
  {
   "cell_type": "code",
   "execution_count": 940,
   "metadata": {},
   "outputs": [
    {
     "data": {
      "text/plain": [
       "['categoria_1',\n",
       " 'categoria_2',\n",
       " 'categoria_3',\n",
       " 'categoria_4',\n",
       " 'categoria_5',\n",
       " 'categoria_6',\n",
       " 'categoria_7',\n",
       " 'categoria_8',\n",
       " 'categoria_9',\n",
       " 'categoria_10',\n",
       " 'categoria_11',\n",
       " 'categoria_12',\n",
       " 'categoria_13',\n",
       " 'categoria_14']"
      ]
     },
     "execution_count": 940,
     "metadata": {},
     "output_type": "execute_result"
    }
   ],
   "source": [
    "# creamos las etiquetas para los intervalos\n",
    "categorias = [\"categoria_\" + str(i) for i in range(1, len(intervalos))]\n",
    "categorias"
   ]
  },
  {
   "cell_type": "code",
   "execution_count": 941,
   "metadata": {},
   "outputs": [
    {
     "data": {
      "text/plain": [
       "0         categoria_3\n",
       "1         categoria_3\n",
       "2        categoria_10\n",
       "3         categoria_3\n",
       "4         categoria_3\n",
       "             ...     \n",
       "12717    categoria_10\n",
       "12718     categoria_8\n",
       "12719     categoria_8\n",
       "12720     categoria_5\n",
       "12721     categoria_5\n",
       "Name: beds, Length: 12722, dtype: category\n",
       "Categories (14, object): ['categoria_1' < 'categoria_2' < 'categoria_3' < 'categoria_4' ... 'categoria_11' < 'categoria_12' < 'categoria_13' < 'categoria_14']"
      ]
     },
     "execution_count": 941,
     "metadata": {},
     "output_type": "execute_result"
    }
   ],
   "source": [
    "# finalmente creamos las categorias en la columna numerica\n",
    "dataset['beds'] = pd.cut(dataset['beds'], bins=intervalos, labels=categorias, right=False)\n",
    "dataset['beds']"
   ]
  },
  {
   "cell_type": "markdown",
   "metadata": {},
   "source": [
    "### Variable “price”"
   ]
  },
  {
   "cell_type": "code",
   "execution_count": 942,
   "metadata": {},
   "outputs": [
    {
     "data": {
      "text/plain": [
       "0         95.0\n",
       "1         95.0\n",
       "2        130.0\n",
       "3        105.0\n",
       "4        102.5\n",
       "         ...  \n",
       "12717    163.0\n",
       "12718    199.0\n",
       "12719     80.0\n",
       "12720    220.0\n",
       "12721    104.0\n",
       "Name: price, Length: 12722, dtype: float64"
      ]
     },
     "execution_count": 942,
     "metadata": {},
     "output_type": "execute_result"
    }
   ],
   "source": [
    "dataset['price']"
   ]
  },
  {
   "cell_type": "code",
   "execution_count": 943,
   "metadata": {},
   "outputs": [
    {
     "data": {
      "text/plain": [
       "[10.0, 420.0]"
      ]
     },
     "execution_count": 943,
     "metadata": {},
     "output_type": "execute_result"
    }
   ],
   "source": [
    "# obtenemos el limite superior y el límite inferior de la columna objetivo\n",
    "Max = dataset['price'].max()\n",
    "Min = dataset['price'].min()\n",
    "Limites = [Min, Max]\n",
    "Limites"
   ]
  },
  {
   "cell_type": "code",
   "execution_count": 944,
   "metadata": {},
   "outputs": [
    {
     "data": {
      "text/plain": [
       "410.0"
      ]
     },
     "execution_count": 944,
     "metadata": {},
     "output_type": "execute_result"
    }
   ],
   "source": [
    "# calculamos el rango r\n",
    "R = Max - Min\n",
    "R"
   ]
  },
  {
   "cell_type": "code",
   "execution_count": 945,
   "metadata": {},
   "outputs": [
    {
     "data": {
      "text/plain": [
       "14.627123898918503"
      ]
     },
     "execution_count": 945,
     "metadata": {},
     "output_type": "execute_result"
    }
   ],
   "source": [
    "# calculamos el número de intervalos de clase \"ni\", aplocando la regla de Sturges\n",
    "ni = 1+3.32*np.log10(n)\n",
    "ni"
   ]
  },
  {
   "cell_type": "code",
   "execution_count": 946,
   "metadata": {},
   "outputs": [
    {
     "data": {
      "text/plain": [
       "28.030117392409213"
      ]
     },
     "execution_count": 946,
     "metadata": {},
     "output_type": "execute_result"
    }
   ],
   "source": [
    "# calculamos el ancho del intervalo \"i\"\n",
    "i = R/ni\n",
    "i"
   ]
  },
  {
   "cell_type": "markdown",
   "metadata": {},
   "source": [
    "#### Creación de Categorias a Partir de Clases"
   ]
  },
  {
   "cell_type": "code",
   "execution_count": 947,
   "metadata": {},
   "outputs": [
    {
     "data": {
      "text/plain": [
       "array([ 10.        ,  39.28571429,  68.57142857,  97.85714286,\n",
       "       127.14285714, 156.42857143, 185.71428571, 215.        ,\n",
       "       244.28571429, 273.57142857, 302.85714286, 332.14285714,\n",
       "       361.42857143, 390.71428571, 420.        ])"
      ]
     },
     "execution_count": 947,
     "metadata": {},
     "output_type": "execute_result"
    }
   ],
   "source": [
    "# categorizacion de variables\n",
    "intervalos = np.linspace(10.0, 420.0, 15)\n",
    "intervalos"
   ]
  },
  {
   "cell_type": "code",
   "execution_count": 948,
   "metadata": {},
   "outputs": [
    {
     "data": {
      "text/plain": [
       "['categoria_1',\n",
       " 'categoria_2',\n",
       " 'categoria_3',\n",
       " 'categoria_4',\n",
       " 'categoria_5',\n",
       " 'categoria_6',\n",
       " 'categoria_7',\n",
       " 'categoria_8',\n",
       " 'categoria_9',\n",
       " 'categoria_10',\n",
       " 'categoria_11',\n",
       " 'categoria_12',\n",
       " 'categoria_13',\n",
       " 'categoria_14']"
      ]
     },
     "execution_count": 948,
     "metadata": {},
     "output_type": "execute_result"
    }
   ],
   "source": [
    "# creamos las etiquetas para los intervalos\n",
    "categorias = [\"categoria_\" + str(i) for i in range(1, len(intervalos))]\n",
    "categorias"
   ]
  },
  {
   "cell_type": "code",
   "execution_count": 949,
   "metadata": {},
   "outputs": [
    {
     "data": {
      "text/plain": [
       "0        categoria_3\n",
       "1        categoria_3\n",
       "2        categoria_5\n",
       "3        categoria_4\n",
       "4        categoria_4\n",
       "            ...     \n",
       "12717    categoria_6\n",
       "12718    categoria_7\n",
       "12719    categoria_3\n",
       "12720    categoria_8\n",
       "12721    categoria_4\n",
       "Name: price, Length: 12722, dtype: category\n",
       "Categories (14, object): ['categoria_1' < 'categoria_2' < 'categoria_3' < 'categoria_4' ... 'categoria_11' < 'categoria_12' < 'categoria_13' < 'categoria_14']"
      ]
     },
     "execution_count": 949,
     "metadata": {},
     "output_type": "execute_result"
    }
   ],
   "source": [
    "# finalmente creamos las categorias en la columna numerica\n",
    "dataset['price'] = pd.cut(dataset['price'], bins=intervalos, labels=categorias, right=False)\n",
    "dataset['price']"
   ]
  },
  {
   "cell_type": "markdown",
   "metadata": {},
   "source": [
    "### Variable “number_of_reviews_ltm\""
   ]
  },
  {
   "cell_type": "code",
   "execution_count": 950,
   "metadata": {},
   "outputs": [
    {
     "data": {
      "text/plain": [
       "0        5.0\n",
       "1        1.0\n",
       "2        4.0\n",
       "3        8.0\n",
       "4        2.0\n",
       "        ... \n",
       "12717    0.0\n",
       "12718    0.0\n",
       "12719    0.0\n",
       "12720    0.0\n",
       "12721    0.0\n",
       "Name: number_of_reviews_ltm, Length: 12722, dtype: float64"
      ]
     },
     "execution_count": 950,
     "metadata": {},
     "output_type": "execute_result"
    }
   ],
   "source": [
    "dataset['number_of_reviews_ltm']"
   ]
  },
  {
   "cell_type": "code",
   "execution_count": 951,
   "metadata": {},
   "outputs": [
    {
     "data": {
      "text/plain": [
       "[0.0, 68.0]"
      ]
     },
     "execution_count": 951,
     "metadata": {},
     "output_type": "execute_result"
    }
   ],
   "source": [
    "# obtenemos el limite superior y el límite inferior de la columna objetivo\n",
    "Max = dataset['number_of_reviews_ltm'].max()\n",
    "Min = dataset['number_of_reviews_ltm'].min()\n",
    "Limites = [Min, Max]\n",
    "Limites"
   ]
  },
  {
   "cell_type": "code",
   "execution_count": 952,
   "metadata": {},
   "outputs": [
    {
     "data": {
      "text/plain": [
       "68.0"
      ]
     },
     "execution_count": 952,
     "metadata": {},
     "output_type": "execute_result"
    }
   ],
   "source": [
    "# calculamos el rango r\n",
    "R = Max - Min\n",
    "R"
   ]
  },
  {
   "cell_type": "code",
   "execution_count": 953,
   "metadata": {},
   "outputs": [
    {
     "data": {
      "text/plain": [
       "14.627123898918503"
      ]
     },
     "execution_count": 953,
     "metadata": {},
     "output_type": "execute_result"
    }
   ],
   "source": [
    "# calculamos el número de intervalos de clase \"ni\", aplocando la regla de Sturges\n",
    "ni = 1+3.32*np.log10(n)\n",
    "ni"
   ]
  },
  {
   "cell_type": "code",
   "execution_count": 954,
   "metadata": {},
   "outputs": [
    {
     "data": {
      "text/plain": [
       "4.64889751874104"
      ]
     },
     "execution_count": 954,
     "metadata": {},
     "output_type": "execute_result"
    }
   ],
   "source": [
    "# calculamos el ancho del intervalo \"i\"\n",
    "i = R/ni\n",
    "i"
   ]
  },
  {
   "cell_type": "markdown",
   "metadata": {},
   "source": [
    "#### Creación de Categorias a Partir de Clases"
   ]
  },
  {
   "cell_type": "code",
   "execution_count": 955,
   "metadata": {},
   "outputs": [
    {
     "data": {
      "text/plain": [
       "array([ 0.        ,  4.85714286,  9.71428571, 14.57142857, 19.42857143,\n",
       "       24.28571429, 29.14285714, 34.        , 38.85714286, 43.71428571,\n",
       "       48.57142857, 53.42857143, 58.28571429, 63.14285714, 68.        ])"
      ]
     },
     "execution_count": 955,
     "metadata": {},
     "output_type": "execute_result"
    }
   ],
   "source": [
    "# categorizacion de variables\n",
    "intervalos = np.linspace(0.0, 68.0, 15)\n",
    "intervalos"
   ]
  },
  {
   "cell_type": "code",
   "execution_count": 956,
   "metadata": {},
   "outputs": [
    {
     "data": {
      "text/plain": [
       "['categoria_1',\n",
       " 'categoria_2',\n",
       " 'categoria_3',\n",
       " 'categoria_4',\n",
       " 'categoria_5',\n",
       " 'categoria_6',\n",
       " 'categoria_7',\n",
       " 'categoria_8',\n",
       " 'categoria_9',\n",
       " 'categoria_10',\n",
       " 'categoria_11',\n",
       " 'categoria_12',\n",
       " 'categoria_13',\n",
       " 'categoria_14']"
      ]
     },
     "execution_count": 956,
     "metadata": {},
     "output_type": "execute_result"
    }
   ],
   "source": [
    "# creamos las etiquetas para los intervalos\n",
    "categorias = [\"categoria_\" + str(i) for i in range(1, len(intervalos))]\n",
    "categorias"
   ]
  },
  {
   "cell_type": "code",
   "execution_count": 957,
   "metadata": {},
   "outputs": [
    {
     "data": {
      "text/plain": [
       "0        categoria_2\n",
       "1        categoria_1\n",
       "2        categoria_1\n",
       "3        categoria_2\n",
       "4        categoria_1\n",
       "            ...     \n",
       "12717    categoria_1\n",
       "12718    categoria_1\n",
       "12719    categoria_1\n",
       "12720    categoria_1\n",
       "12721    categoria_1\n",
       "Name: number_of_reviews_ltm, Length: 12722, dtype: category\n",
       "Categories (14, object): ['categoria_1' < 'categoria_2' < 'categoria_3' < 'categoria_4' ... 'categoria_11' < 'categoria_12' < 'categoria_13' < 'categoria_14']"
      ]
     },
     "execution_count": 957,
     "metadata": {},
     "output_type": "execute_result"
    }
   ],
   "source": [
    "# finalmente creamos las categorias en la columna numerica\n",
    "dataset['number_of_reviews_ltm'] = pd.cut(dataset['number_of_reviews_ltm'], bins=intervalos, labels=categorias, right=False)\n",
    "dataset['number_of_reviews_ltm']"
   ]
  },
  {
   "cell_type": "markdown",
   "metadata": {},
   "source": [
    "### Variable “availability_365”"
   ]
  },
  {
   "cell_type": "code",
   "execution_count": 958,
   "metadata": {},
   "outputs": [
    {
     "data": {
      "text/plain": [
       "0        330\n",
       "1         26\n",
       "2        257\n",
       "3        347\n",
       "4        332\n",
       "        ... \n",
       "12717    310\n",
       "12718    365\n",
       "12719    156\n",
       "12720    364\n",
       "12721    143\n",
       "Name: availability_365, Length: 12722, dtype: int64"
      ]
     },
     "execution_count": 958,
     "metadata": {},
     "output_type": "execute_result"
    }
   ],
   "source": [
    "dataset['availability_365']"
   ]
  },
  {
   "cell_type": "code",
   "execution_count": 959,
   "metadata": {},
   "outputs": [
    {
     "data": {
      "text/plain": [
       "[0, 365]"
      ]
     },
     "execution_count": 959,
     "metadata": {},
     "output_type": "execute_result"
    }
   ],
   "source": [
    "# obtenemos el limite superior y el límite inferior de la columna objetivo\n",
    "Max = dataset['availability_365'].max()\n",
    "Min = dataset['availability_365'].min()\n",
    "Limites = [Min, Max]\n",
    "Limites"
   ]
  },
  {
   "cell_type": "code",
   "execution_count": 960,
   "metadata": {},
   "outputs": [
    {
     "data": {
      "text/plain": [
       "365"
      ]
     },
     "execution_count": 960,
     "metadata": {},
     "output_type": "execute_result"
    }
   ],
   "source": [
    "# calculamos el rango r\n",
    "R = Max - Min\n",
    "R"
   ]
  },
  {
   "cell_type": "code",
   "execution_count": 961,
   "metadata": {},
   "outputs": [
    {
     "data": {
      "text/plain": [
       "14.627123898918503"
      ]
     },
     "execution_count": 961,
     "metadata": {},
     "output_type": "execute_result"
    }
   ],
   "source": [
    "# calculamos el número de intervalos de clase \"ni\", aplocando la regla de Sturges\n",
    "ni = 1+3.32*np.log10(n)\n",
    "ni"
   ]
  },
  {
   "cell_type": "code",
   "execution_count": 962,
   "metadata": {},
   "outputs": [
    {
     "data": {
      "text/plain": [
       "24.95364109324235"
      ]
     },
     "execution_count": 962,
     "metadata": {},
     "output_type": "execute_result"
    }
   ],
   "source": [
    "# calculamos el ancho del intervalo \"i\"\n",
    "i = R/ni\n",
    "i"
   ]
  },
  {
   "cell_type": "markdown",
   "metadata": {},
   "source": [
    "#### Creación de Categorias a Partir de Clases"
   ]
  },
  {
   "cell_type": "code",
   "execution_count": 963,
   "metadata": {},
   "outputs": [
    {
     "data": {
      "text/plain": [
       "array([  0.        ,  26.07142857,  52.14285714,  78.21428571,\n",
       "       104.28571429, 130.35714286, 156.42857143, 182.5       ,\n",
       "       208.57142857, 234.64285714, 260.71428571, 286.78571429,\n",
       "       312.85714286, 338.92857143, 365.        ])"
      ]
     },
     "execution_count": 963,
     "metadata": {},
     "output_type": "execute_result"
    }
   ],
   "source": [
    "# categorizacion de variables\n",
    "intervalos = np.linspace(0, 365, 15)\n",
    "intervalos"
   ]
  },
  {
   "cell_type": "code",
   "execution_count": 964,
   "metadata": {},
   "outputs": [
    {
     "data": {
      "text/plain": [
       "['categoria_1',\n",
       " 'categoria_2',\n",
       " 'categoria_3',\n",
       " 'categoria_4',\n",
       " 'categoria_5',\n",
       " 'categoria_6',\n",
       " 'categoria_7',\n",
       " 'categoria_8',\n",
       " 'categoria_9',\n",
       " 'categoria_10',\n",
       " 'categoria_11',\n",
       " 'categoria_12',\n",
       " 'categoria_13',\n",
       " 'categoria_14']"
      ]
     },
     "execution_count": 964,
     "metadata": {},
     "output_type": "execute_result"
    }
   ],
   "source": [
    "# creamos las etiquetas para los intervalos\n",
    "categorias = [\"categoria_\" + str(i) for i in range(1, len(intervalos))]\n",
    "categorias"
   ]
  },
  {
   "cell_type": "code",
   "execution_count": 965,
   "metadata": {},
   "outputs": [
    {
     "data": {
      "text/plain": [
       "0        categoria_13\n",
       "1         categoria_1\n",
       "2        categoria_10\n",
       "3        categoria_14\n",
       "4        categoria_13\n",
       "             ...     \n",
       "12717    categoria_12\n",
       "12718             NaN\n",
       "12719     categoria_6\n",
       "12720    categoria_14\n",
       "12721     categoria_6\n",
       "Name: availability_365, Length: 12722, dtype: category\n",
       "Categories (14, object): ['categoria_1' < 'categoria_2' < 'categoria_3' < 'categoria_4' ... 'categoria_11' < 'categoria_12' < 'categoria_13' < 'categoria_14']"
      ]
     },
     "execution_count": 965,
     "metadata": {},
     "output_type": "execute_result"
    }
   ],
   "source": [
    "# finalmente creamos las categorias en la columna numerica\n",
    "dataset['availability_365'] = pd.cut(dataset['availability_365'], bins=intervalos, labels=categorias, right=False)\n",
    "dataset['availability_365']"
   ]
  },
  {
   "cell_type": "markdown",
   "metadata": {},
   "source": [
    "### Variable “number_of_reviews”"
   ]
  },
  {
   "cell_type": "code",
   "execution_count": 966,
   "metadata": {},
   "outputs": [
    {
     "data": {
      "text/plain": [
       "0        133.0\n",
       "1         26.0\n",
       "2         36.0\n",
       "3         79.0\n",
       "4         21.0\n",
       "         ...  \n",
       "12717      0.0\n",
       "12718      0.0\n",
       "12719      0.0\n",
       "12720      0.0\n",
       "12721      0.0\n",
       "Name: number_of_reviews, Length: 12722, dtype: float64"
      ]
     },
     "execution_count": 966,
     "metadata": {},
     "output_type": "execute_result"
    }
   ],
   "source": [
    "dataset['number_of_reviews']"
   ]
  },
  {
   "cell_type": "code",
   "execution_count": 967,
   "metadata": {},
   "outputs": [
    {
     "data": {
      "text/plain": [
       "[0.0, 207.0]"
      ]
     },
     "execution_count": 967,
     "metadata": {},
     "output_type": "execute_result"
    }
   ],
   "source": [
    "# obtenemos el limite superior y el límite inferior de la columna objetivo\n",
    "Max = dataset['number_of_reviews'].max()\n",
    "Min = dataset['number_of_reviews'].min()\n",
    "Limites = [Min, Max]\n",
    "Limites"
   ]
  },
  {
   "cell_type": "code",
   "execution_count": 968,
   "metadata": {},
   "outputs": [
    {
     "data": {
      "text/plain": [
       "207.0"
      ]
     },
     "execution_count": 968,
     "metadata": {},
     "output_type": "execute_result"
    }
   ],
   "source": [
    "# calculamos el rango r\n",
    "R = Max - Min\n",
    "R"
   ]
  },
  {
   "cell_type": "code",
   "execution_count": 969,
   "metadata": {},
   "outputs": [
    {
     "data": {
      "text/plain": [
       "14.627123898918503"
      ]
     },
     "execution_count": 969,
     "metadata": {},
     "output_type": "execute_result"
    }
   ],
   "source": [
    "# calculamos el número de intervalos de clase \"ni\", aplocando la regla de Sturges\n",
    "ni = 1+3.32*np.log10(n)\n",
    "ni"
   ]
  },
  {
   "cell_type": "code",
   "execution_count": 970,
   "metadata": {},
   "outputs": [
    {
     "data": {
      "text/plain": [
       "14.151790976167579"
      ]
     },
     "execution_count": 970,
     "metadata": {},
     "output_type": "execute_result"
    }
   ],
   "source": [
    "# calculamos el ancho del intervalo \"i\"\n",
    "i = R/ni\n",
    "i"
   ]
  },
  {
   "cell_type": "markdown",
   "metadata": {},
   "source": [
    "#### Creación de Categorias a Partir de Clases"
   ]
  },
  {
   "cell_type": "code",
   "execution_count": 971,
   "metadata": {},
   "outputs": [
    {
     "data": {
      "text/plain": [
       "array([  0.        ,  14.78571429,  29.57142857,  44.35714286,\n",
       "        59.14285714,  73.92857143,  88.71428571, 103.5       ,\n",
       "       118.28571429, 133.07142857, 147.85714286, 162.64285714,\n",
       "       177.42857143, 192.21428571, 207.        ])"
      ]
     },
     "execution_count": 971,
     "metadata": {},
     "output_type": "execute_result"
    }
   ],
   "source": [
    "# categorizacion de variables\n",
    "intervalos = np.linspace(0.0, 207.0, 15)\n",
    "intervalos"
   ]
  },
  {
   "cell_type": "code",
   "execution_count": 972,
   "metadata": {},
   "outputs": [
    {
     "data": {
      "text/plain": [
       "['categoria_1',\n",
       " 'categoria_2',\n",
       " 'categoria_3',\n",
       " 'categoria_4',\n",
       " 'categoria_5',\n",
       " 'categoria_6',\n",
       " 'categoria_7',\n",
       " 'categoria_8',\n",
       " 'categoria_9',\n",
       " 'categoria_10',\n",
       " 'categoria_11',\n",
       " 'categoria_12',\n",
       " 'categoria_13',\n",
       " 'categoria_14']"
      ]
     },
     "execution_count": 972,
     "metadata": {},
     "output_type": "execute_result"
    }
   ],
   "source": [
    "# creamos las etiquetas para los intervalos\n",
    "categorias = [\"categoria_\" + str(i) for i in range(1, len(intervalos))]\n",
    "categorias"
   ]
  },
  {
   "cell_type": "code",
   "execution_count": 973,
   "metadata": {},
   "outputs": [
    {
     "data": {
      "text/plain": [
       "0        categoria_9\n",
       "1        categoria_2\n",
       "2        categoria_3\n",
       "3        categoria_6\n",
       "4        categoria_2\n",
       "            ...     \n",
       "12717    categoria_1\n",
       "12718    categoria_1\n",
       "12719    categoria_1\n",
       "12720    categoria_1\n",
       "12721    categoria_1\n",
       "Name: number_of_reviews, Length: 12722, dtype: category\n",
       "Categories (14, object): ['categoria_1' < 'categoria_2' < 'categoria_3' < 'categoria_4' ... 'categoria_11' < 'categoria_12' < 'categoria_13' < 'categoria_14']"
      ]
     },
     "execution_count": 973,
     "metadata": {},
     "output_type": "execute_result"
    }
   ],
   "source": [
    "# finalmente creamos las categorias en la columna numerica\n",
    "dataset['number_of_reviews'] = pd.cut(dataset['number_of_reviews'], bins=intervalos, labels=categorias, right=False)\n",
    "dataset['number_of_reviews']"
   ]
  },
  {
   "cell_type": "markdown",
   "metadata": {},
   "source": [
    "### Variable “review_scores_location”"
   ]
  },
  {
   "cell_type": "code",
   "execution_count": 974,
   "metadata": {},
   "outputs": [
    {
     "data": {
      "text/plain": [
       "0        4.91\n",
       "1        4.63\n",
       "2        4.82\n",
       "3        4.90\n",
       "4        4.95\n",
       "         ... \n",
       "12717    4.80\n",
       "12718    4.80\n",
       "12719    4.80\n",
       "12720    4.80\n",
       "12721    4.80\n",
       "Name: review_scores_location, Length: 12722, dtype: float64"
      ]
     },
     "execution_count": 974,
     "metadata": {},
     "output_type": "execute_result"
    }
   ],
   "source": [
    "dataset['review_scores_location']"
   ]
  },
  {
   "cell_type": "code",
   "execution_count": 975,
   "metadata": {},
   "outputs": [
    {
     "data": {
      "text/plain": [
       "[4.12, 5.0]"
      ]
     },
     "execution_count": 975,
     "metadata": {},
     "output_type": "execute_result"
    }
   ],
   "source": [
    "# obtenemos el limite superior y el límite inferior de la columna objetivo\n",
    "Max = dataset['review_scores_location'].max()\n",
    "Min = dataset['review_scores_location'].min()\n",
    "Limites = [Min, Max]\n",
    "Limites"
   ]
  },
  {
   "cell_type": "code",
   "execution_count": 976,
   "metadata": {},
   "outputs": [
    {
     "data": {
      "text/plain": [
       "0.8799999999999999"
      ]
     },
     "execution_count": 976,
     "metadata": {},
     "output_type": "execute_result"
    }
   ],
   "source": [
    "# calculamos el rango r\n",
    "R = Max - Min\n",
    "R"
   ]
  },
  {
   "cell_type": "code",
   "execution_count": 977,
   "metadata": {},
   "outputs": [
    {
     "data": {
      "text/plain": [
       "14.627123898918503"
      ]
     },
     "execution_count": 977,
     "metadata": {},
     "output_type": "execute_result"
    }
   ],
   "source": [
    "# calculamos el número de intervalos de clase \"ni\", aplocando la regla de Sturges\n",
    "ni = 1+3.32*np.log10(n)\n",
    "ni"
   ]
  },
  {
   "cell_type": "code",
   "execution_count": 978,
   "metadata": {},
   "outputs": [
    {
     "data": {
      "text/plain": [
       "0.060162203183707574"
      ]
     },
     "execution_count": 978,
     "metadata": {},
     "output_type": "execute_result"
    }
   ],
   "source": [
    "# calculamos el ancho del intervalo \"i\"\n",
    "i = R/ni\n",
    "i"
   ]
  },
  {
   "cell_type": "markdown",
   "metadata": {},
   "source": [
    "#### Creación de Categorias a Partir de Clases"
   ]
  },
  {
   "cell_type": "code",
   "execution_count": 979,
   "metadata": {},
   "outputs": [
    {
     "data": {
      "text/plain": [
       "array([4.12      , 4.18285714, 4.24571429, 4.30857143, 4.37142857,\n",
       "       4.43428571, 4.49714286, 4.56      , 4.62285714, 4.68571429,\n",
       "       4.74857143, 4.81142857, 4.87428571, 4.93714286, 5.        ])"
      ]
     },
     "execution_count": 979,
     "metadata": {},
     "output_type": "execute_result"
    }
   ],
   "source": [
    "# categorizacion de variables\n",
    "intervalos = np.linspace(4.12, 5.0, 15)\n",
    "intervalos"
   ]
  },
  {
   "cell_type": "code",
   "execution_count": 980,
   "metadata": {},
   "outputs": [
    {
     "data": {
      "text/plain": [
       "['categoria_1',\n",
       " 'categoria_2',\n",
       " 'categoria_3',\n",
       " 'categoria_4',\n",
       " 'categoria_5',\n",
       " 'categoria_6',\n",
       " 'categoria_7',\n",
       " 'categoria_8',\n",
       " 'categoria_9',\n",
       " 'categoria_10',\n",
       " 'categoria_11',\n",
       " 'categoria_12',\n",
       " 'categoria_13',\n",
       " 'categoria_14']"
      ]
     },
     "execution_count": 980,
     "metadata": {},
     "output_type": "execute_result"
    }
   ],
   "source": [
    "# creamos las etiquetas para los intervalos\n",
    "categorias = [\"categoria_\" + str(i) for i in range(1, len(intervalos))]\n",
    "categorias"
   ]
  },
  {
   "cell_type": "code",
   "execution_count": 981,
   "metadata": {},
   "outputs": [
    {
     "data": {
      "text/plain": [
       "0        categoria_13\n",
       "1         categoria_9\n",
       "2        categoria_12\n",
       "3        categoria_13\n",
       "4        categoria_14\n",
       "             ...     \n",
       "12717    categoria_11\n",
       "12718    categoria_11\n",
       "12719    categoria_11\n",
       "12720    categoria_11\n",
       "12721    categoria_11\n",
       "Name: review_scores_location, Length: 12722, dtype: category\n",
       "Categories (14, object): ['categoria_1' < 'categoria_2' < 'categoria_3' < 'categoria_4' ... 'categoria_11' < 'categoria_12' < 'categoria_13' < 'categoria_14']"
      ]
     },
     "execution_count": 981,
     "metadata": {},
     "output_type": "execute_result"
    }
   ],
   "source": [
    "# finalmente creamos las categorias en la columna numerica\n",
    "dataset['review_scores_location'] = pd.cut(dataset['review_scores_location'], bins=intervalos, labels=categorias, right=False)\n",
    "dataset['review_scores_location']"
   ]
  },
  {
   "cell_type": "markdown",
   "metadata": {},
   "source": [
    "### Variable “review_scores_value”"
   ]
  },
  {
   "cell_type": "code",
   "execution_count": 982,
   "metadata": {},
   "outputs": [
    {
     "data": {
      "text/plain": [
       "0        4.70\n",
       "1        4.63\n",
       "2        4.85\n",
       "3        4.55\n",
       "4        4.32\n",
       "         ... \n",
       "12717    4.70\n",
       "12718    4.70\n",
       "12719    4.70\n",
       "12720    4.70\n",
       "12721    4.70\n",
       "Name: review_scores_value, Length: 12722, dtype: float64"
      ]
     },
     "execution_count": 982,
     "metadata": {},
     "output_type": "execute_result"
    }
   ],
   "source": [
    "dataset['review_scores_value']"
   ]
  },
  {
   "cell_type": "code",
   "execution_count": 983,
   "metadata": {},
   "outputs": [
    {
     "data": {
      "text/plain": [
       "[3.83, 5.0]"
      ]
     },
     "execution_count": 983,
     "metadata": {},
     "output_type": "execute_result"
    }
   ],
   "source": [
    "# obtenemos el limite superior y el límite inferior de la columna objetivo\n",
    "Max = dataset['review_scores_value'].max()\n",
    "Min = dataset['review_scores_value'].min()\n",
    "Limites = [Min, Max]\n",
    "Limites"
   ]
  },
  {
   "cell_type": "code",
   "execution_count": 984,
   "metadata": {},
   "outputs": [
    {
     "data": {
      "text/plain": [
       "1.17"
      ]
     },
     "execution_count": 984,
     "metadata": {},
     "output_type": "execute_result"
    }
   ],
   "source": [
    "# calculamos el rango r\n",
    "R = Max - Min\n",
    "R"
   ]
  },
  {
   "cell_type": "code",
   "execution_count": 985,
   "metadata": {},
   "outputs": [
    {
     "data": {
      "text/plain": [
       "14.627123898918503"
      ]
     },
     "execution_count": 985,
     "metadata": {},
     "output_type": "execute_result"
    }
   ],
   "source": [
    "# calculamos el número de intervalos de clase \"ni\", aplocando la regla de Sturges\n",
    "ni = 1+3.32*np.log10(n)\n",
    "ni"
   ]
  },
  {
   "cell_type": "code",
   "execution_count": 986,
   "metadata": {},
   "outputs": [
    {
     "data": {
      "text/plain": [
       "0.07998838377833849"
      ]
     },
     "execution_count": 986,
     "metadata": {},
     "output_type": "execute_result"
    }
   ],
   "source": [
    "# calculamos el ancho del intervalo \"i\"\n",
    "i = R/ni\n",
    "i"
   ]
  },
  {
   "cell_type": "markdown",
   "metadata": {},
   "source": [
    "#### Creación de Categorias a Partir de Clases"
   ]
  },
  {
   "cell_type": "code",
   "execution_count": 987,
   "metadata": {},
   "outputs": [
    {
     "data": {
      "text/plain": [
       "array([3.83      , 3.91357143, 3.99714286, 4.08071429, 4.16428571,\n",
       "       4.24785714, 4.33142857, 4.415     , 4.49857143, 4.58214286,\n",
       "       4.66571429, 4.74928571, 4.83285714, 4.91642857, 5.        ])"
      ]
     },
     "execution_count": 987,
     "metadata": {},
     "output_type": "execute_result"
    }
   ],
   "source": [
    "# categorizacion de variables\n",
    "intervalos = np.linspace(3.83, 5.0, 15)\n",
    "intervalos"
   ]
  },
  {
   "cell_type": "code",
   "execution_count": 988,
   "metadata": {},
   "outputs": [
    {
     "data": {
      "text/plain": [
       "['categoria_1',\n",
       " 'categoria_2',\n",
       " 'categoria_3',\n",
       " 'categoria_4',\n",
       " 'categoria_5',\n",
       " 'categoria_6',\n",
       " 'categoria_7',\n",
       " 'categoria_8',\n",
       " 'categoria_9',\n",
       " 'categoria_10',\n",
       " 'categoria_11',\n",
       " 'categoria_12',\n",
       " 'categoria_13',\n",
       " 'categoria_14']"
      ]
     },
     "execution_count": 988,
     "metadata": {},
     "output_type": "execute_result"
    }
   ],
   "source": [
    "# creamos las etiquetas para los intervalos\n",
    "categorias = [\"categoria_\" + str(i) for i in range(1, len(intervalos))]\n",
    "categorias"
   ]
  },
  {
   "cell_type": "code",
   "execution_count": 989,
   "metadata": {},
   "outputs": [
    {
     "data": {
      "text/plain": [
       "0        categoria_11\n",
       "1        categoria_10\n",
       "2        categoria_13\n",
       "3         categoria_9\n",
       "4         categoria_6\n",
       "             ...     \n",
       "12717    categoria_11\n",
       "12718    categoria_11\n",
       "12719    categoria_11\n",
       "12720    categoria_11\n",
       "12721    categoria_11\n",
       "Name: review_scores_value, Length: 12722, dtype: category\n",
       "Categories (14, object): ['categoria_1' < 'categoria_2' < 'categoria_3' < 'categoria_4' ... 'categoria_11' < 'categoria_12' < 'categoria_13' < 'categoria_14']"
      ]
     },
     "execution_count": 989,
     "metadata": {},
     "output_type": "execute_result"
    }
   ],
   "source": [
    "# finalmente creamos las categorias en la columna numerica\n",
    "dataset['review_scores_value'] = pd.cut(dataset['review_scores_value'], bins=intervalos, labels=categorias, right=False)\n",
    "dataset['review_scores_value']"
   ]
  },
  {
   "cell_type": "markdown",
   "metadata": {},
   "source": [
    "### Variable “reviews_per_month”"
   ]
  },
  {
   "cell_type": "code",
   "execution_count": 990,
   "metadata": {},
   "outputs": [
    {
     "data": {
      "text/plain": [
       "0        0.77\n",
       "1        0.15\n",
       "2        0.21\n",
       "3        0.46\n",
       "4        0.13\n",
       "         ... \n",
       "12717    1.00\n",
       "12718    1.00\n",
       "12719    1.00\n",
       "12720    1.00\n",
       "12721    1.00\n",
       "Name: reviews_per_month, Length: 12722, dtype: float64"
      ]
     },
     "execution_count": 990,
     "metadata": {},
     "output_type": "execute_result"
    }
   ],
   "source": [
    "dataset['reviews_per_month']"
   ]
  },
  {
   "cell_type": "code",
   "execution_count": 991,
   "metadata": {},
   "outputs": [
    {
     "data": {
      "text/plain": [
       "[0.01, 6.46]"
      ]
     },
     "execution_count": 991,
     "metadata": {},
     "output_type": "execute_result"
    }
   ],
   "source": [
    "# obtenemos el limite superior y el límite inferior de la columna objetivo\n",
    "Max = dataset['reviews_per_month'].max()\n",
    "Min = dataset['reviews_per_month'].min()\n",
    "Limites = [Min, Max]\n",
    "Limites"
   ]
  },
  {
   "cell_type": "code",
   "execution_count": 992,
   "metadata": {},
   "outputs": [
    {
     "data": {
      "text/plain": [
       "6.45"
      ]
     },
     "execution_count": 992,
     "metadata": {},
     "output_type": "execute_result"
    }
   ],
   "source": [
    "# calculamos el rango r\n",
    "R = Max - Min\n",
    "R"
   ]
  },
  {
   "cell_type": "code",
   "execution_count": 993,
   "metadata": {},
   "outputs": [
    {
     "data": {
      "text/plain": [
       "14.627123898918503"
      ]
     },
     "execution_count": 993,
     "metadata": {},
     "output_type": "execute_result"
    }
   ],
   "source": [
    "# calculamos el número de intervalos de clase \"ni\", aplocando la regla de Sturges\n",
    "ni = 1+3.32*np.log10(n)\n",
    "ni"
   ]
  },
  {
   "cell_type": "code",
   "execution_count": 994,
   "metadata": {},
   "outputs": [
    {
     "data": {
      "text/plain": [
       "0.44096160288058395"
      ]
     },
     "execution_count": 994,
     "metadata": {},
     "output_type": "execute_result"
    }
   ],
   "source": [
    "# calculamos el ancho del intervalo \"i\"\n",
    "i = R/ni\n",
    "i"
   ]
  },
  {
   "cell_type": "markdown",
   "metadata": {},
   "source": [
    "#### Creación de Categorias a Partir de Clases"
   ]
  },
  {
   "cell_type": "code",
   "execution_count": 995,
   "metadata": {},
   "outputs": [
    {
     "data": {
      "text/plain": [
       "array([0.01      , 0.47071429, 0.93142857, 1.39214286, 1.85285714,\n",
       "       2.31357143, 2.77428571, 3.235     , 3.69571429, 4.15642857,\n",
       "       4.61714286, 5.07785714, 5.53857143, 5.99928571, 6.46      ])"
      ]
     },
     "execution_count": 995,
     "metadata": {},
     "output_type": "execute_result"
    }
   ],
   "source": [
    "# categorizacion de variables\n",
    "intervalos = np.linspace(0.01, 6.46, 15)\n",
    "intervalos"
   ]
  },
  {
   "cell_type": "code",
   "execution_count": 996,
   "metadata": {},
   "outputs": [
    {
     "data": {
      "text/plain": [
       "['categoria_1',\n",
       " 'categoria_2',\n",
       " 'categoria_3',\n",
       " 'categoria_4',\n",
       " 'categoria_5',\n",
       " 'categoria_6',\n",
       " 'categoria_7',\n",
       " 'categoria_8',\n",
       " 'categoria_9',\n",
       " 'categoria_10',\n",
       " 'categoria_11',\n",
       " 'categoria_12',\n",
       " 'categoria_13',\n",
       " 'categoria_14']"
      ]
     },
     "execution_count": 996,
     "metadata": {},
     "output_type": "execute_result"
    }
   ],
   "source": [
    "# creamos las etiquetas para los intervalos\n",
    "categorias = [\"categoria_\" + str(i) for i in range(1, len(intervalos))]\n",
    "categorias"
   ]
  },
  {
   "cell_type": "code",
   "execution_count": 997,
   "metadata": {},
   "outputs": [
    {
     "data": {
      "text/plain": [
       "0        categoria_2\n",
       "1        categoria_1\n",
       "2        categoria_1\n",
       "3        categoria_1\n",
       "4        categoria_1\n",
       "            ...     \n",
       "12717    categoria_3\n",
       "12718    categoria_3\n",
       "12719    categoria_3\n",
       "12720    categoria_3\n",
       "12721    categoria_3\n",
       "Name: reviews_per_month, Length: 12722, dtype: category\n",
       "Categories (14, object): ['categoria_1' < 'categoria_2' < 'categoria_3' < 'categoria_4' ... 'categoria_11' < 'categoria_12' < 'categoria_13' < 'categoria_14']"
      ]
     },
     "execution_count": 997,
     "metadata": {},
     "output_type": "execute_result"
    }
   ],
   "source": [
    "# finalmente creamos las categorias en la columna numerica\n",
    "dataset['reviews_per_month'] = pd.cut(dataset['reviews_per_month'], bins=intervalos, labels=categorias, right=False)\n",
    "dataset['reviews_per_month']"
   ]
  },
  {
   "cell_type": "markdown",
   "metadata": {},
   "source": [
    "### Variable “review_scores_communication”"
   ]
  },
  {
   "cell_type": "code",
   "execution_count": 998,
   "metadata": {},
   "outputs": [
    {
     "data": {
      "text/plain": [
       "0        4.91\n",
       "1        4.96\n",
       "2        4.70\n",
       "3        4.74\n",
       "4        4.63\n",
       "         ... \n",
       "12717    4.90\n",
       "12718    4.90\n",
       "12719    4.90\n",
       "12720    4.90\n",
       "12721    4.90\n",
       "Name: review_scores_communication, Length: 12722, dtype: float64"
      ]
     },
     "execution_count": 998,
     "metadata": {},
     "output_type": "execute_result"
    }
   ],
   "source": [
    "dataset['review_scores_communication']"
   ]
  },
  {
   "cell_type": "code",
   "execution_count": 999,
   "metadata": {},
   "outputs": [
    {
     "data": {
      "text/plain": [
       "[4.24, 5.0]"
      ]
     },
     "execution_count": 999,
     "metadata": {},
     "output_type": "execute_result"
    }
   ],
   "source": [
    "# obtenemos el limite superior y el límite inferior de la columna objetivo\n",
    "Max = dataset['review_scores_communication'].max()\n",
    "Min = dataset['review_scores_communication'].min()\n",
    "Limites = [Min, Max]\n",
    "Limites"
   ]
  },
  {
   "cell_type": "code",
   "execution_count": 1000,
   "metadata": {},
   "outputs": [
    {
     "data": {
      "text/plain": [
       "0.7599999999999998"
      ]
     },
     "execution_count": 1000,
     "metadata": {},
     "output_type": "execute_result"
    }
   ],
   "source": [
    "# calculamos el rango r\n",
    "R = Max - Min\n",
    "R"
   ]
  },
  {
   "cell_type": "code",
   "execution_count": 1001,
   "metadata": {},
   "outputs": [
    {
     "data": {
      "text/plain": [
       "14.627123898918503"
      ]
     },
     "execution_count": 1001,
     "metadata": {},
     "output_type": "execute_result"
    }
   ],
   "source": [
    "# calculamos el número de intervalos de clase \"ni\", aplocando la regla de Sturges\n",
    "ni = 1+3.32*np.log10(n)\n",
    "ni"
   ]
  },
  {
   "cell_type": "code",
   "execution_count": 1002,
   "metadata": {},
   "outputs": [
    {
     "data": {
      "text/plain": [
       "0.05195826638592926"
      ]
     },
     "execution_count": 1002,
     "metadata": {},
     "output_type": "execute_result"
    }
   ],
   "source": [
    "# calculamos el ancho del intervalo \"i\"\n",
    "i = R/ni\n",
    "i"
   ]
  },
  {
   "cell_type": "markdown",
   "metadata": {},
   "source": [
    "#### Creación de Categorias a Partir de Clases"
   ]
  },
  {
   "cell_type": "code",
   "execution_count": 1003,
   "metadata": {},
   "outputs": [
    {
     "data": {
      "text/plain": [
       "array([4.24      , 4.29428571, 4.34857143, 4.40285714, 4.45714286,\n",
       "       4.51142857, 4.56571429, 4.62      , 4.67428571, 4.72857143,\n",
       "       4.78285714, 4.83714286, 4.89142857, 4.94571429, 5.        ])"
      ]
     },
     "execution_count": 1003,
     "metadata": {},
     "output_type": "execute_result"
    }
   ],
   "source": [
    "# categorizacion de variables\n",
    "intervalos = np.linspace(4.24, 5.0, 15)\n",
    "intervalos"
   ]
  },
  {
   "cell_type": "code",
   "execution_count": 1004,
   "metadata": {},
   "outputs": [
    {
     "data": {
      "text/plain": [
       "['categoria_1',\n",
       " 'categoria_2',\n",
       " 'categoria_3',\n",
       " 'categoria_4',\n",
       " 'categoria_5',\n",
       " 'categoria_6',\n",
       " 'categoria_7',\n",
       " 'categoria_8',\n",
       " 'categoria_9',\n",
       " 'categoria_10',\n",
       " 'categoria_11',\n",
       " 'categoria_12',\n",
       " 'categoria_13',\n",
       " 'categoria_14']"
      ]
     },
     "execution_count": 1004,
     "metadata": {},
     "output_type": "execute_result"
    }
   ],
   "source": [
    "# creamos las etiquetas para los intervalos\n",
    "categorias = [\"categoria_\" + str(i) for i in range(1, len(intervalos))]\n",
    "categorias"
   ]
  },
  {
   "cell_type": "code",
   "execution_count": 1005,
   "metadata": {},
   "outputs": [
    {
     "data": {
      "text/plain": [
       "0        categoria_13\n",
       "1        categoria_14\n",
       "2         categoria_9\n",
       "3        categoria_10\n",
       "4         categoria_8\n",
       "             ...     \n",
       "12717    categoria_13\n",
       "12718    categoria_13\n",
       "12719    categoria_13\n",
       "12720    categoria_13\n",
       "12721    categoria_13\n",
       "Name: review_scores_communication, Length: 12722, dtype: category\n",
       "Categories (14, object): ['categoria_1' < 'categoria_2' < 'categoria_3' < 'categoria_4' ... 'categoria_11' < 'categoria_12' < 'categoria_13' < 'categoria_14']"
      ]
     },
     "execution_count": 1005,
     "metadata": {},
     "output_type": "execute_result"
    }
   ],
   "source": [
    "# finalmente creamos las categorias en la columna numerica\n",
    "dataset['review_scores_communication'] = pd.cut(dataset['review_scores_communication'], bins=intervalos, labels=categorias, right=False)\n",
    "dataset['review_scores_communication']"
   ]
  },
  {
   "cell_type": "markdown",
   "metadata": {},
   "source": [
    "### Variable review_scores_checkin”"
   ]
  },
  {
   "cell_type": "code",
   "execution_count": 1006,
   "metadata": {},
   "outputs": [
    {
     "data": {
      "text/plain": [
       "0        4.86\n",
       "1        4.84\n",
       "2        4.79\n",
       "3        4.81\n",
       "4        4.68\n",
       "         ... \n",
       "12717    4.90\n",
       "12718    4.90\n",
       "12719    4.90\n",
       "12720    4.90\n",
       "12721    4.90\n",
       "Name: review_scores_checkin, Length: 12722, dtype: float64"
      ]
     },
     "execution_count": 1006,
     "metadata": {},
     "output_type": "execute_result"
    }
   ],
   "source": [
    "dataset['review_scores_checkin']"
   ]
  },
  {
   "cell_type": "code",
   "execution_count": 1007,
   "metadata": {},
   "outputs": [
    {
     "data": {
      "text/plain": [
       "[4.25, 5.0]"
      ]
     },
     "execution_count": 1007,
     "metadata": {},
     "output_type": "execute_result"
    }
   ],
   "source": [
    "# obtenemos el limite superior y el límite inferior de la columna objetivo\n",
    "Max = dataset['review_scores_checkin'].max()\n",
    "Min = dataset['review_scores_checkin'].min()\n",
    "Limites = [Min, Max]\n",
    "Limites"
   ]
  },
  {
   "cell_type": "code",
   "execution_count": 1008,
   "metadata": {},
   "outputs": [
    {
     "data": {
      "text/plain": [
       "0.75"
      ]
     },
     "execution_count": 1008,
     "metadata": {},
     "output_type": "execute_result"
    }
   ],
   "source": [
    "# calculamos el rango r\n",
    "R = Max - Min\n",
    "R"
   ]
  },
  {
   "cell_type": "code",
   "execution_count": 1009,
   "metadata": {},
   "outputs": [
    {
     "data": {
      "text/plain": [
       "14.627123898918503"
      ]
     },
     "execution_count": 1009,
     "metadata": {},
     "output_type": "execute_result"
    }
   ],
   "source": [
    "# calculamos el número de intervalos de clase \"ni\", aplocando la regla de Sturges\n",
    "ni = 1+3.32*np.log10(n)\n",
    "ni"
   ]
  },
  {
   "cell_type": "code",
   "execution_count": 1010,
   "metadata": {},
   "outputs": [
    {
     "data": {
      "text/plain": [
       "0.051274604986114414"
      ]
     },
     "execution_count": 1010,
     "metadata": {},
     "output_type": "execute_result"
    }
   ],
   "source": [
    "# calculamos el ancho del intervalo \"i\"\n",
    "i = R/ni\n",
    "i"
   ]
  },
  {
   "cell_type": "markdown",
   "metadata": {},
   "source": [
    "#### Creación de Categorias a Partir de Clases"
   ]
  },
  {
   "cell_type": "code",
   "execution_count": 1011,
   "metadata": {},
   "outputs": [
    {
     "data": {
      "text/plain": [
       "array([4.25      , 4.30357143, 4.35714286, 4.41071429, 4.46428571,\n",
       "       4.51785714, 4.57142857, 4.625     , 4.67857143, 4.73214286,\n",
       "       4.78571429, 4.83928571, 4.89285714, 4.94642857, 5.        ])"
      ]
     },
     "execution_count": 1011,
     "metadata": {},
     "output_type": "execute_result"
    }
   ],
   "source": [
    "# categorizacion de variables\n",
    "intervalos = np.linspace(4.25, 5.0, 15)\n",
    "intervalos"
   ]
  },
  {
   "cell_type": "code",
   "execution_count": 1012,
   "metadata": {},
   "outputs": [
    {
     "data": {
      "text/plain": [
       "['categoria_1',\n",
       " 'categoria_2',\n",
       " 'categoria_3',\n",
       " 'categoria_4',\n",
       " 'categoria_5',\n",
       " 'categoria_6',\n",
       " 'categoria_7',\n",
       " 'categoria_8',\n",
       " 'categoria_9',\n",
       " 'categoria_10',\n",
       " 'categoria_11',\n",
       " 'categoria_12',\n",
       " 'categoria_13',\n",
       " 'categoria_14']"
      ]
     },
     "execution_count": 1012,
     "metadata": {},
     "output_type": "execute_result"
    }
   ],
   "source": [
    "# creamos las etiquetas para los intervalos\n",
    "categorias = [\"categoria_\" + str(i) for i in range(1, len(intervalos))]\n",
    "categorias"
   ]
  },
  {
   "cell_type": "code",
   "execution_count": 1013,
   "metadata": {},
   "outputs": [
    {
     "data": {
      "text/plain": [
       "0        categoria_12\n",
       "1        categoria_12\n",
       "2        categoria_11\n",
       "3        categoria_11\n",
       "4         categoria_9\n",
       "             ...     \n",
       "12717    categoria_13\n",
       "12718    categoria_13\n",
       "12719    categoria_13\n",
       "12720    categoria_13\n",
       "12721    categoria_13\n",
       "Name: review_scores_checkin, Length: 12722, dtype: category\n",
       "Categories (14, object): ['categoria_1' < 'categoria_2' < 'categoria_3' < 'categoria_4' ... 'categoria_11' < 'categoria_12' < 'categoria_13' < 'categoria_14']"
      ]
     },
     "execution_count": 1013,
     "metadata": {},
     "output_type": "execute_result"
    }
   ],
   "source": [
    "# finalmente creamos las categorias en la columna numerica\n",
    "dataset['review_scores_checkin'] = pd.cut(dataset['review_scores_checkin'], bins=intervalos, labels=categorias, right=False)\n",
    "dataset['review_scores_checkin']"
   ]
  },
  {
   "cell_type": "markdown",
   "metadata": {},
   "source": [
    "### Variable “review_scores_cleanliness”"
   ]
  },
  {
   "cell_type": "code",
   "execution_count": 1014,
   "metadata": {},
   "outputs": [
    {
     "data": {
      "text/plain": [
       "0        4.87\n",
       "1        4.88\n",
       "2        4.85\n",
       "3        4.60\n",
       "4        4.58\n",
       "         ... \n",
       "12717    4.80\n",
       "12718    4.80\n",
       "12719    4.80\n",
       "12720    4.80\n",
       "12721    4.80\n",
       "Name: review_scores_cleanliness, Length: 12722, dtype: float64"
      ]
     },
     "execution_count": 1014,
     "metadata": {},
     "output_type": "execute_result"
    }
   ],
   "source": [
    "dataset['review_scores_cleanliness']"
   ]
  },
  {
   "cell_type": "code",
   "execution_count": 1015,
   "metadata": {},
   "outputs": [
    {
     "data": {
      "text/plain": [
       "[4.01, 5.0]"
      ]
     },
     "execution_count": 1015,
     "metadata": {},
     "output_type": "execute_result"
    }
   ],
   "source": [
    "# obtenemos el limite superior y el límite inferior de la columna objetivo\n",
    "Max = dataset['review_scores_cleanliness'].max()\n",
    "Min = dataset['review_scores_cleanliness'].min()\n",
    "Limites = [Min, Max]\n",
    "Limites"
   ]
  },
  {
   "cell_type": "code",
   "execution_count": 1016,
   "metadata": {},
   "outputs": [
    {
     "data": {
      "text/plain": [
       "0.9900000000000002"
      ]
     },
     "execution_count": 1016,
     "metadata": {},
     "output_type": "execute_result"
    }
   ],
   "source": [
    "# calculamos el rango r\n",
    "R = Max - Min\n",
    "R"
   ]
  },
  {
   "cell_type": "code",
   "execution_count": 1017,
   "metadata": {},
   "outputs": [
    {
     "data": {
      "text/plain": [
       "14.627123898918503"
      ]
     },
     "execution_count": 1017,
     "metadata": {},
     "output_type": "execute_result"
    }
   ],
   "source": [
    "# calculamos el número de intervalos de clase \"ni\", aplocando la regla de Sturges\n",
    "ni = 1+3.32*np.log10(n)\n",
    "ni"
   ]
  },
  {
   "cell_type": "code",
   "execution_count": 1018,
   "metadata": {},
   "outputs": [
    {
     "data": {
      "text/plain": [
       "0.06768247858167104"
      ]
     },
     "execution_count": 1018,
     "metadata": {},
     "output_type": "execute_result"
    }
   ],
   "source": [
    "# calculamos el ancho del intervalo \"i\"\n",
    "i = R/ni\n",
    "i"
   ]
  },
  {
   "cell_type": "markdown",
   "metadata": {},
   "source": [
    "#### Creación de Categorias a Partir de Clases"
   ]
  },
  {
   "cell_type": "code",
   "execution_count": 1019,
   "metadata": {},
   "outputs": [
    {
     "data": {
      "text/plain": [
       "array([4.01      , 4.08071429, 4.15142857, 4.22214286, 4.29285714,\n",
       "       4.36357143, 4.43428571, 4.505     , 4.57571429, 4.64642857,\n",
       "       4.71714286, 4.78785714, 4.85857143, 4.92928571, 5.        ])"
      ]
     },
     "execution_count": 1019,
     "metadata": {},
     "output_type": "execute_result"
    }
   ],
   "source": [
    "# categorizacion de variables\n",
    "intervalos = np.linspace(4.01, 5.0, 15)\n",
    "intervalos"
   ]
  },
  {
   "cell_type": "code",
   "execution_count": 1020,
   "metadata": {},
   "outputs": [
    {
     "data": {
      "text/plain": [
       "['categoria_1',\n",
       " 'categoria_2',\n",
       " 'categoria_3',\n",
       " 'categoria_4',\n",
       " 'categoria_5',\n",
       " 'categoria_6',\n",
       " 'categoria_7',\n",
       " 'categoria_8',\n",
       " 'categoria_9',\n",
       " 'categoria_10',\n",
       " 'categoria_11',\n",
       " 'categoria_12',\n",
       " 'categoria_13',\n",
       " 'categoria_14']"
      ]
     },
     "execution_count": 1020,
     "metadata": {},
     "output_type": "execute_result"
    }
   ],
   "source": [
    "# creamos las etiquetas para los intervalos\n",
    "categorias = [\"categoria_\" + str(i) for i in range(1, len(intervalos))]\n",
    "categorias"
   ]
  },
  {
   "cell_type": "code",
   "execution_count": 1021,
   "metadata": {},
   "outputs": [
    {
     "data": {
      "text/plain": [
       "0        categoria_13\n",
       "1        categoria_13\n",
       "2        categoria_12\n",
       "3         categoria_9\n",
       "4         categoria_9\n",
       "             ...     \n",
       "12717    categoria_12\n",
       "12718    categoria_12\n",
       "12719    categoria_12\n",
       "12720    categoria_12\n",
       "12721    categoria_12\n",
       "Name: review_scores_cleanliness, Length: 12722, dtype: category\n",
       "Categories (14, object): ['categoria_1' < 'categoria_2' < 'categoria_3' < 'categoria_4' ... 'categoria_11' < 'categoria_12' < 'categoria_13' < 'categoria_14']"
      ]
     },
     "execution_count": 1021,
     "metadata": {},
     "output_type": "execute_result"
    }
   ],
   "source": [
    "# finalmente creamos las categorias en la columna numerica\n",
    "dataset['review_scores_cleanliness'] = pd.cut(dataset['review_scores_cleanliness'], bins=intervalos, labels=categorias, right=False)\n",
    "dataset['review_scores_cleanliness']"
   ]
  },
  {
   "cell_type": "markdown",
   "metadata": {},
   "source": [
    "### Variable “review_scores_accuracy”"
   ]
  },
  {
   "cell_type": "code",
   "execution_count": 1022,
   "metadata": {},
   "outputs": [
    {
     "data": {
      "text/plain": [
       "0        4.73\n",
       "1        4.88\n",
       "2        4.79\n",
       "3        4.68\n",
       "4        4.21\n",
       "         ... \n",
       "12717    4.80\n",
       "12718    4.80\n",
       "12719    4.80\n",
       "12720    4.80\n",
       "12721    4.80\n",
       "Name: review_scores_accuracy, Length: 12722, dtype: float64"
      ]
     },
     "execution_count": 1022,
     "metadata": {},
     "output_type": "execute_result"
    }
   ],
   "source": [
    "dataset['review_scores_accuracy']"
   ]
  },
  {
   "cell_type": "code",
   "execution_count": 1023,
   "metadata": {},
   "outputs": [
    {
     "data": {
      "text/plain": [
       "[4.15, 5.0]"
      ]
     },
     "execution_count": 1023,
     "metadata": {},
     "output_type": "execute_result"
    }
   ],
   "source": [
    "# obtenemos el limite superior y el límite inferior de la columna objetivo\n",
    "Max = dataset['review_scores_accuracy'].max()\n",
    "Min = dataset['review_scores_accuracy'].min()\n",
    "Limites = [Min, Max]\n",
    "Limites"
   ]
  },
  {
   "cell_type": "code",
   "execution_count": 1024,
   "metadata": {},
   "outputs": [
    {
     "data": {
      "text/plain": [
       "0.8499999999999996"
      ]
     },
     "execution_count": 1024,
     "metadata": {},
     "output_type": "execute_result"
    }
   ],
   "source": [
    "# calculamos el rango r\n",
    "R = Max - Min\n",
    "R"
   ]
  },
  {
   "cell_type": "code",
   "execution_count": 1025,
   "metadata": {},
   "outputs": [
    {
     "data": {
      "text/plain": [
       "14.627123898918503"
      ]
     },
     "execution_count": 1025,
     "metadata": {},
     "output_type": "execute_result"
    }
   ],
   "source": [
    "# calculamos el número de intervalos de clase \"ni\", aplocando la regla de Sturges\n",
    "ni = 1+3.32*np.log10(n)\n",
    "ni"
   ]
  },
  {
   "cell_type": "code",
   "execution_count": 1026,
   "metadata": {},
   "outputs": [
    {
     "data": {
      "text/plain": [
       "0.058111218984262976"
      ]
     },
     "execution_count": 1026,
     "metadata": {},
     "output_type": "execute_result"
    }
   ],
   "source": [
    "# calculamos el ancho del intervalo \"i\"\n",
    "i = R/ni\n",
    "i"
   ]
  },
  {
   "cell_type": "markdown",
   "metadata": {},
   "source": [
    "#### Creación de Categorias a Partir de Clases"
   ]
  },
  {
   "cell_type": "code",
   "execution_count": 1027,
   "metadata": {},
   "outputs": [
    {
     "data": {
      "text/plain": [
       "array([4.15      , 4.21071429, 4.27142857, 4.33214286, 4.39285714,\n",
       "       4.45357143, 4.51428571, 4.575     , 4.63571429, 4.69642857,\n",
       "       4.75714286, 4.81785714, 4.87857143, 4.93928571, 5.        ])"
      ]
     },
     "execution_count": 1027,
     "metadata": {},
     "output_type": "execute_result"
    }
   ],
   "source": [
    "# categorizacion de variables\n",
    "intervalos = np.linspace(4.15, 5.0, 15)\n",
    "intervalos"
   ]
  },
  {
   "cell_type": "code",
   "execution_count": 1028,
   "metadata": {},
   "outputs": [
    {
     "data": {
      "text/plain": [
       "['categoria_1',\n",
       " 'categoria_2',\n",
       " 'categoria_3',\n",
       " 'categoria_4',\n",
       " 'categoria_5',\n",
       " 'categoria_6',\n",
       " 'categoria_7',\n",
       " 'categoria_8',\n",
       " 'categoria_9',\n",
       " 'categoria_10',\n",
       " 'categoria_11',\n",
       " 'categoria_12',\n",
       " 'categoria_13',\n",
       " 'categoria_14']"
      ]
     },
     "execution_count": 1028,
     "metadata": {},
     "output_type": "execute_result"
    }
   ],
   "source": [
    "# creamos las etiquetas para los intervalos\n",
    "categorias = [\"categoria_\" + str(i) for i in range(1, len(intervalos))]\n",
    "categorias"
   ]
  },
  {
   "cell_type": "code",
   "execution_count": 1029,
   "metadata": {},
   "outputs": [
    {
     "data": {
      "text/plain": [
       "0        categoria_10\n",
       "1        categoria_13\n",
       "2        categoria_11\n",
       "3         categoria_9\n",
       "4         categoria_1\n",
       "             ...     \n",
       "12717    categoria_11\n",
       "12718    categoria_11\n",
       "12719    categoria_11\n",
       "12720    categoria_11\n",
       "12721    categoria_11\n",
       "Name: review_scores_accuracy, Length: 12722, dtype: category\n",
       "Categories (14, object): ['categoria_1' < 'categoria_2' < 'categoria_3' < 'categoria_4' ... 'categoria_11' < 'categoria_12' < 'categoria_13' < 'categoria_14']"
      ]
     },
     "execution_count": 1029,
     "metadata": {},
     "output_type": "execute_result"
    }
   ],
   "source": [
    "# finalmente creamos las categorias en la columna numerica\n",
    "dataset['review_scores_accuracy'] = pd.cut(dataset['review_scores_accuracy'], bins=intervalos, labels=categorias, right=False)\n",
    "dataset['review_scores_accuracy']"
   ]
  }
 ],
 "metadata": {
  "kernelspec": {
   "display_name": "env",
   "language": "python",
   "name": "python3"
  },
  "language_info": {
   "codemirror_mode": {
    "name": "ipython",
    "version": 3
   },
   "file_extension": ".py",
   "mimetype": "text/x-python",
   "name": "python",
   "nbconvert_exporter": "python",
   "pygments_lexer": "ipython3",
   "version": "3.13.1"
  }
 },
 "nbformat": 4,
 "nbformat_minor": 2
}
