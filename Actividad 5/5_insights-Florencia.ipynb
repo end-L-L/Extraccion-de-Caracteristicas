{
 "cells": [
  {
   "cell_type": "markdown",
   "metadata": {},
   "source": [
    "# Extracción de Características de Florencia"
   ]
  },
  {
   "cell_type": "code",
   "execution_count": 424,
   "metadata": {},
   "outputs": [],
   "source": [
    "import pandas as pd\n",
    "import matplotlib.pyplot as plt\n",
    "import numpy as np\n",
    "import funpymodeling.exploratory as fp"
   ]
  },
  {
   "cell_type": "code",
   "execution_count": null,
   "metadata": {},
   "outputs": [
    {
     "data": {
      "text/html": [
       "<div>\n",
       "<style scoped>\n",
       "    .dataframe tbody tr th:only-of-type {\n",
       "        vertical-align: middle;\n",
       "    }\n",
       "\n",
       "    .dataframe tbody tr th {\n",
       "        vertical-align: top;\n",
       "    }\n",
       "\n",
       "    .dataframe thead th {\n",
       "        text-align: right;\n",
       "    }\n",
       "</style>\n",
       "<table border=\"1\" class=\"dataframe\">\n",
       "  <thead>\n",
       "    <tr style=\"text-align: right;\">\n",
       "      <th></th>\n",
       "      <th>id</th>\n",
       "      <th>host_id</th>\n",
       "      <th>source</th>\n",
       "      <th>name</th>\n",
       "      <th>description</th>\n",
       "      <th>neighborhood_overview</th>\n",
       "      <th>host_name</th>\n",
       "      <th>host_since</th>\n",
       "      <th>host_location</th>\n",
       "      <th>host_about</th>\n",
       "      <th>...</th>\n",
       "      <th>number_of_reviews_ltm</th>\n",
       "      <th>number_of_reviews_l30d</th>\n",
       "      <th>review_scores_rating</th>\n",
       "      <th>review_scores_accuracy</th>\n",
       "      <th>review_scores_cleanliness</th>\n",
       "      <th>review_scores_checkin</th>\n",
       "      <th>review_scores_communication</th>\n",
       "      <th>review_scores_location</th>\n",
       "      <th>review_scores_value</th>\n",
       "      <th>reviews_per_month</th>\n",
       "    </tr>\n",
       "  </thead>\n",
       "  <tbody>\n",
       "    <tr>\n",
       "      <th>0</th>\n",
       "      <td>31840</td>\n",
       "      <td>380378</td>\n",
       "      <td>previous scrape</td>\n",
       "      <td>A Residenza Martin  Classic room</td>\n",
       "      <td>Nice, private and quiet double room, classic s...</td>\n",
       "      <td>S/D</td>\n",
       "      <td>Officina 360</td>\n",
       "      <td>2011-02-07</td>\n",
       "      <td>Florence, Italy</td>\n",
       "      <td>360 Rentals has been offering fully furnished ...</td>\n",
       "      <td>...</td>\n",
       "      <td>5.0</td>\n",
       "      <td>0.0</td>\n",
       "      <td>4.66</td>\n",
       "      <td>4.73</td>\n",
       "      <td>4.87</td>\n",
       "      <td>4.86</td>\n",
       "      <td>4.91</td>\n",
       "      <td>4.91</td>\n",
       "      <td>4.70</td>\n",
       "      <td>0.77</td>\n",
       "    </tr>\n",
       "    <tr>\n",
       "      <th>1</th>\n",
       "      <td>32120</td>\n",
       "      <td>99235</td>\n",
       "      <td>city scrape</td>\n",
       "      <td>Welcome at Corte Verde in Florence</td>\n",
       "      <td>Apartment at a 30 minute walk from Ponte Vecch...</td>\n",
       "      <td>S/D</td>\n",
       "      <td>Lucia</td>\n",
       "      <td>2010-03-26</td>\n",
       "      <td>Florence, Italy</td>\n",
       "      <td>I was born and raised in the beautiful Florenc...</td>\n",
       "      <td>...</td>\n",
       "      <td>1.0</td>\n",
       "      <td>0.0</td>\n",
       "      <td>4.88</td>\n",
       "      <td>4.88</td>\n",
       "      <td>4.88</td>\n",
       "      <td>4.84</td>\n",
       "      <td>4.96</td>\n",
       "      <td>4.63</td>\n",
       "      <td>4.63</td>\n",
       "      <td>0.15</td>\n",
       "    </tr>\n",
       "    <tr>\n",
       "      <th>2</th>\n",
       "      <td>32180</td>\n",
       "      <td>13925330</td>\n",
       "      <td>city scrape</td>\n",
       "      <td>Charming Gem - Oltrarno City centre</td>\n",
       "      <td>.</td>\n",
       "      <td>S/D</td>\n",
       "      <td>Cesare</td>\n",
       "      <td>2014-04-05</td>\n",
       "      <td>Florence, Italy</td>\n",
       "      <td>.</td>\n",
       "      <td>...</td>\n",
       "      <td>4.0</td>\n",
       "      <td>0.0</td>\n",
       "      <td>4.74</td>\n",
       "      <td>4.79</td>\n",
       "      <td>4.85</td>\n",
       "      <td>4.79</td>\n",
       "      <td>4.70</td>\n",
       "      <td>4.82</td>\n",
       "      <td>4.85</td>\n",
       "      <td>0.21</td>\n",
       "    </tr>\n",
       "    <tr>\n",
       "      <th>3</th>\n",
       "      <td>39115</td>\n",
       "      <td>167739</td>\n",
       "      <td>city scrape</td>\n",
       "      <td>Central Double Shared Bathroom</td>\n",
       "      <td>Double (or Twin) Room Shared Bathroom: comfort...</td>\n",
       "      <td>San Lorenzo Church, the market and Cappelle Me...</td>\n",
       "      <td>Lorenzo</td>\n",
       "      <td>2010-07-15</td>\n",
       "      <td>Florence, Italy</td>\n",
       "      <td>Casa Billi, now renewed, is centrally located ...</td>\n",
       "      <td>...</td>\n",
       "      <td>8.0</td>\n",
       "      <td>0.0</td>\n",
       "      <td>4.53</td>\n",
       "      <td>4.68</td>\n",
       "      <td>4.60</td>\n",
       "      <td>4.81</td>\n",
       "      <td>4.74</td>\n",
       "      <td>4.90</td>\n",
       "      <td>4.55</td>\n",
       "      <td>0.46</td>\n",
       "    </tr>\n",
       "    <tr>\n",
       "      <th>4</th>\n",
       "      <td>39165</td>\n",
       "      <td>167739</td>\n",
       "      <td>previous scrape</td>\n",
       "      <td>Florence Central Double Private Bathroom</td>\n",
       "      <td>Double room private bathroom: comfortable, lar...</td>\n",
       "      <td>San Lorenzo Church, the market and Cappelle Me...</td>\n",
       "      <td>Lorenzo</td>\n",
       "      <td>2010-07-15</td>\n",
       "      <td>Florence, Italy</td>\n",
       "      <td>Casa Billi, now renewed, is centrally located ...</td>\n",
       "      <td>...</td>\n",
       "      <td>2.0</td>\n",
       "      <td>0.0</td>\n",
       "      <td>4.32</td>\n",
       "      <td>4.21</td>\n",
       "      <td>4.58</td>\n",
       "      <td>4.68</td>\n",
       "      <td>4.63</td>\n",
       "      <td>4.95</td>\n",
       "      <td>4.32</td>\n",
       "      <td>0.13</td>\n",
       "    </tr>\n",
       "  </tbody>\n",
       "</table>\n",
       "<p>5 rows × 50 columns</p>\n",
       "</div>"
      ],
      "text/plain": [
       "      id   host_id           source                                      name  \\\n",
       "0  31840    380378  previous scrape          A Residenza Martin  Classic room   \n",
       "1  32120     99235      city scrape        Welcome at Corte Verde in Florence   \n",
       "2  32180  13925330      city scrape       Charming Gem - Oltrarno City centre   \n",
       "3  39115    167739      city scrape            Central Double Shared Bathroom   \n",
       "4  39165    167739  previous scrape  Florence Central Double Private Bathroom   \n",
       "\n",
       "                                         description  \\\n",
       "0  Nice, private and quiet double room, classic s...   \n",
       "1  Apartment at a 30 minute walk from Ponte Vecch...   \n",
       "2                                                  .   \n",
       "3  Double (or Twin) Room Shared Bathroom: comfort...   \n",
       "4  Double room private bathroom: comfortable, lar...   \n",
       "\n",
       "                               neighborhood_overview     host_name  \\\n",
       "0                                                S/D  Officina 360   \n",
       "1                                                S/D         Lucia   \n",
       "2                                                S/D        Cesare   \n",
       "3  San Lorenzo Church, the market and Cappelle Me...       Lorenzo   \n",
       "4  San Lorenzo Church, the market and Cappelle Me...       Lorenzo   \n",
       "\n",
       "   host_since    host_location  \\\n",
       "0  2011-02-07  Florence, Italy   \n",
       "1  2010-03-26  Florence, Italy   \n",
       "2  2014-04-05  Florence, Italy   \n",
       "3  2010-07-15  Florence, Italy   \n",
       "4  2010-07-15  Florence, Italy   \n",
       "\n",
       "                                          host_about  ...  \\\n",
       "0  360 Rentals has been offering fully furnished ...  ...   \n",
       "1  I was born and raised in the beautiful Florenc...  ...   \n",
       "2                                                  .  ...   \n",
       "3  Casa Billi, now renewed, is centrally located ...  ...   \n",
       "4  Casa Billi, now renewed, is centrally located ...  ...   \n",
       "\n",
       "  number_of_reviews_ltm number_of_reviews_l30d review_scores_rating  \\\n",
       "0                   5.0                    0.0                 4.66   \n",
       "1                   1.0                    0.0                 4.88   \n",
       "2                   4.0                    0.0                 4.74   \n",
       "3                   8.0                    0.0                 4.53   \n",
       "4                   2.0                    0.0                 4.32   \n",
       "\n",
       "  review_scores_accuracy review_scores_cleanliness review_scores_checkin  \\\n",
       "0                   4.73                      4.87                  4.86   \n",
       "1                   4.88                      4.88                  4.84   \n",
       "2                   4.79                      4.85                  4.79   \n",
       "3                   4.68                      4.60                  4.81   \n",
       "4                   4.21                      4.58                  4.68   \n",
       "\n",
       "  review_scores_communication review_scores_location review_scores_value  \\\n",
       "0                        4.91                   4.91                4.70   \n",
       "1                        4.96                   4.63                4.63   \n",
       "2                        4.70                   4.82                4.85   \n",
       "3                        4.74                   4.90                4.55   \n",
       "4                        4.63                   4.95                4.32   \n",
       "\n",
       "  reviews_per_month  \n",
       "0              0.77  \n",
       "1              0.15  \n",
       "2              0.21  \n",
       "3              0.46  \n",
       "4              0.13  \n",
       "\n",
       "[5 rows x 50 columns]"
      ]
     },
     "execution_count": 425,
     "metadata": {},
     "output_type": "execute_result"
    }
   ],
   "source": [
    "df = pd.read_csv('listings - Florencia_clean.csv')\n",
    "df.head()"
   ]
  },
  {
   "cell_type": "code",
   "execution_count": 426,
   "metadata": {},
   "outputs": [
    {
     "name": "stdout",
     "output_type": "stream",
     "text": [
      "<class 'pandas.core.frame.DataFrame'>\n",
      "RangeIndex: 12722 entries, 0 to 12721\n",
      "Data columns (total 50 columns):\n",
      " #   Column                       Non-Null Count  Dtype  \n",
      "---  ------                       --------------  -----  \n",
      " 0   id                           12722 non-null  int64  \n",
      " 1   host_id                      12722 non-null  int64  \n",
      " 2   source                       12722 non-null  object \n",
      " 3   name                         12722 non-null  object \n",
      " 4   description                  12722 non-null  object \n",
      " 5   neighborhood_overview        12722 non-null  object \n",
      " 6   host_name                    12722 non-null  object \n",
      " 7   host_since                   12722 non-null  object \n",
      " 8   host_location                12722 non-null  object \n",
      " 9   host_about                   12722 non-null  object \n",
      " 10  host_response_time           12722 non-null  object \n",
      " 11  host_response_rate           12722 non-null  object \n",
      " 12  host_acceptance_rate         12722 non-null  object \n",
      " 13  host_is_superhost            12722 non-null  object \n",
      " 14  host_verifications           12722 non-null  object \n",
      " 15  host_identity_verified       12722 non-null  object \n",
      " 16  neighbourhood_cleansed       12722 non-null  object \n",
      " 17  property_type                12722 non-null  object \n",
      " 18  room_type                    12722 non-null  object \n",
      " 19  bathrooms_text               12722 non-null  object \n",
      " 20  amenities                    12722 non-null  object \n",
      " 21  has_availability             12722 non-null  object \n",
      " 22  first_review                 12722 non-null  object \n",
      " 23  last_review                  12722 non-null  object \n",
      " 24  instant_bookable             12722 non-null  object \n",
      " 25  host_listings_count          12722 non-null  float64\n",
      " 26  host_total_listings_count    12722 non-null  float64\n",
      " 27  latitude                     12722 non-null  float64\n",
      " 28  longitude                    12722 non-null  float64\n",
      " 29  accommodates                 12722 non-null  float64\n",
      " 30  bedrooms                     12722 non-null  float64\n",
      " 31  beds                         12722 non-null  float64\n",
      " 32  price                        12722 non-null  float64\n",
      " 33  minimum_nights               12722 non-null  float64\n",
      " 34  maximum_nights               12722 non-null  float64\n",
      " 35  availability_30              12722 non-null  float64\n",
      " 36  availability_60              12722 non-null  int64  \n",
      " 37  availability_90              12722 non-null  int64  \n",
      " 38  availability_365             12722 non-null  int64  \n",
      " 39  number_of_reviews            12722 non-null  float64\n",
      " 40  number_of_reviews_ltm        12722 non-null  float64\n",
      " 41  number_of_reviews_l30d       12722 non-null  float64\n",
      " 42  review_scores_rating         12722 non-null  float64\n",
      " 43  review_scores_accuracy       12722 non-null  float64\n",
      " 44  review_scores_cleanliness    12722 non-null  float64\n",
      " 45  review_scores_checkin        12722 non-null  float64\n",
      " 46  review_scores_communication  12722 non-null  float64\n",
      " 47  review_scores_location       12722 non-null  float64\n",
      " 48  review_scores_value          12722 non-null  float64\n",
      " 49  reviews_per_month            12722 non-null  float64\n",
      "dtypes: float64(22), int64(5), object(23)\n",
      "memory usage: 4.9+ MB\n"
     ]
    }
   ],
   "source": [
    "df.info()"
   ]
  },
  {
   "cell_type": "markdown",
   "metadata": {},
   "source": [
    "### Análisis Univariado"
   ]
  },
  {
   "cell_type": "code",
   "execution_count": 427,
   "metadata": {},
   "outputs": [],
   "source": [
    "# Escogemos las 12 variables categóricas disponibles en el dataset\n",
    "df = df[[\"source\", \"host_response_time\", \"host_is_superhost\", \"host_verifications\", \"host_identity_verified\", \n",
    "         \"neighbourhood_cleansed\", \"property_type\", \"room_type\", \"bathrooms_text\", \"has_availability\",\n",
    "         \"instant_bookable\", \"host_location\"]]"
   ]
  },
  {
   "cell_type": "code",
   "execution_count": 428,
   "metadata": {},
   "outputs": [
    {
     "name": "stdout",
     "output_type": "stream",
     "text": [
      "            source  frequency  percentage  cumulative_perc\n",
      "0      city scrape      11884     0.93413          0.93413\n",
      "1  previous scrape        838     0.06587          1.00000\n",
      "\n",
      "----------------------------------------------------------------\n",
      "\n",
      "   host_response_time  frequency  percentage  cumulative_perc\n",
      "0      within an hour      10063    0.790992         0.790992\n",
      "1        within a day       1554    0.122151         0.913143\n",
      "2  within a few hours        901    0.070822         0.983965\n",
      "3  a few days or more        204    0.016035         1.000000\n",
      "\n",
      "----------------------------------------------------------------\n",
      "\n",
      "  host_is_superhost  frequency  percentage  cumulative_perc\n",
      "0                 f       7613    0.598412         0.598412\n",
      "1                 t       5109    0.401588         1.000000\n",
      "\n",
      "----------------------------------------------------------------\n",
      "\n",
      "                 host_verifications  frequency  percentage  cumulative_perc\n",
      "0                ['email', 'phone']      10126    0.795944         0.795944\n",
      "1  ['email', 'phone', 'work_email']       1643    0.129146         0.925090\n",
      "2                         ['phone']        652    0.051250         0.976340\n",
      "3           ['phone', 'work_email']        289    0.022717         0.999057\n",
      "4                         ['email']         12    0.000943         1.000000\n",
      "\n",
      "----------------------------------------------------------------\n",
      "\n",
      "  host_identity_verified  frequency  percentage  cumulative_perc\n",
      "0                      t      12244    0.962427         0.962427\n",
      "1                      f        478    0.037573         1.000000\n",
      "\n",
      "----------------------------------------------------------------\n",
      "\n",
      "  neighbourhood_cleansed  frequency  percentage  cumulative_perc\n",
      "0         Centro Storico       9284    0.729759         0.729759\n",
      "1         Campo di Marte       1341    0.105408         0.835167\n",
      "2                Rifredi       1079    0.084814         0.919981\n",
      "3       Isolotto Legnaia        556    0.043704         0.963685\n",
      "4      Gavinana Galluzzo        462    0.036315         1.000000\n",
      "\n",
      "----------------------------------------------------------------\n",
      "\n",
      "                         property_type  frequency  percentage  cumulative_perc\n",
      "0                   Entire rental unit       7104    0.558403         0.558403\n",
      "1                         Entire condo       2483    0.195174         0.753576\n",
      "2          Private room in rental unit        799    0.062805         0.816381\n",
      "3    Private room in bed and breakfast        378    0.029712         0.846093\n",
      "4                          Entire home        354    0.027826         0.873919\n",
      "5                Private room in condo        293    0.023031         0.896950\n",
      "6                          Entire loft        264    0.020751         0.917702\n",
      "7               Room in boutique hotel        157    0.012341         0.930042\n",
      "8                        Room in hotel        154    0.012105         0.942147\n",
      "9                 Private room in home        135    0.010612         0.952759\n",
      "10                Entire vacation home        105    0.008253         0.961012\n",
      "11           Entire serviced apartment         90    0.007074         0.968087\n",
      "12                        Entire villa         44    0.003459         0.971545\n",
      "13           Room in bed and breakfast         33    0.002594         0.974139\n",
      "14                           Tiny home         28    0.002201         0.976340\n",
      "15  Private room in serviced apartment         26    0.002044         0.978384\n",
      "16                    Entire townhouse         25    0.001965         0.980349\n",
      "17       Private room in vacation home         22    0.001729         0.982078\n",
      "18           Private room in townhouse         16    0.001258         0.983336\n",
      "19                        Private room         15    0.001179         0.984515\n",
      "20                  Entire guest suite         15    0.001179         0.985694\n",
      "21     Private room in casa particular         15    0.001179         0.986873\n",
      "22          Room in serviced apartment         15    0.001179         0.988052\n",
      "23         Private room in guest suite         14    0.001100         0.989153\n",
      "24               Private room in villa         12    0.000943         0.990096\n",
      "25          Private room in guesthouse         11    0.000865         0.990961\n",
      "26                  Room in aparthotel         11    0.000865         0.991825\n",
      "27               Shared room in hostel         10    0.000786         0.992611\n",
      "28                 Shared room in home          9    0.000707         0.993319\n",
      "29                      Entire cottage          9    0.000707         0.994026\n",
      "30                        Entire place          9    0.000707         0.994734\n",
      "31                Private room in loft          8    0.000629         0.995362\n",
      "32                Shared room in condo          7    0.000550         0.995913\n",
      "33                           Farm stay          7    0.000550         0.996463\n",
      "34                     Entire home/apt          7    0.000550         0.997013\n",
      "35              Private room in hostel          6    0.000472         0.997485\n",
      "36          Shared room in rental unit          4    0.000314         0.997799\n",
      "37                   Entire guesthouse          4    0.000314         0.998114\n",
      "38                     Casa particular          3    0.000236         0.998349\n",
      "39                           Camper/RV          3    0.000236         0.998585\n",
      "40            Entire bed and breakfast          2    0.000157         0.998742\n",
      "41                               Tower          2    0.000157         0.998900\n",
      "42                                Boat          1    0.000079         0.998978\n",
      "43                Shared room in cabin          1    0.000079         0.999057\n",
      "44                                Barn          1    0.000079         0.999135\n",
      "45         Shared room in earthen home          1    0.000079         0.999214\n",
      "46      Private room in shepherd's hut          1    0.000079         0.999293\n",
      "47                                Tent          1    0.000079         0.999371\n",
      "48                              Castle          1    0.000079         0.999450\n",
      "49        Private room in earthen home          1    0.000079         0.999528\n",
      "50           Private room in tiny home          1    0.000079         0.999607\n",
      "51   Shared room in serviced apartment          1    0.000079         0.999686\n",
      "52                     Entire bungalow          1    0.000079         0.999764\n",
      "53                        Entire cabin          1    0.000079         0.999843\n",
      "54    Shared room in bed and breakfast          1    0.000079         0.999921\n",
      "55           Shared room in guesthouse          1    0.000079         1.000000\n",
      "\n",
      "----------------------------------------------------------------\n",
      "\n",
      "         room_type  frequency  percentage  cumulative_perc\n",
      "0  Entire home/apt      10566    0.830530         0.830530\n",
      "1     Private room       2035    0.159959         0.990489\n",
      "2       Hotel room         86    0.006760         0.997249\n",
      "3      Shared room         35    0.002751         1.000000\n",
      "\n",
      "----------------------------------------------------------------\n",
      "\n",
      "       bathrooms_text  frequency  percentage  cumulative_perc\n",
      "0              1 bath       7398    0.581512         0.581512\n",
      "1             2 baths       2350    0.184719         0.766232\n",
      "2      1 private bath       1086    0.085364         0.851596\n",
      "3           1.5 baths        497    0.039066         0.890662\n",
      "4       1 shared bath        480    0.037730         0.928392\n",
      "5             3 baths        381    0.029948         0.958340\n",
      "6           2.5 baths        136    0.010690         0.969030\n",
      "7             4 baths         99    0.007782         0.976812\n",
      "8      2 shared baths         91    0.007153         0.983965\n",
      "9           3.5 baths         42    0.003301         0.987266\n",
      "10   1.5 shared baths         27    0.002122         0.989388\n",
      "11            5 baths         26    0.002044         0.991432\n",
      "12            6 baths         20    0.001572         0.993004\n",
      "13            0 baths         19    0.001493         0.994498\n",
      "14          Half-bath         15    0.001179         0.995677\n",
      "15          4.5 baths         14    0.001100         0.996777\n",
      "16   Shared half-bath          8    0.000629         0.997406\n",
      "17     0 shared baths          7    0.000550         0.997956\n",
      "18          5.5 baths          7    0.000550         0.998507\n",
      "19          6.5 baths          3    0.000236         0.998742\n",
      "20  Private half-bath          3    0.000236         0.998978\n",
      "21     3 shared baths          2    0.000157         0.999135\n",
      "22            9 baths          2    0.000157         0.999293\n",
      "23            8 baths          2    0.000157         0.999450\n",
      "24          8.5 baths          1    0.000079         0.999528\n",
      "25            7 baths          1    0.000079         0.999607\n",
      "26           13 baths          1    0.000079         0.999686\n",
      "27   2.5 shared baths          1    0.000079         0.999764\n",
      "28         13.5 baths          1    0.000079         0.999843\n",
      "29     4 shared baths          1    0.000079         0.999921\n",
      "30           12 baths          1    0.000079         1.000000\n",
      "\n",
      "----------------------------------------------------------------\n",
      "\n",
      "  has_availability  frequency  percentage  cumulative_perc\n",
      "0                t      12683    0.996934         0.996934\n",
      "1                f         39    0.003066         1.000000\n",
      "\n",
      "----------------------------------------------------------------\n",
      "\n",
      "  instant_bookable  frequency  percentage  cumulative_perc\n",
      "0                t       7767    0.610517         0.610517\n",
      "1                f       4955    0.389483         1.000000\n",
      "\n",
      "----------------------------------------------------------------\n",
      "\n",
      "              host_location  frequency  percentage  cumulative_perc\n",
      "0           Florence, Italy       8751    0.687864         0.687864\n",
      "1                     Italy       2488    0.195567         0.883430\n",
      "2              Milan, Italy        227    0.017843         0.901273\n",
      "3            Tuscany, Italy         93    0.007310         0.908584\n",
      "4              Prato, Italy         77    0.006053         0.914636\n",
      "..                      ...        ...         ...              ...\n",
      "259  Baugé-en-Anjou, France          1    0.000079         0.999686\n",
      "260        Vimodrone, Italy          1    0.000079         0.999764\n",
      "261          Comeana, Italy          1    0.000079         0.999843\n",
      "262      Guayaquil, Ecuador          1    0.000079         0.999921\n",
      "263  The Hague, Netherlands          1    0.000079         1.000000\n",
      "\n",
      "[264 rows x 4 columns]\n",
      "\n",
      "----------------------------------------------------------------\n",
      "\n"
     ]
    }
   ],
   "source": [
    "# Realizamos el análisis univariado\n",
    "fp.freq_tbl(df)"
   ]
  },
  {
   "cell_type": "markdown",
   "metadata": {},
   "source": [
    "### Análisis Univariado por Variable"
   ]
  },
  {
   "cell_type": "markdown",
   "metadata": {},
   "source": [
    "#### Variable \"source\""
   ]
  },
  {
   "cell_type": "code",
   "execution_count": 429,
   "metadata": {},
   "outputs": [
    {
     "data": {
      "text/html": [
       "<div>\n",
       "<style scoped>\n",
       "    .dataframe tbody tr th:only-of-type {\n",
       "        vertical-align: middle;\n",
       "    }\n",
       "\n",
       "    .dataframe tbody tr th {\n",
       "        vertical-align: top;\n",
       "    }\n",
       "\n",
       "    .dataframe thead th {\n",
       "        text-align: right;\n",
       "    }\n",
       "</style>\n",
       "<table border=\"1\" class=\"dataframe\">\n",
       "  <thead>\n",
       "    <tr style=\"text-align: right;\">\n",
       "      <th></th>\n",
       "      <th>source</th>\n",
       "      <th>frequency</th>\n",
       "    </tr>\n",
       "  </thead>\n",
       "  <tbody>\n",
       "    <tr>\n",
       "      <th>0</th>\n",
       "      <td>city scrape</td>\n",
       "      <td>11884</td>\n",
       "    </tr>\n",
       "    <tr>\n",
       "      <th>1</th>\n",
       "      <td>previous scrape</td>\n",
       "      <td>838</td>\n",
       "    </tr>\n",
       "  </tbody>\n",
       "</table>\n",
       "</div>"
      ],
      "text/plain": [
       "            source  frequency\n",
       "0      city scrape      11884\n",
       "1  previous scrape        838"
      ]
     },
     "execution_count": 429,
     "metadata": {},
     "output_type": "execute_result"
    }
   ],
   "source": [
    "# Realizamos el análisis univariado de la variable \"source\"\n",
    "source = fp.freq_tbl(df[\"source\"])\n",
    "# Quitaremos las columnas \"percent\" y \"cumulative_percent\" para que la tabla sea más legible\n",
    "source.drop([\"percentage\", \"cumulative_perc\"], axis=1, inplace=True)\n",
    "source"
   ]
  },
  {
   "cell_type": "code",
   "execution_count": 430,
   "metadata": {},
   "outputs": [
    {
     "data": {
      "text/html": [
       "<div>\n",
       "<style scoped>\n",
       "    .dataframe tbody tr th:only-of-type {\n",
       "        vertical-align: middle;\n",
       "    }\n",
       "\n",
       "    .dataframe tbody tr th {\n",
       "        vertical-align: top;\n",
       "    }\n",
       "\n",
       "    .dataframe thead th {\n",
       "        text-align: right;\n",
       "    }\n",
       "</style>\n",
       "<table border=\"1\" class=\"dataframe\">\n",
       "  <thead>\n",
       "    <tr style=\"text-align: right;\">\n",
       "      <th></th>\n",
       "      <th>frequency</th>\n",
       "    </tr>\n",
       "    <tr>\n",
       "      <th>source</th>\n",
       "      <th></th>\n",
       "    </tr>\n",
       "  </thead>\n",
       "  <tbody>\n",
       "    <tr>\n",
       "      <th>city scrape</th>\n",
       "      <td>11884</td>\n",
       "    </tr>\n",
       "    <tr>\n",
       "      <th>previous scrape</th>\n",
       "      <td>838</td>\n",
       "    </tr>\n",
       "  </tbody>\n",
       "</table>\n",
       "</div>"
      ],
      "text/plain": [
       "                 frequency\n",
       "source                    \n",
       "city scrape          11884\n",
       "previous scrape        838"
      ]
     },
     "execution_count": 430,
     "metadata": {},
     "output_type": "execute_result"
    }
   ],
   "source": [
    "# Ajustamos el índice (para mayor legibilidad en el gráfico)\n",
    "source = source.set_index(\"source\")\n",
    "source"
   ]
  },
  {
   "cell_type": "code",
   "execution_count": 431,
   "metadata": {},
   "outputs": [
    {
     "data": {
      "text/plain": [
       "Text(0, 0.5, '')"
      ]
     },
     "execution_count": 431,
     "metadata": {},
     "output_type": "execute_result"
    },
    {
     "data": {
      "image/png": "[encoded data removed]",
      "text/plain": [
       "<Figure size 1000x1000 with 1 Axes>"
      ]
     },
     "metadata": {},
     "output_type": "display_data"
    }
   ],
   "source": [
    "# Generamos un gráfico de pastel para representar la proporción de cada fuente\n",
    "source.plot(kind='pie', y='frequency', figsize=(10,10), autopct='%1.1f%%')\n",
    "plt.title(\"Proporción de cada fuente\")\n",
    "plt.ylabel(\"\")"
   ]
  },
  {
   "cell_type": "markdown",
   "metadata": {},
   "source": [
    "#### Variable \"host_response_time\""
   ]
  },
  {
   "cell_type": "code",
   "execution_count": 432,
   "metadata": {},
   "outputs": [
    {
     "data": {
      "text/html": [
       "<div>\n",
       "<style scoped>\n",
       "    .dataframe tbody tr th:only-of-type {\n",
       "        vertical-align: middle;\n",
       "    }\n",
       "\n",
       "    .dataframe tbody tr th {\n",
       "        vertical-align: top;\n",
       "    }\n",
       "\n",
       "    .dataframe thead th {\n",
       "        text-align: right;\n",
       "    }\n",
       "</style>\n",
       "<table border=\"1\" class=\"dataframe\">\n",
       "  <thead>\n",
       "    <tr style=\"text-align: right;\">\n",
       "      <th></th>\n",
       "      <th>host_response_time</th>\n",
       "      <th>frequency</th>\n",
       "    </tr>\n",
       "  </thead>\n",
       "  <tbody>\n",
       "    <tr>\n",
       "      <th>0</th>\n",
       "      <td>within an hour</td>\n",
       "      <td>10063</td>\n",
       "    </tr>\n",
       "    <tr>\n",
       "      <th>1</th>\n",
       "      <td>within a day</td>\n",
       "      <td>1554</td>\n",
       "    </tr>\n",
       "    <tr>\n",
       "      <th>2</th>\n",
       "      <td>within a few hours</td>\n",
       "      <td>901</td>\n",
       "    </tr>\n",
       "    <tr>\n",
       "      <th>3</th>\n",
       "      <td>a few days or more</td>\n",
       "      <td>204</td>\n",
       "    </tr>\n",
       "  </tbody>\n",
       "</table>\n",
       "</div>"
      ],
      "text/plain": [
       "   host_response_time  frequency\n",
       "0      within an hour      10063\n",
       "1        within a day       1554\n",
       "2  within a few hours        901\n",
       "3  a few days or more        204"
      ]
     },
     "execution_count": 432,
     "metadata": {},
     "output_type": "execute_result"
    }
   ],
   "source": [
    "host_response_time = fp.freq_tbl(df[\"host_response_time\"])\n",
    "host_response_time.drop([\"percentage\", \"cumulative_perc\"], axis=1, inplace=True)\n",
    "host_response_time"
   ]
  },
  {
   "cell_type": "code",
   "execution_count": 433,
   "metadata": {},
   "outputs": [
    {
     "data": {
      "text/html": [
       "<div>\n",
       "<style scoped>\n",
       "    .dataframe tbody tr th:only-of-type {\n",
       "        vertical-align: middle;\n",
       "    }\n",
       "\n",
       "    .dataframe tbody tr th {\n",
       "        vertical-align: top;\n",
       "    }\n",
       "\n",
       "    .dataframe thead th {\n",
       "        text-align: right;\n",
       "    }\n",
       "</style>\n",
       "<table border=\"1\" class=\"dataframe\">\n",
       "  <thead>\n",
       "    <tr style=\"text-align: right;\">\n",
       "      <th></th>\n",
       "      <th>frequency</th>\n",
       "    </tr>\n",
       "    <tr>\n",
       "      <th>host_response_time</th>\n",
       "      <th></th>\n",
       "    </tr>\n",
       "  </thead>\n",
       "  <tbody>\n",
       "    <tr>\n",
       "      <th>within an hour</th>\n",
       "      <td>10063</td>\n",
       "    </tr>\n",
       "    <tr>\n",
       "      <th>within a day</th>\n",
       "      <td>1554</td>\n",
       "    </tr>\n",
       "    <tr>\n",
       "      <th>within a few hours</th>\n",
       "      <td>901</td>\n",
       "    </tr>\n",
       "    <tr>\n",
       "      <th>a few days or more</th>\n",
       "      <td>204</td>\n",
       "    </tr>\n",
       "  </tbody>\n",
       "</table>\n",
       "</div>"
      ],
      "text/plain": [
       "                    frequency\n",
       "host_response_time           \n",
       "within an hour          10063\n",
       "within a day             1554\n",
       "within a few hours        901\n",
       "a few days or more        204"
      ]
     },
     "execution_count": 433,
     "metadata": {},
     "output_type": "execute_result"
    }
   ],
   "source": [
    "host_response_time = host_response_time.set_index(\"host_response_time\")\n",
    "host_response_time"
   ]
  },
  {
   "cell_type": "code",
   "execution_count": 434,
   "metadata": {},
   "outputs": [
    {
     "data": {
      "text/plain": [
       "Text(0, 0.5, 'Frecuencia')"
      ]
     },
     "execution_count": 434,
     "metadata": {},
     "output_type": "execute_result"
    },
    {
     "data": {
      "image/png": "[encoded data removed]",
      "text/plain": [
       "<Figure size 1000x1000 with 1 Axes>"
      ]
     },
     "metadata": {},
     "output_type": "display_data"
    }
   ],
   "source": [
    "# Haremos un gráfico de barras para representar la frecuencia de cada categoría\n",
    "host_response_time.plot(kind='bar', y='frequency', figsize=(10,10))\n",
    "plt.title(\"Frecuencia de cada categoría de host_response_time\")\n",
    "plt.ylabel(\"Frecuencia\")"
   ]
  },
  {
   "cell_type": "markdown",
   "metadata": {},
   "source": [
    "#### Variable \"host_is_superhost\""
   ]
  },
  {
   "cell_type": "code",
   "execution_count": 435,
   "metadata": {},
   "outputs": [
    {
     "data": {
      "text/html": [
       "<div>\n",
       "<style scoped>\n",
       "    .dataframe tbody tr th:only-of-type {\n",
       "        vertical-align: middle;\n",
       "    }\n",
       "\n",
       "    .dataframe tbody tr th {\n",
       "        vertical-align: top;\n",
       "    }\n",
       "\n",
       "    .dataframe thead th {\n",
       "        text-align: right;\n",
       "    }\n",
       "</style>\n",
       "<table border=\"1\" class=\"dataframe\">\n",
       "  <thead>\n",
       "    <tr style=\"text-align: right;\">\n",
       "      <th></th>\n",
       "      <th>host_is_superhost</th>\n",
       "      <th>frequency</th>\n",
       "    </tr>\n",
       "  </thead>\n",
       "  <tbody>\n",
       "    <tr>\n",
       "      <th>0</th>\n",
       "      <td>f</td>\n",
       "      <td>7613</td>\n",
       "    </tr>\n",
       "    <tr>\n",
       "      <th>1</th>\n",
       "      <td>t</td>\n",
       "      <td>5109</td>\n",
       "    </tr>\n",
       "  </tbody>\n",
       "</table>\n",
       "</div>"
      ],
      "text/plain": [
       "  host_is_superhost  frequency\n",
       "0                 f       7613\n",
       "1                 t       5109"
      ]
     },
     "execution_count": 435,
     "metadata": {},
     "output_type": "execute_result"
    }
   ],
   "source": [
    "host_is_superhost = fp.freq_tbl(df[\"host_is_superhost\"])\n",
    "host_is_superhost.drop([\"percentage\", \"cumulative_perc\"], axis=1, inplace=True)\n",
    "host_is_superhost"
   ]
  },
  {
   "cell_type": "code",
   "execution_count": 436,
   "metadata": {},
   "outputs": [
    {
     "data": {
      "text/html": [
       "<div>\n",
       "<style scoped>\n",
       "    .dataframe tbody tr th:only-of-type {\n",
       "        vertical-align: middle;\n",
       "    }\n",
       "\n",
       "    .dataframe tbody tr th {\n",
       "        vertical-align: top;\n",
       "    }\n",
       "\n",
       "    .dataframe thead th {\n",
       "        text-align: right;\n",
       "    }\n",
       "</style>\n",
       "<table border=\"1\" class=\"dataframe\">\n",
       "  <thead>\n",
       "    <tr style=\"text-align: right;\">\n",
       "      <th></th>\n",
       "      <th>frequency</th>\n",
       "    </tr>\n",
       "    <tr>\n",
       "      <th>host_is_superhost</th>\n",
       "      <th></th>\n",
       "    </tr>\n",
       "  </thead>\n",
       "  <tbody>\n",
       "    <tr>\n",
       "      <th>f</th>\n",
       "      <td>7613</td>\n",
       "    </tr>\n",
       "    <tr>\n",
       "      <th>t</th>\n",
       "      <td>5109</td>\n",
       "    </tr>\n",
       "  </tbody>\n",
       "</table>\n",
       "</div>"
      ],
      "text/plain": [
       "                   frequency\n",
       "host_is_superhost           \n",
       "f                       7613\n",
       "t                       5109"
      ]
     },
     "execution_count": 436,
     "metadata": {},
     "output_type": "execute_result"
    }
   ],
   "source": [
    "# Ajustamos el índice\n",
    "host_is_superhost = host_is_superhost.set_index(\"host_is_superhost\")\n",
    "host_is_superhost"
   ]
  },
  {
   "cell_type": "code",
   "execution_count": 437,
   "metadata": {},
   "outputs": [
    {
     "data": {
      "text/plain": [
       "Text(0, 0.5, '')"
      ]
     },
     "execution_count": 437,
     "metadata": {},
     "output_type": "execute_result"
    },
    {
     "data": {
      "image/png": "[encoded data removed]",
      "text/plain": [
       "<Figure size 1000x1000 with 1 Axes>"
      ]
     },
     "metadata": {},
     "output_type": "display_data"
    }
   ],
   "source": [
    "# Haremos un gráfico de pastel para representar la proporción de cada categoría\n",
    "host_is_superhost.plot(kind='pie', y='frequency', figsize=(10,10), autopct='%1.1f%%')\n",
    "plt.title(\"Proporción de cada categoría de host_is_superhost\")\n",
    "plt.ylabel(\"\")"
   ]
  },
  {
   "cell_type": "markdown",
   "metadata": {},
   "source": [
    "#### Variable \"host_identity_verified\""
   ]
  },
  {
   "cell_type": "code",
   "execution_count": 438,
   "metadata": {},
   "outputs": [
    {
     "data": {
      "text/html": [
       "<div>\n",
       "<style scoped>\n",
       "    .dataframe tbody tr th:only-of-type {\n",
       "        vertical-align: middle;\n",
       "    }\n",
       "\n",
       "    .dataframe tbody tr th {\n",
       "        vertical-align: top;\n",
       "    }\n",
       "\n",
       "    .dataframe thead th {\n",
       "        text-align: right;\n",
       "    }\n",
       "</style>\n",
       "<table border=\"1\" class=\"dataframe\">\n",
       "  <thead>\n",
       "    <tr style=\"text-align: right;\">\n",
       "      <th></th>\n",
       "      <th>host_identity_verified</th>\n",
       "      <th>frequency</th>\n",
       "    </tr>\n",
       "  </thead>\n",
       "  <tbody>\n",
       "    <tr>\n",
       "      <th>0</th>\n",
       "      <td>t</td>\n",
       "      <td>12244</td>\n",
       "    </tr>\n",
       "    <tr>\n",
       "      <th>1</th>\n",
       "      <td>f</td>\n",
       "      <td>478</td>\n",
       "    </tr>\n",
       "  </tbody>\n",
       "</table>\n",
       "</div>"
      ],
      "text/plain": [
       "  host_identity_verified  frequency\n",
       "0                      t      12244\n",
       "1                      f        478"
      ]
     },
     "execution_count": 438,
     "metadata": {},
     "output_type": "execute_result"
    }
   ],
   "source": [
    "host_identity_verified = fp.freq_tbl(df[\"host_identity_verified\"])\n",
    "host_identity_verified.drop([\"percentage\", \"cumulative_perc\"], axis=1, inplace=True)\n",
    "host_identity_verified"
   ]
  },
  {
   "cell_type": "code",
   "execution_count": 439,
   "metadata": {},
   "outputs": [
    {
     "data": {
      "text/html": [
       "<div>\n",
       "<style scoped>\n",
       "    .dataframe tbody tr th:only-of-type {\n",
       "        vertical-align: middle;\n",
       "    }\n",
       "\n",
       "    .dataframe tbody tr th {\n",
       "        vertical-align: top;\n",
       "    }\n",
       "\n",
       "    .dataframe thead th {\n",
       "        text-align: right;\n",
       "    }\n",
       "</style>\n",
       "<table border=\"1\" class=\"dataframe\">\n",
       "  <thead>\n",
       "    <tr style=\"text-align: right;\">\n",
       "      <th></th>\n",
       "      <th>frequency</th>\n",
       "    </tr>\n",
       "    <tr>\n",
       "      <th>host_identity_verified</th>\n",
       "      <th></th>\n",
       "    </tr>\n",
       "  </thead>\n",
       "  <tbody>\n",
       "    <tr>\n",
       "      <th>t</th>\n",
       "      <td>12244</td>\n",
       "    </tr>\n",
       "    <tr>\n",
       "      <th>f</th>\n",
       "      <td>478</td>\n",
       "    </tr>\n",
       "  </tbody>\n",
       "</table>\n",
       "</div>"
      ],
      "text/plain": [
       "                        frequency\n",
       "host_identity_verified           \n",
       "t                           12244\n",
       "f                             478"
      ]
     },
     "execution_count": 439,
     "metadata": {},
     "output_type": "execute_result"
    }
   ],
   "source": [
    "host_identity_verified = host_identity_verified.set_index(\"host_identity_verified\")\n",
    "host_identity_verified"
   ]
  },
  {
   "cell_type": "code",
   "execution_count": 440,
   "metadata": {},
   "outputs": [
    {
     "data": {
      "text/plain": [
       "Text(0, 0.5, '')"
      ]
     },
     "execution_count": 440,
     "metadata": {},
     "output_type": "execute_result"
    },
    {
     "data": {
      "image/png": "[encoded data removed]",
      "text/plain": [
       "<Figure size 1000x1000 with 1 Axes>"
      ]
     },
     "metadata": {},
     "output_type": "display_data"
    }
   ],
   "source": [
    "host_identity_verified.plot(kind='pie', y='frequency', figsize=(10,10), autopct='%1.1f%%')\n",
    "plt.title(\"Proporción de cada categoría de host_identity_verified\")\n",
    "plt.ylabel(\"\")"
   ]
  },
  {
   "cell_type": "markdown",
   "metadata": {},
   "source": [
    "#### Variable \"neighbourhood_cleansed\""
   ]
  },
  {
   "cell_type": "code",
   "execution_count": 441,
   "metadata": {},
   "outputs": [
    {
     "data": {
      "text/html": [
       "<div>\n",
       "<style scoped>\n",
       "    .dataframe tbody tr th:only-of-type {\n",
       "        vertical-align: middle;\n",
       "    }\n",
       "\n",
       "    .dataframe tbody tr th {\n",
       "        vertical-align: top;\n",
       "    }\n",
       "\n",
       "    .dataframe thead th {\n",
       "        text-align: right;\n",
       "    }\n",
       "</style>\n",
       "<table border=\"1\" class=\"dataframe\">\n",
       "  <thead>\n",
       "    <tr style=\"text-align: right;\">\n",
       "      <th></th>\n",
       "      <th>neighbourhood_cleansed</th>\n",
       "      <th>frequency</th>\n",
       "    </tr>\n",
       "  </thead>\n",
       "  <tbody>\n",
       "    <tr>\n",
       "      <th>0</th>\n",
       "      <td>Centro Storico</td>\n",
       "      <td>9284</td>\n",
       "    </tr>\n",
       "    <tr>\n",
       "      <th>1</th>\n",
       "      <td>Campo di Marte</td>\n",
       "      <td>1341</td>\n",
       "    </tr>\n",
       "    <tr>\n",
       "      <th>2</th>\n",
       "      <td>Rifredi</td>\n",
       "      <td>1079</td>\n",
       "    </tr>\n",
       "    <tr>\n",
       "      <th>3</th>\n",
       "      <td>Isolotto Legnaia</td>\n",
       "      <td>556</td>\n",
       "    </tr>\n",
       "    <tr>\n",
       "      <th>4</th>\n",
       "      <td>Gavinana Galluzzo</td>\n",
       "      <td>462</td>\n",
       "    </tr>\n",
       "  </tbody>\n",
       "</table>\n",
       "</div>"
      ],
      "text/plain": [
       "  neighbourhood_cleansed  frequency\n",
       "0         Centro Storico       9284\n",
       "1         Campo di Marte       1341\n",
       "2                Rifredi       1079\n",
       "3       Isolotto Legnaia        556\n",
       "4      Gavinana Galluzzo        462"
      ]
     },
     "execution_count": 441,
     "metadata": {},
     "output_type": "execute_result"
    }
   ],
   "source": [
    "neighbourhood_cleansed = fp.freq_tbl(df[\"neighbourhood_cleansed\"])\n",
    "neighbourhood_cleansed.drop([\"percentage\", \"cumulative_perc\"], axis=1, inplace=True)\n",
    "neighbourhood_cleansed"
   ]
  },
  {
   "cell_type": "code",
   "execution_count": 442,
   "metadata": {},
   "outputs": [
    {
     "data": {
      "text/html": [
       "<div>\n",
       "<style scoped>\n",
       "    .dataframe tbody tr th:only-of-type {\n",
       "        vertical-align: middle;\n",
       "    }\n",
       "\n",
       "    .dataframe tbody tr th {\n",
       "        vertical-align: top;\n",
       "    }\n",
       "\n",
       "    .dataframe thead th {\n",
       "        text-align: right;\n",
       "    }\n",
       "</style>\n",
       "<table border=\"1\" class=\"dataframe\">\n",
       "  <thead>\n",
       "    <tr style=\"text-align: right;\">\n",
       "      <th></th>\n",
       "      <th>frequency</th>\n",
       "    </tr>\n",
       "    <tr>\n",
       "      <th>neighbourhood_cleansed</th>\n",
       "      <th></th>\n",
       "    </tr>\n",
       "  </thead>\n",
       "  <tbody>\n",
       "    <tr>\n",
       "      <th>Centro Storico</th>\n",
       "      <td>9284</td>\n",
       "    </tr>\n",
       "    <tr>\n",
       "      <th>Campo di Marte</th>\n",
       "      <td>1341</td>\n",
       "    </tr>\n",
       "    <tr>\n",
       "      <th>Rifredi</th>\n",
       "      <td>1079</td>\n",
       "    </tr>\n",
       "    <tr>\n",
       "      <th>Isolotto Legnaia</th>\n",
       "      <td>556</td>\n",
       "    </tr>\n",
       "    <tr>\n",
       "      <th>Gavinana Galluzzo</th>\n",
       "      <td>462</td>\n",
       "    </tr>\n",
       "  </tbody>\n",
       "</table>\n",
       "</div>"
      ],
      "text/plain": [
       "                        frequency\n",
       "neighbourhood_cleansed           \n",
       "Centro Storico               9284\n",
       "Campo di Marte               1341\n",
       "Rifredi                      1079\n",
       "Isolotto Legnaia              556\n",
       "Gavinana Galluzzo             462"
      ]
     },
     "execution_count": 442,
     "metadata": {},
     "output_type": "execute_result"
    }
   ],
   "source": [
    "# Ajustamos el índice\n",
    "neighbourhood_cleansed = neighbourhood_cleansed.set_index(\"neighbourhood_cleansed\")\n",
    "neighbourhood_cleansed"
   ]
  },
  {
   "cell_type": "code",
   "execution_count": 443,
   "metadata": {},
   "outputs": [
    {
     "data": {
      "text/plain": [
       "Text(0, 0.5, 'Frecuencia')"
      ]
     },
     "execution_count": 443,
     "metadata": {},
     "output_type": "execute_result"
    },
    {
     "data": {
      "image/png": "[encoded data removed]",
      "text/plain": [
       "<Figure size 1000x1000 with 1 Axes>"
      ]
     },
     "metadata": {},
     "output_type": "display_data"
    }
   ],
   "source": [
    "neighbourhood_cleansed.plot(kind='bar', y='frequency', figsize=(10,10))\n",
    "plt.title(\"Frecuencia de cada categoría de neighbourhood_cleansed\")\n",
    "plt.ylabel(\"Frecuencia\")"
   ]
  },
  {
   "cell_type": "markdown",
   "metadata": {},
   "source": [
    "#### Variable \"property_type\""
   ]
  },
  {
   "cell_type": "code",
   "execution_count": 444,
   "metadata": {},
   "outputs": [
    {
     "data": {
      "text/html": [
       "<div>\n",
       "<style scoped>\n",
       "    .dataframe tbody tr th:only-of-type {\n",
       "        vertical-align: middle;\n",
       "    }\n",
       "\n",
       "    .dataframe tbody tr th {\n",
       "        vertical-align: top;\n",
       "    }\n",
       "\n",
       "    .dataframe thead th {\n",
       "        text-align: right;\n",
       "    }\n",
       "</style>\n",
       "<table border=\"1\" class=\"dataframe\">\n",
       "  <thead>\n",
       "    <tr style=\"text-align: right;\">\n",
       "      <th></th>\n",
       "      <th>property_type</th>\n",
       "      <th>frequency</th>\n",
       "    </tr>\n",
       "  </thead>\n",
       "  <tbody>\n",
       "    <tr>\n",
       "      <th>0</th>\n",
       "      <td>Entire rental unit</td>\n",
       "      <td>7104</td>\n",
       "    </tr>\n",
       "    <tr>\n",
       "      <th>1</th>\n",
       "      <td>Entire condo</td>\n",
       "      <td>2483</td>\n",
       "    </tr>\n",
       "    <tr>\n",
       "      <th>2</th>\n",
       "      <td>Private room in rental unit</td>\n",
       "      <td>799</td>\n",
       "    </tr>\n",
       "    <tr>\n",
       "      <th>3</th>\n",
       "      <td>Private room in bed and breakfast</td>\n",
       "      <td>378</td>\n",
       "    </tr>\n",
       "    <tr>\n",
       "      <th>4</th>\n",
       "      <td>Entire home</td>\n",
       "      <td>354</td>\n",
       "    </tr>\n",
       "    <tr>\n",
       "      <th>5</th>\n",
       "      <td>Private room in condo</td>\n",
       "      <td>293</td>\n",
       "    </tr>\n",
       "    <tr>\n",
       "      <th>6</th>\n",
       "      <td>Entire loft</td>\n",
       "      <td>264</td>\n",
       "    </tr>\n",
       "    <tr>\n",
       "      <th>7</th>\n",
       "      <td>Room in boutique hotel</td>\n",
       "      <td>157</td>\n",
       "    </tr>\n",
       "    <tr>\n",
       "      <th>8</th>\n",
       "      <td>Room in hotel</td>\n",
       "      <td>154</td>\n",
       "    </tr>\n",
       "    <tr>\n",
       "      <th>9</th>\n",
       "      <td>Private room in home</td>\n",
       "      <td>135</td>\n",
       "    </tr>\n",
       "    <tr>\n",
       "      <th>10</th>\n",
       "      <td>Entire vacation home</td>\n",
       "      <td>105</td>\n",
       "    </tr>\n",
       "    <tr>\n",
       "      <th>11</th>\n",
       "      <td>Entire serviced apartment</td>\n",
       "      <td>90</td>\n",
       "    </tr>\n",
       "    <tr>\n",
       "      <th>12</th>\n",
       "      <td>Entire villa</td>\n",
       "      <td>44</td>\n",
       "    </tr>\n",
       "    <tr>\n",
       "      <th>13</th>\n",
       "      <td>Room in bed and breakfast</td>\n",
       "      <td>33</td>\n",
       "    </tr>\n",
       "    <tr>\n",
       "      <th>14</th>\n",
       "      <td>Tiny home</td>\n",
       "      <td>28</td>\n",
       "    </tr>\n",
       "    <tr>\n",
       "      <th>15</th>\n",
       "      <td>Private room in serviced apartment</td>\n",
       "      <td>26</td>\n",
       "    </tr>\n",
       "    <tr>\n",
       "      <th>16</th>\n",
       "      <td>Entire townhouse</td>\n",
       "      <td>25</td>\n",
       "    </tr>\n",
       "    <tr>\n",
       "      <th>17</th>\n",
       "      <td>Private room in vacation home</td>\n",
       "      <td>22</td>\n",
       "    </tr>\n",
       "    <tr>\n",
       "      <th>18</th>\n",
       "      <td>Private room in townhouse</td>\n",
       "      <td>16</td>\n",
       "    </tr>\n",
       "    <tr>\n",
       "      <th>19</th>\n",
       "      <td>Private room</td>\n",
       "      <td>15</td>\n",
       "    </tr>\n",
       "    <tr>\n",
       "      <th>20</th>\n",
       "      <td>Entire guest suite</td>\n",
       "      <td>15</td>\n",
       "    </tr>\n",
       "    <tr>\n",
       "      <th>21</th>\n",
       "      <td>Private room in casa particular</td>\n",
       "      <td>15</td>\n",
       "    </tr>\n",
       "    <tr>\n",
       "      <th>22</th>\n",
       "      <td>Room in serviced apartment</td>\n",
       "      <td>15</td>\n",
       "    </tr>\n",
       "    <tr>\n",
       "      <th>23</th>\n",
       "      <td>Private room in guest suite</td>\n",
       "      <td>14</td>\n",
       "    </tr>\n",
       "    <tr>\n",
       "      <th>24</th>\n",
       "      <td>Private room in villa</td>\n",
       "      <td>12</td>\n",
       "    </tr>\n",
       "    <tr>\n",
       "      <th>25</th>\n",
       "      <td>Private room in guesthouse</td>\n",
       "      <td>11</td>\n",
       "    </tr>\n",
       "    <tr>\n",
       "      <th>26</th>\n",
       "      <td>Room in aparthotel</td>\n",
       "      <td>11</td>\n",
       "    </tr>\n",
       "    <tr>\n",
       "      <th>27</th>\n",
       "      <td>Shared room in hostel</td>\n",
       "      <td>10</td>\n",
       "    </tr>\n",
       "    <tr>\n",
       "      <th>28</th>\n",
       "      <td>Shared room in home</td>\n",
       "      <td>9</td>\n",
       "    </tr>\n",
       "    <tr>\n",
       "      <th>29</th>\n",
       "      <td>Entire cottage</td>\n",
       "      <td>9</td>\n",
       "    </tr>\n",
       "    <tr>\n",
       "      <th>30</th>\n",
       "      <td>Entire place</td>\n",
       "      <td>9</td>\n",
       "    </tr>\n",
       "    <tr>\n",
       "      <th>31</th>\n",
       "      <td>Private room in loft</td>\n",
       "      <td>8</td>\n",
       "    </tr>\n",
       "    <tr>\n",
       "      <th>32</th>\n",
       "      <td>Shared room in condo</td>\n",
       "      <td>7</td>\n",
       "    </tr>\n",
       "    <tr>\n",
       "      <th>33</th>\n",
       "      <td>Farm stay</td>\n",
       "      <td>7</td>\n",
       "    </tr>\n",
       "    <tr>\n",
       "      <th>34</th>\n",
       "      <td>Entire home/apt</td>\n",
       "      <td>7</td>\n",
       "    </tr>\n",
       "    <tr>\n",
       "      <th>35</th>\n",
       "      <td>Private room in hostel</td>\n",
       "      <td>6</td>\n",
       "    </tr>\n",
       "    <tr>\n",
       "      <th>36</th>\n",
       "      <td>Shared room in rental unit</td>\n",
       "      <td>4</td>\n",
       "    </tr>\n",
       "    <tr>\n",
       "      <th>37</th>\n",
       "      <td>Entire guesthouse</td>\n",
       "      <td>4</td>\n",
       "    </tr>\n",
       "    <tr>\n",
       "      <th>38</th>\n",
       "      <td>Casa particular</td>\n",
       "      <td>3</td>\n",
       "    </tr>\n",
       "    <tr>\n",
       "      <th>39</th>\n",
       "      <td>Camper/RV</td>\n",
       "      <td>3</td>\n",
       "    </tr>\n",
       "    <tr>\n",
       "      <th>40</th>\n",
       "      <td>Entire bed and breakfast</td>\n",
       "      <td>2</td>\n",
       "    </tr>\n",
       "    <tr>\n",
       "      <th>41</th>\n",
       "      <td>Tower</td>\n",
       "      <td>2</td>\n",
       "    </tr>\n",
       "    <tr>\n",
       "      <th>42</th>\n",
       "      <td>Boat</td>\n",
       "      <td>1</td>\n",
       "    </tr>\n",
       "    <tr>\n",
       "      <th>43</th>\n",
       "      <td>Shared room in cabin</td>\n",
       "      <td>1</td>\n",
       "    </tr>\n",
       "    <tr>\n",
       "      <th>44</th>\n",
       "      <td>Barn</td>\n",
       "      <td>1</td>\n",
       "    </tr>\n",
       "    <tr>\n",
       "      <th>45</th>\n",
       "      <td>Shared room in earthen home</td>\n",
       "      <td>1</td>\n",
       "    </tr>\n",
       "    <tr>\n",
       "      <th>46</th>\n",
       "      <td>Private room in shepherd's hut</td>\n",
       "      <td>1</td>\n",
       "    </tr>\n",
       "    <tr>\n",
       "      <th>47</th>\n",
       "      <td>Tent</td>\n",
       "      <td>1</td>\n",
       "    </tr>\n",
       "    <tr>\n",
       "      <th>48</th>\n",
       "      <td>Castle</td>\n",
       "      <td>1</td>\n",
       "    </tr>\n",
       "    <tr>\n",
       "      <th>49</th>\n",
       "      <td>Private room in earthen home</td>\n",
       "      <td>1</td>\n",
       "    </tr>\n",
       "    <tr>\n",
       "      <th>50</th>\n",
       "      <td>Private room in tiny home</td>\n",
       "      <td>1</td>\n",
       "    </tr>\n",
       "    <tr>\n",
       "      <th>51</th>\n",
       "      <td>Shared room in serviced apartment</td>\n",
       "      <td>1</td>\n",
       "    </tr>\n",
       "    <tr>\n",
       "      <th>52</th>\n",
       "      <td>Entire bungalow</td>\n",
       "      <td>1</td>\n",
       "    </tr>\n",
       "    <tr>\n",
       "      <th>53</th>\n",
       "      <td>Entire cabin</td>\n",
       "      <td>1</td>\n",
       "    </tr>\n",
       "    <tr>\n",
       "      <th>54</th>\n",
       "      <td>Shared room in bed and breakfast</td>\n",
       "      <td>1</td>\n",
       "    </tr>\n",
       "    <tr>\n",
       "      <th>55</th>\n",
       "      <td>Shared room in guesthouse</td>\n",
       "      <td>1</td>\n",
       "    </tr>\n",
       "  </tbody>\n",
       "</table>\n",
       "</div>"
      ],
      "text/plain": [
       "                         property_type  frequency\n",
       "0                   Entire rental unit       7104\n",
       "1                         Entire condo       2483\n",
       "2          Private room in rental unit        799\n",
       "3    Private room in bed and breakfast        378\n",
       "4                          Entire home        354\n",
       "5                Private room in condo        293\n",
       "6                          Entire loft        264\n",
       "7               Room in boutique hotel        157\n",
       "8                        Room in hotel        154\n",
       "9                 Private room in home        135\n",
       "10                Entire vacation home        105\n",
       "11           Entire serviced apartment         90\n",
       "12                        Entire villa         44\n",
       "13           Room in bed and breakfast         33\n",
       "14                           Tiny home         28\n",
       "15  Private room in serviced apartment         26\n",
       "16                    Entire townhouse         25\n",
       "17       Private room in vacation home         22\n",
       "18           Private room in townhouse         16\n",
       "19                        Private room         15\n",
       "20                  Entire guest suite         15\n",
       "21     Private room in casa particular         15\n",
       "22          Room in serviced apartment         15\n",
       "23         Private room in guest suite         14\n",
       "24               Private room in villa         12\n",
       "25          Private room in guesthouse         11\n",
       "26                  Room in aparthotel         11\n",
       "27               Shared room in hostel         10\n",
       "28                 Shared room in home          9\n",
       "29                      Entire cottage          9\n",
       "30                        Entire place          9\n",
       "31                Private room in loft          8\n",
       "32                Shared room in condo          7\n",
       "33                           Farm stay          7\n",
       "34                     Entire home/apt          7\n",
       "35              Private room in hostel          6\n",
       "36          Shared room in rental unit          4\n",
       "37                   Entire guesthouse          4\n",
       "38                     Casa particular          3\n",
       "39                           Camper/RV          3\n",
       "40            Entire bed and breakfast          2\n",
       "41                               Tower          2\n",
       "42                                Boat          1\n",
       "43                Shared room in cabin          1\n",
       "44                                Barn          1\n",
       "45         Shared room in earthen home          1\n",
       "46      Private room in shepherd's hut          1\n",
       "47                                Tent          1\n",
       "48                              Castle          1\n",
       "49        Private room in earthen home          1\n",
       "50           Private room in tiny home          1\n",
       "51   Shared room in serviced apartment          1\n",
       "52                     Entire bungalow          1\n",
       "53                        Entire cabin          1\n",
       "54    Shared room in bed and breakfast          1\n",
       "55           Shared room in guesthouse          1"
      ]
     },
     "execution_count": 444,
     "metadata": {},
     "output_type": "execute_result"
    }
   ],
   "source": [
    "property_type = fp.freq_tbl(df[\"property_type\"])\n",
    "property_type.drop([\"percentage\", \"cumulative_perc\"], axis=1, inplace=True)\n",
    "property_type"
   ]
  },
  {
   "cell_type": "code",
   "execution_count": 445,
   "metadata": {},
   "outputs": [
    {
     "data": {
      "text/html": [
       "<div>\n",
       "<style scoped>\n",
       "    .dataframe tbody tr th:only-of-type {\n",
       "        vertical-align: middle;\n",
       "    }\n",
       "\n",
       "    .dataframe tbody tr th {\n",
       "        vertical-align: top;\n",
       "    }\n",
       "\n",
       "    .dataframe thead th {\n",
       "        text-align: right;\n",
       "    }\n",
       "</style>\n",
       "<table border=\"1\" class=\"dataframe\">\n",
       "  <thead>\n",
       "    <tr style=\"text-align: right;\">\n",
       "      <th></th>\n",
       "      <th>frequency</th>\n",
       "    </tr>\n",
       "    <tr>\n",
       "      <th>property_type</th>\n",
       "      <th></th>\n",
       "    </tr>\n",
       "  </thead>\n",
       "  <tbody>\n",
       "    <tr>\n",
       "      <th>Entire rental unit</th>\n",
       "      <td>7104</td>\n",
       "    </tr>\n",
       "    <tr>\n",
       "      <th>Entire condo</th>\n",
       "      <td>2483</td>\n",
       "    </tr>\n",
       "    <tr>\n",
       "      <th>Private room in rental unit</th>\n",
       "      <td>799</td>\n",
       "    </tr>\n",
       "    <tr>\n",
       "      <th>Private room in bed and breakfast</th>\n",
       "      <td>378</td>\n",
       "    </tr>\n",
       "    <tr>\n",
       "      <th>Entire home</th>\n",
       "      <td>354</td>\n",
       "    </tr>\n",
       "  </tbody>\n",
       "</table>\n",
       "</div>"
      ],
      "text/plain": [
       "                                   frequency\n",
       "property_type                               \n",
       "Entire rental unit                      7104\n",
       "Entire condo                            2483\n",
       "Private room in rental unit              799\n",
       "Private room in bed and breakfast        378\n",
       "Entire home                              354"
      ]
     },
     "execution_count": 445,
     "metadata": {},
     "output_type": "execute_result"
    }
   ],
   "source": [
    "# Ajustamos el índice\n",
    "property_type = property_type.set_index(\"property_type\")\n",
    "# Debido a la gran cantidad de categorías, solo mostraremos las 5 primeras\n",
    "property_type = property_type.head(5)\n",
    "property_type"
   ]
  },
  {
   "cell_type": "code",
   "execution_count": 446,
   "metadata": {},
   "outputs": [
    {
     "data": {
      "text/plain": [
       "Text(0, 0.5, 'Frecuencia')"
      ]
     },
     "execution_count": 446,
     "metadata": {},
     "output_type": "execute_result"
    },
    {
     "data": {
      "image/png": "[encoded data removed]",
      "text/plain": [
       "<Figure size 1000x1000 with 1 Axes>"
      ]
     },
     "metadata": {},
     "output_type": "display_data"
    }
   ],
   "source": [
    "# Haremos un gráfico de barras para representar la frecuencia de cada categoría\n",
    "property_type.plot(kind='bar', y='frequency', figsize=(10,10))\n",
    "plt.title(\"Frecuencia de cada categoría de property_type\")\n",
    "plt.ylabel(\"Frecuencia\")"
   ]
  },
  {
   "cell_type": "markdown",
   "metadata": {},
   "source": [
    "#### Variable \"room_type\""
   ]
  },
  {
   "cell_type": "code",
   "execution_count": 447,
   "metadata": {},
   "outputs": [
    {
     "data": {
      "text/html": [
       "<div>\n",
       "<style scoped>\n",
       "    .dataframe tbody tr th:only-of-type {\n",
       "        vertical-align: middle;\n",
       "    }\n",
       "\n",
       "    .dataframe tbody tr th {\n",
       "        vertical-align: top;\n",
       "    }\n",
       "\n",
       "    .dataframe thead th {\n",
       "        text-align: right;\n",
       "    }\n",
       "</style>\n",
       "<table border=\"1\" class=\"dataframe\">\n",
       "  <thead>\n",
       "    <tr style=\"text-align: right;\">\n",
       "      <th></th>\n",
       "      <th>room_type</th>\n",
       "      <th>frequency</th>\n",
       "    </tr>\n",
       "  </thead>\n",
       "  <tbody>\n",
       "    <tr>\n",
       "      <th>0</th>\n",
       "      <td>Entire home/apt</td>\n",
       "      <td>10566</td>\n",
       "    </tr>\n",
       "    <tr>\n",
       "      <th>1</th>\n",
       "      <td>Private room</td>\n",
       "      <td>2035</td>\n",
       "    </tr>\n",
       "    <tr>\n",
       "      <th>2</th>\n",
       "      <td>Hotel room</td>\n",
       "      <td>86</td>\n",
       "    </tr>\n",
       "    <tr>\n",
       "      <th>3</th>\n",
       "      <td>Shared room</td>\n",
       "      <td>35</td>\n",
       "    </tr>\n",
       "  </tbody>\n",
       "</table>\n",
       "</div>"
      ],
      "text/plain": [
       "         room_type  frequency\n",
       "0  Entire home/apt      10566\n",
       "1     Private room       2035\n",
       "2       Hotel room         86\n",
       "3      Shared room         35"
      ]
     },
     "execution_count": 447,
     "metadata": {},
     "output_type": "execute_result"
    }
   ],
   "source": [
    "room_type = fp.freq_tbl(df[\"room_type\"])\n",
    "room_type.drop([\"percentage\", \"cumulative_perc\"], axis=1, inplace=True)\n",
    "room_type"
   ]
  },
  {
   "cell_type": "code",
   "execution_count": 448,
   "metadata": {},
   "outputs": [
    {
     "data": {
      "text/html": [
       "<div>\n",
       "<style scoped>\n",
       "    .dataframe tbody tr th:only-of-type {\n",
       "        vertical-align: middle;\n",
       "    }\n",
       "\n",
       "    .dataframe tbody tr th {\n",
       "        vertical-align: top;\n",
       "    }\n",
       "\n",
       "    .dataframe thead th {\n",
       "        text-align: right;\n",
       "    }\n",
       "</style>\n",
       "<table border=\"1\" class=\"dataframe\">\n",
       "  <thead>\n",
       "    <tr style=\"text-align: right;\">\n",
       "      <th></th>\n",
       "      <th>frequency</th>\n",
       "    </tr>\n",
       "    <tr>\n",
       "      <th>room_type</th>\n",
       "      <th></th>\n",
       "    </tr>\n",
       "  </thead>\n",
       "  <tbody>\n",
       "    <tr>\n",
       "      <th>Entire home/apt</th>\n",
       "      <td>10566</td>\n",
       "    </tr>\n",
       "    <tr>\n",
       "      <th>Private room</th>\n",
       "      <td>2035</td>\n",
       "    </tr>\n",
       "    <tr>\n",
       "      <th>Hotel room</th>\n",
       "      <td>86</td>\n",
       "    </tr>\n",
       "    <tr>\n",
       "      <th>Shared room</th>\n",
       "      <td>35</td>\n",
       "    </tr>\n",
       "  </tbody>\n",
       "</table>\n",
       "</div>"
      ],
      "text/plain": [
       "                 frequency\n",
       "room_type                 \n",
       "Entire home/apt      10566\n",
       "Private room          2035\n",
       "Hotel room              86\n",
       "Shared room             35"
      ]
     },
     "execution_count": 448,
     "metadata": {},
     "output_type": "execute_result"
    }
   ],
   "source": [
    "# Ajustamos el índice\n",
    "room_type = room_type.set_index(\"room_type\")\n",
    "room_type"
   ]
  },
  {
   "cell_type": "code",
   "execution_count": 449,
   "metadata": {},
   "outputs": [
    {
     "data": {
      "text/plain": [
       "Text(0, 0.5, '')"
      ]
     },
     "execution_count": 449,
     "metadata": {},
     "output_type": "execute_result"
    },
    {
     "data": {
      "image/png": "[encoded data removed]",
      "text/plain": [
       "<Figure size 1000x1000 with 1 Axes>"
      ]
     },
     "metadata": {},
     "output_type": "display_data"
    }
   ],
   "source": [
    "# Haremos un gráfico de pastel para representar la proporción de cada categoría\n",
    "room_type.plot(kind='pie', y='frequency', figsize=(10,10), autopct='%1.1f%%')\n",
    "plt.title(\"Proporción de cada categoría de room_type\")\n",
    "plt.ylabel(\"\")"
   ]
  },
  {
   "cell_type": "markdown",
   "metadata": {},
   "source": [
    "#### Variable \"bathrooms_text\""
   ]
  },
  {
   "cell_type": "code",
   "execution_count": 450,
   "metadata": {},
   "outputs": [
    {
     "data": {
      "text/plain": [
       "bathrooms_text\n",
       "1 bath               7398\n",
       "2 baths              2350\n",
       "1 private bath       1086\n",
       "1.5 baths             497\n",
       "1 shared bath         480\n",
       "3 baths               381\n",
       "2.5 baths             136\n",
       "4 baths                99\n",
       "2 shared baths         91\n",
       "3.5 baths              42\n",
       "1.5 shared baths       27\n",
       "5 baths                26\n",
       "6 baths                20\n",
       "0 baths                19\n",
       "Half-bath              15\n",
       "4.5 baths              14\n",
       "Shared half-bath        8\n",
       "0 shared baths          7\n",
       "5.5 baths               7\n",
       "6.5 baths               3\n",
       "Private half-bath       3\n",
       "3 shared baths          2\n",
       "9 baths                 2\n",
       "8 baths                 2\n",
       "8.5 baths               1\n",
       "7 baths                 1\n",
       "13 baths                1\n",
       "2.5 shared baths        1\n",
       "13.5 baths              1\n",
       "4 shared baths          1\n",
       "12 baths                1\n",
       "Name: count, dtype: int64"
      ]
     },
     "execution_count": 450,
     "metadata": {},
     "output_type": "execute_result"
    }
   ],
   "source": [
    "df[\"bathrooms_text\"].value_counts()"
   ]
  },
  {
   "cell_type": "code",
   "execution_count": 451,
   "metadata": {},
   "outputs": [
    {
     "data": {
      "text/html": [
       "<div>\n",
       "<style scoped>\n",
       "    .dataframe tbody tr th:only-of-type {\n",
       "        vertical-align: middle;\n",
       "    }\n",
       "\n",
       "    .dataframe tbody tr th {\n",
       "        vertical-align: top;\n",
       "    }\n",
       "\n",
       "    .dataframe thead th {\n",
       "        text-align: right;\n",
       "    }\n",
       "</style>\n",
       "<table border=\"1\" class=\"dataframe\">\n",
       "  <thead>\n",
       "    <tr style=\"text-align: right;\">\n",
       "      <th></th>\n",
       "      <th>bathrooms_text</th>\n",
       "      <th>frequency</th>\n",
       "    </tr>\n",
       "  </thead>\n",
       "  <tbody>\n",
       "    <tr>\n",
       "      <th>0</th>\n",
       "      <td>baths</td>\n",
       "      <td>19</td>\n",
       "    </tr>\n",
       "    <tr>\n",
       "      <th>1</th>\n",
       "      <td>shared</td>\n",
       "      <td>7</td>\n",
       "    </tr>\n",
       "    <tr>\n",
       "      <th>2</th>\n",
       "      <td>half-bath</td>\n",
       "      <td>2</td>\n",
       "    </tr>\n",
       "    <tr>\n",
       "      <th>3</th>\n",
       "      <td>bath</td>\n",
       "      <td>1</td>\n",
       "    </tr>\n",
       "    <tr>\n",
       "      <th>4</th>\n",
       "      <td>private</td>\n",
       "      <td>1</td>\n",
       "    </tr>\n",
       "    <tr>\n",
       "      <th>5</th>\n",
       "      <td>Half-bath</td>\n",
       "      <td>1</td>\n",
       "    </tr>\n",
       "  </tbody>\n",
       "</table>\n",
       "</div>"
      ],
      "text/plain": [
       "  bathrooms_text  frequency\n",
       "0          baths         19\n",
       "1         shared          7\n",
       "2      half-bath          2\n",
       "3           bath          1\n",
       "4        private          1\n",
       "5      Half-bath          1"
      ]
     },
     "execution_count": 451,
     "metadata": {},
     "output_type": "execute_result"
    }
   ],
   "source": [
    "# Haremos el análisis univariado de la variable \"bathrooms_text\"\n",
    "bathrooms_text = fp.freq_tbl(df[\"bathrooms_text\"])\n",
    "# Eliminaremos el primer número y solo dejaremos la categoría (por ejemplo, \"1.0 baths\" -> \"baths\")\n",
    "# Ignoraremos los errores por problemas de formato\n",
    "bathrooms_text[\"bathrooms_text\"] = bathrooms_text[\"bathrooms_text\"].apply(lambda x: x.split(\" \")[1] if len(x.split(\" \")) > 1 else x)\n",
    "bathrooms_text = fp.freq_tbl(bathrooms_text[\"bathrooms_text\"])\n",
    "bathrooms_text.drop([\"percentage\", \"cumulative_perc\"], axis=1, inplace=True)\n",
    "bathrooms_text"
   ]
  },
  {
   "cell_type": "code",
   "execution_count": 452,
   "metadata": {},
   "outputs": [
    {
     "data": {
      "text/html": [
       "<div>\n",
       "<style scoped>\n",
       "    .dataframe tbody tr th:only-of-type {\n",
       "        vertical-align: middle;\n",
       "    }\n",
       "\n",
       "    .dataframe tbody tr th {\n",
       "        vertical-align: top;\n",
       "    }\n",
       "\n",
       "    .dataframe thead th {\n",
       "        text-align: right;\n",
       "    }\n",
       "</style>\n",
       "<table border=\"1\" class=\"dataframe\">\n",
       "  <thead>\n",
       "    <tr style=\"text-align: right;\">\n",
       "      <th></th>\n",
       "      <th>frequency</th>\n",
       "    </tr>\n",
       "    <tr>\n",
       "      <th>bathrooms_text</th>\n",
       "      <th></th>\n",
       "    </tr>\n",
       "  </thead>\n",
       "  <tbody>\n",
       "    <tr>\n",
       "      <th>baths</th>\n",
       "      <td>19</td>\n",
       "    </tr>\n",
       "    <tr>\n",
       "      <th>shared</th>\n",
       "      <td>7</td>\n",
       "    </tr>\n",
       "    <tr>\n",
       "      <th>half-bath</th>\n",
       "      <td>2</td>\n",
       "    </tr>\n",
       "  </tbody>\n",
       "</table>\n",
       "</div>"
      ],
      "text/plain": [
       "                frequency\n",
       "bathrooms_text           \n",
       "baths                  19\n",
       "shared                  7\n",
       "half-bath               2"
      ]
     },
     "execution_count": 452,
     "metadata": {},
     "output_type": "execute_result"
    }
   ],
   "source": [
    "# Ajustamos el índice\n",
    "bathrooms_text = bathrooms_text.set_index(\"bathrooms_text\")\n",
    "# Quitamos los valores de un único valor\n",
    "bathrooms_text = bathrooms_text[bathrooms_text[\"frequency\"] > 1]\n",
    "bathrooms_text"
   ]
  },
  {
   "cell_type": "code",
   "execution_count": 453,
   "metadata": {},
   "outputs": [
    {
     "data": {
      "text/plain": [
       "Text(0, 0.5, '')"
      ]
     },
     "execution_count": 453,
     "metadata": {},
     "output_type": "execute_result"
    },
    {
     "data": {
      "image/png": "[encoded data removed]",
      "text/plain": [
       "<Figure size 1000x1000 with 1 Axes>"
      ]
     },
     "metadata": {},
     "output_type": "display_data"
    }
   ],
   "source": [
    "# Haremos un gráfico de pastel para representar la proporción de cada categoría\n",
    "bathrooms_text.plot(kind='pie', y='frequency', figsize=(10,10), autopct='%1.1f%%')\n",
    "plt.title(\"Proporción de cada categoría de bathrooms_text\")\n",
    "plt.ylabel(\"\")"
   ]
  },
  {
   "cell_type": "markdown",
   "metadata": {},
   "source": [
    "#### Variable \"has_availability\""
   ]
  },
  {
   "cell_type": "code",
   "execution_count": 454,
   "metadata": {},
   "outputs": [
    {
     "data": {
      "text/html": [
       "<div>\n",
       "<style scoped>\n",
       "    .dataframe tbody tr th:only-of-type {\n",
       "        vertical-align: middle;\n",
       "    }\n",
       "\n",
       "    .dataframe tbody tr th {\n",
       "        vertical-align: top;\n",
       "    }\n",
       "\n",
       "    .dataframe thead th {\n",
       "        text-align: right;\n",
       "    }\n",
       "</style>\n",
       "<table border=\"1\" class=\"dataframe\">\n",
       "  <thead>\n",
       "    <tr style=\"text-align: right;\">\n",
       "      <th></th>\n",
       "      <th>has_availability</th>\n",
       "      <th>frequency</th>\n",
       "    </tr>\n",
       "  </thead>\n",
       "  <tbody>\n",
       "    <tr>\n",
       "      <th>0</th>\n",
       "      <td>t</td>\n",
       "      <td>12683</td>\n",
       "    </tr>\n",
       "    <tr>\n",
       "      <th>1</th>\n",
       "      <td>f</td>\n",
       "      <td>39</td>\n",
       "    </tr>\n",
       "  </tbody>\n",
       "</table>\n",
       "</div>"
      ],
      "text/plain": [
       "  has_availability  frequency\n",
       "0                t      12683\n",
       "1                f         39"
      ]
     },
     "execution_count": 454,
     "metadata": {},
     "output_type": "execute_result"
    }
   ],
   "source": [
    "has_availability = fp.freq_tbl(df[\"has_availability\"])\n",
    "has_availability.drop([\"percentage\", \"cumulative_perc\"], axis=1, inplace=True)\n",
    "has_availability"
   ]
  },
  {
   "cell_type": "code",
   "execution_count": 455,
   "metadata": {},
   "outputs": [
    {
     "data": {
      "text/html": [
       "<div>\n",
       "<style scoped>\n",
       "    .dataframe tbody tr th:only-of-type {\n",
       "        vertical-align: middle;\n",
       "    }\n",
       "\n",
       "    .dataframe tbody tr th {\n",
       "        vertical-align: top;\n",
       "    }\n",
       "\n",
       "    .dataframe thead th {\n",
       "        text-align: right;\n",
       "    }\n",
       "</style>\n",
       "<table border=\"1\" class=\"dataframe\">\n",
       "  <thead>\n",
       "    <tr style=\"text-align: right;\">\n",
       "      <th></th>\n",
       "      <th>frequency</th>\n",
       "    </tr>\n",
       "    <tr>\n",
       "      <th>has_availability</th>\n",
       "      <th></th>\n",
       "    </tr>\n",
       "  </thead>\n",
       "  <tbody>\n",
       "    <tr>\n",
       "      <th>t</th>\n",
       "      <td>12683</td>\n",
       "    </tr>\n",
       "    <tr>\n",
       "      <th>f</th>\n",
       "      <td>39</td>\n",
       "    </tr>\n",
       "  </tbody>\n",
       "</table>\n",
       "</div>"
      ],
      "text/plain": [
       "                  frequency\n",
       "has_availability           \n",
       "t                     12683\n",
       "f                        39"
      ]
     },
     "execution_count": 455,
     "metadata": {},
     "output_type": "execute_result"
    }
   ],
   "source": [
    "# Ajustamos el índice\n",
    "has_availability = has_availability.set_index(\"has_availability\")\n",
    "has_availability"
   ]
  },
  {
   "cell_type": "code",
   "execution_count": 456,
   "metadata": {},
   "outputs": [
    {
     "data": {
      "text/plain": [
       "Text(0, 0.5, '')"
      ]
     },
     "execution_count": 456,
     "metadata": {},
     "output_type": "execute_result"
    },
    {
     "data": {
      "image/png": "[encoded data removed]",
      "text/plain": [
       "<Figure size 1000x1000 with 1 Axes>"
      ]
     },
     "metadata": {},
     "output_type": "display_data"
    }
   ],
   "source": [
    "has_availability.plot(kind='pie', y='frequency', figsize=(10,10), autopct='%1.1f%%')\n",
    "plt.title(\"Proporción de cada categoría de has_availability\")\n",
    "plt.ylabel(\"\")"
   ]
  },
  {
   "cell_type": "markdown",
   "metadata": {},
   "source": [
    "#### Variable \"instant_bookable\""
   ]
  },
  {
   "cell_type": "code",
   "execution_count": 457,
   "metadata": {},
   "outputs": [
    {
     "data": {
      "text/html": [
       "<div>\n",
       "<style scoped>\n",
       "    .dataframe tbody tr th:only-of-type {\n",
       "        vertical-align: middle;\n",
       "    }\n",
       "\n",
       "    .dataframe tbody tr th {\n",
       "        vertical-align: top;\n",
       "    }\n",
       "\n",
       "    .dataframe thead th {\n",
       "        text-align: right;\n",
       "    }\n",
       "</style>\n",
       "<table border=\"1\" class=\"dataframe\">\n",
       "  <thead>\n",
       "    <tr style=\"text-align: right;\">\n",
       "      <th></th>\n",
       "      <th>instant_bookable</th>\n",
       "      <th>frequency</th>\n",
       "    </tr>\n",
       "  </thead>\n",
       "  <tbody>\n",
       "    <tr>\n",
       "      <th>0</th>\n",
       "      <td>t</td>\n",
       "      <td>7767</td>\n",
       "    </tr>\n",
       "    <tr>\n",
       "      <th>1</th>\n",
       "      <td>f</td>\n",
       "      <td>4955</td>\n",
       "    </tr>\n",
       "  </tbody>\n",
       "</table>\n",
       "</div>"
      ],
      "text/plain": [
       "  instant_bookable  frequency\n",
       "0                t       7767\n",
       "1                f       4955"
      ]
     },
     "execution_count": 457,
     "metadata": {},
     "output_type": "execute_result"
    }
   ],
   "source": [
    "instant_bookable = fp.freq_tbl(df[\"instant_bookable\"])\n",
    "instant_bookable.drop([\"percentage\", \"cumulative_perc\"], axis=1, inplace=True)\n",
    "instant_bookable"
   ]
  },
  {
   "cell_type": "code",
   "execution_count": 458,
   "metadata": {},
   "outputs": [
    {
     "data": {
      "text/html": [
       "<div>\n",
       "<style scoped>\n",
       "    .dataframe tbody tr th:only-of-type {\n",
       "        vertical-align: middle;\n",
       "    }\n",
       "\n",
       "    .dataframe tbody tr th {\n",
       "        vertical-align: top;\n",
       "    }\n",
       "\n",
       "    .dataframe thead th {\n",
       "        text-align: right;\n",
       "    }\n",
       "</style>\n",
       "<table border=\"1\" class=\"dataframe\">\n",
       "  <thead>\n",
       "    <tr style=\"text-align: right;\">\n",
       "      <th></th>\n",
       "      <th>frequency</th>\n",
       "    </tr>\n",
       "    <tr>\n",
       "      <th>instant_bookable</th>\n",
       "      <th></th>\n",
       "    </tr>\n",
       "  </thead>\n",
       "  <tbody>\n",
       "    <tr>\n",
       "      <th>t</th>\n",
       "      <td>7767</td>\n",
       "    </tr>\n",
       "    <tr>\n",
       "      <th>f</th>\n",
       "      <td>4955</td>\n",
       "    </tr>\n",
       "  </tbody>\n",
       "</table>\n",
       "</div>"
      ],
      "text/plain": [
       "                  frequency\n",
       "instant_bookable           \n",
       "t                      7767\n",
       "f                      4955"
      ]
     },
     "execution_count": 458,
     "metadata": {},
     "output_type": "execute_result"
    }
   ],
   "source": [
    "instant_bookable = instant_bookable.set_index(\"instant_bookable\")\n",
    "instant_bookable"
   ]
  },
  {
   "cell_type": "code",
   "execution_count": 459,
   "metadata": {},
   "outputs": [
    {
     "data": {
      "text/plain": [
       "Text(0, 0.5, '')"
      ]
     },
     "execution_count": 459,
     "metadata": {},
     "output_type": "execute_result"
    },
    {
     "data": {
      "image/png": "[encoded data removed]",
      "text/plain": [
       "<Figure size 1000x1000 with 1 Axes>"
      ]
     },
     "metadata": {},
     "output_type": "display_data"
    }
   ],
   "source": [
    "instant_bookable.plot(kind='pie', y='frequency', figsize=(10,10), autopct='%1.1f%%')\n",
    "plt.title(\"Proporción de cada categoría de instant_bookable\")\n",
    "plt.ylabel(\"\")"
   ]
  },
  {
   "cell_type": "markdown",
   "metadata": {},
   "source": [
    "#### Variable \"host_location\""
   ]
  },
  {
   "cell_type": "code",
   "execution_count": 460,
   "metadata": {},
   "outputs": [
    {
     "data": {
      "text/html": [
       "<div>\n",
       "<style scoped>\n",
       "    .dataframe tbody tr th:only-of-type {\n",
       "        vertical-align: middle;\n",
       "    }\n",
       "\n",
       "    .dataframe tbody tr th {\n",
       "        vertical-align: top;\n",
       "    }\n",
       "\n",
       "    .dataframe thead th {\n",
       "        text-align: right;\n",
       "    }\n",
       "</style>\n",
       "<table border=\"1\" class=\"dataframe\">\n",
       "  <thead>\n",
       "    <tr style=\"text-align: right;\">\n",
       "      <th></th>\n",
       "      <th>host_location</th>\n",
       "      <th>frequency</th>\n",
       "    </tr>\n",
       "  </thead>\n",
       "  <tbody>\n",
       "    <tr>\n",
       "      <th>0</th>\n",
       "      <td>Florence, Italy</td>\n",
       "      <td>8751</td>\n",
       "    </tr>\n",
       "    <tr>\n",
       "      <th>1</th>\n",
       "      <td>Italy</td>\n",
       "      <td>2488</td>\n",
       "    </tr>\n",
       "    <tr>\n",
       "      <th>2</th>\n",
       "      <td>Milan, Italy</td>\n",
       "      <td>227</td>\n",
       "    </tr>\n",
       "    <tr>\n",
       "      <th>3</th>\n",
       "      <td>Tuscany, Italy</td>\n",
       "      <td>93</td>\n",
       "    </tr>\n",
       "    <tr>\n",
       "      <th>4</th>\n",
       "      <td>Prato, Italy</td>\n",
       "      <td>77</td>\n",
       "    </tr>\n",
       "    <tr>\n",
       "      <th>...</th>\n",
       "      <td>...</td>\n",
       "      <td>...</td>\n",
       "    </tr>\n",
       "    <tr>\n",
       "      <th>259</th>\n",
       "      <td>Baugé-en-Anjou, France</td>\n",
       "      <td>1</td>\n",
       "    </tr>\n",
       "    <tr>\n",
       "      <th>260</th>\n",
       "      <td>Vimodrone, Italy</td>\n",
       "      <td>1</td>\n",
       "    </tr>\n",
       "    <tr>\n",
       "      <th>261</th>\n",
       "      <td>Comeana, Italy</td>\n",
       "      <td>1</td>\n",
       "    </tr>\n",
       "    <tr>\n",
       "      <th>262</th>\n",
       "      <td>Guayaquil, Ecuador</td>\n",
       "      <td>1</td>\n",
       "    </tr>\n",
       "    <tr>\n",
       "      <th>263</th>\n",
       "      <td>The Hague, Netherlands</td>\n",
       "      <td>1</td>\n",
       "    </tr>\n",
       "  </tbody>\n",
       "</table>\n",
       "<p>264 rows × 2 columns</p>\n",
       "</div>"
      ],
      "text/plain": [
       "              host_location  frequency\n",
       "0           Florence, Italy       8751\n",
       "1                     Italy       2488\n",
       "2              Milan, Italy        227\n",
       "3            Tuscany, Italy         93\n",
       "4              Prato, Italy         77\n",
       "..                      ...        ...\n",
       "259  Baugé-en-Anjou, France          1\n",
       "260        Vimodrone, Italy          1\n",
       "261          Comeana, Italy          1\n",
       "262      Guayaquil, Ecuador          1\n",
       "263  The Hague, Netherlands          1\n",
       "\n",
       "[264 rows x 2 columns]"
      ]
     },
     "execution_count": 460,
     "metadata": {},
     "output_type": "execute_result"
    }
   ],
   "source": [
    "host_location = fp.freq_tbl(df[\"host_location\"])\n",
    "host_location.drop([\"percentage\", \"cumulative_perc\"], axis=1, inplace=True)\n",
    "host_location"
   ]
  },
  {
   "cell_type": "code",
   "execution_count": 461,
   "metadata": {},
   "outputs": [
    {
     "data": {
      "text/html": [
       "<div>\n",
       "<style scoped>\n",
       "    .dataframe tbody tr th:only-of-type {\n",
       "        vertical-align: middle;\n",
       "    }\n",
       "\n",
       "    .dataframe tbody tr th {\n",
       "        vertical-align: top;\n",
       "    }\n",
       "\n",
       "    .dataframe thead th {\n",
       "        text-align: right;\n",
       "    }\n",
       "</style>\n",
       "<table border=\"1\" class=\"dataframe\">\n",
       "  <thead>\n",
       "    <tr style=\"text-align: right;\">\n",
       "      <th></th>\n",
       "      <th>frequency</th>\n",
       "    </tr>\n",
       "    <tr>\n",
       "      <th>host_location</th>\n",
       "      <th></th>\n",
       "    </tr>\n",
       "  </thead>\n",
       "  <tbody>\n",
       "    <tr>\n",
       "      <th>Florence, Italy</th>\n",
       "      <td>8751</td>\n",
       "    </tr>\n",
       "    <tr>\n",
       "      <th>Italy</th>\n",
       "      <td>2488</td>\n",
       "    </tr>\n",
       "    <tr>\n",
       "      <th>Milan, Italy</th>\n",
       "      <td>227</td>\n",
       "    </tr>\n",
       "    <tr>\n",
       "      <th>Tuscany, Italy</th>\n",
       "      <td>93</td>\n",
       "    </tr>\n",
       "    <tr>\n",
       "      <th>Prato, Italy</th>\n",
       "      <td>77</td>\n",
       "    </tr>\n",
       "  </tbody>\n",
       "</table>\n",
       "</div>"
      ],
      "text/plain": [
       "                 frequency\n",
       "host_location             \n",
       "Florence, Italy       8751\n",
       "Italy                 2488\n",
       "Milan, Italy           227\n",
       "Tuscany, Italy          93\n",
       "Prato, Italy            77"
      ]
     },
     "execution_count": 461,
     "metadata": {},
     "output_type": "execute_result"
    }
   ],
   "source": [
    "host_location = host_location.set_index(\"host_location\")\n",
    "# Debido a la gran cantidad de categorías, solo mostraremos las 5 primeras\n",
    "host_location = host_location.head(5)\n",
    "host_location"
   ]
  },
  {
   "cell_type": "code",
   "execution_count": 462,
   "metadata": {},
   "outputs": [
    {
     "data": {
      "text/plain": [
       "Text(0, 0.5, 'Frecuencia')"
      ]
     },
     "execution_count": 462,
     "metadata": {},
     "output_type": "execute_result"
    },
    {
     "data": {
      "image/png": "[encoded data removed]",
      "text/plain": [
       "<Figure size 1000x1000 with 1 Axes>"
      ]
     },
     "metadata": {},
     "output_type": "display_data"
    }
   ],
   "source": [
    "# Haremos un gráfico de barras para representar la frecuencia de cada categoría\n",
    "host_location.plot(kind='bar', y='frequency', figsize=(10,10))\n",
    "plt.title(\"Frecuencia de cada categoría de host_location\")\n",
    "plt.ylabel(\"Frecuencia\")"
   ]
  },
  {
   "cell_type": "markdown",
   "metadata": {},
   "source": [
    "#### Variable \"host_verifications\""
   ]
  },
  {
   "cell_type": "code",
   "execution_count": 463,
   "metadata": {},
   "outputs": [
    {
     "data": {
      "text/html": [
       "<div>\n",
       "<style scoped>\n",
       "    .dataframe tbody tr th:only-of-type {\n",
       "        vertical-align: middle;\n",
       "    }\n",
       "\n",
       "    .dataframe tbody tr th {\n",
       "        vertical-align: top;\n",
       "    }\n",
       "\n",
       "    .dataframe thead th {\n",
       "        text-align: right;\n",
       "    }\n",
       "</style>\n",
       "<table border=\"1\" class=\"dataframe\">\n",
       "  <thead>\n",
       "    <tr style=\"text-align: right;\">\n",
       "      <th></th>\n",
       "      <th>host_verifications</th>\n",
       "      <th>frequency</th>\n",
       "    </tr>\n",
       "  </thead>\n",
       "  <tbody>\n",
       "    <tr>\n",
       "      <th>0</th>\n",
       "      <td>['email', 'phone']</td>\n",
       "      <td>10126</td>\n",
       "    </tr>\n",
       "    <tr>\n",
       "      <th>1</th>\n",
       "      <td>['email', 'phone', 'work_email']</td>\n",
       "      <td>1643</td>\n",
       "    </tr>\n",
       "    <tr>\n",
       "      <th>2</th>\n",
       "      <td>['phone']</td>\n",
       "      <td>652</td>\n",
       "    </tr>\n",
       "    <tr>\n",
       "      <th>3</th>\n",
       "      <td>['phone', 'work_email']</td>\n",
       "      <td>289</td>\n",
       "    </tr>\n",
       "    <tr>\n",
       "      <th>4</th>\n",
       "      <td>['email']</td>\n",
       "      <td>12</td>\n",
       "    </tr>\n",
       "  </tbody>\n",
       "</table>\n",
       "</div>"
      ],
      "text/plain": [
       "                 host_verifications  frequency\n",
       "0                ['email', 'phone']      10126\n",
       "1  ['email', 'phone', 'work_email']       1643\n",
       "2                         ['phone']        652\n",
       "3           ['phone', 'work_email']        289\n",
       "4                         ['email']         12"
      ]
     },
     "execution_count": 463,
     "metadata": {},
     "output_type": "execute_result"
    }
   ],
   "source": [
    "host_verifications = fp.freq_tbl(df[\"host_verifications\"])\n",
    "host_verifications.drop([\"percentage\", \"cumulative_perc\"], axis=1, inplace=True)\n",
    "host_verifications"
   ]
  },
  {
   "cell_type": "code",
   "execution_count": 464,
   "metadata": {},
   "outputs": [
    {
     "data": {
      "text/html": [
       "<div>\n",
       "<style scoped>\n",
       "    .dataframe tbody tr th:only-of-type {\n",
       "        vertical-align: middle;\n",
       "    }\n",
       "\n",
       "    .dataframe tbody tr th {\n",
       "        vertical-align: top;\n",
       "    }\n",
       "\n",
       "    .dataframe thead th {\n",
       "        text-align: right;\n",
       "    }\n",
       "</style>\n",
       "<table border=\"1\" class=\"dataframe\">\n",
       "  <thead>\n",
       "    <tr style=\"text-align: right;\">\n",
       "      <th></th>\n",
       "      <th>frequency</th>\n",
       "    </tr>\n",
       "    <tr>\n",
       "      <th>host_verifications</th>\n",
       "      <th></th>\n",
       "    </tr>\n",
       "  </thead>\n",
       "  <tbody>\n",
       "    <tr>\n",
       "      <th>['email', 'phone']</th>\n",
       "      <td>10126</td>\n",
       "    </tr>\n",
       "    <tr>\n",
       "      <th>['email', 'phone', 'work_email']</th>\n",
       "      <td>1643</td>\n",
       "    </tr>\n",
       "    <tr>\n",
       "      <th>['phone']</th>\n",
       "      <td>652</td>\n",
       "    </tr>\n",
       "    <tr>\n",
       "      <th>['phone', 'work_email']</th>\n",
       "      <td>289</td>\n",
       "    </tr>\n",
       "    <tr>\n",
       "      <th>['email']</th>\n",
       "      <td>12</td>\n",
       "    </tr>\n",
       "  </tbody>\n",
       "</table>\n",
       "</div>"
      ],
      "text/plain": [
       "                                  frequency\n",
       "host_verifications                         \n",
       "['email', 'phone']                    10126\n",
       "['email', 'phone', 'work_email']       1643\n",
       "['phone']                               652\n",
       "['phone', 'work_email']                 289\n",
       "['email']                                12"
      ]
     },
     "execution_count": 464,
     "metadata": {},
     "output_type": "execute_result"
    }
   ],
   "source": [
    "host_verifications = host_verifications.set_index(\"host_verifications\")\n",
    "host_verifications"
   ]
  },
  {
   "cell_type": "code",
   "execution_count": 465,
   "metadata": {},
   "outputs": [
    {
     "data": {
      "text/plain": [
       "Text(0, 0.5, 'Frecuencia')"
      ]
     },
     "execution_count": 465,
     "metadata": {},
     "output_type": "execute_result"
    },
    {
     "data": {
      "image/png": "[encoded data removed]",
      "text/plain": [
       "<Figure size 1000x1000 with 1 Axes>"
      ]
     },
     "metadata": {},
     "output_type": "display_data"
    }
   ],
   "source": [
    "# Haremos un gráfico de barras para representar la frecuencia de cada categoría\n",
    "host_verifications.plot(kind='bar', y='frequency', figsize=(10,10))\n",
    "plt.title(\"Frecuencia de cada categoría de host_verifications\")\n",
    "plt.ylabel(\"Frecuencia\")"
   ]
  },
  {
   "cell_type": "markdown",
   "metadata": {},
   "source": [
    "#### Categorización de Variables"
   ]
  },
  {
   "cell_type": "code",
   "execution_count": null,
   "metadata": {},
   "outputs": [
    {
     "data": {
      "text/plain": [
       "0"
      ]
     },
     "execution_count": 466,
     "metadata": {},
     "output_type": "execute_result"
    }
   ],
   "source": [
    "df2 = pd.read_csv('listings - Florencia_clean.csv')\n",
    "df2.isnull().sum().sum()"
   ]
  },
  {
   "cell_type": "markdown",
   "metadata": {},
   "source": [
    "#### Variable \"host_response_rate\""
   ]
  },
  {
   "cell_type": "code",
   "execution_count": 467,
   "metadata": {},
   "outputs": [],
   "source": [
    "# Procesamiento requerido para convertir la variable \"host_response_rate\" en numérica\n",
    "df2[\"host_response_rate\"] = df2[\"host_response_rate\"].apply(lambda x: x[:-1] if type(x) == str else x)\n",
    "df2[\"host_response_rate\"] = pd.to_numeric(df2[\"host_response_rate\"], errors='coerce')\n",
    "df2[\"host_response_rate\"] = df2[\"host_response_rate\"].fillna(0)"
   ]
  },
  {
   "cell_type": "code",
   "execution_count": 468,
   "metadata": {},
   "outputs": [
    {
     "name": "stdout",
     "output_type": "stream",
     "text": [
      "Número de intervalos de clase:  14.627123898918503\n",
      "Ancho del intervalo:  6.8366139981485885\n"
     ]
    }
   ],
   "source": [
    "# Determinación de la cantidad de clases a crear\n",
    "\n",
    "# Calculamos el numero total de la poblacion \"n\"\n",
    "n = df2[\"host_response_rate\"].count()\n",
    "# Obtenemos el limite inferior y superior del intervalo de clase\n",
    "Max=df2[\"host_response_rate\"].max()\n",
    "Min=df2[\"host_response_rate\"].min()\n",
    "Limites = [Min, Max]\n",
    "# Calculamos el rango r\n",
    "R = Max - Min\n",
    "# Calculamos el número de intervalos de clase \"ni\", aplocando la regla de Sturges\n",
    "ni = 1+3.32*np.log10(n)\n",
    "# Calculamos el ancho del intervalo \"i\"\n",
    "i = R/ni\n",
    "\n",
    "print(\"Número de intervalos de clase: \", ni)\n",
    "print(\"Ancho del intervalo: \", i)"
   ]
  },
  {
   "cell_type": "code",
   "execution_count": 469,
   "metadata": {},
   "outputs": [
    {
     "data": {
      "text/plain": [
       "0        Clase 14\n",
       "1        Clase 14\n",
       "2        Clase 14\n",
       "3        Clase 14\n",
       "4        Clase 14\n",
       "           ...   \n",
       "12717    Clase 14\n",
       "12718     Clase 1\n",
       "12719     Clase 1\n",
       "12720    Clase 14\n",
       "12721    Clase 14\n",
       "Name: host_response_rate, Length: 12722, dtype: category\n",
       "Categories (14, object): ['Clase 1' < 'Clase 2' < 'Clase 3' < 'Clase 4' ... 'Clase 11' < 'Clase 12' < 'Clase 13' < 'Clase 14']"
      ]
     },
     "execution_count": 469,
     "metadata": {},
     "output_type": "execute_result"
    }
   ],
   "source": [
    "# Creación de las intervalos y clases\n",
    "intervalos = np.linspace(Min, Max, int(ni + 1))\n",
    "categorias = [\"Clase \" + str(i) for i in range(1, len(intervalos))]\n",
    "df2[\"host_response_rate\"] = pd.cut(df2[\"host_response_rate\"], bins=intervalos, labels=categorias, include_lowest=True)\n",
    "df2[\"host_response_rate\"]"
   ]
  },
  {
   "cell_type": "markdown",
   "metadata": {},
   "source": [
    "#### Variable \"host_acceptance_rate\""
   ]
  },
  {
   "cell_type": "code",
   "execution_count": 470,
   "metadata": {},
   "outputs": [],
   "source": [
    "# Procesamiento requerido para convertir la variable \"host_response_rate\" en numérica\n",
    "df2[\"host_acceptance_rate\"] = df2[\"host_acceptance_rate\"].apply(lambda x: x[:-1] if type(x) == str else x)\n",
    "df2[\"host_acceptance_rate\"] = pd.to_numeric(df2[\"host_acceptance_rate\"], errors='coerce')\n",
    "df2[\"host_acceptance_rate\"] = df2[\"host_acceptance_rate\"].fillna(0)"
   ]
  },
  {
   "cell_type": "code",
   "execution_count": 471,
   "metadata": {},
   "outputs": [
    {
     "name": "stdout",
     "output_type": "stream",
     "text": [
      "Número de intervalos de clase:  14.627123898918503\n",
      "Ancho del intervalo:  6.8366139981485885\n"
     ]
    }
   ],
   "source": [
    "# Determinación de la cantidad de clases a crear\n",
    "n = df2[\"host_acceptance_rate\"].count()\n",
    "Max=df2[\"host_acceptance_rate\"].max()\n",
    "Min=df2[\"host_acceptance_rate\"].min()\n",
    "Limites = [Min, Max]\n",
    "R = Max - Min\n",
    "ni = 1+3.32*np.log10(n)\n",
    "i = R/ni\n",
    "print(\"Número de intervalos de clase: \", ni)\n",
    "print(\"Ancho del intervalo: \", i)"
   ]
  },
  {
   "cell_type": "code",
   "execution_count": 472,
   "metadata": {},
   "outputs": [
    {
     "data": {
      "text/plain": [
       "0        Clase 14\n",
       "1         Clase 4\n",
       "2        Clase 10\n",
       "3        Clase 10\n",
       "4        Clase 10\n",
       "           ...   \n",
       "12717    Clase 14\n",
       "12718    Clase 14\n",
       "12719     Clase 1\n",
       "12720    Clase 14\n",
       "12721    Clase 14\n",
       "Name: host_acceptance_rate, Length: 12722, dtype: category\n",
       "Categories (14, object): ['Clase 1' < 'Clase 2' < 'Clase 3' < 'Clase 4' ... 'Clase 11' < 'Clase 12' < 'Clase 13' < 'Clase 14']"
      ]
     },
     "execution_count": 472,
     "metadata": {},
     "output_type": "execute_result"
    }
   ],
   "source": [
    "# Creación de los intervalos y las clases\n",
    "intervalos = np.linspace(Min, Max, int(ni + 1))\n",
    "categorias = [\"Clase \" + str(i) for i in range(1, len(intervalos))]\n",
    "df2[\"host_acceptance_rate\"] = pd.cut(df2[\"host_acceptance_rate\"], bins=intervalos, labels=categorias, include_lowest=True)\n",
    "df2[\"host_acceptance_rate\"]"
   ]
  },
  {
   "cell_type": "markdown",
   "metadata": {},
   "source": [
    "#### Variable \"host_total_listings_count\""
   ]
  },
  {
   "cell_type": "code",
   "execution_count": 473,
   "metadata": {},
   "outputs": [
    {
     "name": "stdout",
     "output_type": "stream",
     "text": [
      "Número de intervalos de clase:  14.627123898918503\n",
      "Ancho del intervalo:  2.8030117392409215\n"
     ]
    }
   ],
   "source": [
    "# Determinación de la cantidad de clases a crear\n",
    "n = df2[\"host_total_listings_count\"].count()\n",
    "Max=df2[\"host_total_listings_count\"].max()\n",
    "Min=df2[\"host_total_listings_count\"].min()\n",
    "Limites = [Min, Max]\n",
    "R = Max - Min\n",
    "ni = 1+3.32*np.log10(n)\n",
    "i = R/ni\n",
    "print(\"Número de intervalos de clase: \", ni)\n",
    "print(\"Ancho del intervalo: \", i)"
   ]
  },
  {
   "cell_type": "code",
   "execution_count": 474,
   "metadata": {},
   "outputs": [
    {
     "data": {
      "text/plain": [
       "0        Clase 14\n",
       "1         Clase 1\n",
       "2         Clase 1\n",
       "3         Clase 4\n",
       "4         Clase 4\n",
       "           ...   \n",
       "12717     Clase 2\n",
       "12718     Clase 1\n",
       "12719     Clase 1\n",
       "12720     Clase 1\n",
       "12721     Clase 5\n",
       "Name: host_total_listings_count, Length: 12722, dtype: category\n",
       "Categories (14, object): ['Clase 1' < 'Clase 2' < 'Clase 3' < 'Clase 4' ... 'Clase 11' < 'Clase 12' < 'Clase 13' < 'Clase 14']"
      ]
     },
     "execution_count": 474,
     "metadata": {},
     "output_type": "execute_result"
    }
   ],
   "source": [
    "# Creación de los intervalos y las clases\n",
    "intervalos = np.linspace(Min, Max, int(ni + 1))\n",
    "categorias = [\"Clase \" + str(i) for i in range(1, len(intervalos))]\n",
    "df2[\"host_total_listings_count\"] = pd.cut(df2[\"host_total_listings_count\"], bins=intervalos, labels=categorias, include_lowest=True)\n",
    "df2[\"host_total_listings_count\"]"
   ]
  },
  {
   "cell_type": "markdown",
   "metadata": {},
   "source": [
    "#### Variable \"accommodates\""
   ]
  },
  {
   "cell_type": "code",
   "execution_count": 475,
   "metadata": {},
   "outputs": [
    {
     "name": "stdout",
     "output_type": "stream",
     "text": [
      "Número de intervalos de clase:  14.627123898918503\n",
      "Ancho del intervalo:  0.4101968398889153\n"
     ]
    }
   ],
   "source": [
    "# Determinación de la cantidad de clases a crear\n",
    "n = df2[\"accommodates\"].count()\n",
    "Max=df2[\"accommodates\"].max()\n",
    "Min=df2[\"accommodates\"].min()\n",
    "Limites = [Min, Max]\n",
    "R = Max - Min\n",
    "ni = 1+3.32*np.log10(n)\n",
    "i = R/ni\n",
    "print(\"Número de intervalos de clase: \", ni)\n",
    "print(\"Ancho del intervalo: \", i)"
   ]
  },
  {
   "cell_type": "code",
   "execution_count": 476,
   "metadata": {},
   "outputs": [
    {
     "data": {
      "text/plain": [
       "0         Clase 3\n",
       "1         Clase 3\n",
       "2         Clase 7\n",
       "3         Clase 3\n",
       "4         Clase 3\n",
       "           ...   \n",
       "12717     Clase 7\n",
       "12718    Clase 12\n",
       "12719     Clase 7\n",
       "12720     Clase 7\n",
       "12721     Clase 7\n",
       "Name: accommodates, Length: 12722, dtype: category\n",
       "Categories (14, object): ['Clase 1' < 'Clase 2' < 'Clase 3' < 'Clase 4' ... 'Clase 11' < 'Clase 12' < 'Clase 13' < 'Clase 14']"
      ]
     },
     "execution_count": 476,
     "metadata": {},
     "output_type": "execute_result"
    }
   ],
   "source": [
    "# Creación de los intervalos y las clases\n",
    "intervalos = np.linspace(Min, Max, int(ni + 1))\n",
    "categorias = [\"Clase \" + str(i) for i in range(1, len(intervalos))]\n",
    "df2[\"accommodates\"] = pd.cut(df2[\"accommodates\"], bins=intervalos, labels=categorias, include_lowest=True)\n",
    "df2[\"accommodates\"]"
   ]
  },
  {
   "cell_type": "markdown",
   "metadata": {},
   "source": [
    "#### Variable \"bathrooms_text\""
   ]
  },
  {
   "cell_type": "code",
   "execution_count": 477,
   "metadata": {},
   "outputs": [
    {
     "data": {
      "text/plain": [
       "0"
      ]
     },
     "execution_count": 477,
     "metadata": {},
     "output_type": "execute_result"
    }
   ],
   "source": [
    "# procesamiento requerido para convertir la variable \"bathrooms_text\" en numérica\n",
    "df2[\"bathrooms_text\"] = df2[\"bathrooms_text\"].apply(lambda x: x.split(\" \")[0] if type(x) == str else x)\n",
    "df2[\"bathrooms_text\"] = pd.to_numeric(df2[\"bathrooms_text\"], errors='coerce')\n",
    "df2[\"bathrooms_text\"] = df2[\"bathrooms_text\"].fillna(0)\n",
    "df2[\"bathrooms_text\"].isnull().sum()"
   ]
  },
  {
   "cell_type": "code",
   "execution_count": 478,
   "metadata": {},
   "outputs": [
    {
     "name": "stdout",
     "output_type": "stream",
     "text": [
      "Número de intervalos de clase:  14.627123898918503\n",
      "Ancho del intervalo:  0.9229428897500594\n"
     ]
    }
   ],
   "source": [
    "# Determinación de la cantidad de clases a crear\n",
    "n = df2[\"bathrooms_text\"].count()\n",
    "Max=df2[\"bathrooms_text\"].max()\n",
    "Min=df2[\"bathrooms_text\"].min()\n",
    "Limites = [Min, Max]\n",
    "R = Max - Min\n",
    "ni = 1+3.32*np.log10(n)\n",
    "i = R/ni\n",
    "print(\"Número de intervalos de clase: \", ni)\n",
    "print(\"Ancho del intervalo: \", i)"
   ]
  },
  {
   "cell_type": "code",
   "execution_count": 479,
   "metadata": {},
   "outputs": [
    {
     "data": {
      "text/plain": [
       "0        Clase 2\n",
       "1        Clase 2\n",
       "2        Clase 3\n",
       "3        Clase 1\n",
       "4        Clase 2\n",
       "          ...   \n",
       "12717    Clase 5\n",
       "12718    Clase 2\n",
       "12719    Clase 2\n",
       "12720    Clase 2\n",
       "12721    Clase 2\n",
       "Name: bathrooms_text, Length: 12722, dtype: category\n",
       "Categories (14, object): ['Clase 1' < 'Clase 2' < 'Clase 3' < 'Clase 4' ... 'Clase 11' < 'Clase 12' < 'Clase 13' < 'Clase 14']"
      ]
     },
     "execution_count": 479,
     "metadata": {},
     "output_type": "execute_result"
    }
   ],
   "source": [
    "# Creación de los intervalos y las clases\n",
    "intervalos = np.linspace(Min, Max, int(ni + 1))\n",
    "categorias = [\"Clase \" + str(i) for i in range(1, len(intervalos))]\n",
    "df2[\"bathrooms_text\"] = pd.cut(df2[\"bathrooms_text\"], bins=intervalos, labels=categorias, include_lowest=True)\n",
    "df2[\"bathrooms_text\"]"
   ]
  },
  {
   "cell_type": "markdown",
   "metadata": {},
   "source": [
    "#### Variable \"beds\""
   ]
  },
  {
   "cell_type": "code",
   "execution_count": 480,
   "metadata": {},
   "outputs": [
    {
     "name": "stdout",
     "output_type": "stream",
     "text": [
      "Número de intervalos de clase:  14.627123898918503\n",
      "Ancho del intervalo:  0.4101968398889153\n"
     ]
    }
   ],
   "source": [
    "# Determinación de la cantidad de clases a crear\n",
    "n = df2[\"beds\"].count()\n",
    "Max=df2[\"beds\"].max()\n",
    "Min=df2[\"beds\"].min()\n",
    "Limites = [Min, Max]\n",
    "R = Max - Min\n",
    "ni = 1+3.32*np.log10(n)\n",
    "i = R/ni\n",
    "print(\"Número de intervalos de clase: \", ni)\n",
    "print(\"Ancho del intervalo: \", i)"
   ]
  },
  {
   "cell_type": "code",
   "execution_count": 481,
   "metadata": {},
   "outputs": [
    {
     "data": {
      "text/plain": [
       "0         Clase 3\n",
       "1         Clase 3\n",
       "2        Clase 10\n",
       "3         Clase 3\n",
       "4         Clase 3\n",
       "           ...   \n",
       "12717    Clase 10\n",
       "12718     Clase 7\n",
       "12719     Clase 7\n",
       "12720     Clase 5\n",
       "12721     Clase 5\n",
       "Name: beds, Length: 12722, dtype: category\n",
       "Categories (14, object): ['Clase 1' < 'Clase 2' < 'Clase 3' < 'Clase 4' ... 'Clase 11' < 'Clase 12' < 'Clase 13' < 'Clase 14']"
      ]
     },
     "execution_count": 481,
     "metadata": {},
     "output_type": "execute_result"
    }
   ],
   "source": [
    "# Creación de los intervalos y las clases\n",
    "intervalos = np.linspace(Min, Max, int(ni + 1))\n",
    "categorias = [\"Clase \" + str(i) for i in range(1, len(intervalos))]\n",
    "df2[\"beds\"] = pd.cut(df2[\"beds\"], bins=intervalos, labels=categorias, include_lowest=True)\n",
    "df2[\"beds\"]"
   ]
  },
  {
   "cell_type": "markdown",
   "metadata": {},
   "source": [
    "#### Variable \"price\""
   ]
  },
  {
   "cell_type": "code",
   "execution_count": 482,
   "metadata": {},
   "outputs": [
    {
     "name": "stdout",
     "output_type": "stream",
     "text": [
      "Número de intervalos de clase:  14.627123898918503\n",
      "Ancho del intervalo:  28.030117392409213\n"
     ]
    }
   ],
   "source": [
    "# Determinación de la cantidad de clases a crear\n",
    "n = df2[\"price\"].count()\n",
    "Max=df2[\"price\"].max()\n",
    "Min=df2[\"price\"].min()\n",
    "Limites = [Min, Max]\n",
    "R = Max - Min\n",
    "ni = 1+3.32*np.log10(n)\n",
    "i = R/ni\n",
    "print(\"Número de intervalos de clase: \", ni)\n",
    "print(\"Ancho del intervalo: \", i)"
   ]
  },
  {
   "cell_type": "code",
   "execution_count": 483,
   "metadata": {},
   "outputs": [
    {
     "data": {
      "text/plain": [
       "0        Clase 3\n",
       "1        Clase 3\n",
       "2        Clase 5\n",
       "3        Clase 4\n",
       "4        Clase 4\n",
       "          ...   \n",
       "12717    Clase 6\n",
       "12718    Clase 7\n",
       "12719    Clase 3\n",
       "12720    Clase 8\n",
       "12721    Clase 4\n",
       "Name: price, Length: 12722, dtype: category\n",
       "Categories (14, object): ['Clase 1' < 'Clase 2' < 'Clase 3' < 'Clase 4' ... 'Clase 11' < 'Clase 12' < 'Clase 13' < 'Clase 14']"
      ]
     },
     "execution_count": 483,
     "metadata": {},
     "output_type": "execute_result"
    }
   ],
   "source": [
    "# Creación de los intervalos y las clases\n",
    "intervalos = np.linspace(Min, Max, int(ni + 1))\n",
    "categorias = [\"Clase \" + str(i) for i in range(1, len(intervalos))]\n",
    "df2[\"price\"] = pd.cut(df2[\"price\"], bins=intervalos, labels=categorias, include_lowest=True)\n",
    "df2[\"price\"]"
   ]
  },
  {
   "cell_type": "markdown",
   "metadata": {},
   "source": [
    "#### Variable \"number_of_reviews_ltm\""
   ]
  },
  {
   "cell_type": "code",
   "execution_count": 484,
   "metadata": {},
   "outputs": [
    {
     "name": "stdout",
     "output_type": "stream",
     "text": [
      "Número de intervalos de clase:  14.627123898918503\n",
      "Ancho del intervalo:  4.64889751874104\n"
     ]
    }
   ],
   "source": [
    "# Determinación de la cantidad de clases a crear\n",
    "n = df2[\"number_of_reviews_ltm\"].count()\n",
    "Max=df2[\"number_of_reviews_ltm\"].max()\n",
    "Min=df2[\"number_of_reviews_ltm\"].min()\n",
    "Limites = [Min, Max]\n",
    "R = Max - Min\n",
    "ni = 1+3.32*np.log10(n)\n",
    "i = R/ni\n",
    "print(\"Número de intervalos de clase: \", ni)\n",
    "print(\"Ancho del intervalo: \", i)"
   ]
  },
  {
   "cell_type": "code",
   "execution_count": 485,
   "metadata": {},
   "outputs": [
    {
     "data": {
      "text/plain": [
       "0        Clase 2\n",
       "1        Clase 1\n",
       "2        Clase 1\n",
       "3        Clase 2\n",
       "4        Clase 1\n",
       "          ...   \n",
       "12717    Clase 1\n",
       "12718    Clase 1\n",
       "12719    Clase 1\n",
       "12720    Clase 1\n",
       "12721    Clase 1\n",
       "Name: number_of_reviews_ltm, Length: 12722, dtype: category\n",
       "Categories (14, object): ['Clase 1' < 'Clase 2' < 'Clase 3' < 'Clase 4' ... 'Clase 11' < 'Clase 12' < 'Clase 13' < 'Clase 14']"
      ]
     },
     "execution_count": 485,
     "metadata": {},
     "output_type": "execute_result"
    }
   ],
   "source": [
    "# Creación de los intervalos y las clases\n",
    "intervalos = np.linspace(Min, Max, int(ni + 1))\n",
    "categorias = [\"Clase \" + str(i) for i in range(1, len(intervalos))]\n",
    "df2[\"number_of_reviews_ltm\"] = pd.cut(df2[\"number_of_reviews_ltm\"], bins=intervalos, labels=categorias, include_lowest=True)\n",
    "df2[\"number_of_reviews_ltm\"]"
   ]
  },
  {
   "cell_type": "markdown",
   "metadata": {},
   "source": [
    "#### Variable \"availability_365\""
   ]
  },
  {
   "cell_type": "code",
   "execution_count": 486,
   "metadata": {},
   "outputs": [
    {
     "name": "stdout",
     "output_type": "stream",
     "text": [
      "Número de intervalos de clase:  14.627123898918503\n",
      "Ancho del intervalo:  24.95364109324235\n"
     ]
    }
   ],
   "source": [
    "# Determinación de la cantidad de clases a crear\n",
    "n = df2[\"availability_365\"].count()\n",
    "Max=df2[\"availability_365\"].max()\n",
    "Min=df2[\"availability_365\"].min()\n",
    "Limites = [Min, Max]\n",
    "R = Max - Min\n",
    "ni = 1+3.32*np.log10(n)\n",
    "i = R/ni\n",
    "print(\"Número de intervalos de clase: \", ni)\n",
    "print(\"Ancho del intervalo: \", i)"
   ]
  },
  {
   "cell_type": "code",
   "execution_count": 487,
   "metadata": {},
   "outputs": [
    {
     "data": {
      "text/plain": [
       "0        Clase 13\n",
       "1         Clase 1\n",
       "2        Clase 10\n",
       "3        Clase 14\n",
       "4        Clase 13\n",
       "           ...   \n",
       "12717    Clase 12\n",
       "12718    Clase 14\n",
       "12719     Clase 6\n",
       "12720    Clase 14\n",
       "12721     Clase 6\n",
       "Name: availability_365, Length: 12722, dtype: category\n",
       "Categories (14, object): ['Clase 1' < 'Clase 2' < 'Clase 3' < 'Clase 4' ... 'Clase 11' < 'Clase 12' < 'Clase 13' < 'Clase 14']"
      ]
     },
     "execution_count": 487,
     "metadata": {},
     "output_type": "execute_result"
    }
   ],
   "source": [
    "# Creación de los intervalos y las clases\n",
    "intervalos = np.linspace(Min, Max, int(ni + 1))\n",
    "categorias = [\"Clase \" + str(i) for i in range(1, len(intervalos))]\n",
    "df2[\"availability_365\"] = pd.cut(df2[\"availability_365\"], bins=intervalos, labels=categorias, include_lowest=True)\n",
    "df2[\"availability_365\"]"
   ]
  },
  {
   "cell_type": "markdown",
   "metadata": {},
   "source": [
    "#### Variable \"number_of_reviews\""
   ]
  },
  {
   "cell_type": "code",
   "execution_count": 488,
   "metadata": {},
   "outputs": [
    {
     "name": "stdout",
     "output_type": "stream",
     "text": [
      "Número de intervalos de clase:  14.627123898918503\n",
      "Ancho del intervalo:  14.151790976167579\n"
     ]
    }
   ],
   "source": [
    "# Determinación de la cantidad de clases a crear\n",
    "n = df2[\"number_of_reviews\"].count()\n",
    "Max=df2[\"number_of_reviews\"].max()\n",
    "Min=df2[\"number_of_reviews\"].min()\n",
    "Limites = [Min, Max]\n",
    "R = Max - Min\n",
    "ni = 1+3.32*np.log10(n)\n",
    "i = R/ni\n",
    "print(\"Número de intervalos de clase: \", ni)\n",
    "print(\"Ancho del intervalo: \", i)"
   ]
  },
  {
   "cell_type": "code",
   "execution_count": 489,
   "metadata": {},
   "outputs": [
    {
     "data": {
      "text/plain": [
       "0        Clase 9\n",
       "1        Clase 2\n",
       "2        Clase 3\n",
       "3        Clase 6\n",
       "4        Clase 2\n",
       "          ...   \n",
       "12717    Clase 1\n",
       "12718    Clase 1\n",
       "12719    Clase 1\n",
       "12720    Clase 1\n",
       "12721    Clase 1\n",
       "Name: number_of_reviews, Length: 12722, dtype: category\n",
       "Categories (14, object): ['Clase 1' < 'Clase 2' < 'Clase 3' < 'Clase 4' ... 'Clase 11' < 'Clase 12' < 'Clase 13' < 'Clase 14']"
      ]
     },
     "execution_count": 489,
     "metadata": {},
     "output_type": "execute_result"
    }
   ],
   "source": [
    "# Creación de los intervalos y las clases\n",
    "intervalos = np.linspace(Min, Max, int(ni + 1))\n",
    "categorias = [\"Clase \" + str(i) for i in range(1, len(intervalos))]\n",
    "df2[\"number_of_reviews\"] = pd.cut(df2[\"number_of_reviews\"], bins=intervalos, labels=categorias, include_lowest=True)\n",
    "df2[\"number_of_reviews\"]"
   ]
  },
  {
   "cell_type": "markdown",
   "metadata": {},
   "source": [
    "#### Variable \"review_scores_location\""
   ]
  },
  {
   "cell_type": "code",
   "execution_count": 490,
   "metadata": {},
   "outputs": [
    {
     "name": "stdout",
     "output_type": "stream",
     "text": [
      "Número de intervalos de clase:  14.627123898918503\n",
      "Ancho del intervalo:  0.060162203183707574\n"
     ]
    }
   ],
   "source": [
    "# Determinación de la cantidad de clases a crear\n",
    "n = df2[\"review_scores_location\"].count()\n",
    "Max=df2[\"review_scores_location\"].max()\n",
    "Min=df2[\"review_scores_location\"].min()\n",
    "Limites = [Min, Max]\n",
    "R = Max - Min\n",
    "ni = 1+3.32*np.log10(n)\n",
    "i = R/ni\n",
    "print(\"Número de intervalos de clase: \", ni)\n",
    "print(\"Ancho del intervalo: \", i)"
   ]
  },
  {
   "cell_type": "code",
   "execution_count": 491,
   "metadata": {},
   "outputs": [
    {
     "data": {
      "text/plain": [
       "0        Clase 13\n",
       "1         Clase 9\n",
       "2        Clase 12\n",
       "3        Clase 13\n",
       "4        Clase 14\n",
       "           ...   \n",
       "12717    Clase 11\n",
       "12718    Clase 11\n",
       "12719    Clase 11\n",
       "12720    Clase 11\n",
       "12721    Clase 11\n",
       "Name: review_scores_location, Length: 12722, dtype: category\n",
       "Categories (14, object): ['Clase 1' < 'Clase 2' < 'Clase 3' < 'Clase 4' ... 'Clase 11' < 'Clase 12' < 'Clase 13' < 'Clase 14']"
      ]
     },
     "execution_count": 491,
     "metadata": {},
     "output_type": "execute_result"
    }
   ],
   "source": [
    "# Creación de los intervalos y las clases\n",
    "intervalos = np.linspace(Min, Max, int(ni + 1))\n",
    "categorias = [\"Clase \" + str(i) for i in range(1, len(intervalos))]\n",
    "df2[\"review_scores_location\"] = pd.cut(df2[\"review_scores_location\"], bins=intervalos, labels=categorias, include_lowest=True)\n",
    "df2[\"review_scores_location\"]"
   ]
  },
  {
   "cell_type": "markdown",
   "metadata": {},
   "source": [
    "#### Variable \"review_scores_value\""
   ]
  },
  {
   "cell_type": "code",
   "execution_count": 492,
   "metadata": {},
   "outputs": [
    {
     "name": "stdout",
     "output_type": "stream",
     "text": [
      "Número de intervalos de clase:  14.627123898918503\n",
      "Ancho del intervalo:  0.07998838377833849\n"
     ]
    }
   ],
   "source": [
    "# Determinación de la cantidad de clases a crear\n",
    "n = df2[\"review_scores_value\"].count()\n",
    "Max=df2[\"review_scores_value\"].max()\n",
    "Min=df2[\"review_scores_value\"].min()\n",
    "Limites = [Min, Max]\n",
    "R = Max - Min\n",
    "ni = 1+3.32*np.log10(n)\n",
    "i = R/ni\n",
    "print(\"Número de intervalos de clase: \", ni)\n",
    "print(\"Ancho del intervalo: \", i)"
   ]
  },
  {
   "cell_type": "code",
   "execution_count": 493,
   "metadata": {},
   "outputs": [
    {
     "data": {
      "text/plain": [
       "0        Clase 11\n",
       "1        Clase 10\n",
       "2        Clase 13\n",
       "3         Clase 9\n",
       "4         Clase 6\n",
       "           ...   \n",
       "12717    Clase 11\n",
       "12718    Clase 11\n",
       "12719    Clase 11\n",
       "12720    Clase 11\n",
       "12721    Clase 11\n",
       "Name: review_scores_value, Length: 12722, dtype: category\n",
       "Categories (14, object): ['Clase 1' < 'Clase 2' < 'Clase 3' < 'Clase 4' ... 'Clase 11' < 'Clase 12' < 'Clase 13' < 'Clase 14']"
      ]
     },
     "execution_count": 493,
     "metadata": {},
     "output_type": "execute_result"
    }
   ],
   "source": [
    "# Creación de los intervalos y las clases\n",
    "intervalos = np.linspace(Min, Max, int(ni + 1))\n",
    "categorias = [\"Clase \" + str(i) for i in range(1, len(intervalos))]\n",
    "df2[\"review_scores_value\"] = pd.cut(df2[\"review_scores_value\"], bins=intervalos, labels=categorias, include_lowest=True)\n",
    "df2[\"review_scores_value\"]"
   ]
  },
  {
   "cell_type": "markdown",
   "metadata": {},
   "source": [
    "#### Variable \"review_per_month\""
   ]
  },
  {
   "cell_type": "code",
   "execution_count": 494,
   "metadata": {},
   "outputs": [
    {
     "name": "stdout",
     "output_type": "stream",
     "text": [
      "Número de intervalos de clase:  14.627123898918503\n",
      "Ancho del intervalo:  0.44096160288058395\n"
     ]
    }
   ],
   "source": [
    "# Determinación de la cantidad de clases a crear\n",
    "n = df2[\"reviews_per_month\"].count()\n",
    "Max=df2[\"reviews_per_month\"].max()\n",
    "Min=df2[\"reviews_per_month\"].min()\n",
    "Limites = [Min, Max]\n",
    "R = Max - Min\n",
    "ni = 1+3.32*np.log10(n)\n",
    "i = R/ni\n",
    "print(\"Número de intervalos de clase: \", ni)\n",
    "print(\"Ancho del intervalo: \", i)"
   ]
  },
  {
   "cell_type": "code",
   "execution_count": 495,
   "metadata": {},
   "outputs": [
    {
     "data": {
      "text/plain": [
       "0        Clase 2\n",
       "1        Clase 1\n",
       "2        Clase 1\n",
       "3        Clase 1\n",
       "4        Clase 1\n",
       "          ...   \n",
       "12717    Clase 3\n",
       "12718    Clase 3\n",
       "12719    Clase 3\n",
       "12720    Clase 3\n",
       "12721    Clase 3\n",
       "Name: reviews_per_month, Length: 12722, dtype: category\n",
       "Categories (14, object): ['Clase 1' < 'Clase 2' < 'Clase 3' < 'Clase 4' ... 'Clase 11' < 'Clase 12' < 'Clase 13' < 'Clase 14']"
      ]
     },
     "execution_count": 495,
     "metadata": {},
     "output_type": "execute_result"
    }
   ],
   "source": [
    "# Creación de los intervalos y las clases\n",
    "intervalos = np.linspace(Min, Max, int(ni + 1))\n",
    "categorias = [\"Clase \" + str(i) for i in range(1, len(intervalos))]\n",
    "df2[\"reviews_per_month\"] = pd.cut(df2[\"reviews_per_month\"], bins=intervalos, labels=categorias, include_lowest=True)\n",
    "df2[\"reviews_per_month\"]"
   ]
  },
  {
   "cell_type": "markdown",
   "metadata": {},
   "source": [
    "#### Variable \"review_scores_communication\""
   ]
  },
  {
   "cell_type": "code",
   "execution_count": 496,
   "metadata": {},
   "outputs": [
    {
     "name": "stdout",
     "output_type": "stream",
     "text": [
      "Número de intervalos de clase:  14.627123898918503\n",
      "Ancho del intervalo:  0.05195826638592926\n"
     ]
    }
   ],
   "source": [
    "# Determinación de la cantidad de clases a crear\n",
    "n = df2[\"review_scores_communication\"].count()\n",
    "Max=df2[\"review_scores_communication\"].max()\n",
    "Min=df2[\"review_scores_communication\"].min()\n",
    "Limites = [Min, Max]\n",
    "R = Max - Min\n",
    "ni = 1+3.32*np.log10(n)\n",
    "i = R/ni\n",
    "print(\"Número de intervalos de clase: \", ni)\n",
    "print(\"Ancho del intervalo: \", i)"
   ]
  },
  {
   "cell_type": "code",
   "execution_count": 497,
   "metadata": {},
   "outputs": [
    {
     "data": {
      "text/plain": [
       "0        Clase 13\n",
       "1        Clase 14\n",
       "2         Clase 9\n",
       "3        Clase 10\n",
       "4         Clase 8\n",
       "           ...   \n",
       "12717    Clase 13\n",
       "12718    Clase 13\n",
       "12719    Clase 13\n",
       "12720    Clase 13\n",
       "12721    Clase 13\n",
       "Name: review_scores_communication, Length: 12722, dtype: category\n",
       "Categories (14, object): ['Clase 1' < 'Clase 2' < 'Clase 3' < 'Clase 4' ... 'Clase 11' < 'Clase 12' < 'Clase 13' < 'Clase 14']"
      ]
     },
     "execution_count": 497,
     "metadata": {},
     "output_type": "execute_result"
    }
   ],
   "source": [
    "# Creación de los intervalos y las clases\n",
    "intervalos = np.linspace(Min, Max, int(ni + 1))\n",
    "categorias = [\"Clase \" + str(i) for i in range(1, len(intervalos))]\n",
    "df2[\"review_scores_communication\"] = pd.cut(df2[\"review_scores_communication\"], bins=intervalos, labels=categorias, include_lowest=True)\n",
    "df2[\"review_scores_communication\"]"
   ]
  },
  {
   "cell_type": "markdown",
   "metadata": {},
   "source": [
    "#### Variable \"review_scores_checkin\""
   ]
  },
  {
   "cell_type": "code",
   "execution_count": 498,
   "metadata": {},
   "outputs": [
    {
     "name": "stdout",
     "output_type": "stream",
     "text": [
      "Número de intervalos de clase:  14.627123898918503\n",
      "Ancho del intervalo:  0.051274604986114414\n"
     ]
    }
   ],
   "source": [
    "# Determinación de la cantidad de clases a crear\n",
    "n = df2[\"review_scores_checkin\"].count()\n",
    "Max=df2[\"review_scores_checkin\"].max()\n",
    "Min=df2[\"review_scores_checkin\"].min()\n",
    "Limites = [Min, Max]\n",
    "R = Max - Min\n",
    "ni = 1+3.32*np.log10(n)\n",
    "i = R/ni\n",
    "print(\"Número de intervalos de clase: \", ni)\n",
    "print(\"Ancho del intervalo: \", i)"
   ]
  },
  {
   "cell_type": "code",
   "execution_count": 499,
   "metadata": {},
   "outputs": [
    {
     "data": {
      "text/plain": [
       "0        Clase 12\n",
       "1        Clase 12\n",
       "2        Clase 11\n",
       "3        Clase 11\n",
       "4         Clase 9\n",
       "           ...   \n",
       "12717    Clase 13\n",
       "12718    Clase 13\n",
       "12719    Clase 13\n",
       "12720    Clase 13\n",
       "12721    Clase 13\n",
       "Name: review_scores_checkin, Length: 12722, dtype: category\n",
       "Categories (14, object): ['Clase 1' < 'Clase 2' < 'Clase 3' < 'Clase 4' ... 'Clase 11' < 'Clase 12' < 'Clase 13' < 'Clase 14']"
      ]
     },
     "execution_count": 499,
     "metadata": {},
     "output_type": "execute_result"
    }
   ],
   "source": [
    "# Creación de los intervalos y las clases\n",
    "intervalos = np.linspace(Min, Max, int(ni + 1))\n",
    "categorias = [\"Clase \" + str(i) for i in range(1, len(intervalos))]\n",
    "df2[\"review_scores_checkin\"] = pd.cut(df2[\"review_scores_checkin\"], bins=intervalos, labels=categorias, include_lowest=True)\n",
    "df2[\"review_scores_checkin\"]"
   ]
  },
  {
   "cell_type": "markdown",
   "metadata": {},
   "source": [
    "#### Variable \"review_scores_cleanliness\""
   ]
  },
  {
   "cell_type": "code",
   "execution_count": 500,
   "metadata": {},
   "outputs": [
    {
     "name": "stdout",
     "output_type": "stream",
     "text": [
      "Número de intervalos de clase:  14.627123898918503\n",
      "Ancho del intervalo:  0.06768247858167104\n"
     ]
    }
   ],
   "source": [
    "# Determinación de la cantidad de clases a crear\n",
    "n = df2[\"review_scores_cleanliness\"].count()\n",
    "Max=df2[\"review_scores_cleanliness\"].max()\n",
    "Min=df2[\"review_scores_cleanliness\"].min()\n",
    "Limites = [Min, Max]\n",
    "R = Max - Min\n",
    "ni = 1+3.32*np.log10(n)\n",
    "i = R/ni\n",
    "print(\"Número de intervalos de clase: \", ni)\n",
    "print(\"Ancho del intervalo: \", i)"
   ]
  },
  {
   "cell_type": "code",
   "execution_count": 501,
   "metadata": {},
   "outputs": [
    {
     "data": {
      "text/plain": [
       "0        Clase 13\n",
       "1        Clase 13\n",
       "2        Clase 12\n",
       "3         Clase 9\n",
       "4         Clase 9\n",
       "           ...   \n",
       "12717    Clase 12\n",
       "12718    Clase 12\n",
       "12719    Clase 12\n",
       "12720    Clase 12\n",
       "12721    Clase 12\n",
       "Name: review_scores_cleanliness, Length: 12722, dtype: category\n",
       "Categories (14, object): ['Clase 1' < 'Clase 2' < 'Clase 3' < 'Clase 4' ... 'Clase 11' < 'Clase 12' < 'Clase 13' < 'Clase 14']"
      ]
     },
     "execution_count": 501,
     "metadata": {},
     "output_type": "execute_result"
    }
   ],
   "source": [
    "# Creación de los intervalos y las clases\n",
    "intervalos = np.linspace(Min, Max, int(ni + 1))\n",
    "categorias = [\"Clase \" + str(i) for i in range(1, len(intervalos))]\n",
    "df2[\"review_scores_cleanliness\"] = pd.cut(df2[\"review_scores_cleanliness\"], bins=intervalos, labels=categorias, include_lowest=True)\n",
    "df2[\"review_scores_cleanliness\"]"
   ]
  },
  {
   "cell_type": "markdown",
   "metadata": {},
   "source": [
    "#### Variable \"review_scores_accuracy\""
   ]
  },
  {
   "cell_type": "code",
   "execution_count": 502,
   "metadata": {},
   "outputs": [
    {
     "name": "stdout",
     "output_type": "stream",
     "text": [
      "Número de intervalos de clase:  14.627123898918503\n",
      "Ancho del intervalo:  0.058111218984262976\n"
     ]
    }
   ],
   "source": [
    "# Determinación de la cantidad de clases a crear\n",
    "n = df2[\"review_scores_accuracy\"].count()\n",
    "Max=df2[\"review_scores_accuracy\"].max()\n",
    "Min=df2[\"review_scores_accuracy\"].min()\n",
    "Limites = [Min, Max]\n",
    "R = Max - Min\n",
    "ni = 1+3.32*np.log10(n)\n",
    "i = R/ni\n",
    "print(\"Número de intervalos de clase: \", ni)\n",
    "print(\"Ancho del intervalo: \", i)"
   ]
  },
  {
   "cell_type": "code",
   "execution_count": 503,
   "metadata": {},
   "outputs": [
    {
     "data": {
      "text/plain": [
       "0        Clase 10\n",
       "1        Clase 13\n",
       "2        Clase 11\n",
       "3         Clase 9\n",
       "4         Clase 1\n",
       "           ...   \n",
       "12717    Clase 11\n",
       "12718    Clase 11\n",
       "12719    Clase 11\n",
       "12720    Clase 11\n",
       "12721    Clase 11\n",
       "Name: review_scores_accuracy, Length: 12722, dtype: category\n",
       "Categories (14, object): ['Clase 1' < 'Clase 2' < 'Clase 3' < 'Clase 4' ... 'Clase 11' < 'Clase 12' < 'Clase 13' < 'Clase 14']"
      ]
     },
     "execution_count": 503,
     "metadata": {},
     "output_type": "execute_result"
    }
   ],
   "source": [
    "# Creación de los intervalos y las clases\n",
    "intervalos = np.linspace(Min, Max, int(ni + 1))\n",
    "categorias = [\"Clase \" + str(i) for i in range(1, len(intervalos))]\n",
    "df2[\"review_scores_accuracy\"] = pd.cut(df2[\"review_scores_accuracy\"], bins=intervalos, labels=categorias, include_lowest=True)\n",
    "df2[\"review_scores_accuracy\"]"
   ]
  }
 ],
 "metadata": {
  "kernelspec": {
   "display_name": "env",
   "language": "python",
   "name": "python3"
  },
  "language_info": {
   "codemirror_mode": {
    "name": "ipython",
    "version": 3
   },
   "file_extension": ".py",
   "mimetype": "text/x-python",
   "name": "python",
   "nbconvert_exporter": "python",
   "pygments_lexer": "ipython3",
   "version": "3.13.2"
  }
 },
 "nbformat": 4,
 "nbformat_minor": 2
}
