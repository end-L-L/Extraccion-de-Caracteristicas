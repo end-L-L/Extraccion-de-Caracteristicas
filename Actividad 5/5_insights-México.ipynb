{
 "cells": [
  {
   "cell_type": "markdown",
   "metadata": {},
   "source": [
    "# Extracción de Características de México"
   ]
  },
  {
   "cell_type": "code",
   "execution_count": 164,
   "metadata": {},
   "outputs": [],
   "source": [
    "import pandas as pd\n",
    "import matplotlib.pyplot as plt\n",
    "import numpy as np\n",
    "import funpymodeling.exploratory as fp"
   ]
  },
  {
   "cell_type": "code",
   "execution_count": 165,
   "metadata": {},
   "outputs": [
    {
     "data": {
      "text/html": [
       "<div>\n",
       "<style scoped>\n",
       "    .dataframe tbody tr th:only-of-type {\n",
       "        vertical-align: middle;\n",
       "    }\n",
       "\n",
       "    .dataframe tbody tr th {\n",
       "        vertical-align: top;\n",
       "    }\n",
       "\n",
       "    .dataframe thead th {\n",
       "        text-align: right;\n",
       "    }\n",
       "</style>\n",
       "<table border=\"1\" class=\"dataframe\">\n",
       "  <thead>\n",
       "    <tr style=\"text-align: right;\">\n",
       "      <th></th>\n",
       "      <th>id</th>\n",
       "      <th>host_id</th>\n",
       "      <th>source</th>\n",
       "      <th>name</th>\n",
       "      <th>description</th>\n",
       "      <th>neighborhood_overview</th>\n",
       "      <th>host_name</th>\n",
       "      <th>host_since</th>\n",
       "      <th>host_location</th>\n",
       "      <th>host_about</th>\n",
       "      <th>...</th>\n",
       "      <th>number_of_reviews_ltm</th>\n",
       "      <th>number_of_reviews_l30d</th>\n",
       "      <th>review_scores_rating</th>\n",
       "      <th>review_scores_accuracy</th>\n",
       "      <th>review_scores_cleanliness</th>\n",
       "      <th>review_scores_checkin</th>\n",
       "      <th>review_scores_communication</th>\n",
       "      <th>review_scores_location</th>\n",
       "      <th>review_scores_value</th>\n",
       "      <th>reviews_per_month</th>\n",
       "    </tr>\n",
       "  </thead>\n",
       "  <tbody>\n",
       "    <tr>\n",
       "      <th>0</th>\n",
       "      <td>44616</td>\n",
       "      <td>196253</td>\n",
       "      <td>previous scrape</td>\n",
       "      <td>Condesa Haus</td>\n",
       "      <td>A new concept of hosting in mexico through a b...</td>\n",
       "      <td>No neighborhood_overview</td>\n",
       "      <td>Fernando</td>\n",
       "      <td>2010-08-09</td>\n",
       "      <td>Mexico City, Mexico</td>\n",
       "      <td>Condesa Haus  offers independent  studios and ...</td>\n",
       "      <td>...</td>\n",
       "      <td>0.0</td>\n",
       "      <td>0.0</td>\n",
       "      <td>4.58</td>\n",
       "      <td>4.56</td>\n",
       "      <td>4.70</td>\n",
       "      <td>4.87</td>\n",
       "      <td>4.78</td>\n",
       "      <td>4.98</td>\n",
       "      <td>4.48</td>\n",
       "      <td>0.41</td>\n",
       "    </tr>\n",
       "    <tr>\n",
       "      <th>1</th>\n",
       "      <td>67703</td>\n",
       "      <td>334451</td>\n",
       "      <td>city scrape</td>\n",
       "      <td>2 bedroom apt. deco bldg, Condesa</td>\n",
       "      <td>Comfortably furnished, sunny, 2 bedroom apt., ...</td>\n",
       "      <td>No neighborhood_overview</td>\n",
       "      <td>Nicholas</td>\n",
       "      <td>2011-01-04</td>\n",
       "      <td>Mexico City, Mexico</td>\n",
       "      <td>I am a journalist writing about food, (book an...</td>\n",
       "      <td>...</td>\n",
       "      <td>4.0</td>\n",
       "      <td>0.0</td>\n",
       "      <td>4.90</td>\n",
       "      <td>4.81</td>\n",
       "      <td>4.75</td>\n",
       "      <td>4.94</td>\n",
       "      <td>4.92</td>\n",
       "      <td>4.98</td>\n",
       "      <td>4.91</td>\n",
       "      <td>0.31</td>\n",
       "    </tr>\n",
       "    <tr>\n",
       "      <th>2</th>\n",
       "      <td>70644</td>\n",
       "      <td>212109</td>\n",
       "      <td>city scrape</td>\n",
       "      <td>Beautiful light Studio Coyoacan- full equipped !</td>\n",
       "      <td>COYOACAN designer studio quiet &amp; safe! well eq...</td>\n",
       "      <td>Coyoacan is a beautiful neighborhood famous fo...</td>\n",
       "      <td>Trisha</td>\n",
       "      <td>2010-08-24</td>\n",
       "      <td>Mexico City, Mexico</td>\n",
       "      <td>I am a mother, documentary film maker and phot...</td>\n",
       "      <td>...</td>\n",
       "      <td>7.0</td>\n",
       "      <td>2.0</td>\n",
       "      <td>4.91</td>\n",
       "      <td>4.90</td>\n",
       "      <td>4.96</td>\n",
       "      <td>4.96</td>\n",
       "      <td>4.98</td>\n",
       "      <td>4.96</td>\n",
       "      <td>4.92</td>\n",
       "      <td>0.83</td>\n",
       "    </tr>\n",
       "    <tr>\n",
       "      <th>3</th>\n",
       "      <td>107078</td>\n",
       "      <td>540705</td>\n",
       "      <td>city scrape</td>\n",
       "      <td>NEW  DESIGNER LOFT</td>\n",
       "      <td>Is the best ever place triple L &lt;br /&gt;Location...</td>\n",
       "      <td>Is located in the best area of Mexico City, Po...</td>\n",
       "      <td>Andrea</td>\n",
       "      <td>2011-04-27</td>\n",
       "      <td>Mexico City, Mexico</td>\n",
       "      <td>I Leave in Mexico City... I am an Architect an...</td>\n",
       "      <td>...</td>\n",
       "      <td>0.0</td>\n",
       "      <td>0.0</td>\n",
       "      <td>4.91</td>\n",
       "      <td>5.00</td>\n",
       "      <td>5.00</td>\n",
       "      <td>5.00</td>\n",
       "      <td>4.73</td>\n",
       "      <td>4.91</td>\n",
       "      <td>4.82</td>\n",
       "      <td>0.11</td>\n",
       "    </tr>\n",
       "    <tr>\n",
       "      <th>4</th>\n",
       "      <td>131610</td>\n",
       "      <td>647454</td>\n",
       "      <td>previous scrape</td>\n",
       "      <td>MARIA DEL ALMA</td>\n",
       "      <td>No description</td>\n",
       "      <td>No neighborhood_overview</td>\n",
       "      <td>Fernando</td>\n",
       "      <td>2011-05-31</td>\n",
       "      <td>Mexico City, Mexico</td>\n",
       "      <td>No description</td>\n",
       "      <td>...</td>\n",
       "      <td>0.0</td>\n",
       "      <td>0.0</td>\n",
       "      <td>4.80</td>\n",
       "      <td>4.80</td>\n",
       "      <td>4.80</td>\n",
       "      <td>4.90</td>\n",
       "      <td>4.90</td>\n",
       "      <td>4.90</td>\n",
       "      <td>4.80</td>\n",
       "      <td>1.17</td>\n",
       "    </tr>\n",
       "  </tbody>\n",
       "</table>\n",
       "<p>5 rows × 48 columns</p>\n",
       "</div>"
      ],
      "text/plain": [
       "       id  host_id           source  \\\n",
       "0   44616   196253  previous scrape   \n",
       "1   67703   334451      city scrape   \n",
       "2   70644   212109      city scrape   \n",
       "3  107078   540705      city scrape   \n",
       "4  131610   647454  previous scrape   \n",
       "\n",
       "                                               name  \\\n",
       "0                                      Condesa Haus   \n",
       "1                 2 bedroom apt. deco bldg, Condesa   \n",
       "2  Beautiful light Studio Coyoacan- full equipped !   \n",
       "3                                NEW  DESIGNER LOFT   \n",
       "4                                    MARIA DEL ALMA   \n",
       "\n",
       "                                         description  \\\n",
       "0  A new concept of hosting in mexico through a b...   \n",
       "1  Comfortably furnished, sunny, 2 bedroom apt., ...   \n",
       "2  COYOACAN designer studio quiet & safe! well eq...   \n",
       "3  Is the best ever place triple L <br />Location...   \n",
       "4                                     No description   \n",
       "\n",
       "                               neighborhood_overview host_name  host_since  \\\n",
       "0                           No neighborhood_overview  Fernando  2010-08-09   \n",
       "1                           No neighborhood_overview  Nicholas  2011-01-04   \n",
       "2  Coyoacan is a beautiful neighborhood famous fo...    Trisha  2010-08-24   \n",
       "3  Is located in the best area of Mexico City, Po...    Andrea  2011-04-27   \n",
       "4                           No neighborhood_overview  Fernando  2011-05-31   \n",
       "\n",
       "         host_location                                         host_about  \\\n",
       "0  Mexico City, Mexico  Condesa Haus  offers independent  studios and ...   \n",
       "1  Mexico City, Mexico  I am a journalist writing about food, (book an...   \n",
       "2  Mexico City, Mexico  I am a mother, documentary film maker and phot...   \n",
       "3  Mexico City, Mexico  I Leave in Mexico City... I am an Architect an...   \n",
       "4  Mexico City, Mexico                                     No description   \n",
       "\n",
       "   ... number_of_reviews_ltm number_of_reviews_l30d review_scores_rating  \\\n",
       "0  ...                   0.0                    0.0                 4.58   \n",
       "1  ...                   4.0                    0.0                 4.90   \n",
       "2  ...                   7.0                    2.0                 4.91   \n",
       "3  ...                   0.0                    0.0                 4.91   \n",
       "4  ...                   0.0                    0.0                 4.80   \n",
       "\n",
       "  review_scores_accuracy review_scores_cleanliness review_scores_checkin  \\\n",
       "0                   4.56                      4.70                  4.87   \n",
       "1                   4.81                      4.75                  4.94   \n",
       "2                   4.90                      4.96                  4.96   \n",
       "3                   5.00                      5.00                  5.00   \n",
       "4                   4.80                      4.80                  4.90   \n",
       "\n",
       "  review_scores_communication review_scores_location review_scores_value  \\\n",
       "0                        4.78                   4.98                4.48   \n",
       "1                        4.92                   4.98                4.91   \n",
       "2                        4.98                   4.96                4.92   \n",
       "3                        4.73                   4.91                4.82   \n",
       "4                        4.90                   4.90                4.80   \n",
       "\n",
       "  reviews_per_month  \n",
       "0              0.41  \n",
       "1              0.31  \n",
       "2              0.83  \n",
       "3              0.11  \n",
       "4              1.17  \n",
       "\n",
       "[5 rows x 48 columns]"
      ]
     },
     "execution_count": 165,
     "metadata": {},
     "output_type": "execute_result"
    }
   ],
   "source": [
    "df = pd.read_csv('listings - CDMX_clean.csv')\n",
    "df.drop(['Unnamed: 0'], axis=1, inplace=True)\n",
    "df.head()"
   ]
  },
  {
   "cell_type": "code",
   "execution_count": 166,
   "metadata": {},
   "outputs": [
    {
     "name": "stdout",
     "output_type": "stream",
     "text": [
      "<class 'pandas.core.frame.DataFrame'>\n",
      "RangeIndex: 26581 entries, 0 to 26580\n",
      "Data columns (total 48 columns):\n",
      " #   Column                       Non-Null Count  Dtype  \n",
      "---  ------                       --------------  -----  \n",
      " 0   id                           26581 non-null  int64  \n",
      " 1   host_id                      26581 non-null  int64  \n",
      " 2   source                       26581 non-null  object \n",
      " 3   name                         26581 non-null  object \n",
      " 4   description                  26581 non-null  object \n",
      " 5   neighborhood_overview        26581 non-null  object \n",
      " 6   host_name                    26581 non-null  object \n",
      " 7   host_since                   26581 non-null  object \n",
      " 8   host_location                26581 non-null  object \n",
      " 9   host_about                   26581 non-null  object \n",
      " 10  host_response_time           26581 non-null  object \n",
      " 11  host_response_rate           26581 non-null  object \n",
      " 12  host_acceptance_rate         26581 non-null  object \n",
      " 13  host_is_superhost            26581 non-null  object \n",
      " 14  host_verifications           26581 non-null  object \n",
      " 15  host_identity_verified       26581 non-null  object \n",
      " 16  neighbourhood_cleansed       26581 non-null  object \n",
      " 17  property_type                26581 non-null  object \n",
      " 18  room_type                    26581 non-null  object \n",
      " 19  bathrooms_text               26581 non-null  object \n",
      " 20  amenities                    26581 non-null  object \n",
      " 21  has_availability             26581 non-null  object \n",
      " 22  first_review                 26581 non-null  object \n",
      " 23  last_review                  26581 non-null  object \n",
      " 24  instant_bookable             26581 non-null  object \n",
      " 25  host_listings_count          26581 non-null  float64\n",
      " 26  host_total_listings_count    26581 non-null  float64\n",
      " 27  accommodates                 26581 non-null  float64\n",
      " 28  bedrooms                     26581 non-null  float64\n",
      " 29  beds                         26581 non-null  float64\n",
      " 30  price                        26581 non-null  float64\n",
      " 31  minimum_nights               26581 non-null  float64\n",
      " 32  maximum_nights               26581 non-null  int64  \n",
      " 33  availability_30              26581 non-null  int64  \n",
      " 34  availability_60              26581 non-null  int64  \n",
      " 35  availability_90              26581 non-null  int64  \n",
      " 36  availability_365             26581 non-null  int64  \n",
      " 37  number_of_reviews            26581 non-null  float64\n",
      " 38  number_of_reviews_ltm        26581 non-null  float64\n",
      " 39  number_of_reviews_l30d       26581 non-null  float64\n",
      " 40  review_scores_rating         26581 non-null  float64\n",
      " 41  review_scores_accuracy       26581 non-null  float64\n",
      " 42  review_scores_cleanliness    26581 non-null  float64\n",
      " 43  review_scores_checkin        26581 non-null  float64\n",
      " 44  review_scores_communication  26581 non-null  float64\n",
      " 45  review_scores_location       26581 non-null  float64\n",
      " 46  review_scores_value          26581 non-null  float64\n",
      " 47  reviews_per_month            26581 non-null  float64\n",
      "dtypes: float64(18), int64(7), object(23)\n",
      "memory usage: 9.7+ MB\n"
     ]
    }
   ],
   "source": [
    "df.info()"
   ]
  },
  {
   "cell_type": "markdown",
   "metadata": {},
   "source": [
    "### Análisis Univariado"
   ]
  },
  {
   "cell_type": "code",
   "execution_count": 167,
   "metadata": {},
   "outputs": [],
   "source": [
    "# Escogemos las 12 variables categóricas disponibles en el dataset\n",
    "df = df[[\"source\", \"host_response_time\", \"host_is_superhost\", \"host_verifications\", \"host_identity_verified\", \n",
    "         \"neighbourhood_cleansed\", \"property_type\", \"room_type\", \"bathrooms_text\", \"has_availability\",\n",
    "         \"instant_bookable\", \"host_location\"]]"
   ]
  },
  {
   "cell_type": "code",
   "execution_count": 168,
   "metadata": {},
   "outputs": [
    {
     "name": "stdout",
     "output_type": "stream",
     "text": [
      "            source  frequency  percentage  cumulative_perc\n",
      "0      city scrape      23670    0.890486         0.890486\n",
      "1  previous scrape       2911    0.109514         1.000000\n",
      "\n",
      "----------------------------------------------------------------\n",
      "\n",
      "   host_response_time  frequency  percentage  cumulative_perc\n",
      "0      within an hour      18792    0.706971         0.706971\n",
      "1             No data       3622    0.136263         0.843234\n",
      "2  within a few hours       1957    0.073624         0.916858\n",
      "3  a few days or more       1107    0.041646         0.958504\n",
      "4        within a day       1103    0.041496         1.000000\n",
      "\n",
      "----------------------------------------------------------------\n",
      "\n",
      "  host_is_superhost  frequency  percentage  cumulative_perc\n",
      "0                 f      16854    0.634062         0.634062\n",
      "1                 t       9727    0.365938         1.000000\n",
      "\n",
      "----------------------------------------------------------------\n",
      "\n",
      "                 host_verifications  frequency  percentage  cumulative_perc\n",
      "0                ['email', 'phone']      20504    0.771378         0.771378\n",
      "1  ['email', 'phone', 'work_email']       3380    0.127158         0.898537\n",
      "2                         ['phone']       2527    0.095068         0.993604\n",
      "3           ['phone', 'work_email']        105    0.003950         0.997555\n",
      "4                         ['email']         33    0.001241         0.998796\n",
      "5                                []         30    0.001129         0.999925\n",
      "6           ['email', 'work_email']          1    0.000038         0.999962\n",
      "7                    ['work_email']          1    0.000038         1.000000\n",
      "\n",
      "----------------------------------------------------------------\n",
      "\n",
      "  host_identity_verified  frequency  percentage  cumulative_perc\n",
      "0                      t      25425     0.95651          0.95651\n",
      "1                      f       1156     0.04349          1.00000\n",
      "\n",
      "----------------------------------------------------------------\n",
      "\n",
      "    neighbourhood_cleansed  frequency  percentage  cumulative_perc\n",
      "0               Cuauhtémoc      12231    0.460141         0.460141\n",
      "1           Miguel Hidalgo       4533    0.170535         0.630676\n",
      "2            Benito Juárez       3152    0.118581         0.749257\n",
      "3                 Coyoacán       1719    0.064670         0.813927\n",
      "4           Álvaro Obregón       1075    0.040442         0.854370\n",
      "5                  Tlalpan        812    0.030548         0.884918\n",
      "6      Venustiano Carranza        734    0.027614         0.912532\n",
      "7        Gustavo A. Madero        506    0.019036         0.931568\n",
      "8    Cuajimalpa de Morelos        441    0.016591         0.948158\n",
      "9                Iztacalco        399    0.015011         0.963169\n",
      "10            Azcapotzalco        349    0.013130         0.976299\n",
      "11              Iztapalapa        266    0.010007         0.986306\n",
      "12  La Magdalena Contreras        143    0.005380         0.991686\n",
      "13              Xochimilco        143    0.005380         0.997066\n",
      "14                 Tláhuac         50    0.001881         0.998947\n",
      "15              Milpa Alta         28    0.001053         1.000000\n",
      "\n",
      "----------------------------------------------------------------\n",
      "\n",
      "                  property_type  frequency  percentage  cumulative_perc\n",
      "0            Entire rental unit       9971    0.375118         0.375118\n",
      "1                  Entire condo       3423    0.128776         0.503894\n",
      "2   Private room in rental unit       3034    0.114142         0.618035\n",
      "3          Private room in home       2266    0.085249         0.703284\n",
      "4                   Entire loft       1515    0.056996         0.760280\n",
      "..                          ...        ...         ...              ...\n",
      "87        Private room in floor          1    0.000038         0.999850\n",
      "88                 Earthen home          1    0.000038         0.999887\n",
      "89                Entire in-law          1    0.000038         0.999925\n",
      "90          Shared room in dorm          1    0.000038         0.999962\n",
      "91                        Tower          1    0.000038         1.000000\n",
      "\n",
      "[92 rows x 4 columns]\n",
      "\n",
      "----------------------------------------------------------------\n",
      "\n",
      "         room_type  frequency  percentage  cumulative_perc\n",
      "0  Entire home/apt      17362    0.653173         0.653173\n",
      "1     Private room       8693    0.327038         0.980211\n",
      "2      Shared room        401    0.015086         0.995297\n",
      "3       Hotel room        125    0.004703         1.000000\n",
      "\n",
      "----------------------------------------------------------------\n",
      "\n",
      "       bathrooms_text  frequency  percentage  cumulative_perc\n",
      "0              1 bath      11326    0.426094         0.426094\n",
      "1             2 baths       4606    0.173282         0.599375\n",
      "2      1 private bath       3144    0.118280         0.717655\n",
      "3       1 shared bath       2482    0.093375         0.811030\n",
      "4           1.5 baths       1432    0.053873         0.864904\n",
      "5           2.5 baths        854    0.032128         0.897032\n",
      "6             3 baths        546    0.020541         0.917573\n",
      "7    1.5 shared baths        459    0.017268         0.934841\n",
      "8      2 shared baths        320    0.012039         0.946879\n",
      "9           3.5 baths        250    0.009405         0.956285\n",
      "10            4 baths        186    0.006997         0.963282\n",
      "11   2.5 shared baths        121    0.004552         0.967834\n",
      "12     3 shared baths        105    0.003950         0.971784\n",
      "13          4.5 baths        102    0.003837         0.975622\n",
      "14     4 shared baths         68    0.002558         0.978180\n",
      "15            0 baths         54    0.002032         0.980211\n",
      "16     5 shared baths         54    0.002032         0.982243\n",
      "17            5 baths         51    0.001919         0.984162\n",
      "18     0 shared baths         45    0.001693         0.985855\n",
      "19            6 baths         44    0.001655         0.987510\n",
      "20          Half-bath         41    0.001542         0.989052\n",
      "21          5.5 baths         38    0.001430         0.990482\n",
      "22   3.5 shared baths         33    0.001241         0.991723\n",
      "23            7 baths         25    0.000941         0.992664\n",
      "24   Shared half-bath         21    0.000790         0.993454\n",
      "25   4.5 shared baths         20    0.000752         0.994206\n",
      "26     6 shared baths         19    0.000715         0.994921\n",
      "27            8 baths         18    0.000677         0.995598\n",
      "28         11.5 baths         17    0.000640         0.996238\n",
      "29          6.5 baths         14    0.000527         0.996765\n",
      "30     8 shared baths         12    0.000451         0.997216\n",
      "31  Private half-bath         10    0.000376         0.997592\n",
      "32          7.5 baths         10    0.000376         0.997968\n",
      "33            9 baths          8    0.000301         0.998269\n",
      "34          8.5 baths          7    0.000263         0.998533\n",
      "35           10 baths          5    0.000188         0.998721\n",
      "36           11 baths          4    0.000150         0.998871\n",
      "37           12 baths          3    0.000113         0.998984\n",
      "38         12.5 baths          2    0.000075         0.999059\n",
      "39           13 baths          2    0.000075         0.999135\n",
      "40  11.5 shared baths          2    0.000075         0.999210\n",
      "41           14 baths          2    0.000075         0.999285\n",
      "42         10.5 baths          2    0.000075         0.999360\n",
      "43    10 shared baths          2    0.000075         0.999436\n",
      "44           16 baths          2    0.000075         0.999511\n",
      "45    11 shared baths          1    0.000038         0.999549\n",
      "46           21 baths          1    0.000038         0.999586\n",
      "47           18 baths          1    0.000038         0.999624\n",
      "48         14.5 baths          1    0.000038         0.999661\n",
      "49           49 baths          1    0.000038         0.999699\n",
      "50          9.5 baths          1    0.000038         0.999737\n",
      "51    12 shared baths          1    0.000038         0.999774\n",
      "52           17 baths          1    0.000038         0.999812\n",
      "53    13 shared baths          1    0.000038         0.999850\n",
      "54           15 baths          1    0.000038         0.999887\n",
      "55           46 baths          1    0.000038         0.999925\n",
      "56           20 baths          1    0.000038         0.999962\n",
      "57           29 baths          1    0.000038         1.000000\n",
      "\n",
      "----------------------------------------------------------------\n",
      "\n",
      "  has_availability  frequency  percentage  cumulative_perc\n",
      "0                t      25532    0.960536         0.960536\n",
      "1                f       1049    0.039464         1.000000\n",
      "\n",
      "----------------------------------------------------------------\n",
      "\n",
      "  instant_bookable  frequency  percentage  cumulative_perc\n",
      "0                f      16079    0.604906         0.604906\n",
      "1                t      10502    0.395094         1.000000\n",
      "\n",
      "----------------------------------------------------------------\n",
      "\n",
      "                host_location  frequency  percentage  cumulative_perc\n",
      "0         Mexico City, Mexico      17197    0.646966         0.646966\n",
      "1            No host_location       5441    0.204695         0.851661\n",
      "2                      Mexico        949    0.035702         0.887363\n",
      "3    Ciudad de México, Mexico        383    0.014409         0.901772\n",
      "4    Federal District, Mexico        213    0.008013         0.909785\n",
      "..                        ...        ...         ...              ...\n",
      "396        Merion Station, PA          1    0.000038         0.999850\n",
      "397            Colima, Mexico          1    0.000038         0.999887\n",
      "398                 Singapore          1    0.000038         0.999925\n",
      "399          Mahahual, Mexico          1    0.000038         0.999962\n",
      "400       Copenhagen, Denmark          1    0.000038         1.000000\n",
      "\n",
      "[401 rows x 4 columns]\n",
      "\n",
      "----------------------------------------------------------------\n",
      "\n"
     ]
    }
   ],
   "source": [
    "# Realizamos el análisis univariado\n",
    "fp.freq_tbl(df)"
   ]
  },
  {
   "cell_type": "markdown",
   "metadata": {},
   "source": [
    "### Análisis Univariado por Variable"
   ]
  },
  {
   "cell_type": "markdown",
   "metadata": {},
   "source": [
    "#### Variable \"source\""
   ]
  },
  {
   "cell_type": "code",
   "execution_count": 169,
   "metadata": {},
   "outputs": [
    {
     "data": {
      "text/html": [
       "<div>\n",
       "<style scoped>\n",
       "    .dataframe tbody tr th:only-of-type {\n",
       "        vertical-align: middle;\n",
       "    }\n",
       "\n",
       "    .dataframe tbody tr th {\n",
       "        vertical-align: top;\n",
       "    }\n",
       "\n",
       "    .dataframe thead th {\n",
       "        text-align: right;\n",
       "    }\n",
       "</style>\n",
       "<table border=\"1\" class=\"dataframe\">\n",
       "  <thead>\n",
       "    <tr style=\"text-align: right;\">\n",
       "      <th></th>\n",
       "      <th>source</th>\n",
       "      <th>frequency</th>\n",
       "    </tr>\n",
       "  </thead>\n",
       "  <tbody>\n",
       "    <tr>\n",
       "      <th>0</th>\n",
       "      <td>city scrape</td>\n",
       "      <td>23670</td>\n",
       "    </tr>\n",
       "    <tr>\n",
       "      <th>1</th>\n",
       "      <td>previous scrape</td>\n",
       "      <td>2911</td>\n",
       "    </tr>\n",
       "  </tbody>\n",
       "</table>\n",
       "</div>"
      ],
      "text/plain": [
       "            source  frequency\n",
       "0      city scrape      23670\n",
       "1  previous scrape       2911"
      ]
     },
     "execution_count": 169,
     "metadata": {},
     "output_type": "execute_result"
    }
   ],
   "source": [
    "# Realizamos el análisis univariado de la variable \"source\"\n",
    "source = fp.freq_tbl(df[\"source\"])\n",
    "# Quitaremos las columnas \"percent\" y \"cumulative_percent\" para que la tabla sea más legible\n",
    "source.drop([\"percentage\", \"cumulative_perc\"], axis=1, inplace=True)\n",
    "source"
   ]
  },
  {
   "cell_type": "code",
   "execution_count": 170,
   "metadata": {},
   "outputs": [
    {
     "data": {
      "text/html": [
       "<div>\n",
       "<style scoped>\n",
       "    .dataframe tbody tr th:only-of-type {\n",
       "        vertical-align: middle;\n",
       "    }\n",
       "\n",
       "    .dataframe tbody tr th {\n",
       "        vertical-align: top;\n",
       "    }\n",
       "\n",
       "    .dataframe thead th {\n",
       "        text-align: right;\n",
       "    }\n",
       "</style>\n",
       "<table border=\"1\" class=\"dataframe\">\n",
       "  <thead>\n",
       "    <tr style=\"text-align: right;\">\n",
       "      <th></th>\n",
       "      <th>frequency</th>\n",
       "    </tr>\n",
       "    <tr>\n",
       "      <th>source</th>\n",
       "      <th></th>\n",
       "    </tr>\n",
       "  </thead>\n",
       "  <tbody>\n",
       "    <tr>\n",
       "      <th>city scrape</th>\n",
       "      <td>23670</td>\n",
       "    </tr>\n",
       "    <tr>\n",
       "      <th>previous scrape</th>\n",
       "      <td>2911</td>\n",
       "    </tr>\n",
       "  </tbody>\n",
       "</table>\n",
       "</div>"
      ],
      "text/plain": [
       "                 frequency\n",
       "source                    \n",
       "city scrape          23670\n",
       "previous scrape       2911"
      ]
     },
     "execution_count": 170,
     "metadata": {},
     "output_type": "execute_result"
    }
   ],
   "source": [
    "# Ajustamos el índice (para mayor legibilidad en el gráfico)\n",
    "source = source.set_index(\"source\")\n",
    "source"
   ]
  },
  {
   "cell_type": "code",
   "execution_count": 171,
   "metadata": {},
   "outputs": [
    {
     "data": {
      "text/plain": [
       "Text(0, 0.5, '')"
      ]
     },
     "execution_count": 171,
     "metadata": {},
     "output_type": "execute_result"
    },
    {
     "data": {
      "image/png": "[encoded data removed]",
      "text/plain": [
       "<Figure size 1000x1000 with 1 Axes>"
      ]
     },
     "metadata": {},
     "output_type": "display_data"
    }
   ],
   "source": [
    "# Generamos un gráfico de pastel para representar la proporción de cada fuente\n",
    "source.plot(kind='pie', y='frequency', figsize=(10,10), autopct='%1.1f%%')\n",
    "plt.title(\"Proporción de cada fuente\")\n",
    "plt.ylabel(\"\")"
   ]
  },
  {
   "cell_type": "markdown",
   "metadata": {},
   "source": [
    "#### Variable \"host_response_time\""
   ]
  },
  {
   "cell_type": "code",
   "execution_count": 172,
   "metadata": {},
   "outputs": [
    {
     "data": {
      "text/html": [
       "<div>\n",
       "<style scoped>\n",
       "    .dataframe tbody tr th:only-of-type {\n",
       "        vertical-align: middle;\n",
       "    }\n",
       "\n",
       "    .dataframe tbody tr th {\n",
       "        vertical-align: top;\n",
       "    }\n",
       "\n",
       "    .dataframe thead th {\n",
       "        text-align: right;\n",
       "    }\n",
       "</style>\n",
       "<table border=\"1\" class=\"dataframe\">\n",
       "  <thead>\n",
       "    <tr style=\"text-align: right;\">\n",
       "      <th></th>\n",
       "      <th>host_response_time</th>\n",
       "      <th>frequency</th>\n",
       "    </tr>\n",
       "  </thead>\n",
       "  <tbody>\n",
       "    <tr>\n",
       "      <th>0</th>\n",
       "      <td>within an hour</td>\n",
       "      <td>18792</td>\n",
       "    </tr>\n",
       "    <tr>\n",
       "      <th>1</th>\n",
       "      <td>No data</td>\n",
       "      <td>3622</td>\n",
       "    </tr>\n",
       "    <tr>\n",
       "      <th>2</th>\n",
       "      <td>within a few hours</td>\n",
       "      <td>1957</td>\n",
       "    </tr>\n",
       "    <tr>\n",
       "      <th>3</th>\n",
       "      <td>a few days or more</td>\n",
       "      <td>1107</td>\n",
       "    </tr>\n",
       "    <tr>\n",
       "      <th>4</th>\n",
       "      <td>within a day</td>\n",
       "      <td>1103</td>\n",
       "    </tr>\n",
       "  </tbody>\n",
       "</table>\n",
       "</div>"
      ],
      "text/plain": [
       "   host_response_time  frequency\n",
       "0      within an hour      18792\n",
       "1             No data       3622\n",
       "2  within a few hours       1957\n",
       "3  a few days or more       1107\n",
       "4        within a day       1103"
      ]
     },
     "execution_count": 172,
     "metadata": {},
     "output_type": "execute_result"
    }
   ],
   "source": [
    "host_response_time = fp.freq_tbl(df[\"host_response_time\"])\n",
    "host_response_time.drop([\"percentage\", \"cumulative_perc\"], axis=1, inplace=True)\n",
    "host_response_time"
   ]
  },
  {
   "cell_type": "code",
   "execution_count": 173,
   "metadata": {},
   "outputs": [
    {
     "data": {
      "text/html": [
       "<div>\n",
       "<style scoped>\n",
       "    .dataframe tbody tr th:only-of-type {\n",
       "        vertical-align: middle;\n",
       "    }\n",
       "\n",
       "    .dataframe tbody tr th {\n",
       "        vertical-align: top;\n",
       "    }\n",
       "\n",
       "    .dataframe thead th {\n",
       "        text-align: right;\n",
       "    }\n",
       "</style>\n",
       "<table border=\"1\" class=\"dataframe\">\n",
       "  <thead>\n",
       "    <tr style=\"text-align: right;\">\n",
       "      <th></th>\n",
       "      <th>frequency</th>\n",
       "    </tr>\n",
       "    <tr>\n",
       "      <th>host_response_time</th>\n",
       "      <th></th>\n",
       "    </tr>\n",
       "  </thead>\n",
       "  <tbody>\n",
       "    <tr>\n",
       "      <th>within an hour</th>\n",
       "      <td>18792</td>\n",
       "    </tr>\n",
       "    <tr>\n",
       "      <th>within a few hours</th>\n",
       "      <td>1957</td>\n",
       "    </tr>\n",
       "    <tr>\n",
       "      <th>a few days or more</th>\n",
       "      <td>1107</td>\n",
       "    </tr>\n",
       "    <tr>\n",
       "      <th>within a day</th>\n",
       "      <td>1103</td>\n",
       "    </tr>\n",
       "  </tbody>\n",
       "</table>\n",
       "</div>"
      ],
      "text/plain": [
       "                    frequency\n",
       "host_response_time           \n",
       "within an hour          18792\n",
       "within a few hours       1957\n",
       "a few days or more       1107\n",
       "within a day             1103"
      ]
     },
     "execution_count": 173,
     "metadata": {},
     "output_type": "execute_result"
    }
   ],
   "source": [
    "host_response_time = host_response_time.set_index(\"host_response_time\")\n",
    "host_response_time = host_response_time.drop(\"No data\")\n",
    "host_response_time"
   ]
  },
  {
   "cell_type": "code",
   "execution_count": 174,
   "metadata": {},
   "outputs": [
    {
     "data": {
      "text/plain": [
       "Text(0, 0.5, 'Frecuencia')"
      ]
     },
     "execution_count": 174,
     "metadata": {},
     "output_type": "execute_result"
    },
    {
     "data": {
      "image/png": "[encoded data removed]",
      "text/plain": [
       "<Figure size 1000x1000 with 1 Axes>"
      ]
     },
     "metadata": {},
     "output_type": "display_data"
    }
   ],
   "source": [
    "# Haremos un gráfico de barras para representar la frecuencia de cada categoría\n",
    "host_response_time.plot(kind='bar', y='frequency', figsize=(10,10))\n",
    "plt.title(\"Frecuencia de cada categoría de host_response_time\")\n",
    "plt.ylabel(\"Frecuencia\")"
   ]
  },
  {
   "cell_type": "markdown",
   "metadata": {},
   "source": [
    "#### Variable \"host_is_superhost\""
   ]
  },
  {
   "cell_type": "code",
   "execution_count": 175,
   "metadata": {},
   "outputs": [
    {
     "data": {
      "text/html": [
       "<div>\n",
       "<style scoped>\n",
       "    .dataframe tbody tr th:only-of-type {\n",
       "        vertical-align: middle;\n",
       "    }\n",
       "\n",
       "    .dataframe tbody tr th {\n",
       "        vertical-align: top;\n",
       "    }\n",
       "\n",
       "    .dataframe thead th {\n",
       "        text-align: right;\n",
       "    }\n",
       "</style>\n",
       "<table border=\"1\" class=\"dataframe\">\n",
       "  <thead>\n",
       "    <tr style=\"text-align: right;\">\n",
       "      <th></th>\n",
       "      <th>host_is_superhost</th>\n",
       "      <th>frequency</th>\n",
       "    </tr>\n",
       "  </thead>\n",
       "  <tbody>\n",
       "    <tr>\n",
       "      <th>0</th>\n",
       "      <td>f</td>\n",
       "      <td>16854</td>\n",
       "    </tr>\n",
       "    <tr>\n",
       "      <th>1</th>\n",
       "      <td>t</td>\n",
       "      <td>9727</td>\n",
       "    </tr>\n",
       "  </tbody>\n",
       "</table>\n",
       "</div>"
      ],
      "text/plain": [
       "  host_is_superhost  frequency\n",
       "0                 f      16854\n",
       "1                 t       9727"
      ]
     },
     "execution_count": 175,
     "metadata": {},
     "output_type": "execute_result"
    }
   ],
   "source": [
    "host_is_superhost = fp.freq_tbl(df[\"host_is_superhost\"])\n",
    "host_is_superhost.drop([\"percentage\", \"cumulative_perc\"], axis=1, inplace=True)\n",
    "host_is_superhost"
   ]
  },
  {
   "cell_type": "code",
   "execution_count": 176,
   "metadata": {},
   "outputs": [
    {
     "data": {
      "text/html": [
       "<div>\n",
       "<style scoped>\n",
       "    .dataframe tbody tr th:only-of-type {\n",
       "        vertical-align: middle;\n",
       "    }\n",
       "\n",
       "    .dataframe tbody tr th {\n",
       "        vertical-align: top;\n",
       "    }\n",
       "\n",
       "    .dataframe thead th {\n",
       "        text-align: right;\n",
       "    }\n",
       "</style>\n",
       "<table border=\"1\" class=\"dataframe\">\n",
       "  <thead>\n",
       "    <tr style=\"text-align: right;\">\n",
       "      <th></th>\n",
       "      <th>frequency</th>\n",
       "    </tr>\n",
       "    <tr>\n",
       "      <th>host_is_superhost</th>\n",
       "      <th></th>\n",
       "    </tr>\n",
       "  </thead>\n",
       "  <tbody>\n",
       "    <tr>\n",
       "      <th>f</th>\n",
       "      <td>16854</td>\n",
       "    </tr>\n",
       "    <tr>\n",
       "      <th>t</th>\n",
       "      <td>9727</td>\n",
       "    </tr>\n",
       "  </tbody>\n",
       "</table>\n",
       "</div>"
      ],
      "text/plain": [
       "                   frequency\n",
       "host_is_superhost           \n",
       "f                      16854\n",
       "t                       9727"
      ]
     },
     "execution_count": 176,
     "metadata": {},
     "output_type": "execute_result"
    }
   ],
   "source": [
    "# Ajustamos el índice\n",
    "host_is_superhost = host_is_superhost.set_index(\"host_is_superhost\")\n",
    "host_is_superhost"
   ]
  },
  {
   "cell_type": "code",
   "execution_count": 177,
   "metadata": {},
   "outputs": [
    {
     "data": {
      "text/plain": [
       "Text(0, 0.5, '')"
      ]
     },
     "execution_count": 177,
     "metadata": {},
     "output_type": "execute_result"
    },
    {
     "data": {
      "image/png": "[encoded data removed]",
      "text/plain": [
       "<Figure size 1000x1000 with 1 Axes>"
      ]
     },
     "metadata": {},
     "output_type": "display_data"
    }
   ],
   "source": [
    "# Haremos un gráfico de pastel para representar la proporción de cada categoría\n",
    "host_is_superhost.plot(kind='pie', y='frequency', figsize=(10,10), autopct='%1.1f%%')\n",
    "plt.title(\"Proporción de cada categoría de host_is_superhost\")\n",
    "plt.ylabel(\"\")"
   ]
  },
  {
   "cell_type": "markdown",
   "metadata": {},
   "source": [
    "#### Variable \"host_identity_verified\""
   ]
  },
  {
   "cell_type": "code",
   "execution_count": 178,
   "metadata": {},
   "outputs": [
    {
     "data": {
      "text/html": [
       "<div>\n",
       "<style scoped>\n",
       "    .dataframe tbody tr th:only-of-type {\n",
       "        vertical-align: middle;\n",
       "    }\n",
       "\n",
       "    .dataframe tbody tr th {\n",
       "        vertical-align: top;\n",
       "    }\n",
       "\n",
       "    .dataframe thead th {\n",
       "        text-align: right;\n",
       "    }\n",
       "</style>\n",
       "<table border=\"1\" class=\"dataframe\">\n",
       "  <thead>\n",
       "    <tr style=\"text-align: right;\">\n",
       "      <th></th>\n",
       "      <th>host_identity_verified</th>\n",
       "      <th>frequency</th>\n",
       "    </tr>\n",
       "  </thead>\n",
       "  <tbody>\n",
       "    <tr>\n",
       "      <th>0</th>\n",
       "      <td>t</td>\n",
       "      <td>25425</td>\n",
       "    </tr>\n",
       "    <tr>\n",
       "      <th>1</th>\n",
       "      <td>f</td>\n",
       "      <td>1156</td>\n",
       "    </tr>\n",
       "  </tbody>\n",
       "</table>\n",
       "</div>"
      ],
      "text/plain": [
       "  host_identity_verified  frequency\n",
       "0                      t      25425\n",
       "1                      f       1156"
      ]
     },
     "execution_count": 178,
     "metadata": {},
     "output_type": "execute_result"
    }
   ],
   "source": [
    "host_identity_verified = fp.freq_tbl(df[\"host_identity_verified\"])\n",
    "host_identity_verified.drop([\"percentage\", \"cumulative_perc\"], axis=1, inplace=True)\n",
    "host_identity_verified"
   ]
  },
  {
   "cell_type": "code",
   "execution_count": 179,
   "metadata": {},
   "outputs": [
    {
     "data": {
      "text/html": [
       "<div>\n",
       "<style scoped>\n",
       "    .dataframe tbody tr th:only-of-type {\n",
       "        vertical-align: middle;\n",
       "    }\n",
       "\n",
       "    .dataframe tbody tr th {\n",
       "        vertical-align: top;\n",
       "    }\n",
       "\n",
       "    .dataframe thead th {\n",
       "        text-align: right;\n",
       "    }\n",
       "</style>\n",
       "<table border=\"1\" class=\"dataframe\">\n",
       "  <thead>\n",
       "    <tr style=\"text-align: right;\">\n",
       "      <th></th>\n",
       "      <th>frequency</th>\n",
       "    </tr>\n",
       "    <tr>\n",
       "      <th>host_identity_verified</th>\n",
       "      <th></th>\n",
       "    </tr>\n",
       "  </thead>\n",
       "  <tbody>\n",
       "    <tr>\n",
       "      <th>t</th>\n",
       "      <td>25425</td>\n",
       "    </tr>\n",
       "    <tr>\n",
       "      <th>f</th>\n",
       "      <td>1156</td>\n",
       "    </tr>\n",
       "  </tbody>\n",
       "</table>\n",
       "</div>"
      ],
      "text/plain": [
       "                        frequency\n",
       "host_identity_verified           \n",
       "t                           25425\n",
       "f                            1156"
      ]
     },
     "execution_count": 179,
     "metadata": {},
     "output_type": "execute_result"
    }
   ],
   "source": [
    "host_identity_verified = host_identity_verified.set_index(\"host_identity_verified\")\n",
    "host_identity_verified"
   ]
  },
  {
   "cell_type": "code",
   "execution_count": 180,
   "metadata": {},
   "outputs": [
    {
     "data": {
      "text/plain": [
       "Text(0, 0.5, '')"
      ]
     },
     "execution_count": 180,
     "metadata": {},
     "output_type": "execute_result"
    },
    {
     "data": {
      "image/png": "[encoded data removed]",
      "text/plain": [
       "<Figure size 1000x1000 with 1 Axes>"
      ]
     },
     "metadata": {},
     "output_type": "display_data"
    }
   ],
   "source": [
    "host_identity_verified.plot(kind='pie', y='frequency', figsize=(10,10), autopct='%1.1f%%')\n",
    "plt.title(\"Proporción de cada categoría de host_identity_verified\")\n",
    "plt.ylabel(\"\")"
   ]
  },
  {
   "cell_type": "markdown",
   "metadata": {},
   "source": [
    "#### Variable \"neighbourhood_cleansed\""
   ]
  },
  {
   "cell_type": "code",
   "execution_count": 181,
   "metadata": {},
   "outputs": [
    {
     "data": {
      "text/html": [
       "<div>\n",
       "<style scoped>\n",
       "    .dataframe tbody tr th:only-of-type {\n",
       "        vertical-align: middle;\n",
       "    }\n",
       "\n",
       "    .dataframe tbody tr th {\n",
       "        vertical-align: top;\n",
       "    }\n",
       "\n",
       "    .dataframe thead th {\n",
       "        text-align: right;\n",
       "    }\n",
       "</style>\n",
       "<table border=\"1\" class=\"dataframe\">\n",
       "  <thead>\n",
       "    <tr style=\"text-align: right;\">\n",
       "      <th></th>\n",
       "      <th>neighbourhood_cleansed</th>\n",
       "      <th>frequency</th>\n",
       "    </tr>\n",
       "  </thead>\n",
       "  <tbody>\n",
       "    <tr>\n",
       "      <th>0</th>\n",
       "      <td>Cuauhtémoc</td>\n",
       "      <td>12231</td>\n",
       "    </tr>\n",
       "    <tr>\n",
       "      <th>1</th>\n",
       "      <td>Miguel Hidalgo</td>\n",
       "      <td>4533</td>\n",
       "    </tr>\n",
       "    <tr>\n",
       "      <th>2</th>\n",
       "      <td>Benito Juárez</td>\n",
       "      <td>3152</td>\n",
       "    </tr>\n",
       "    <tr>\n",
       "      <th>3</th>\n",
       "      <td>Coyoacán</td>\n",
       "      <td>1719</td>\n",
       "    </tr>\n",
       "    <tr>\n",
       "      <th>4</th>\n",
       "      <td>Álvaro Obregón</td>\n",
       "      <td>1075</td>\n",
       "    </tr>\n",
       "    <tr>\n",
       "      <th>5</th>\n",
       "      <td>Tlalpan</td>\n",
       "      <td>812</td>\n",
       "    </tr>\n",
       "    <tr>\n",
       "      <th>6</th>\n",
       "      <td>Venustiano Carranza</td>\n",
       "      <td>734</td>\n",
       "    </tr>\n",
       "    <tr>\n",
       "      <th>7</th>\n",
       "      <td>Gustavo A. Madero</td>\n",
       "      <td>506</td>\n",
       "    </tr>\n",
       "    <tr>\n",
       "      <th>8</th>\n",
       "      <td>Cuajimalpa de Morelos</td>\n",
       "      <td>441</td>\n",
       "    </tr>\n",
       "    <tr>\n",
       "      <th>9</th>\n",
       "      <td>Iztacalco</td>\n",
       "      <td>399</td>\n",
       "    </tr>\n",
       "    <tr>\n",
       "      <th>10</th>\n",
       "      <td>Azcapotzalco</td>\n",
       "      <td>349</td>\n",
       "    </tr>\n",
       "    <tr>\n",
       "      <th>11</th>\n",
       "      <td>Iztapalapa</td>\n",
       "      <td>266</td>\n",
       "    </tr>\n",
       "    <tr>\n",
       "      <th>12</th>\n",
       "      <td>La Magdalena Contreras</td>\n",
       "      <td>143</td>\n",
       "    </tr>\n",
       "    <tr>\n",
       "      <th>13</th>\n",
       "      <td>Xochimilco</td>\n",
       "      <td>143</td>\n",
       "    </tr>\n",
       "    <tr>\n",
       "      <th>14</th>\n",
       "      <td>Tláhuac</td>\n",
       "      <td>50</td>\n",
       "    </tr>\n",
       "    <tr>\n",
       "      <th>15</th>\n",
       "      <td>Milpa Alta</td>\n",
       "      <td>28</td>\n",
       "    </tr>\n",
       "  </tbody>\n",
       "</table>\n",
       "</div>"
      ],
      "text/plain": [
       "    neighbourhood_cleansed  frequency\n",
       "0               Cuauhtémoc      12231\n",
       "1           Miguel Hidalgo       4533\n",
       "2            Benito Juárez       3152\n",
       "3                 Coyoacán       1719\n",
       "4           Álvaro Obregón       1075\n",
       "5                  Tlalpan        812\n",
       "6      Venustiano Carranza        734\n",
       "7        Gustavo A. Madero        506\n",
       "8    Cuajimalpa de Morelos        441\n",
       "9                Iztacalco        399\n",
       "10            Azcapotzalco        349\n",
       "11              Iztapalapa        266\n",
       "12  La Magdalena Contreras        143\n",
       "13              Xochimilco        143\n",
       "14                 Tláhuac         50\n",
       "15              Milpa Alta         28"
      ]
     },
     "execution_count": 181,
     "metadata": {},
     "output_type": "execute_result"
    }
   ],
   "source": [
    "neighbourhood_cleansed = fp.freq_tbl(df[\"neighbourhood_cleansed\"])\n",
    "neighbourhood_cleansed.drop([\"percentage\", \"cumulative_perc\"], axis=1, inplace=True)\n",
    "neighbourhood_cleansed"
   ]
  },
  {
   "cell_type": "code",
   "execution_count": 182,
   "metadata": {},
   "outputs": [
    {
     "data": {
      "text/html": [
       "<div>\n",
       "<style scoped>\n",
       "    .dataframe tbody tr th:only-of-type {\n",
       "        vertical-align: middle;\n",
       "    }\n",
       "\n",
       "    .dataframe tbody tr th {\n",
       "        vertical-align: top;\n",
       "    }\n",
       "\n",
       "    .dataframe thead th {\n",
       "        text-align: right;\n",
       "    }\n",
       "</style>\n",
       "<table border=\"1\" class=\"dataframe\">\n",
       "  <thead>\n",
       "    <tr style=\"text-align: right;\">\n",
       "      <th></th>\n",
       "      <th>frequency</th>\n",
       "    </tr>\n",
       "    <tr>\n",
       "      <th>neighbourhood_cleansed</th>\n",
       "      <th></th>\n",
       "    </tr>\n",
       "  </thead>\n",
       "  <tbody>\n",
       "    <tr>\n",
       "      <th>Cuauhtémoc</th>\n",
       "      <td>12231</td>\n",
       "    </tr>\n",
       "    <tr>\n",
       "      <th>Miguel Hidalgo</th>\n",
       "      <td>4533</td>\n",
       "    </tr>\n",
       "    <tr>\n",
       "      <th>Benito Juárez</th>\n",
       "      <td>3152</td>\n",
       "    </tr>\n",
       "    <tr>\n",
       "      <th>Coyoacán</th>\n",
       "      <td>1719</td>\n",
       "    </tr>\n",
       "    <tr>\n",
       "      <th>Álvaro Obregón</th>\n",
       "      <td>1075</td>\n",
       "    </tr>\n",
       "    <tr>\n",
       "      <th>Tlalpan</th>\n",
       "      <td>812</td>\n",
       "    </tr>\n",
       "    <tr>\n",
       "      <th>Venustiano Carranza</th>\n",
       "      <td>734</td>\n",
       "    </tr>\n",
       "    <tr>\n",
       "      <th>Gustavo A. Madero</th>\n",
       "      <td>506</td>\n",
       "    </tr>\n",
       "    <tr>\n",
       "      <th>Cuajimalpa de Morelos</th>\n",
       "      <td>441</td>\n",
       "    </tr>\n",
       "    <tr>\n",
       "      <th>Iztacalco</th>\n",
       "      <td>399</td>\n",
       "    </tr>\n",
       "    <tr>\n",
       "      <th>Azcapotzalco</th>\n",
       "      <td>349</td>\n",
       "    </tr>\n",
       "    <tr>\n",
       "      <th>Iztapalapa</th>\n",
       "      <td>266</td>\n",
       "    </tr>\n",
       "    <tr>\n",
       "      <th>La Magdalena Contreras</th>\n",
       "      <td>143</td>\n",
       "    </tr>\n",
       "    <tr>\n",
       "      <th>Xochimilco</th>\n",
       "      <td>143</td>\n",
       "    </tr>\n",
       "    <tr>\n",
       "      <th>Tláhuac</th>\n",
       "      <td>50</td>\n",
       "    </tr>\n",
       "    <tr>\n",
       "      <th>Milpa Alta</th>\n",
       "      <td>28</td>\n",
       "    </tr>\n",
       "  </tbody>\n",
       "</table>\n",
       "</div>"
      ],
      "text/plain": [
       "                        frequency\n",
       "neighbourhood_cleansed           \n",
       "Cuauhtémoc                  12231\n",
       "Miguel Hidalgo               4533\n",
       "Benito Juárez                3152\n",
       "Coyoacán                     1719\n",
       "Álvaro Obregón               1075\n",
       "Tlalpan                       812\n",
       "Venustiano Carranza           734\n",
       "Gustavo A. Madero             506\n",
       "Cuajimalpa de Morelos         441\n",
       "Iztacalco                     399\n",
       "Azcapotzalco                  349\n",
       "Iztapalapa                    266\n",
       "La Magdalena Contreras        143\n",
       "Xochimilco                    143\n",
       "Tláhuac                        50\n",
       "Milpa Alta                     28"
      ]
     },
     "execution_count": 182,
     "metadata": {},
     "output_type": "execute_result"
    }
   ],
   "source": [
    "# Ajustamos el índice\n",
    "neighbourhood_cleansed = neighbourhood_cleansed.set_index(\"neighbourhood_cleansed\")\n",
    "neighbourhood_cleansed"
   ]
  },
  {
   "cell_type": "code",
   "execution_count": 183,
   "metadata": {},
   "outputs": [
    {
     "data": {
      "text/plain": [
       "Text(0, 0.5, 'Frecuencia')"
      ]
     },
     "execution_count": 183,
     "metadata": {},
     "output_type": "execute_result"
    },
    {
     "data": {
      "image/png": "[encoded data removed]",
      "text/plain": [
       "<Figure size 1000x1000 with 1 Axes>"
      ]
     },
     "metadata": {},
     "output_type": "display_data"
    }
   ],
   "source": [
    "neighbourhood_cleansed.plot(kind='bar', y='frequency', figsize=(10,10))\n",
    "plt.title(\"Frecuencia de cada categoría de neighbourhood_cleansed\")\n",
    "plt.ylabel(\"Frecuencia\")"
   ]
  },
  {
   "cell_type": "markdown",
   "metadata": {},
   "source": [
    "#### Variable \"property_type\""
   ]
  },
  {
   "cell_type": "code",
   "execution_count": 184,
   "metadata": {},
   "outputs": [
    {
     "data": {
      "text/html": [
       "<div>\n",
       "<style scoped>\n",
       "    .dataframe tbody tr th:only-of-type {\n",
       "        vertical-align: middle;\n",
       "    }\n",
       "\n",
       "    .dataframe tbody tr th {\n",
       "        vertical-align: top;\n",
       "    }\n",
       "\n",
       "    .dataframe thead th {\n",
       "        text-align: right;\n",
       "    }\n",
       "</style>\n",
       "<table border=\"1\" class=\"dataframe\">\n",
       "  <thead>\n",
       "    <tr style=\"text-align: right;\">\n",
       "      <th></th>\n",
       "      <th>property_type</th>\n",
       "      <th>frequency</th>\n",
       "    </tr>\n",
       "  </thead>\n",
       "  <tbody>\n",
       "    <tr>\n",
       "      <th>0</th>\n",
       "      <td>Entire rental unit</td>\n",
       "      <td>9971</td>\n",
       "    </tr>\n",
       "    <tr>\n",
       "      <th>1</th>\n",
       "      <td>Entire condo</td>\n",
       "      <td>3423</td>\n",
       "    </tr>\n",
       "    <tr>\n",
       "      <th>2</th>\n",
       "      <td>Private room in rental unit</td>\n",
       "      <td>3034</td>\n",
       "    </tr>\n",
       "    <tr>\n",
       "      <th>3</th>\n",
       "      <td>Private room in home</td>\n",
       "      <td>2266</td>\n",
       "    </tr>\n",
       "    <tr>\n",
       "      <th>4</th>\n",
       "      <td>Entire loft</td>\n",
       "      <td>1515</td>\n",
       "    </tr>\n",
       "    <tr>\n",
       "      <th>...</th>\n",
       "      <td>...</td>\n",
       "      <td>...</td>\n",
       "    </tr>\n",
       "    <tr>\n",
       "      <th>87</th>\n",
       "      <td>Private room in floor</td>\n",
       "      <td>1</td>\n",
       "    </tr>\n",
       "    <tr>\n",
       "      <th>88</th>\n",
       "      <td>Earthen home</td>\n",
       "      <td>1</td>\n",
       "    </tr>\n",
       "    <tr>\n",
       "      <th>89</th>\n",
       "      <td>Entire in-law</td>\n",
       "      <td>1</td>\n",
       "    </tr>\n",
       "    <tr>\n",
       "      <th>90</th>\n",
       "      <td>Shared room in dorm</td>\n",
       "      <td>1</td>\n",
       "    </tr>\n",
       "    <tr>\n",
       "      <th>91</th>\n",
       "      <td>Tower</td>\n",
       "      <td>1</td>\n",
       "    </tr>\n",
       "  </tbody>\n",
       "</table>\n",
       "<p>92 rows × 2 columns</p>\n",
       "</div>"
      ],
      "text/plain": [
       "                  property_type  frequency\n",
       "0            Entire rental unit       9971\n",
       "1                  Entire condo       3423\n",
       "2   Private room in rental unit       3034\n",
       "3          Private room in home       2266\n",
       "4                   Entire loft       1515\n",
       "..                          ...        ...\n",
       "87        Private room in floor          1\n",
       "88                 Earthen home          1\n",
       "89                Entire in-law          1\n",
       "90          Shared room in dorm          1\n",
       "91                        Tower          1\n",
       "\n",
       "[92 rows x 2 columns]"
      ]
     },
     "execution_count": 184,
     "metadata": {},
     "output_type": "execute_result"
    }
   ],
   "source": [
    "property_type = fp.freq_tbl(df[\"property_type\"])\n",
    "property_type.drop([\"percentage\", \"cumulative_perc\"], axis=1, inplace=True)\n",
    "property_type"
   ]
  },
  {
   "cell_type": "code",
   "execution_count": 185,
   "metadata": {},
   "outputs": [
    {
     "data": {
      "text/html": [
       "<div>\n",
       "<style scoped>\n",
       "    .dataframe tbody tr th:only-of-type {\n",
       "        vertical-align: middle;\n",
       "    }\n",
       "\n",
       "    .dataframe tbody tr th {\n",
       "        vertical-align: top;\n",
       "    }\n",
       "\n",
       "    .dataframe thead th {\n",
       "        text-align: right;\n",
       "    }\n",
       "</style>\n",
       "<table border=\"1\" class=\"dataframe\">\n",
       "  <thead>\n",
       "    <tr style=\"text-align: right;\">\n",
       "      <th></th>\n",
       "      <th>frequency</th>\n",
       "    </tr>\n",
       "    <tr>\n",
       "      <th>property_type</th>\n",
       "      <th></th>\n",
       "    </tr>\n",
       "  </thead>\n",
       "  <tbody>\n",
       "    <tr>\n",
       "      <th>Entire rental unit</th>\n",
       "      <td>9971</td>\n",
       "    </tr>\n",
       "    <tr>\n",
       "      <th>Entire condo</th>\n",
       "      <td>3423</td>\n",
       "    </tr>\n",
       "    <tr>\n",
       "      <th>Private room in rental unit</th>\n",
       "      <td>3034</td>\n",
       "    </tr>\n",
       "    <tr>\n",
       "      <th>Private room in home</th>\n",
       "      <td>2266</td>\n",
       "    </tr>\n",
       "    <tr>\n",
       "      <th>Entire loft</th>\n",
       "      <td>1515</td>\n",
       "    </tr>\n",
       "  </tbody>\n",
       "</table>\n",
       "</div>"
      ],
      "text/plain": [
       "                             frequency\n",
       "property_type                         \n",
       "Entire rental unit                9971\n",
       "Entire condo                      3423\n",
       "Private room in rental unit       3034\n",
       "Private room in home              2266\n",
       "Entire loft                       1515"
      ]
     },
     "execution_count": 185,
     "metadata": {},
     "output_type": "execute_result"
    }
   ],
   "source": [
    "# Ajustamos el índice\n",
    "property_type = property_type.set_index(\"property_type\")\n",
    "# Debido a la gran cantidad de categorías, solo mostraremos las 5 primeras\n",
    "property_type = property_type.head(5)\n",
    "property_type"
   ]
  },
  {
   "cell_type": "code",
   "execution_count": 186,
   "metadata": {},
   "outputs": [
    {
     "data": {
      "text/plain": [
       "Text(0, 0.5, 'Frecuencia')"
      ]
     },
     "execution_count": 186,
     "metadata": {},
     "output_type": "execute_result"
    },
    {
     "data": {
      "image/png": "[encoded data removed]",
      "text/plain": [
       "<Figure size 1000x1000 with 1 Axes>"
      ]
     },
     "metadata": {},
     "output_type": "display_data"
    }
   ],
   "source": [
    "# Haremos un gráfico de barras para representar la frecuencia de cada categoría\n",
    "property_type.plot(kind='bar', y='frequency', figsize=(10,10))\n",
    "plt.title(\"Frecuencia de cada categoría de property_type\")\n",
    "plt.ylabel(\"Frecuencia\")"
   ]
  },
  {
   "cell_type": "markdown",
   "metadata": {},
   "source": [
    "#### Variable \"room_type\""
   ]
  },
  {
   "cell_type": "code",
   "execution_count": 187,
   "metadata": {},
   "outputs": [
    {
     "data": {
      "text/html": [
       "<div>\n",
       "<style scoped>\n",
       "    .dataframe tbody tr th:only-of-type {\n",
       "        vertical-align: middle;\n",
       "    }\n",
       "\n",
       "    .dataframe tbody tr th {\n",
       "        vertical-align: top;\n",
       "    }\n",
       "\n",
       "    .dataframe thead th {\n",
       "        text-align: right;\n",
       "    }\n",
       "</style>\n",
       "<table border=\"1\" class=\"dataframe\">\n",
       "  <thead>\n",
       "    <tr style=\"text-align: right;\">\n",
       "      <th></th>\n",
       "      <th>room_type</th>\n",
       "      <th>frequency</th>\n",
       "    </tr>\n",
       "  </thead>\n",
       "  <tbody>\n",
       "    <tr>\n",
       "      <th>0</th>\n",
       "      <td>Entire home/apt</td>\n",
       "      <td>17362</td>\n",
       "    </tr>\n",
       "    <tr>\n",
       "      <th>1</th>\n",
       "      <td>Private room</td>\n",
       "      <td>8693</td>\n",
       "    </tr>\n",
       "    <tr>\n",
       "      <th>2</th>\n",
       "      <td>Shared room</td>\n",
       "      <td>401</td>\n",
       "    </tr>\n",
       "    <tr>\n",
       "      <th>3</th>\n",
       "      <td>Hotel room</td>\n",
       "      <td>125</td>\n",
       "    </tr>\n",
       "  </tbody>\n",
       "</table>\n",
       "</div>"
      ],
      "text/plain": [
       "         room_type  frequency\n",
       "0  Entire home/apt      17362\n",
       "1     Private room       8693\n",
       "2      Shared room        401\n",
       "3       Hotel room        125"
      ]
     },
     "execution_count": 187,
     "metadata": {},
     "output_type": "execute_result"
    }
   ],
   "source": [
    "room_type = fp.freq_tbl(df[\"room_type\"])\n",
    "room_type.drop([\"percentage\", \"cumulative_perc\"], axis=1, inplace=True)\n",
    "room_type"
   ]
  },
  {
   "cell_type": "code",
   "execution_count": 188,
   "metadata": {},
   "outputs": [
    {
     "data": {
      "text/html": [
       "<div>\n",
       "<style scoped>\n",
       "    .dataframe tbody tr th:only-of-type {\n",
       "        vertical-align: middle;\n",
       "    }\n",
       "\n",
       "    .dataframe tbody tr th {\n",
       "        vertical-align: top;\n",
       "    }\n",
       "\n",
       "    .dataframe thead th {\n",
       "        text-align: right;\n",
       "    }\n",
       "</style>\n",
       "<table border=\"1\" class=\"dataframe\">\n",
       "  <thead>\n",
       "    <tr style=\"text-align: right;\">\n",
       "      <th></th>\n",
       "      <th>frequency</th>\n",
       "    </tr>\n",
       "    <tr>\n",
       "      <th>room_type</th>\n",
       "      <th></th>\n",
       "    </tr>\n",
       "  </thead>\n",
       "  <tbody>\n",
       "    <tr>\n",
       "      <th>Entire home/apt</th>\n",
       "      <td>17362</td>\n",
       "    </tr>\n",
       "    <tr>\n",
       "      <th>Private room</th>\n",
       "      <td>8693</td>\n",
       "    </tr>\n",
       "    <tr>\n",
       "      <th>Shared room</th>\n",
       "      <td>401</td>\n",
       "    </tr>\n",
       "    <tr>\n",
       "      <th>Hotel room</th>\n",
       "      <td>125</td>\n",
       "    </tr>\n",
       "  </tbody>\n",
       "</table>\n",
       "</div>"
      ],
      "text/plain": [
       "                 frequency\n",
       "room_type                 \n",
       "Entire home/apt      17362\n",
       "Private room          8693\n",
       "Shared room            401\n",
       "Hotel room             125"
      ]
     },
     "execution_count": 188,
     "metadata": {},
     "output_type": "execute_result"
    }
   ],
   "source": [
    "# Ajustamos el índice\n",
    "room_type = room_type.set_index(\"room_type\")\n",
    "room_type"
   ]
  },
  {
   "cell_type": "code",
   "execution_count": 189,
   "metadata": {},
   "outputs": [
    {
     "data": {
      "text/plain": [
       "Text(0, 0.5, '')"
      ]
     },
     "execution_count": 189,
     "metadata": {},
     "output_type": "execute_result"
    },
    {
     "data": {
      "image/png": "[encoded data removed]",
      "text/plain": [
       "<Figure size 1000x1000 with 1 Axes>"
      ]
     },
     "metadata": {},
     "output_type": "display_data"
    }
   ],
   "source": [
    "# Haremos un gráfico de pastel para representar la proporción de cada categoría\n",
    "room_type.plot(kind='pie', y='frequency', figsize=(10,10), autopct='%1.1f%%')\n",
    "plt.title(\"Proporción de cada categoría de room_type\")\n",
    "plt.ylabel(\"\")"
   ]
  },
  {
   "cell_type": "markdown",
   "metadata": {},
   "source": [
    "#### Variable \"bathrooms_text\""
   ]
  },
  {
   "cell_type": "code",
   "execution_count": 190,
   "metadata": {},
   "outputs": [
    {
     "data": {
      "text/plain": [
       "bathrooms_text\n",
       "1 bath               11326\n",
       "2 baths               4606\n",
       "1 private bath        3144\n",
       "1 shared bath         2482\n",
       "1.5 baths             1432\n",
       "2.5 baths              854\n",
       "3 baths                546\n",
       "1.5 shared baths       459\n",
       "2 shared baths         320\n",
       "3.5 baths              250\n",
       "4 baths                186\n",
       "2.5 shared baths       121\n",
       "3 shared baths         105\n",
       "4.5 baths              102\n",
       "4 shared baths          68\n",
       "0 baths                 54\n",
       "5 shared baths          54\n",
       "5 baths                 51\n",
       "0 shared baths          45\n",
       "6 baths                 44\n",
       "Half-bath               41\n",
       "5.5 baths               38\n",
       "3.5 shared baths        33\n",
       "7 baths                 25\n",
       "Shared half-bath        21\n",
       "4.5 shared baths        20\n",
       "6 shared baths          19\n",
       "8 baths                 18\n",
       "11.5 baths              17\n",
       "6.5 baths               14\n",
       "8 shared baths          12\n",
       "Private half-bath       10\n",
       "7.5 baths               10\n",
       "9 baths                  8\n",
       "8.5 baths                7\n",
       "10 baths                 5\n",
       "11 baths                 4\n",
       "12 baths                 3\n",
       "12.5 baths               2\n",
       "13 baths                 2\n",
       "11.5 shared baths        2\n",
       "14 baths                 2\n",
       "10.5 baths               2\n",
       "10 shared baths          2\n",
       "16 baths                 2\n",
       "11 shared baths          1\n",
       "21 baths                 1\n",
       "18 baths                 1\n",
       "14.5 baths               1\n",
       "49 baths                 1\n",
       "9.5 baths                1\n",
       "12 shared baths          1\n",
       "17 baths                 1\n",
       "13 shared baths          1\n",
       "15 baths                 1\n",
       "46 baths                 1\n",
       "20 baths                 1\n",
       "29 baths                 1\n",
       "Name: count, dtype: int64"
      ]
     },
     "execution_count": 190,
     "metadata": {},
     "output_type": "execute_result"
    }
   ],
   "source": [
    "df[\"bathrooms_text\"].value_counts()"
   ]
  },
  {
   "cell_type": "code",
   "execution_count": 191,
   "metadata": {},
   "outputs": [
    {
     "data": {
      "text/html": [
       "<div>\n",
       "<style scoped>\n",
       "    .dataframe tbody tr th:only-of-type {\n",
       "        vertical-align: middle;\n",
       "    }\n",
       "\n",
       "    .dataframe tbody tr th {\n",
       "        vertical-align: top;\n",
       "    }\n",
       "\n",
       "    .dataframe thead th {\n",
       "        text-align: right;\n",
       "    }\n",
       "</style>\n",
       "<table border=\"1\" class=\"dataframe\">\n",
       "  <thead>\n",
       "    <tr style=\"text-align: right;\">\n",
       "      <th></th>\n",
       "      <th>bathrooms_text</th>\n",
       "      <th>frequency</th>\n",
       "    </tr>\n",
       "  </thead>\n",
       "  <tbody>\n",
       "    <tr>\n",
       "      <th>0</th>\n",
       "      <td>baths</td>\n",
       "      <td>36</td>\n",
       "    </tr>\n",
       "    <tr>\n",
       "      <th>1</th>\n",
       "      <td>shared</td>\n",
       "      <td>17</td>\n",
       "    </tr>\n",
       "    <tr>\n",
       "      <th>2</th>\n",
       "      <td>half-bath</td>\n",
       "      <td>2</td>\n",
       "    </tr>\n",
       "    <tr>\n",
       "      <th>3</th>\n",
       "      <td>bath</td>\n",
       "      <td>1</td>\n",
       "    </tr>\n",
       "    <tr>\n",
       "      <th>4</th>\n",
       "      <td>private</td>\n",
       "      <td>1</td>\n",
       "    </tr>\n",
       "    <tr>\n",
       "      <th>5</th>\n",
       "      <td>Half-bath</td>\n",
       "      <td>1</td>\n",
       "    </tr>\n",
       "  </tbody>\n",
       "</table>\n",
       "</div>"
      ],
      "text/plain": [
       "  bathrooms_text  frequency\n",
       "0          baths         36\n",
       "1         shared         17\n",
       "2      half-bath          2\n",
       "3           bath          1\n",
       "4        private          1\n",
       "5      Half-bath          1"
      ]
     },
     "execution_count": 191,
     "metadata": {},
     "output_type": "execute_result"
    }
   ],
   "source": [
    "# Haremos el análisis univariado de la variable \"bathrooms_text\"\n",
    "bathrooms_text = fp.freq_tbl(df[\"bathrooms_text\"])\n",
    "# Eliminaremos el primer número y solo dejaremos la categoría (por ejemplo, \"1.0 baths\" -> \"baths\")\n",
    "# Ignoraremos los errores por problemas de formato\n",
    "bathrooms_text[\"bathrooms_text\"] = bathrooms_text[\"bathrooms_text\"].apply(lambda x: x.split(\" \")[1] if len(x.split(\" \")) > 1 else x)\n",
    "bathrooms_text = fp.freq_tbl(bathrooms_text[\"bathrooms_text\"])\n",
    "bathrooms_text.drop([\"percentage\", \"cumulative_perc\"], axis=1, inplace=True)\n",
    "bathrooms_text"
   ]
  },
  {
   "cell_type": "code",
   "execution_count": 192,
   "metadata": {},
   "outputs": [
    {
     "data": {
      "text/html": [
       "<div>\n",
       "<style scoped>\n",
       "    .dataframe tbody tr th:only-of-type {\n",
       "        vertical-align: middle;\n",
       "    }\n",
       "\n",
       "    .dataframe tbody tr th {\n",
       "        vertical-align: top;\n",
       "    }\n",
       "\n",
       "    .dataframe thead th {\n",
       "        text-align: right;\n",
       "    }\n",
       "</style>\n",
       "<table border=\"1\" class=\"dataframe\">\n",
       "  <thead>\n",
       "    <tr style=\"text-align: right;\">\n",
       "      <th></th>\n",
       "      <th>frequency</th>\n",
       "    </tr>\n",
       "    <tr>\n",
       "      <th>bathrooms_text</th>\n",
       "      <th></th>\n",
       "    </tr>\n",
       "  </thead>\n",
       "  <tbody>\n",
       "    <tr>\n",
       "      <th>baths</th>\n",
       "      <td>36</td>\n",
       "    </tr>\n",
       "    <tr>\n",
       "      <th>shared</th>\n",
       "      <td>17</td>\n",
       "    </tr>\n",
       "    <tr>\n",
       "      <th>half-bath</th>\n",
       "      <td>2</td>\n",
       "    </tr>\n",
       "  </tbody>\n",
       "</table>\n",
       "</div>"
      ],
      "text/plain": [
       "                frequency\n",
       "bathrooms_text           \n",
       "baths                  36\n",
       "shared                 17\n",
       "half-bath               2"
      ]
     },
     "execution_count": 192,
     "metadata": {},
     "output_type": "execute_result"
    }
   ],
   "source": [
    "# Ajustamos el índice\n",
    "bathrooms_text = bathrooms_text.set_index(\"bathrooms_text\")\n",
    "# Quitamos los valores de un único valor\n",
    "bathrooms_text = bathrooms_text[bathrooms_text[\"frequency\"] > 1]\n",
    "bathrooms_text"
   ]
  },
  {
   "cell_type": "code",
   "execution_count": 193,
   "metadata": {},
   "outputs": [
    {
     "data": {
      "text/plain": [
       "Text(0, 0.5, '')"
      ]
     },
     "execution_count": 193,
     "metadata": {},
     "output_type": "execute_result"
    },
    {
     "data": {
      "image/png": "[encoded data removed]",
      "text/plain": [
       "<Figure size 1000x1000 with 1 Axes>"
      ]
     },
     "metadata": {},
     "output_type": "display_data"
    }
   ],
   "source": [
    "# Haremos un gráfico de pastel para representar la proporción de cada categoría\n",
    "bathrooms_text.plot(kind='pie', y='frequency', figsize=(10,10), autopct='%1.1f%%')\n",
    "plt.title(\"Proporción de cada categoría de bathrooms_text\")\n",
    "plt.ylabel(\"\")"
   ]
  },
  {
   "cell_type": "markdown",
   "metadata": {},
   "source": [
    "#### Variable \"has_availability\""
   ]
  },
  {
   "cell_type": "code",
   "execution_count": 194,
   "metadata": {},
   "outputs": [
    {
     "data": {
      "text/html": [
       "<div>\n",
       "<style scoped>\n",
       "    .dataframe tbody tr th:only-of-type {\n",
       "        vertical-align: middle;\n",
       "    }\n",
       "\n",
       "    .dataframe tbody tr th {\n",
       "        vertical-align: top;\n",
       "    }\n",
       "\n",
       "    .dataframe thead th {\n",
       "        text-align: right;\n",
       "    }\n",
       "</style>\n",
       "<table border=\"1\" class=\"dataframe\">\n",
       "  <thead>\n",
       "    <tr style=\"text-align: right;\">\n",
       "      <th></th>\n",
       "      <th>has_availability</th>\n",
       "      <th>frequency</th>\n",
       "    </tr>\n",
       "  </thead>\n",
       "  <tbody>\n",
       "    <tr>\n",
       "      <th>0</th>\n",
       "      <td>t</td>\n",
       "      <td>25532</td>\n",
       "    </tr>\n",
       "    <tr>\n",
       "      <th>1</th>\n",
       "      <td>f</td>\n",
       "      <td>1049</td>\n",
       "    </tr>\n",
       "  </tbody>\n",
       "</table>\n",
       "</div>"
      ],
      "text/plain": [
       "  has_availability  frequency\n",
       "0                t      25532\n",
       "1                f       1049"
      ]
     },
     "execution_count": 194,
     "metadata": {},
     "output_type": "execute_result"
    }
   ],
   "source": [
    "has_availability = fp.freq_tbl(df[\"has_availability\"])\n",
    "has_availability.drop([\"percentage\", \"cumulative_perc\"], axis=1, inplace=True)\n",
    "has_availability"
   ]
  },
  {
   "cell_type": "code",
   "execution_count": 195,
   "metadata": {},
   "outputs": [
    {
     "data": {
      "text/html": [
       "<div>\n",
       "<style scoped>\n",
       "    .dataframe tbody tr th:only-of-type {\n",
       "        vertical-align: middle;\n",
       "    }\n",
       "\n",
       "    .dataframe tbody tr th {\n",
       "        vertical-align: top;\n",
       "    }\n",
       "\n",
       "    .dataframe thead th {\n",
       "        text-align: right;\n",
       "    }\n",
       "</style>\n",
       "<table border=\"1\" class=\"dataframe\">\n",
       "  <thead>\n",
       "    <tr style=\"text-align: right;\">\n",
       "      <th></th>\n",
       "      <th>frequency</th>\n",
       "    </tr>\n",
       "    <tr>\n",
       "      <th>has_availability</th>\n",
       "      <th></th>\n",
       "    </tr>\n",
       "  </thead>\n",
       "  <tbody>\n",
       "    <tr>\n",
       "      <th>t</th>\n",
       "      <td>25532</td>\n",
       "    </tr>\n",
       "    <tr>\n",
       "      <th>f</th>\n",
       "      <td>1049</td>\n",
       "    </tr>\n",
       "  </tbody>\n",
       "</table>\n",
       "</div>"
      ],
      "text/plain": [
       "                  frequency\n",
       "has_availability           \n",
       "t                     25532\n",
       "f                      1049"
      ]
     },
     "execution_count": 195,
     "metadata": {},
     "output_type": "execute_result"
    }
   ],
   "source": [
    "# Ajustamos el índice\n",
    "has_availability = has_availability.set_index(\"has_availability\")\n",
    "has_availability"
   ]
  },
  {
   "cell_type": "code",
   "execution_count": 196,
   "metadata": {},
   "outputs": [
    {
     "data": {
      "text/plain": [
       "Text(0, 0.5, '')"
      ]
     },
     "execution_count": 196,
     "metadata": {},
     "output_type": "execute_result"
    },
    {
     "data": {
      "image/png": "[encoded data removed]",
      "text/plain": [
       "<Figure size 1000x1000 with 1 Axes>"
      ]
     },
     "metadata": {},
     "output_type": "display_data"
    }
   ],
   "source": [
    "has_availability.plot(kind='pie', y='frequency', figsize=(10,10), autopct='%1.1f%%')\n",
    "plt.title(\"Proporción de cada categoría de has_availability\")\n",
    "plt.ylabel(\"\")"
   ]
  },
  {
   "cell_type": "markdown",
   "metadata": {},
   "source": [
    "#### Variable \"instant_bookable\""
   ]
  },
  {
   "cell_type": "code",
   "execution_count": 197,
   "metadata": {},
   "outputs": [
    {
     "data": {
      "text/html": [
       "<div>\n",
       "<style scoped>\n",
       "    .dataframe tbody tr th:only-of-type {\n",
       "        vertical-align: middle;\n",
       "    }\n",
       "\n",
       "    .dataframe tbody tr th {\n",
       "        vertical-align: top;\n",
       "    }\n",
       "\n",
       "    .dataframe thead th {\n",
       "        text-align: right;\n",
       "    }\n",
       "</style>\n",
       "<table border=\"1\" class=\"dataframe\">\n",
       "  <thead>\n",
       "    <tr style=\"text-align: right;\">\n",
       "      <th></th>\n",
       "      <th>instant_bookable</th>\n",
       "      <th>frequency</th>\n",
       "    </tr>\n",
       "  </thead>\n",
       "  <tbody>\n",
       "    <tr>\n",
       "      <th>0</th>\n",
       "      <td>f</td>\n",
       "      <td>16079</td>\n",
       "    </tr>\n",
       "    <tr>\n",
       "      <th>1</th>\n",
       "      <td>t</td>\n",
       "      <td>10502</td>\n",
       "    </tr>\n",
       "  </tbody>\n",
       "</table>\n",
       "</div>"
      ],
      "text/plain": [
       "  instant_bookable  frequency\n",
       "0                f      16079\n",
       "1                t      10502"
      ]
     },
     "execution_count": 197,
     "metadata": {},
     "output_type": "execute_result"
    }
   ],
   "source": [
    "instant_bookable = fp.freq_tbl(df[\"instant_bookable\"])\n",
    "instant_bookable.drop([\"percentage\", \"cumulative_perc\"], axis=1, inplace=True)\n",
    "instant_bookable"
   ]
  },
  {
   "cell_type": "code",
   "execution_count": 198,
   "metadata": {},
   "outputs": [
    {
     "data": {
      "text/html": [
       "<div>\n",
       "<style scoped>\n",
       "    .dataframe tbody tr th:only-of-type {\n",
       "        vertical-align: middle;\n",
       "    }\n",
       "\n",
       "    .dataframe tbody tr th {\n",
       "        vertical-align: top;\n",
       "    }\n",
       "\n",
       "    .dataframe thead th {\n",
       "        text-align: right;\n",
       "    }\n",
       "</style>\n",
       "<table border=\"1\" class=\"dataframe\">\n",
       "  <thead>\n",
       "    <tr style=\"text-align: right;\">\n",
       "      <th></th>\n",
       "      <th>frequency</th>\n",
       "    </tr>\n",
       "    <tr>\n",
       "      <th>instant_bookable</th>\n",
       "      <th></th>\n",
       "    </tr>\n",
       "  </thead>\n",
       "  <tbody>\n",
       "    <tr>\n",
       "      <th>f</th>\n",
       "      <td>16079</td>\n",
       "    </tr>\n",
       "    <tr>\n",
       "      <th>t</th>\n",
       "      <td>10502</td>\n",
       "    </tr>\n",
       "  </tbody>\n",
       "</table>\n",
       "</div>"
      ],
      "text/plain": [
       "                  frequency\n",
       "instant_bookable           \n",
       "f                     16079\n",
       "t                     10502"
      ]
     },
     "execution_count": 198,
     "metadata": {},
     "output_type": "execute_result"
    }
   ],
   "source": [
    "instant_bookable = instant_bookable.set_index(\"instant_bookable\")\n",
    "instant_bookable"
   ]
  },
  {
   "cell_type": "code",
   "execution_count": 199,
   "metadata": {},
   "outputs": [
    {
     "data": {
      "text/plain": [
       "Text(0, 0.5, '')"
      ]
     },
     "execution_count": 199,
     "metadata": {},
     "output_type": "execute_result"
    },
    {
     "data": {
      "image/png": "[encoded data removed]",
      "text/plain": [
       "<Figure size 1000x1000 with 1 Axes>"
      ]
     },
     "metadata": {},
     "output_type": "display_data"
    }
   ],
   "source": [
    "instant_bookable.plot(kind='pie', y='frequency', figsize=(10,10), autopct='%1.1f%%')\n",
    "plt.title(\"Proporción de cada categoría de instant_bookable\")\n",
    "plt.ylabel(\"\")"
   ]
  },
  {
   "cell_type": "markdown",
   "metadata": {},
   "source": [
    "#### Variable \"host_location\""
   ]
  },
  {
   "cell_type": "code",
   "execution_count": 200,
   "metadata": {},
   "outputs": [
    {
     "data": {
      "text/html": [
       "<div>\n",
       "<style scoped>\n",
       "    .dataframe tbody tr th:only-of-type {\n",
       "        vertical-align: middle;\n",
       "    }\n",
       "\n",
       "    .dataframe tbody tr th {\n",
       "        vertical-align: top;\n",
       "    }\n",
       "\n",
       "    .dataframe thead th {\n",
       "        text-align: right;\n",
       "    }\n",
       "</style>\n",
       "<table border=\"1\" class=\"dataframe\">\n",
       "  <thead>\n",
       "    <tr style=\"text-align: right;\">\n",
       "      <th></th>\n",
       "      <th>host_location</th>\n",
       "      <th>frequency</th>\n",
       "    </tr>\n",
       "  </thead>\n",
       "  <tbody>\n",
       "    <tr>\n",
       "      <th>0</th>\n",
       "      <td>Mexico City, Mexico</td>\n",
       "      <td>17197</td>\n",
       "    </tr>\n",
       "    <tr>\n",
       "      <th>1</th>\n",
       "      <td>No host_location</td>\n",
       "      <td>5441</td>\n",
       "    </tr>\n",
       "    <tr>\n",
       "      <th>2</th>\n",
       "      <td>Mexico</td>\n",
       "      <td>949</td>\n",
       "    </tr>\n",
       "    <tr>\n",
       "      <th>3</th>\n",
       "      <td>Ciudad de México, Mexico</td>\n",
       "      <td>383</td>\n",
       "    </tr>\n",
       "    <tr>\n",
       "      <th>4</th>\n",
       "      <td>Federal District, Mexico</td>\n",
       "      <td>213</td>\n",
       "    </tr>\n",
       "    <tr>\n",
       "      <th>...</th>\n",
       "      <td>...</td>\n",
       "      <td>...</td>\n",
       "    </tr>\n",
       "    <tr>\n",
       "      <th>396</th>\n",
       "      <td>Merion Station, PA</td>\n",
       "      <td>1</td>\n",
       "    </tr>\n",
       "    <tr>\n",
       "      <th>397</th>\n",
       "      <td>Colima, Mexico</td>\n",
       "      <td>1</td>\n",
       "    </tr>\n",
       "    <tr>\n",
       "      <th>398</th>\n",
       "      <td>Singapore</td>\n",
       "      <td>1</td>\n",
       "    </tr>\n",
       "    <tr>\n",
       "      <th>399</th>\n",
       "      <td>Mahahual, Mexico</td>\n",
       "      <td>1</td>\n",
       "    </tr>\n",
       "    <tr>\n",
       "      <th>400</th>\n",
       "      <td>Copenhagen, Denmark</td>\n",
       "      <td>1</td>\n",
       "    </tr>\n",
       "  </tbody>\n",
       "</table>\n",
       "<p>401 rows × 2 columns</p>\n",
       "</div>"
      ],
      "text/plain": [
       "                host_location  frequency\n",
       "0         Mexico City, Mexico      17197\n",
       "1            No host_location       5441\n",
       "2                      Mexico        949\n",
       "3    Ciudad de México, Mexico        383\n",
       "4    Federal District, Mexico        213\n",
       "..                        ...        ...\n",
       "396        Merion Station, PA          1\n",
       "397            Colima, Mexico          1\n",
       "398                 Singapore          1\n",
       "399          Mahahual, Mexico          1\n",
       "400       Copenhagen, Denmark          1\n",
       "\n",
       "[401 rows x 2 columns]"
      ]
     },
     "execution_count": 200,
     "metadata": {},
     "output_type": "execute_result"
    }
   ],
   "source": [
    "host_location = fp.freq_tbl(df[\"host_location\"])\n",
    "host_location.drop([\"percentage\", \"cumulative_perc\"], axis=1, inplace=True)\n",
    "host_location"
   ]
  },
  {
   "cell_type": "code",
   "execution_count": 201,
   "metadata": {},
   "outputs": [
    {
     "data": {
      "text/html": [
       "<div>\n",
       "<style scoped>\n",
       "    .dataframe tbody tr th:only-of-type {\n",
       "        vertical-align: middle;\n",
       "    }\n",
       "\n",
       "    .dataframe tbody tr th {\n",
       "        vertical-align: top;\n",
       "    }\n",
       "\n",
       "    .dataframe thead th {\n",
       "        text-align: right;\n",
       "    }\n",
       "</style>\n",
       "<table border=\"1\" class=\"dataframe\">\n",
       "  <thead>\n",
       "    <tr style=\"text-align: right;\">\n",
       "      <th></th>\n",
       "      <th>frequency</th>\n",
       "    </tr>\n",
       "    <tr>\n",
       "      <th>host_location</th>\n",
       "      <th></th>\n",
       "    </tr>\n",
       "  </thead>\n",
       "  <tbody>\n",
       "    <tr>\n",
       "      <th>Mexico City, Mexico</th>\n",
       "      <td>17197</td>\n",
       "    </tr>\n",
       "    <tr>\n",
       "      <th>No host_location</th>\n",
       "      <td>5441</td>\n",
       "    </tr>\n",
       "    <tr>\n",
       "      <th>Mexico</th>\n",
       "      <td>949</td>\n",
       "    </tr>\n",
       "    <tr>\n",
       "      <th>Ciudad de México, Mexico</th>\n",
       "      <td>383</td>\n",
       "    </tr>\n",
       "    <tr>\n",
       "      <th>Federal District, Mexico</th>\n",
       "      <td>213</td>\n",
       "    </tr>\n",
       "  </tbody>\n",
       "</table>\n",
       "</div>"
      ],
      "text/plain": [
       "                          frequency\n",
       "host_location                      \n",
       "Mexico City, Mexico           17197\n",
       "No host_location               5441\n",
       "Mexico                          949\n",
       "Ciudad de México, Mexico        383\n",
       "Federal District, Mexico        213"
      ]
     },
     "execution_count": 201,
     "metadata": {},
     "output_type": "execute_result"
    }
   ],
   "source": [
    "host_location = host_location.set_index(\"host_location\")\n",
    "# Debido a la gran cantidad de categorías, solo mostraremos las 5 primeras\n",
    "host_location = host_location.head(5)\n",
    "host_location"
   ]
  },
  {
   "cell_type": "code",
   "execution_count": 202,
   "metadata": {},
   "outputs": [
    {
     "data": {
      "text/plain": [
       "Text(0, 0.5, 'Frecuencia')"
      ]
     },
     "execution_count": 202,
     "metadata": {},
     "output_type": "execute_result"
    },
    {
     "data": {
      "image/png": "[encoded data removed]",
      "text/plain": [
       "<Figure size 1000x1000 with 1 Axes>"
      ]
     },
     "metadata": {},
     "output_type": "display_data"
    }
   ],
   "source": [
    "# Haremos un gráfico de barras para representar la frecuencia de cada categoría\n",
    "host_location.plot(kind='bar', y='frequency', figsize=(10,10))\n",
    "plt.title(\"Frecuencia de cada categoría de host_location\")\n",
    "plt.ylabel(\"Frecuencia\")"
   ]
  },
  {
   "cell_type": "markdown",
   "metadata": {},
   "source": [
    "#### Variable \"host_verifications\""
   ]
  },
  {
   "cell_type": "code",
   "execution_count": 203,
   "metadata": {},
   "outputs": [
    {
     "data": {
      "text/html": [
       "<div>\n",
       "<style scoped>\n",
       "    .dataframe tbody tr th:only-of-type {\n",
       "        vertical-align: middle;\n",
       "    }\n",
       "\n",
       "    .dataframe tbody tr th {\n",
       "        vertical-align: top;\n",
       "    }\n",
       "\n",
       "    .dataframe thead th {\n",
       "        text-align: right;\n",
       "    }\n",
       "</style>\n",
       "<table border=\"1\" class=\"dataframe\">\n",
       "  <thead>\n",
       "    <tr style=\"text-align: right;\">\n",
       "      <th></th>\n",
       "      <th>host_verifications</th>\n",
       "      <th>frequency</th>\n",
       "    </tr>\n",
       "  </thead>\n",
       "  <tbody>\n",
       "    <tr>\n",
       "      <th>0</th>\n",
       "      <td>['email', 'phone']</td>\n",
       "      <td>20504</td>\n",
       "    </tr>\n",
       "    <tr>\n",
       "      <th>1</th>\n",
       "      <td>['email', 'phone', 'work_email']</td>\n",
       "      <td>3380</td>\n",
       "    </tr>\n",
       "    <tr>\n",
       "      <th>2</th>\n",
       "      <td>['phone']</td>\n",
       "      <td>2527</td>\n",
       "    </tr>\n",
       "    <tr>\n",
       "      <th>3</th>\n",
       "      <td>['phone', 'work_email']</td>\n",
       "      <td>105</td>\n",
       "    </tr>\n",
       "    <tr>\n",
       "      <th>4</th>\n",
       "      <td>['email']</td>\n",
       "      <td>33</td>\n",
       "    </tr>\n",
       "    <tr>\n",
       "      <th>5</th>\n",
       "      <td>[]</td>\n",
       "      <td>30</td>\n",
       "    </tr>\n",
       "    <tr>\n",
       "      <th>6</th>\n",
       "      <td>['email', 'work_email']</td>\n",
       "      <td>1</td>\n",
       "    </tr>\n",
       "    <tr>\n",
       "      <th>7</th>\n",
       "      <td>['work_email']</td>\n",
       "      <td>1</td>\n",
       "    </tr>\n",
       "  </tbody>\n",
       "</table>\n",
       "</div>"
      ],
      "text/plain": [
       "                 host_verifications  frequency\n",
       "0                ['email', 'phone']      20504\n",
       "1  ['email', 'phone', 'work_email']       3380\n",
       "2                         ['phone']       2527\n",
       "3           ['phone', 'work_email']        105\n",
       "4                         ['email']         33\n",
       "5                                []         30\n",
       "6           ['email', 'work_email']          1\n",
       "7                    ['work_email']          1"
      ]
     },
     "execution_count": 203,
     "metadata": {},
     "output_type": "execute_result"
    }
   ],
   "source": [
    "host_verifications = fp.freq_tbl(df[\"host_verifications\"])\n",
    "host_verifications.drop([\"percentage\", \"cumulative_perc\"], axis=1, inplace=True)\n",
    "host_verifications"
   ]
  },
  {
   "cell_type": "code",
   "execution_count": 204,
   "metadata": {},
   "outputs": [
    {
     "data": {
      "text/html": [
       "<div>\n",
       "<style scoped>\n",
       "    .dataframe tbody tr th:only-of-type {\n",
       "        vertical-align: middle;\n",
       "    }\n",
       "\n",
       "    .dataframe tbody tr th {\n",
       "        vertical-align: top;\n",
       "    }\n",
       "\n",
       "    .dataframe thead th {\n",
       "        text-align: right;\n",
       "    }\n",
       "</style>\n",
       "<table border=\"1\" class=\"dataframe\">\n",
       "  <thead>\n",
       "    <tr style=\"text-align: right;\">\n",
       "      <th></th>\n",
       "      <th>frequency</th>\n",
       "    </tr>\n",
       "    <tr>\n",
       "      <th>host_verifications</th>\n",
       "      <th></th>\n",
       "    </tr>\n",
       "  </thead>\n",
       "  <tbody>\n",
       "    <tr>\n",
       "      <th>['email', 'phone']</th>\n",
       "      <td>20504</td>\n",
       "    </tr>\n",
       "    <tr>\n",
       "      <th>['email', 'phone', 'work_email']</th>\n",
       "      <td>3380</td>\n",
       "    </tr>\n",
       "    <tr>\n",
       "      <th>['phone']</th>\n",
       "      <td>2527</td>\n",
       "    </tr>\n",
       "    <tr>\n",
       "      <th>['phone', 'work_email']</th>\n",
       "      <td>105</td>\n",
       "    </tr>\n",
       "    <tr>\n",
       "      <th>['email']</th>\n",
       "      <td>33</td>\n",
       "    </tr>\n",
       "    <tr>\n",
       "      <th>[]</th>\n",
       "      <td>30</td>\n",
       "    </tr>\n",
       "    <tr>\n",
       "      <th>['email', 'work_email']</th>\n",
       "      <td>1</td>\n",
       "    </tr>\n",
       "    <tr>\n",
       "      <th>['work_email']</th>\n",
       "      <td>1</td>\n",
       "    </tr>\n",
       "  </tbody>\n",
       "</table>\n",
       "</div>"
      ],
      "text/plain": [
       "                                  frequency\n",
       "host_verifications                         \n",
       "['email', 'phone']                    20504\n",
       "['email', 'phone', 'work_email']       3380\n",
       "['phone']                              2527\n",
       "['phone', 'work_email']                 105\n",
       "['email']                                33\n",
       "[]                                       30\n",
       "['email', 'work_email']                   1\n",
       "['work_email']                            1"
      ]
     },
     "execution_count": 204,
     "metadata": {},
     "output_type": "execute_result"
    }
   ],
   "source": [
    "host_verifications = host_verifications.set_index(\"host_verifications\")\n",
    "host_verifications"
   ]
  },
  {
   "cell_type": "code",
   "execution_count": 205,
   "metadata": {},
   "outputs": [
    {
     "data": {
      "text/plain": [
       "Text(0, 0.5, 'Frecuencia')"
      ]
     },
     "execution_count": 205,
     "metadata": {},
     "output_type": "execute_result"
    },
    {
     "data": {
      "image/png": "[encoded data removed]",
      "text/plain": [
       "<Figure size 1000x1000 with 1 Axes>"
      ]
     },
     "metadata": {},
     "output_type": "display_data"
    }
   ],
   "source": [
    "# Haremos un gráfico de barras para representar la frecuencia de cada categoría\n",
    "host_verifications.plot(kind='bar', y='frequency', figsize=(10,10))\n",
    "plt.title(\"Frecuencia de cada categoría de host_verifications\")\n",
    "plt.ylabel(\"Frecuencia\")"
   ]
  },
  {
   "cell_type": "markdown",
   "metadata": {},
   "source": [
    "#### Categorización de Variables"
   ]
  },
  {
   "cell_type": "code",
   "execution_count": 206,
   "metadata": {},
   "outputs": [
    {
     "data": {
      "text/plain": [
       "0"
      ]
     },
     "execution_count": 206,
     "metadata": {},
     "output_type": "execute_result"
    }
   ],
   "source": [
    "df2 = pd.read_csv('listings - CDMX_clean.csv')\n",
    "df2.isnull().sum().sum()"
   ]
  },
  {
   "cell_type": "markdown",
   "metadata": {},
   "source": [
    "#### Variable \"host_response_rate\""
   ]
  },
  {
   "cell_type": "code",
   "execution_count": 207,
   "metadata": {},
   "outputs": [],
   "source": [
    "# Procesamiento requerido para convertir la variable \"host_response_rate\" en numérica\n",
    "df2[\"host_response_rate\"] = df2[\"host_response_rate\"].apply(lambda x: x[:-1] if type(x) == str else x)\n",
    "df2[\"host_response_rate\"] = pd.to_numeric(df2[\"host_response_rate\"], errors='coerce')\n",
    "df2[\"host_response_rate\"] = df2[\"host_response_rate\"].fillna(0)"
   ]
  },
  {
   "cell_type": "code",
   "execution_count": 208,
   "metadata": {},
   "outputs": [
    {
     "name": "stdout",
     "output_type": "stream",
     "text": [
      "Número de intervalos de clase:  15.68957676727626\n",
      "Ancho del intervalo:  6.373658224393276\n"
     ]
    }
   ],
   "source": [
    "# Determinación de la cantidad de clases a crear\n",
    "\n",
    "# Calculamos el numero total de la poblacion \"n\"\n",
    "n = df2[\"host_response_rate\"].count()\n",
    "# Obtenemos el limite inferior y superior del intervalo de clase\n",
    "Max=df2[\"host_response_rate\"].max()\n",
    "Min=df2[\"host_response_rate\"].min()\n",
    "Limites = [Min, Max]\n",
    "# Calculamos el rango r\n",
    "R = Max - Min\n",
    "# Calculamos el número de intervalos de clase \"ni\", aplocando la regla de Sturges\n",
    "ni = 1+3.32*np.log10(n)\n",
    "# Calculamos el ancho del intervalo \"i\"\n",
    "i = R/ni\n",
    "\n",
    "print(\"Número de intervalos de clase: \", ni)\n",
    "print(\"Ancho del intervalo: \", i)"
   ]
  },
  {
   "cell_type": "code",
   "execution_count": 209,
   "metadata": {},
   "outputs": [
    {
     "data": {
      "text/plain": [
       "0        Clase 15\n",
       "1        Clase 11\n",
       "2        Clase 15\n",
       "3        Clase 15\n",
       "4         Clase 1\n",
       "           ...   \n",
       "26576    Clase 15\n",
       "26577    Clase 15\n",
       "26578    Clase 15\n",
       "26579    Clase 15\n",
       "26580    Clase 15\n",
       "Name: host_response_rate, Length: 26581, dtype: category\n",
       "Categories (15, object): ['Clase 1' < 'Clase 2' < 'Clase 3' < 'Clase 4' ... 'Clase 12' < 'Clase 13' < 'Clase 14' < 'Clase 15']"
      ]
     },
     "execution_count": 209,
     "metadata": {},
     "output_type": "execute_result"
    }
   ],
   "source": [
    "# Creación de las intervalos y clases\n",
    "intervalos = np.linspace(Min, Max, int(ni + 1))\n",
    "categorias = [\"Clase \" + str(i) for i in range(1, len(intervalos))]\n",
    "df2[\"host_response_rate\"] = pd.cut(df2[\"host_response_rate\"], bins=intervalos, labels=categorias, include_lowest=True)\n",
    "df2[\"host_response_rate\"]"
   ]
  },
  {
   "cell_type": "markdown",
   "metadata": {},
   "source": [
    "#### Variable \"host_acceptance_rate\""
   ]
  },
  {
   "cell_type": "code",
   "execution_count": 210,
   "metadata": {},
   "outputs": [],
   "source": [
    "# Procesamiento requerido para convertir la variable \"host_response_rate\" en numérica\n",
    "df2[\"host_acceptance_rate\"] = df2[\"host_acceptance_rate\"].apply(lambda x: x[:-1] if type(x) == str else x)\n",
    "df2[\"host_acceptance_rate\"] = pd.to_numeric(df2[\"host_acceptance_rate\"], errors='coerce')\n",
    "df2[\"host_acceptance_rate\"] = df2[\"host_acceptance_rate\"].fillna(0)"
   ]
  },
  {
   "cell_type": "code",
   "execution_count": 211,
   "metadata": {},
   "outputs": [
    {
     "name": "stdout",
     "output_type": "stream",
     "text": [
      "Número de intervalos de clase:  15.68957676727626\n",
      "Ancho del intervalo:  6.373658224393276\n"
     ]
    }
   ],
   "source": [
    "# Determinación de la cantidad de clases a crear\n",
    "n = df2[\"host_acceptance_rate\"].count()\n",
    "Max=df2[\"host_acceptance_rate\"].max()\n",
    "Min=df2[\"host_acceptance_rate\"].min()\n",
    "Limites = [Min, Max]\n",
    "R = Max - Min\n",
    "ni = 1+3.32*np.log10(n)\n",
    "i = R/ni\n",
    "print(\"Número de intervalos de clase: \", ni)\n",
    "print(\"Ancho del intervalo: \", i)"
   ]
  },
  {
   "cell_type": "code",
   "execution_count": 212,
   "metadata": {},
   "outputs": [
    {
     "data": {
      "text/plain": [
       "0        Clase 14\n",
       "1         Clase 9\n",
       "2        Clase 15\n",
       "3        Clase 15\n",
       "4         Clase 1\n",
       "           ...   \n",
       "26576    Clase 15\n",
       "26577    Clase 15\n",
       "26578    Clase 15\n",
       "26579    Clase 15\n",
       "26580    Clase 15\n",
       "Name: host_acceptance_rate, Length: 26581, dtype: category\n",
       "Categories (15, object): ['Clase 1' < 'Clase 2' < 'Clase 3' < 'Clase 4' ... 'Clase 12' < 'Clase 13' < 'Clase 14' < 'Clase 15']"
      ]
     },
     "execution_count": 212,
     "metadata": {},
     "output_type": "execute_result"
    }
   ],
   "source": [
    "# Creación de los intervalos y las clases\n",
    "intervalos = np.linspace(Min, Max, int(ni + 1))\n",
    "categorias = [\"Clase \" + str(i) for i in range(1, len(intervalos))]\n",
    "df2[\"host_acceptance_rate\"] = pd.cut(df2[\"host_acceptance_rate\"], bins=intervalos, labels=categorias, include_lowest=True)\n",
    "df2[\"host_acceptance_rate\"]"
   ]
  },
  {
   "cell_type": "markdown",
   "metadata": {},
   "source": [
    "#### Variable \"host_total_listings_count\""
   ]
  },
  {
   "cell_type": "code",
   "execution_count": 213,
   "metadata": {},
   "outputs": [
    {
     "name": "stdout",
     "output_type": "stream",
     "text": [
      "Número de intervalos de clase:  15.68957676727626\n",
      "Ancho del intervalo:  2.421990125269445\n"
     ]
    }
   ],
   "source": [
    "# Determinación de la cantidad de clases a crear\n",
    "n = df2[\"host_total_listings_count\"].count()\n",
    "Max=df2[\"host_total_listings_count\"].max()\n",
    "Min=df2[\"host_total_listings_count\"].min()\n",
    "Limites = [Min, Max]\n",
    "R = Max - Min\n",
    "ni = 1+3.32*np.log10(n)\n",
    "i = R/ni\n",
    "print(\"Número de intervalos de clase: \", ni)\n",
    "print(\"Ancho del intervalo: \", i)"
   ]
  },
  {
   "cell_type": "code",
   "execution_count": 214,
   "metadata": {},
   "outputs": [
    {
     "data": {
      "text/plain": [
       "0        Clase 5\n",
       "1        Clase 2\n",
       "2        Clase 2\n",
       "3        Clase 3\n",
       "4        Clase 2\n",
       "          ...   \n",
       "26576    Clase 3\n",
       "26577    Clase 6\n",
       "26578    Clase 6\n",
       "26579    Clase 6\n",
       "26580    Clase 2\n",
       "Name: host_total_listings_count, Length: 26581, dtype: category\n",
       "Categories (15, object): ['Clase 1' < 'Clase 2' < 'Clase 3' < 'Clase 4' ... 'Clase 12' < 'Clase 13' < 'Clase 14' < 'Clase 15']"
      ]
     },
     "execution_count": 214,
     "metadata": {},
     "output_type": "execute_result"
    }
   ],
   "source": [
    "# Creación de los intervalos y las clases\n",
    "intervalos = np.linspace(Min, Max, int(ni + 1))\n",
    "categorias = [\"Clase \" + str(i) for i in range(1, len(intervalos))]\n",
    "df2[\"host_total_listings_count\"] = pd.cut(df2[\"host_total_listings_count\"], bins=intervalos, labels=categorias, include_lowest=True)\n",
    "df2[\"host_total_listings_count\"]"
   ]
  },
  {
   "cell_type": "markdown",
   "metadata": {},
   "source": [
    "#### Variable \"accommodates\""
   ]
  },
  {
   "cell_type": "code",
   "execution_count": 215,
   "metadata": {},
   "outputs": [
    {
     "name": "stdout",
     "output_type": "stream",
     "text": [
      "Número de intervalos de clase:  15.68957676727626\n",
      "Ancho del intervalo:  0.38241949346359655\n"
     ]
    }
   ],
   "source": [
    "# Determinación de la cantidad de clases a crear\n",
    "n = df2[\"accommodates\"].count()\n",
    "Max=df2[\"accommodates\"].max()\n",
    "Min=df2[\"accommodates\"].min()\n",
    "Limites = [Min, Max]\n",
    "R = Max - Min\n",
    "ni = 1+3.32*np.log10(n)\n",
    "i = R/ni\n",
    "print(\"Número de intervalos de clase: \", ni)\n",
    "print(\"Ancho del intervalo: \", i)"
   ]
  },
  {
   "cell_type": "code",
   "execution_count": 216,
   "metadata": {},
   "outputs": [
    {
     "data": {
      "text/plain": [
       "0        Clase 5\n",
       "1        Clase 8\n",
       "2        Clase 3\n",
       "3        Clase 3\n",
       "4        Clase 3\n",
       "          ...   \n",
       "26576    Clase 8\n",
       "26577    Clase 3\n",
       "26578    Clase 3\n",
       "26579    Clase 3\n",
       "26580    Clase 3\n",
       "Name: accommodates, Length: 26581, dtype: category\n",
       "Categories (15, object): ['Clase 1' < 'Clase 2' < 'Clase 3' < 'Clase 4' ... 'Clase 12' < 'Clase 13' < 'Clase 14' < 'Clase 15']"
      ]
     },
     "execution_count": 216,
     "metadata": {},
     "output_type": "execute_result"
    }
   ],
   "source": [
    "# Creación de los intervalos y las clases\n",
    "intervalos = np.linspace(Min, Max, int(ni + 1))\n",
    "categorias = [\"Clase \" + str(i) for i in range(1, len(intervalos))]\n",
    "df2[\"accommodates\"] = pd.cut(df2[\"accommodates\"], bins=intervalos, labels=categorias, include_lowest=True)\n",
    "df2[\"accommodates\"]"
   ]
  },
  {
   "cell_type": "markdown",
   "metadata": {},
   "source": [
    "#### Variable \"bathrooms_text\""
   ]
  },
  {
   "cell_type": "code",
   "execution_count": 217,
   "metadata": {},
   "outputs": [
    {
     "data": {
      "text/plain": [
       "0"
      ]
     },
     "execution_count": 217,
     "metadata": {},
     "output_type": "execute_result"
    }
   ],
   "source": [
    "# procesamiento requerido para convertir la variable \"bathrooms_text\" en numérica\n",
    "df2[\"bathrooms_text\"] = df2[\"bathrooms_text\"].apply(lambda x: x.split(\" \")[0] if type(x) == str else x)\n",
    "df2[\"bathrooms_text\"] = pd.to_numeric(df2[\"bathrooms_text\"], errors='coerce')\n",
    "df2[\"bathrooms_text\"] = df2[\"bathrooms_text\"].fillna(0)\n",
    "df2[\"bathrooms_text\"].isnull().sum()"
   ]
  },
  {
   "cell_type": "code",
   "execution_count": 218,
   "metadata": {},
   "outputs": [
    {
     "name": "stdout",
     "output_type": "stream",
     "text": [
      "Número de intervalos de clase:  15.68957676727626\n",
      "Ancho del intervalo:  3.1230925299527055\n"
     ]
    }
   ],
   "source": [
    "# Determinación de la cantidad de clases a crear\n",
    "n = df2[\"bathrooms_text\"].count()\n",
    "Max=df2[\"bathrooms_text\"].max()\n",
    "Min=df2[\"bathrooms_text\"].min()\n",
    "Limites = [Min, Max]\n",
    "R = Max - Min\n",
    "ni = 1+3.32*np.log10(n)\n",
    "i = R/ni\n",
    "print(\"Número de intervalos de clase: \", ni)\n",
    "print(\"Ancho del intervalo: \", i)"
   ]
  },
  {
   "cell_type": "code",
   "execution_count": 219,
   "metadata": {},
   "outputs": [
    {
     "data": {
      "text/plain": [
       "0        Clase 2\n",
       "1        Clase 1\n",
       "2        Clase 1\n",
       "3        Clase 1\n",
       "4        Clase 1\n",
       "          ...   \n",
       "26576    Clase 1\n",
       "26577    Clase 1\n",
       "26578    Clase 1\n",
       "26579    Clase 1\n",
       "26580    Clase 1\n",
       "Name: bathrooms_text, Length: 26581, dtype: category\n",
       "Categories (15, object): ['Clase 1' < 'Clase 2' < 'Clase 3' < 'Clase 4' ... 'Clase 12' < 'Clase 13' < 'Clase 14' < 'Clase 15']"
      ]
     },
     "execution_count": 219,
     "metadata": {},
     "output_type": "execute_result"
    }
   ],
   "source": [
    "# Creación de los intervalos y las clases\n",
    "intervalos = np.linspace(Min, Max, int(ni + 1))\n",
    "categorias = [\"Clase \" + str(i) for i in range(1, len(intervalos))]\n",
    "df2[\"bathrooms_text\"] = pd.cut(df2[\"bathrooms_text\"], bins=intervalos, labels=categorias, include_lowest=True)\n",
    "df2[\"bathrooms_text\"]"
   ]
  },
  {
   "cell_type": "markdown",
   "metadata": {},
   "source": [
    "#### Variable \"beds\""
   ]
  },
  {
   "cell_type": "code",
   "execution_count": 220,
   "metadata": {},
   "outputs": [
    {
     "name": "stdout",
     "output_type": "stream",
     "text": [
      "Número de intervalos de clase:  15.68957676727626\n",
      "Ancho del intervalo:  0.19120974673179827\n"
     ]
    }
   ],
   "source": [
    "# Determinación de la cantidad de clases a crear\n",
    "n = df2[\"beds\"].count()\n",
    "Max=df2[\"beds\"].max()\n",
    "Min=df2[\"beds\"].min()\n",
    "Limites = [Min, Max]\n",
    "R = Max - Min\n",
    "ni = 1+3.32*np.log10(n)\n",
    "i = R/ni\n",
    "print(\"Número de intervalos de clase: \", ni)\n",
    "print(\"Ancho del intervalo: \", i)"
   ]
  },
  {
   "cell_type": "code",
   "execution_count": 221,
   "metadata": {},
   "outputs": [
    {
     "data": {
      "text/plain": [
       "0         Clase 5\n",
       "1        Clase 10\n",
       "2         Clase 5\n",
       "3         Clase 5\n",
       "4         Clase 5\n",
       "           ...   \n",
       "26576    Clase 10\n",
       "26577     Clase 5\n",
       "26578     Clase 5\n",
       "26579     Clase 5\n",
       "26580     Clase 5\n",
       "Name: beds, Length: 26581, dtype: category\n",
       "Categories (15, object): ['Clase 1' < 'Clase 2' < 'Clase 3' < 'Clase 4' ... 'Clase 12' < 'Clase 13' < 'Clase 14' < 'Clase 15']"
      ]
     },
     "execution_count": 221,
     "metadata": {},
     "output_type": "execute_result"
    }
   ],
   "source": [
    "# Creación de los intervalos y las clases\n",
    "intervalos = np.linspace(Min, Max, int(ni + 1))\n",
    "categorias = [\"Clase \" + str(i) for i in range(1, len(intervalos))]\n",
    "df2[\"beds\"] = pd.cut(df2[\"beds\"], bins=intervalos, labels=categorias, include_lowest=True)\n",
    "df2[\"beds\"]"
   ]
  },
  {
   "cell_type": "markdown",
   "metadata": {},
   "source": [
    "#### Variable \"price\""
   ]
  },
  {
   "cell_type": "code",
   "execution_count": 222,
   "metadata": {},
   "outputs": [
    {
     "name": "stdout",
     "output_type": "stream",
     "text": [
      "Número de intervalos de clase:  15.68957676727626\n",
      "Ancho del intervalo:  188.9152297710167\n"
     ]
    }
   ],
   "source": [
    "# Determinación de la cantidad de clases a crear\n",
    "n = df2[\"price\"].count()\n",
    "Max=df2[\"price\"].max()\n",
    "Min=df2[\"price\"].min()\n",
    "Limites = [Min, Max]\n",
    "R = Max - Min\n",
    "ni = 1+3.32*np.log10(n)\n",
    "i = R/ni\n",
    "print(\"Número de intervalos de clase: \", ni)\n",
    "print(\"Ancho del intervalo: \", i)"
   ]
  },
  {
   "cell_type": "code",
   "execution_count": 223,
   "metadata": {},
   "outputs": [
    {
     "data": {
      "text/plain": [
       "0        Clase 15\n",
       "1        Clase 11\n",
       "2         Clase 6\n",
       "3         Clase 6\n",
       "4         Clase 6\n",
       "           ...   \n",
       "26576     Clase 3\n",
       "26577    Clase 15\n",
       "26578    Clase 14\n",
       "26579    Clase 14\n",
       "26580     Clase 7\n",
       "Name: price, Length: 26581, dtype: category\n",
       "Categories (15, object): ['Clase 1' < 'Clase 2' < 'Clase 3' < 'Clase 4' ... 'Clase 12' < 'Clase 13' < 'Clase 14' < 'Clase 15']"
      ]
     },
     "execution_count": 223,
     "metadata": {},
     "output_type": "execute_result"
    }
   ],
   "source": [
    "# Creación de los intervalos y las clases\n",
    "intervalos = np.linspace(Min, Max, int(ni + 1))\n",
    "categorias = [\"Clase \" + str(i) for i in range(1, len(intervalos))]\n",
    "df2[\"price\"] = pd.cut(df2[\"price\"], bins=intervalos, labels=categorias, include_lowest=True)\n",
    "df2[\"price\"]"
   ]
  },
  {
   "cell_type": "markdown",
   "metadata": {},
   "source": [
    "#### Variable \"number_of_reviews_ltm\""
   ]
  },
  {
   "cell_type": "code",
   "execution_count": 224,
   "metadata": {},
   "outputs": [
    {
     "name": "stdout",
     "output_type": "stream",
     "text": [
      "Número de intervalos de clase:  15.68957676727626\n",
      "Ancho del intervalo:  3.3143022766845034\n"
     ]
    }
   ],
   "source": [
    "# Determinación de la cantidad de clases a crear\n",
    "n = df2[\"number_of_reviews_ltm\"].count()\n",
    "Max=df2[\"number_of_reviews_ltm\"].max()\n",
    "Min=df2[\"number_of_reviews_ltm\"].min()\n",
    "Limites = [Min, Max]\n",
    "R = Max - Min\n",
    "ni = 1+3.32*np.log10(n)\n",
    "i = R/ni\n",
    "print(\"Número de intervalos de clase: \", ni)\n",
    "print(\"Ancho del intervalo: \", i)"
   ]
  },
  {
   "cell_type": "code",
   "execution_count": 225,
   "metadata": {},
   "outputs": [
    {
     "data": {
      "text/plain": [
       "0        Clase 1\n",
       "1        Clase 2\n",
       "2        Clase 3\n",
       "3        Clase 1\n",
       "4        Clase 1\n",
       "          ...   \n",
       "26576    Clase 1\n",
       "26577    Clase 1\n",
       "26578    Clase 1\n",
       "26579    Clase 1\n",
       "26580    Clase 1\n",
       "Name: number_of_reviews_ltm, Length: 26581, dtype: category\n",
       "Categories (15, object): ['Clase 1' < 'Clase 2' < 'Clase 3' < 'Clase 4' ... 'Clase 12' < 'Clase 13' < 'Clase 14' < 'Clase 15']"
      ]
     },
     "execution_count": 225,
     "metadata": {},
     "output_type": "execute_result"
    }
   ],
   "source": [
    "# Creación de los intervalos y las clases\n",
    "intervalos = np.linspace(Min, Max, int(ni + 1))\n",
    "categorias = [\"Clase \" + str(i) for i in range(1, len(intervalos))]\n",
    "df2[\"number_of_reviews_ltm\"] = pd.cut(df2[\"number_of_reviews_ltm\"], bins=intervalos, labels=categorias, include_lowest=True)\n",
    "df2[\"number_of_reviews_ltm\"]"
   ]
  },
  {
   "cell_type": "markdown",
   "metadata": {},
   "source": [
    "#### Variable \"availability_365\""
   ]
  },
  {
   "cell_type": "code",
   "execution_count": 226,
   "metadata": {},
   "outputs": [
    {
     "name": "stdout",
     "output_type": "stream",
     "text": [
      "Número de intervalos de clase:  15.68957676727626\n",
      "Ancho del intervalo:  23.263852519035456\n"
     ]
    }
   ],
   "source": [
    "# Determinación de la cantidad de clases a crear\n",
    "n = df2[\"availability_365\"].count()\n",
    "Max=df2[\"availability_365\"].max()\n",
    "Min=df2[\"availability_365\"].min()\n",
    "Limites = [Min, Max]\n",
    "R = Max - Min\n",
    "ni = 1+3.32*np.log10(n)\n",
    "i = R/ni\n",
    "print(\"Número de intervalos de clase: \", ni)\n",
    "print(\"Ancho del intervalo: \", i)"
   ]
  },
  {
   "cell_type": "code",
   "execution_count": 227,
   "metadata": {},
   "outputs": [
    {
     "data": {
      "text/plain": [
       "0        Clase 14\n",
       "1        Clase 14\n",
       "2        Clase 11\n",
       "3        Clase 12\n",
       "4         Clase 1\n",
       "           ...   \n",
       "26576    Clase 15\n",
       "26577     Clase 8\n",
       "26578     Clase 8\n",
       "26579     Clase 8\n",
       "26580     Clase 7\n",
       "Name: availability_365, Length: 26581, dtype: category\n",
       "Categories (15, object): ['Clase 1' < 'Clase 2' < 'Clase 3' < 'Clase 4' ... 'Clase 12' < 'Clase 13' < 'Clase 14' < 'Clase 15']"
      ]
     },
     "execution_count": 227,
     "metadata": {},
     "output_type": "execute_result"
    }
   ],
   "source": [
    "# Creación de los intervalos y las clases\n",
    "intervalos = np.linspace(Min, Max, int(ni + 1))\n",
    "categorias = [\"Clase \" + str(i) for i in range(1, len(intervalos))]\n",
    "df2[\"availability_365\"] = pd.cut(df2[\"availability_365\"], bins=intervalos, labels=categorias, include_lowest=True)\n",
    "df2[\"availability_365\"]"
   ]
  },
  {
   "cell_type": "markdown",
   "metadata": {},
   "source": [
    "#### Variable \"number_of_reviews\""
   ]
  },
  {
   "cell_type": "code",
   "execution_count": 228,
   "metadata": {},
   "outputs": [
    {
     "name": "stdout",
     "output_type": "stream",
     "text": [
      "Número de intervalos de clase:  15.68957676727626\n",
      "Ancho del intervalo:  8.604438602930923\n"
     ]
    }
   ],
   "source": [
    "# Determinación de la cantidad de clases a crear\n",
    "n = df2[\"number_of_reviews\"].count()\n",
    "Max=df2[\"number_of_reviews\"].max()\n",
    "Min=df2[\"number_of_reviews\"].min()\n",
    "Limites = [Min, Max]\n",
    "R = Max - Min\n",
    "ni = 1+3.32*np.log10(n)\n",
    "i = R/ni\n",
    "print(\"Número de intervalos de clase: \", ni)\n",
    "print(\"Ancho del intervalo: \", i)"
   ]
  },
  {
   "cell_type": "code",
   "execution_count": 229,
   "metadata": {},
   "outputs": [
    {
     "data": {
      "text/plain": [
       "0         Clase 8\n",
       "1         Clase 6\n",
       "2        Clase 15\n",
       "3         Clase 2\n",
       "4         Clase 1\n",
       "           ...   \n",
       "26576     Clase 1\n",
       "26577     Clase 1\n",
       "26578     Clase 1\n",
       "26579     Clase 1\n",
       "26580     Clase 1\n",
       "Name: number_of_reviews, Length: 26581, dtype: category\n",
       "Categories (15, object): ['Clase 1' < 'Clase 2' < 'Clase 3' < 'Clase 4' ... 'Clase 12' < 'Clase 13' < 'Clase 14' < 'Clase 15']"
      ]
     },
     "execution_count": 229,
     "metadata": {},
     "output_type": "execute_result"
    }
   ],
   "source": [
    "# Creación de los intervalos y las clases\n",
    "intervalos = np.linspace(Min, Max, int(ni + 1))\n",
    "categorias = [\"Clase \" + str(i) for i in range(1, len(intervalos))]\n",
    "df2[\"number_of_reviews\"] = pd.cut(df2[\"number_of_reviews\"], bins=intervalos, labels=categorias, include_lowest=True)\n",
    "df2[\"number_of_reviews\"]"
   ]
  },
  {
   "cell_type": "markdown",
   "metadata": {},
   "source": [
    "#### Variable \"review_scores_location\""
   ]
  },
  {
   "cell_type": "code",
   "execution_count": 230,
   "metadata": {},
   "outputs": [
    {
     "name": "stdout",
     "output_type": "stream",
     "text": [
      "Número de intervalos de clase:  15.68957676727626\n",
      "Ancho del intervalo:  0.0509892657951462\n"
     ]
    }
   ],
   "source": [
    "# Determinación de la cantidad de clases a crear\n",
    "n = df2[\"review_scores_location\"].count()\n",
    "Max=df2[\"review_scores_location\"].max()\n",
    "Min=df2[\"review_scores_location\"].min()\n",
    "Limites = [Min, Max]\n",
    "R = Max - Min\n",
    "ni = 1+3.32*np.log10(n)\n",
    "i = R/ni\n",
    "print(\"Número de intervalos de clase: \", ni)\n",
    "print(\"Ancho del intervalo: \", i)"
   ]
  },
  {
   "cell_type": "code",
   "execution_count": 231,
   "metadata": {},
   "outputs": [
    {
     "data": {
      "text/plain": [
       "0        Clase 15\n",
       "1        Clase 15\n",
       "2        Clase 15\n",
       "3        Clase 14\n",
       "4        Clase 14\n",
       "           ...   \n",
       "26576    Clase 14\n",
       "26577    Clase 14\n",
       "26578    Clase 14\n",
       "26579    Clase 14\n",
       "26580    Clase 14\n",
       "Name: review_scores_location, Length: 26581, dtype: category\n",
       "Categories (15, object): ['Clase 1' < 'Clase 2' < 'Clase 3' < 'Clase 4' ... 'Clase 12' < 'Clase 13' < 'Clase 14' < 'Clase 15']"
      ]
     },
     "execution_count": 231,
     "metadata": {},
     "output_type": "execute_result"
    }
   ],
   "source": [
    "# Creación de los intervalos y las clases\n",
    "intervalos = np.linspace(Min, Max, int(ni + 1))\n",
    "categorias = [\"Clase \" + str(i) for i in range(1, len(intervalos))]\n",
    "df2[\"review_scores_location\"] = pd.cut(df2[\"review_scores_location\"], bins=intervalos, labels=categorias, include_lowest=True)\n",
    "df2[\"review_scores_location\"]"
   ]
  },
  {
   "cell_type": "markdown",
   "metadata": {},
   "source": [
    "#### Variable \"review_scores_value\""
   ]
  },
  {
   "cell_type": "code",
   "execution_count": 232,
   "metadata": {},
   "outputs": [
    {
     "name": "stdout",
     "output_type": "stream",
     "text": [
      "Número de intervalos de clase:  15.68957676727626\n",
      "Ancho del intervalo:  0.07011024046832605\n"
     ]
    }
   ],
   "source": [
    "# Determinación de la cantidad de clases a crear\n",
    "n = df2[\"review_scores_value\"].count()\n",
    "Max=df2[\"review_scores_value\"].max()\n",
    "Min=df2[\"review_scores_value\"].min()\n",
    "Limites = [Min, Max]\n",
    "R = Max - Min\n",
    "ni = 1+3.32*np.log10(n)\n",
    "i = R/ni\n",
    "print(\"Número de intervalos de clase: \", ni)\n",
    "print(\"Ancho del intervalo: \", i)"
   ]
  },
  {
   "cell_type": "code",
   "execution_count": 233,
   "metadata": {},
   "outputs": [
    {
     "data": {
      "text/plain": [
       "0         Clase 8\n",
       "1        Clase 14\n",
       "2        Clase 14\n",
       "3        Clase 13\n",
       "4        Clase 13\n",
       "           ...   \n",
       "26576    Clase 13\n",
       "26577    Clase 13\n",
       "26578    Clase 13\n",
       "26579    Clase 13\n",
       "26580    Clase 13\n",
       "Name: review_scores_value, Length: 26581, dtype: category\n",
       "Categories (15, object): ['Clase 1' < 'Clase 2' < 'Clase 3' < 'Clase 4' ... 'Clase 12' < 'Clase 13' < 'Clase 14' < 'Clase 15']"
      ]
     },
     "execution_count": 233,
     "metadata": {},
     "output_type": "execute_result"
    }
   ],
   "source": [
    "# Creación de los intervalos y las clases\n",
    "intervalos = np.linspace(Min, Max, int(ni + 1))\n",
    "categorias = [\"Clase \" + str(i) for i in range(1, len(intervalos))]\n",
    "df2[\"review_scores_value\"] = pd.cut(df2[\"review_scores_value\"], bins=intervalos, labels=categorias, include_lowest=True)\n",
    "df2[\"review_scores_value\"]"
   ]
  },
  {
   "cell_type": "markdown",
   "metadata": {},
   "source": [
    "#### Variable \"review_per_month\""
   ]
  },
  {
   "cell_type": "code",
   "execution_count": 234,
   "metadata": {},
   "outputs": [
    {
     "name": "stdout",
     "output_type": "stream",
     "text": [
      "Número de intervalos de clase:  15.68957676727626\n",
      "Ancho del intervalo:  0.34481490993967623\n"
     ]
    }
   ],
   "source": [
    "# Determinación de la cantidad de clases a crear\n",
    "n = df2[\"reviews_per_month\"].count()\n",
    "Max=df2[\"reviews_per_month\"].max()\n",
    "Min=df2[\"reviews_per_month\"].min()\n",
    "Limites = [Min, Max]\n",
    "R = Max - Min\n",
    "ni = 1+3.32*np.log10(n)\n",
    "i = R/ni\n",
    "print(\"Número de intervalos de clase: \", ni)\n",
    "print(\"Ancho del intervalo: \", i)"
   ]
  },
  {
   "cell_type": "code",
   "execution_count": 235,
   "metadata": {},
   "outputs": [
    {
     "data": {
      "text/plain": [
       "0        Clase 2\n",
       "1        Clase 1\n",
       "2        Clase 3\n",
       "3        Clase 1\n",
       "4        Clase 4\n",
       "          ...   \n",
       "26576    Clase 3\n",
       "26577    Clase 3\n",
       "26578    Clase 3\n",
       "26579    Clase 3\n",
       "26580    Clase 3\n",
       "Name: reviews_per_month, Length: 26581, dtype: category\n",
       "Categories (15, object): ['Clase 1' < 'Clase 2' < 'Clase 3' < 'Clase 4' ... 'Clase 12' < 'Clase 13' < 'Clase 14' < 'Clase 15']"
      ]
     },
     "execution_count": 235,
     "metadata": {},
     "output_type": "execute_result"
    }
   ],
   "source": [
    "# Creación de los intervalos y las clases\n",
    "intervalos = np.linspace(Min, Max, int(ni + 1))\n",
    "categorias = [\"Clase \" + str(i) for i in range(1, len(intervalos))]\n",
    "df2[\"reviews_per_month\"] = pd.cut(df2[\"reviews_per_month\"], bins=intervalos, labels=categorias, include_lowest=True)\n",
    "df2[\"reviews_per_month\"]"
   ]
  },
  {
   "cell_type": "markdown",
   "metadata": {},
   "source": [
    "#### Variable \"review_scores_communication\""
   ]
  },
  {
   "cell_type": "code",
   "execution_count": 236,
   "metadata": {},
   "outputs": [
    {
     "name": "stdout",
     "output_type": "stream",
     "text": [
      "Número de intervalos de clase:  15.68957676727626\n",
      "Ancho del intervalo:  0.052263997440024884\n"
     ]
    }
   ],
   "source": [
    "# Determinación de la cantidad de clases a crear\n",
    "n = df2[\"review_scores_communication\"].count()\n",
    "Max=df2[\"review_scores_communication\"].max()\n",
    "Min=df2[\"review_scores_communication\"].min()\n",
    "Limites = [Min, Max]\n",
    "R = Max - Min\n",
    "ni = 1+3.32*np.log10(n)\n",
    "i = R/ni\n",
    "print(\"Número de intervalos de clase: \", ni)\n",
    "print(\"Ancho del intervalo: \", i)"
   ]
  },
  {
   "cell_type": "code",
   "execution_count": 237,
   "metadata": {},
   "outputs": [
    {
     "data": {
      "text/plain": [
       "0        Clase 11\n",
       "1        Clase 14\n",
       "2        Clase 15\n",
       "3        Clase 11\n",
       "4        Clase 14\n",
       "           ...   \n",
       "26576    Clase 14\n",
       "26577    Clase 14\n",
       "26578    Clase 14\n",
       "26579    Clase 14\n",
       "26580    Clase 14\n",
       "Name: review_scores_communication, Length: 26581, dtype: category\n",
       "Categories (15, object): ['Clase 1' < 'Clase 2' < 'Clase 3' < 'Clase 4' ... 'Clase 12' < 'Clase 13' < 'Clase 14' < 'Clase 15']"
      ]
     },
     "execution_count": 237,
     "metadata": {},
     "output_type": "execute_result"
    }
   ],
   "source": [
    "# Creación de los intervalos y las clases\n",
    "intervalos = np.linspace(Min, Max, int(ni + 1))\n",
    "categorias = [\"Clase \" + str(i) for i in range(1, len(intervalos))]\n",
    "df2[\"review_scores_communication\"] = pd.cut(df2[\"review_scores_communication\"], bins=intervalos, labels=categorias, include_lowest=True)\n",
    "df2[\"review_scores_communication\"]"
   ]
  },
  {
   "cell_type": "markdown",
   "metadata": {},
   "source": [
    "#### Variable \"review_scores_checkin\""
   ]
  },
  {
   "cell_type": "code",
   "execution_count": 238,
   "metadata": {},
   "outputs": [
    {
     "name": "stdout",
     "output_type": "stream",
     "text": [
      "Número de intervalos de clase:  15.68957676727626\n",
      "Ancho del intervalo:  0.04780243668294957\n"
     ]
    }
   ],
   "source": [
    "# Determinación de la cantidad de clases a crear\n",
    "n = df2[\"review_scores_checkin\"].count()\n",
    "Max=df2[\"review_scores_checkin\"].max()\n",
    "Min=df2[\"review_scores_checkin\"].min()\n",
    "Limites = [Min, Max]\n",
    "R = Max - Min\n",
    "ni = 1+3.32*np.log10(n)\n",
    "i = R/ni\n",
    "print(\"Número de intervalos de clase: \", ni)\n",
    "print(\"Ancho del intervalo: \", i)"
   ]
  },
  {
   "cell_type": "code",
   "execution_count": 239,
   "metadata": {},
   "outputs": [
    {
     "data": {
      "text/plain": [
       "0        Clase 13\n",
       "1        Clase 14\n",
       "2        Clase 15\n",
       "3        Clase 15\n",
       "4        Clase 13\n",
       "           ...   \n",
       "26576    Clase 13\n",
       "26577    Clase 13\n",
       "26578    Clase 13\n",
       "26579    Clase 13\n",
       "26580    Clase 13\n",
       "Name: review_scores_checkin, Length: 26581, dtype: category\n",
       "Categories (15, object): ['Clase 1' < 'Clase 2' < 'Clase 3' < 'Clase 4' ... 'Clase 12' < 'Clase 13' < 'Clase 14' < 'Clase 15']"
      ]
     },
     "execution_count": 239,
     "metadata": {},
     "output_type": "execute_result"
    }
   ],
   "source": [
    "# Creación de los intervalos y las clases\n",
    "intervalos = np.linspace(Min, Max, int(ni + 1))\n",
    "categorias = [\"Clase \" + str(i) for i in range(1, len(intervalos))]\n",
    "df2[\"review_scores_checkin\"] = pd.cut(df2[\"review_scores_checkin\"], bins=intervalos, labels=categorias, include_lowest=True)\n",
    "df2[\"review_scores_checkin\"]"
   ]
  },
  {
   "cell_type": "markdown",
   "metadata": {},
   "source": [
    "#### Variable \"review_scores_cleanliness\""
   ]
  },
  {
   "cell_type": "code",
   "execution_count": 240,
   "metadata": {},
   "outputs": [
    {
     "name": "stdout",
     "output_type": "stream",
     "text": [
      "Número de intervalos de clase:  15.68957676727626\n",
      "Ancho del intervalo:  0.0694728746458867\n"
     ]
    }
   ],
   "source": [
    "# Determinación de la cantidad de clases a crear\n",
    "n = df2[\"review_scores_cleanliness\"].count()\n",
    "Max=df2[\"review_scores_cleanliness\"].max()\n",
    "Min=df2[\"review_scores_cleanliness\"].min()\n",
    "Limites = [Min, Max]\n",
    "R = Max - Min\n",
    "ni = 1+3.32*np.log10(n)\n",
    "i = R/ni\n",
    "print(\"Número de intervalos de clase: \", ni)\n",
    "print(\"Ancho del intervalo: \", i)"
   ]
  },
  {
   "cell_type": "code",
   "execution_count": 241,
   "metadata": {},
   "outputs": [
    {
     "data": {
      "text/plain": [
       "0        Clase 11\n",
       "1        Clase 12\n",
       "2        Clase 15\n",
       "3        Clase 15\n",
       "4        Clase 13\n",
       "           ...   \n",
       "26576    Clase 13\n",
       "26577    Clase 13\n",
       "26578    Clase 13\n",
       "26579    Clase 13\n",
       "26580    Clase 13\n",
       "Name: review_scores_cleanliness, Length: 26581, dtype: category\n",
       "Categories (15, object): ['Clase 1' < 'Clase 2' < 'Clase 3' < 'Clase 4' ... 'Clase 12' < 'Clase 13' < 'Clase 14' < 'Clase 15']"
      ]
     },
     "execution_count": 241,
     "metadata": {},
     "output_type": "execute_result"
    }
   ],
   "source": [
    "# Creación de los intervalos y las clases\n",
    "intervalos = np.linspace(Min, Max, int(ni + 1))\n",
    "categorias = [\"Clase \" + str(i) for i in range(1, len(intervalos))]\n",
    "df2[\"review_scores_cleanliness\"] = pd.cut(df2[\"review_scores_cleanliness\"], bins=intervalos, labels=categorias, include_lowest=True)\n",
    "df2[\"review_scores_cleanliness\"]"
   ]
  },
  {
   "cell_type": "markdown",
   "metadata": {},
   "source": [
    "#### Variable \"review_scores_accuracy\""
   ]
  },
  {
   "cell_type": "code",
   "execution_count": 242,
   "metadata": {},
   "outputs": [
    {
     "name": "stdout",
     "output_type": "stream",
     "text": [
      "Número de intervalos de clase:  15.68957676727626\n",
      "Ancho del intervalo:  0.058000289841978823\n"
     ]
    }
   ],
   "source": [
    "# Determinación de la cantidad de clases a crear\n",
    "n = df2[\"review_scores_accuracy\"].count()\n",
    "Max=df2[\"review_scores_accuracy\"].max()\n",
    "Min=df2[\"review_scores_accuracy\"].min()\n",
    "Limites = [Min, Max]\n",
    "R = Max - Min\n",
    "ni = 1+3.32*np.log10(n)\n",
    "i = R/ni\n",
    "print(\"Número de intervalos de clase: \", ni)\n",
    "print(\"Ancho del intervalo: \", i)"
   ]
  },
  {
   "cell_type": "code",
   "execution_count": 243,
   "metadata": {},
   "outputs": [
    {
     "data": {
      "text/plain": [
       "0         Clase 8\n",
       "1        Clase 12\n",
       "2        Clase 14\n",
       "3        Clase 15\n",
       "4        Clase 12\n",
       "           ...   \n",
       "26576    Clase 12\n",
       "26577    Clase 12\n",
       "26578    Clase 12\n",
       "26579    Clase 12\n",
       "26580    Clase 12\n",
       "Name: review_scores_accuracy, Length: 26581, dtype: category\n",
       "Categories (15, object): ['Clase 1' < 'Clase 2' < 'Clase 3' < 'Clase 4' ... 'Clase 12' < 'Clase 13' < 'Clase 14' < 'Clase 15']"
      ]
     },
     "execution_count": 243,
     "metadata": {},
     "output_type": "execute_result"
    }
   ],
   "source": [
    "# Creación de los intervalos y las clases\n",
    "intervalos = np.linspace(Min, Max, int(ni + 1))\n",
    "categorias = [\"Clase \" + str(i) for i in range(1, len(intervalos))]\n",
    "df2[\"review_scores_accuracy\"] = pd.cut(df2[\"review_scores_accuracy\"], bins=intervalos, labels=categorias, include_lowest=True)\n",
    "df2[\"review_scores_accuracy\"]"
   ]
  }
 ],
 "metadata": {
  "kernelspec": {
   "display_name": "env",
   "language": "python",
   "name": "python3"
  },
  "language_info": {
   "codemirror_mode": {
    "name": "ipython",
    "version": 3
   },
   "file_extension": ".py",
   "mimetype": "text/x-python",
   "name": "python",
   "nbconvert_exporter": "python",
   "pygments_lexer": "ipython3",
   "version": "3.13.2"
  }
 },
 "nbformat": 4,
 "nbformat_minor": 2
}
